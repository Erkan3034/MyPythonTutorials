{
 "cells": [
  {
   "cell_type": "markdown",
   "id": "ec593613-9009-4187-8d63-ac54704fad91",
   "metadata": {},
   "source": [
    "                                          📌 ***Nesne Tabanlı Programlama Mantığı***\n",
    "\n",
    "Nesne Tabanlı Programlama (**Object Oriented Programming - OOP**), gerçek dünyadaki nesneleri programlama dünyasına uyarlamayı amaçlayan bir yaklaşımdır. Bir öğrenci otomasyon sistemi örneği üzerinden açıklarsak, öğretmenler, öğrenciler ve kurslar gibi unsurlar birer nesne olarak tanımlanır. Bu nesneler, sahip oldukları özellikler (attribute) ve yapabildikleri işlevler (metodlar) ile programda yer alır.\r\n",
    "\r\n",
    "Bir obje, gerçek dünyadaki herhangi bir nesneyi temsil eder. Örneğin, bir televizyon kumandası bir objedir. Kumandanın markası ve tuşları özellikler (attribute), ses kapatma veya televizyonu kapatma işlevleri ise metodlardır\n",
    "*. Python'da ise listeler gibi birçok şey bir objedir ve bu objelerin de çeşitli özellikleri ve metodları bulun*r."
   ]
  },
  {
   "cell_type": "code",
   "execution_count": 15,
   "id": "2fe9d027-1fbb-41e2-85f2-98af60883bff",
   "metadata": {},
   "outputs": [
    {
     "name": "stdout",
     "output_type": "stream",
     "text": [
      "[1, 2, 3, 4, 5]\n",
      "9\n"
     ]
    }
   ],
   "source": [
    "liste = [1,2,3,4,5]  # Liste objesi \n",
    "\n",
    "print(liste)\n",
    "\n",
    "\n",
    "def toplama(a,b): # fonksiyon objesi\n",
    "    return a + b\n",
    "print(toplama(4,5))"
   ]
  },
  {
   "cell_type": "markdown",
   "id": "a0d8bd36-1839-4f19-b2e4-397d4b3b7fe1",
   "metadata": {},
   "source": [
    "---------------------------------------------------------------------------------------------------------------------------\n",
    "Kendi veri tiplerimizi oluşturmak için önce bu veri tiplerinden objeler üreteceğimiz yapıyı, yani **sınıfı** (class) tanımlamamız gerekir. Sınıf, objelerin sahip olacağı özellikleri ve metodları belirlediğimiz bir yapıdır. Daha sonra bu sınıfa dayalı olarak objeler üretiriz.\n",
    "\n",
    "**Class Anahtar Kelimesi:**  \n",
    "Class yapısı, objelerin özelliklerini (attribute) ve işlevlerini (metod) tanımlamak için kullanılır. Her obje, bu sınıfa göre oluşturulur. Örneğin, bir **Araba** sınıfı tanımlayarak, arabaların özelliklerini ve işlevlerini tanımlayabiliriz. Bu sınıfa göre de farklı araba objeleri üretebiliriz.\n",
    "\n",
    "---------------------------------------------------------------------------------------------------------------------------"
   ]
  },
  {
   "cell_type": "code",
   "execution_count": 31,
   "id": "1381e93d-4ea7-4950-874d-b634c3ef4158",
   "metadata": {},
   "outputs": [
    {
     "name": "stdout",
     "output_type": "stream",
     "text": [
      "Kırmızı\n"
     ]
    }
   ],
   "source": [
    "class Araba():\n",
    "    renk = \"Kırmızı\"\n",
    "    model =\"Dodge Challenger SRT\"\n",
    "    beygir= 918\n",
    "    silindir=12\n",
    "print(Araba.renk)\n",
    "#objeden yeni nesne :\n",
    "\n",
    "#car2 = Araba()\n",
    "#car2.model=\"Porsche\"\n",
    "#car2.beygir=350\n",
    "#car2.renk=\"Yeşil\"\n",
    "\n",
    "#print(car2.beygir)\n"
   ]
  },
  {
   "cell_type": "markdown",
   "id": "51cf0c98-5b25-479e-b55f-a3c9d21cc9d4",
   "metadata": {},
   "source": [
    "✅Bizim her bir objeyi başlangıçta farklı değerlerle oluşturmamız için her bir objeyi oluştururken objelerin değerlerini göndermemiz gerekiyor. Bunun için de özel bir metodu kullanmamız gerekmektedir. --------------------------------------**init()**--------------------------------------------------------------------------------------------------------"
   ]
  },
  {
   "cell_type": "markdown",
   "id": "038f032d-cbec-413e-8e4b-74582f21b163",
   "metadata": {},
   "source": [
    "📌Python'da __init__ metodu, yapıcı (constructor) fonksiyon olarak tanımlanır ve bir obje oluşturulurken otomatik olarak ilk çalışan fonksiyondur. Bu metod, objenin ilk başlatma işlemlerini yapar ve objeyi farklı değerlerle oluşturabilmemizi sağlar.\n",
    "\n",
    "Peki bu metodu nasıl tanımlayacağız? Bir örnek üzerinden açıklayalım:"
   ]
  },
  {
   "cell_type": "code",
   "execution_count": 40,
   "id": "d657afbd-217d-4573-88af-e6add393e820",
   "metadata": {},
   "outputs": [
    {
     "name": "stdout",
     "output_type": "stream",
     "text": [
      "init fonksiyonu çağrıldı.\n"
     ]
    }
   ],
   "source": [
    "# Araba Veri tipi \n",
    "\n",
    "class Araba():\n",
    "    # Şimdilik Class özelliklerine ihtiyacımız yok.\n",
    "    \n",
    "    def __init__(self):\n",
    "        print(\"init fonksiyonu çağrıldı.\")\n",
    "\n",
    "araba1= Araba()"
   ]
  },
  {
   "cell_type": "markdown",
   "id": "ab58d66b-462a-4867-b7f9-a5b423f52479",
   "metadata": {},
   "source": [
    "📌init fonksiyonu çağrıldı.\n",
    "Peki burada **self** ne anlama geliyor ? self anahtar kelimesi objeyi oluşturduğumuz zaman o objeyi gösteren bir ***referanstır*** ve metodlarımızda en başta bulunması gereken bir parametredir. Yani biz bir objenin bütün özelliklerini ve metodlarını bu referans üzerinden kullanabiliriz.\n",
    "\n",
    "Objeler oluşturulurken, Python bu referansı metodlara otomatik olarak kendisi gönderir. Özel olarak self referansını göndermemize gerek yoktur.\n",
    "\n",
    "init metodunu ve self'i iyi anlamak için objelerimize özellikler ekleyelim."
   ]
  },
  {
   "cell_type": "code",
   "execution_count": 43,
   "id": "130c0de7-94f3-4bf7-b3e2-728b46952262",
   "metadata": {},
   "outputs": [
    {
     "name": "stdout",
     "output_type": "stream",
     "text": [
      "Toyota\n",
      "Corolla\n",
      "2020\n",
      "\n",
      "Dodger\n",
      "Challenger SRT\n",
      "2023\n"
     ]
    }
   ],
   "source": [
    "class Araba:\n",
    "    def __init__(self, marka, model, yil): #Parametrelerimizin değerlerini objelerimizi oluştururken göndereceğiz.\n",
    "        self.marka = marka   # self.özellik_ismi = parametre değeri    şeklinde objemizin model özelliğine \"değeri\" atıyoruz.\n",
    "        self.model = model\n",
    "        self.yil = yil\n",
    "\n",
    "# Araba sınıfından bir obje oluşturalım\n",
    "araba1 = Araba(\"Toyota\", \"Corolla\", 2020)\n",
    "araba2= Araba(\"Dodger\", \"Challenger SRT\" , 2023)\n",
    "\n",
    "\n",
    "print(araba1.marka)  # Toyota\n",
    "print(araba1.model)  # Corolla\n",
    "print(araba1.yil)    # 2020\n",
    "\n",
    "print()\n",
    "\n",
    "print(araba2.marka)\n",
    "print(araba2.model)\n",
    "print(araba2.yil)"
   ]
  },
  {
   "cell_type": "markdown",
   "id": "b29741a5-2615-4e15-a0db-e3a85645225f",
   "metadata": {},
   "source": [
    "✅İstersek init metodunu varsayılan değerlerle de yazabiliriz."
   ]
  },
  {
   "cell_type": "code",
   "execution_count": 53,
   "id": "9b2daed6-36c5-4866-8725-25c95a39eb73",
   "metadata": {},
   "outputs": [
    {
     "name": "stdout",
     "output_type": "stream",
     "text": [
      "350\n",
      "No info.\n"
     ]
    }
   ],
   "source": [
    "class Araba():\n",
    "    \n",
    "    def __init__(self , model = \"No info.\",renk = \"No info.\",beygir_gücü = 918 ,silindir = 12): \n",
    "        self.model =  model \n",
    "        self.renk = renk \n",
    "        self.beygir_gücü = beygir_gücü \n",
    "        self.silindir = silindir\n",
    "\n",
    "\n",
    "\n",
    "araba3 = Araba(beygir_gücü=350,silindir=10)\n",
    "print(araba3.beygir_gücü)\n",
    "print(araba3.model) # varsayılan\n",
    "\n",
    "\n",
    "#İşte burada gördüğümüz gibi bir objeyi init metodunu kendimiz yazarak farklı değerlerle oluşturabiliyoruz. Bir sonraki derste objelere kendi metodlarımızı nasıl yazacağımızı öğrenmeye çalışacağız."
   ]
  },
  {
   "cell_type": "code",
   "execution_count": null,
   "id": "e0979fb6-4a78-49e6-b885-83bc2a3c31fd",
   "metadata": {},
   "outputs": [],
   "source": []
  }
 ],
 "metadata": {
  "kernelspec": {
   "display_name": "Python 3 (ipykernel)",
   "language": "python",
   "name": "python3"
  },
  "language_info": {
   "codemirror_mode": {
    "name": "ipython",
    "version": 3
   },
   "file_extension": ".py",
   "mimetype": "text/x-python",
   "name": "python",
   "nbconvert_exporter": "python",
   "pygments_lexer": "ipython3",
   "version": "3.12.4"
  }
 },
 "nbformat": 4,
 "nbformat_minor": 5
}
