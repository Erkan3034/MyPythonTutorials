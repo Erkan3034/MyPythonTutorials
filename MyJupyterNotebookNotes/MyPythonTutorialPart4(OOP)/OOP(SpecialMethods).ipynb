{
 "cells": [
  {
   "cell_type": "markdown",
   "id": "518aff8f-7469-479a-96f0-f621d0f8a388",
   "metadata": {},
   "source": [
    "### Nesne Tabanlı Programlama (OOP) \n",
    "\n",
    "içinde sınıfların özel metodları, Python'da belirli bir işlevselliği sağlamak için kullanılır. Bu metodlar, Python dilinde otomatik olarak çağrılan belirli davranışları tanımlar ve çoğu zaman varsayılan olarak gelir. Ancak, bazı durumlarda kendi özel metodlarımızı tanımlamamız gerekebilir."
   ]
  },
  {
   "cell_type": "code",
   "execution_count": 4,
   "id": "f90048c7-21c5-4821-8297-e3308b2ef2b1",
   "metadata": {},
   "outputs": [],
   "source": [
    "class Kitap():\n",
    "    pass"
   ]
  },
  {
   "cell_type": "code",
   "execution_count": 10,
   "id": "b62396e2-1a66-4120-b37a-21fdddac6734",
   "metadata": {},
   "outputs": [],
   "source": [
    "kitap1 = Kitap() # __init__ metodu çağrılıyor."
   ]
  },
  {
   "cell_type": "code",
   "execution_count": 12,
   "id": "c3d1e7e9-2a7d-41ea-a1ae-5b83784026e2",
   "metadata": {},
   "outputs": [
    {
     "ename": "TypeError",
     "evalue": "object of type 'Kitap' has no len()",
     "output_type": "error",
     "traceback": [
      "\u001b[1;31m---------------------------------------------------------------------------\u001b[0m",
      "\u001b[1;31mTypeError\u001b[0m                                 Traceback (most recent call last)",
      "Cell \u001b[1;32mIn[12], line 1\u001b[0m\n\u001b[1;32m----> 1\u001b[0m \u001b[38;5;28mlen\u001b[39m(kitap1)\n",
      "\u001b[1;31mTypeError\u001b[0m: object of type 'Kitap' has no len()"
     ]
    }
   ],
   "source": [
    "len(kitap1) # __len__ metodu çağrılacak ancak tanımlı değil. Bunu özellikle bizim tanımlamamız lazım."
   ]
  },
  {
   "cell_type": "code",
   "execution_count": 14,
   "id": "a1673880-7da2-47ab-9d43-8cdf4d29d334",
   "metadata": {},
   "outputs": [
    {
     "name": "stdout",
     "output_type": "stream",
     "text": [
      "<__main__.Kitap object at 0x0000015F79D58F80>\n"
     ]
    }
   ],
   "source": [
    "print(kitap1) # __str__ metodu çağrılır."
   ]
  },
  {
   "cell_type": "code",
   "execution_count": 16,
   "id": "52c60b32-89e3-45f4-9881-81797df39306",
   "metadata": {},
   "outputs": [],
   "source": [
    "del kitap1 # del anahtar kelimesi bir objeyi siler ve __del__ metodu çağrılır. "
   ]
  },
  {
   "cell_type": "code",
   "execution_count": 20,
   "id": "afaec571-5927-4aca-8f84-901d353a8362",
   "metadata": {},
   "outputs": [
    {
     "ename": "NameError",
     "evalue": "name 'kitap1' is not defined",
     "output_type": "error",
     "traceback": [
      "\u001b[1;31m---------------------------------------------------------------------------\u001b[0m",
      "\u001b[1;31mNameError\u001b[0m                                 Traceback (most recent call last)",
      "Cell \u001b[1;32mIn[20], line 1\u001b[0m\n\u001b[1;32m----> 1\u001b[0m kitap1\n",
      "\u001b[1;31mNameError\u001b[0m: name 'kitap1' is not defined"
     ]
    }
   ],
   "source": [
    "kitap1  # del ile sildiğimiz için çıktı  vermeyecek."
   ]
  },
  {
   "cell_type": "markdown",
   "id": "09462ee7-5948-40d7-a747-49c493457b17",
   "metadata": {},
   "source": [
    "📌Şimdi buradaki metodları kendimiz nasıl tanımlayacağız öğrenmeye çalışalım.\n",
    "\n",
    " **init** metodu\n",
    " \n",
    "init metodunu kendimiz tanımlarsak artık kendi init fonksiyonumuz çalışacaktır."
   ]
  },
  {
   "cell_type": "code",
   "execution_count": 27,
   "id": "976319b7-777b-4ec2-a347-62a67e48e076",
   "metadata": {},
   "outputs": [],
   "source": [
    "class Kitap():\n",
    "    def __init__(self,isim,yazar,sayfa_sayısı,tür): \n",
    "        print(\"Kitap Objesi oluşuyor....\")\n",
    "        self.isim = isim\n",
    "        self.yazar = yazar\n",
    "        self.sayfa_sayısı = sayfa_sayısı\n",
    "        self.tür = tür"
   ]
  },
  {
   "cell_type": "code",
   "execution_count": 29,
   "id": "717893f9-2c67-4aed-8cf7-e5011b937018",
   "metadata": {},
   "outputs": [
    {
     "name": "stdout",
     "output_type": "stream",
     "text": [
      "Kitap Objesi oluşuyor....\n"
     ]
    }
   ],
   "source": [
    "kitap1 = Kitap(\"İstanbul Hatırası\",\"Ahmet Ümit\",561,\"Polisiye\") # Kendi metodumuz "
   ]
  },
  {
   "cell_type": "markdown",
   "id": "eb9b852f-3ee8-4615-8def-b460b8844317",
   "metadata": {},
   "source": [
    " 📌 **str metodu**\n",
    " \n",
    "Normalde print(kitap1) ifadesi ekrana şöyle bir yazı yazdırıyor."
   ]
  },
  {
   "cell_type": "code",
   "execution_count": 40,
   "id": "20ff5756-be4c-40a7-bc84-6606c4fdb533",
   "metadata": {},
   "outputs": [
    {
     "name": "stdout",
     "output_type": "stream",
     "text": [
      "<__main__.Kitap object at 0x0000015F79209520>\n"
     ]
    }
   ],
   "source": [
    "print(kitap1)"
   ]
  },
  {
   "cell_type": "markdown",
   "id": "3a1460d3-978b-416e-9776-44c44b347a4d",
   "metadata": {},
   "source": [
    "Ancak eğer str metodunu kendimiz tanımlarsak artık ekrana kitap1 in içeriğini daha anlaşılır yazabileceğiz."
   ]
  },
  {
   "cell_type": "code",
   "execution_count": 48,
   "id": "6fee411b-621d-4fb4-a76f-5ba9e0db5e74",
   "metadata": {},
   "outputs": [
    {
     "name": "stdout",
     "output_type": "stream",
     "text": [
      "Kitap Objesi oluşuyor....\n",
      "\n",
      "İsim: 1984\n",
      "Yazar: George Orwell\n",
      "Sayfa Sayısı: 328\n",
      "Tür: Distopya\n",
      "\n",
      "Kitap Objesi oluşuyor....\n",
      "\n",
      "İsim: Beyaz Zambaklar Ülkesinde\n",
      "Yazar: Grigory Petrov\n",
      "Sayfa Sayısı: 210\n",
      "Tür: Gezi\n"
     ]
    }
   ],
   "source": [
    "class Kitap():\n",
    "    def __init__(self, isim, yazar, sayfa_sayısı, tür): \n",
    "        print(\"Kitap Objesi oluşuyor....\")\n",
    "        self.isim = isim\n",
    "        self.yazar = yazar\n",
    "        self.sayfa_sayısı = sayfa_sayısı\n",
    "        self.tür = tür\n",
    "\n",
    "    def __str__(self):\n",
    "        return \"İsim: {}\\nYazar: {}\\nSayfa Sayısı: {}\\nTür: {}\".format(self.isim, self.yazar, self.sayfa_sayısı, self.tür)\n",
    "\n",
    "\n",
    "\n",
    "kitap1 = Kitap(\"1984\", \"George Orwell\", 328, \"Distopya\")\n",
    "print()\n",
    "print(kitap1)  # İsim: 1984, Yazar: George Orwell, Sayfa Sayısı: 328, Tür: Distopya\n",
    "print()\n",
    "kitap2 = Kitap(\"Beyaz Zambaklar Ülkesinde\", \"Grigory Petrov\", 210, \"Gezi\")\n",
    "print()\n",
    "print(kitap2)  # İsim: Beyaz Zambaklar Ülkesinde, Yazar: Grigory Petrov, Sayfa Sayısı: 210, Tür: Gezi\n"
   ]
  },
  {
   "cell_type": "markdown",
   "id": "e6f427d0-df7b-47cc-98b5-6324d76ff4a1",
   "metadata": {},
   "source": [
    "--------------------------------------------------------------------------------------------------------------------------------------------------"
   ]
  },
  {
   "cell_type": "markdown",
   "id": "72f3a669-7452-4d43-927d-13d609c46a67",
   "metadata": {},
   "source": [
    "📌***len()*** metodu, \n",
    "\n",
    "bir sınıfa özel olarak tanımlanmadığı sürece o sınıfın nesneleri üzerinde kullanılamaz. __len__ metodunu kendimiz tanımlayarak bu durumu çözebiliriz:"
   ]
  },
  {
   "cell_type": "code",
   "execution_count": 55,
   "id": "0a902c12-6542-4af4-9d72-d8852394a555",
   "metadata": {},
   "outputs": [
    {
     "ename": "TypeError",
     "evalue": "object of type 'Kitap' has no len()",
     "output_type": "error",
     "traceback": [
      "\u001b[1;31m---------------------------------------------------------------------------\u001b[0m",
      "\u001b[1;31mTypeError\u001b[0m                                 Traceback (most recent call last)",
      "Cell \u001b[1;32mIn[55], line 1\u001b[0m\n\u001b[1;32m----> 1\u001b[0m \u001b[38;5;28mlen\u001b[39m(kitap1)\n",
      "\u001b[1;31mTypeError\u001b[0m: object of type 'Kitap' has no len()"
     ]
    }
   ],
   "source": [
    "len(kitap1)"
   ]
  },
  {
   "cell_type": "code",
   "execution_count": 66,
   "id": "b5b6033a-e72c-42bc-9540-000dfa1cd0cf",
   "metadata": {},
   "outputs": [
    {
     "name": "stdout",
     "output_type": "stream",
     "text": [
      "Kitap Objesi oluşuyor....\n",
      "328\n"
     ]
    }
   ],
   "source": [
    "class Kitap():\n",
    "    def __init__(self, isim, yazar, sayfa_sayısı, tür): \n",
    "        print(\"Kitap Objesi oluşuyor....\")\n",
    "        self.isim = isim\n",
    "        self.yazar = yazar\n",
    "        self.sayfa_sayısı = sayfa_sayısı\n",
    "        self.tür = tür\n",
    "\n",
    "    def __str__(self):\n",
    "        return \"İsim: {}\\nYazar: {}\\nSayfa Sayısı: {}\\nTür: {}\".format(self.isim, self.yazar, self.sayfa_sayısı, self.tür)\n",
    "\n",
    "    def __len__(self):\n",
    "        return self.sayfa_sayısı\n",
    "\n",
    "# Kitap sınıfından bir nesne oluşturma\n",
    "kitap1 = Kitap(\"1984\", \"George Orwell\", 328, \"Distopya\")\n",
    "\n",
    "# len() metodunu kullanma\n",
    "print(len(kitap1))  # 328\n"
   ]
  },
  {
   "cell_type": "markdown",
   "id": "5ba7b385-0b93-43c6-a337-145dbed3745d",
   "metadata": {},
   "source": [
    "---------------------------------------------------------------------------------------------------------------------------------------------"
   ]
  },
  {
   "cell_type": "markdown",
   "id": "e15a36e5-2235-4dc3-ae7d-9736eac58bd4",
   "metadata": {},
   "source": [
    " 📌**del** metodu\n",
    "\n",
    "del metodu Pythonda bir objeyi del anahtar kelimesiyle sildiğimiz zaman çalıştırılan metoddur. Bu metodu kendimiz tanımlayarak ekstra özellikler ekleyebiliriz."
   ]
  },
  {
   "cell_type": "code",
   "execution_count": 74,
   "id": "2f90964d-f65b-4ce7-a9f4-91aebe5cc8c5",
   "metadata": {},
   "outputs": [
    {
     "name": "stdout",
     "output_type": "stream",
     "text": [
      "Kitap Objesi oluşuyor....\n"
     ]
    }
   ],
   "source": [
    "kitap1 = Kitap(\"İstanbul Hatırası\",\"Ahmet Ümit\",561,\"Polisiye\")\n"
   ]
  },
  {
   "cell_type": "code",
   "execution_count": 85,
   "id": "67b8c2bd-1cbb-48e1-9742-64384d719104",
   "metadata": {},
   "outputs": [
    {
     "ename": "NameError",
     "evalue": "name 'kitap1' is not defined",
     "output_type": "error",
     "traceback": [
      "\u001b[1;31m---------------------------------------------------------------------------\u001b[0m",
      "\u001b[1;31mNameError\u001b[0m                                 Traceback (most recent call last)",
      "Cell \u001b[1;32mIn[85], line 1\u001b[0m\n\u001b[1;32m----> 1\u001b[0m \u001b[38;5;28;01mdel\u001b[39;00m kitap1\n",
      "\u001b[1;31mNameError\u001b[0m: name 'kitap1' is not defined"
     ]
    }
   ],
   "source": [
    "del kitap1 # silindi "
   ]
  },
  {
   "cell_type": "code",
   "execution_count": 88,
   "id": "6f4c4bf8-4036-4e18-a7a6-026a780cfb21",
   "metadata": {},
   "outputs": [],
   "source": [
    "class Kitap():\n",
    "    def __init__(self,isim,yazar,sayfa_sayısı,tür): \n",
    "        print(\"Kitap Objesi oluşuyor....\")\n",
    "        self.isim = isim\n",
    "        self.yazar = yazar\n",
    "        self.sayfa_sayısı = sayfa_sayısı\n",
    "        self.tür = tür\n",
    "    def __str__(self):\n",
    "        # Return kullanmamız gerekli\n",
    "        return \"İsim: {}\\nYazar: {}\\nSayfa Sayısı: {}\\nTür: {}\".format(self.isim,self.yazar,self.sayfa_sayısı,self.tür)\n",
    "    def __len__(self):\n",
    "        return self.sayfa_sayısı\n",
    "    def __del__(self):\n",
    "        print(\"Kitap objesi siliniyor.......\")"
   ]
  },
  {
   "cell_type": "code",
   "execution_count": 90,
   "id": "52fc3e60-05fd-4606-ab0b-98fe151a1703",
   "metadata": {},
   "outputs": [
    {
     "name": "stdout",
     "output_type": "stream",
     "text": [
      "Kitap Objesi oluşuyor....\n"
     ]
    }
   ],
   "source": [
    "kitap1 = Kitap(\"İstanbul Hatırası\",\"Ahmet Ümit\",561,\"Polisiye\")"
   ]
  },
  {
   "cell_type": "code",
   "execution_count": 92,
   "id": "2d3764e0-14b0-41d6-ab29-21fbc474f827",
   "metadata": {},
   "outputs": [
    {
     "name": "stdout",
     "output_type": "stream",
     "text": [
      "Kitap objesi siliniyor.......\n"
     ]
    }
   ],
   "source": [
    "del kitap1  # Ekstra ekrana yazdırma özelliği ekledik."
   ]
  },
  {
   "cell_type": "code",
   "execution_count": 96,
   "id": "b3e2beaa-807e-454c-81b8-acee44c8c447",
   "metadata": {},
   "outputs": [
    {
     "ename": "NameError",
     "evalue": "name 'kitap1' is not defined",
     "output_type": "error",
     "traceback": [
      "\u001b[1;31m---------------------------------------------------------------------------\u001b[0m",
      "\u001b[1;31mNameError\u001b[0m                                 Traceback (most recent call last)",
      "Cell \u001b[1;32mIn[96], line 1\u001b[0m\n\u001b[1;32m----> 1\u001b[0m kitap1\n",
      "\u001b[1;31mNameError\u001b[0m: name 'kitap1' is not defined"
     ]
    }
   ],
   "source": [
    "kitap1"
   ]
  },
  {
   "cell_type": "code",
   "execution_count": null,
   "id": "c0378f07-c67b-4d21-a6f5-d7a8c9ab5eb5",
   "metadata": {},
   "outputs": [],
   "source": []
  }
 ],
 "metadata": {
  "kernelspec": {
   "display_name": "Python 3 (ipykernel)",
   "language": "python",
   "name": "python3"
  },
  "language_info": {
   "codemirror_mode": {
    "name": "ipython",
    "version": 3
   },
   "file_extension": ".py",
   "mimetype": "text/x-python",
   "name": "python",
   "nbconvert_exporter": "python",
   "pygments_lexer": "ipython3",
   "version": "3.12.4"
  }
 },
 "nbformat": 4,
 "nbformat_minor": 5
}
