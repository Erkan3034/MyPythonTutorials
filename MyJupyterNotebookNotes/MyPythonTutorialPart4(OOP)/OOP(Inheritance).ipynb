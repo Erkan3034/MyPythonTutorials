{
 "cells": [
  {
   "cell_type": "markdown",
   "id": "91002957-031f-4f6c-b5a6-d27fd7a6ec58",
   "metadata": {},
   "source": [
    "### Kalıtım (Inheritance),\n",
    "\n",
    "Nesne Tabanlı Programlamada bir sınıfın başka bir sınıftan özelliklerini ***(attribute)*** ve metodlarını miras almasıdır. Bu, bir sınıfın başka bir sınıftan türemesi ve onun özelliklerini kullanması anlamına gelir. Kalıtım, ortak özellikleri tekrar yazmaktan kaçınmak için kullanılır.\n",
    "\n",
    "Örneğin, bir şirkette çalışanlar için Yönetici, Proje Direktörü, İşçi gibi sınıflar tanımlarken, bu sınıfların ortak özellik ve metodları olabilir. Bu durumda, ortak özellikleri ve metodları tek bir ana sınıfta (örneğin Çalışan sınıfında) tanımlayıp, diğer sınıfların bu sınıftan miras almasını sağlayabiliriz. Böylece kodu daha düzenli ve yeniden kullanılabilir hale getirmiş oluruz."
   ]
  },
  {
   "cell_type": "markdown",
   "id": "c917b92a-9ce1-46b5-a492-d38884cda6c1",
   "metadata": {},
   "source": [
    "***inheritance yapısını kurmak için öncelikle bir tane Employee sınıfı oluşturalım.***"
   ]
  },
  {
   "cell_type": "code",
   "execution_count": 43,
   "id": "b526cffc-b911-46d2-ad5d-f0a527cb28be",
   "metadata": {},
   "outputs": [],
   "source": [
    "class Employee1():\n",
    "    def __init__(self,name,salary,departmant):\n",
    "        print(\"Çalışan sınıfının init foksiyonu.\")\n",
    "        self.name = name\n",
    "        self.salary = salary\n",
    "        self.departmant = departmant\n",
    "\n",
    "    def showInfo():\n",
    "        print(\"Çalışan bilgileri gösteriliyor\")\n",
    "        print(\" Name: {} \\n Salary : {} \\n Departmant : {}\\n\".format(self.name,self.salary,self.deparmant)) \n",
    "        \n",
    "    def changeDepartmant(self, yeni_departman):\n",
    "        print(\"Yeni departman getiriliyor...\")\n",
    "        self.departmant = yeni_departman"
   ]
  },
  {
   "cell_type": "markdown",
   "id": "210bdae6-e5e3-41d8-a319-0bcb95932da9",
   "metadata": {},
   "source": [
    "Çalışan sınıfını oluşturduk şimdi de ***Yönetici*** sınıfını bu Çalışan sınıfından türetmeye çalışalım.\n",
    "\n"
   ]
  },
  {
   "cell_type": "code",
   "execution_count": 45,
   "id": "4bd06dfd-b8a1-4c8c-8220-1285111d65ca",
   "metadata": {},
   "outputs": [],
   "source": [
    "class Manager(Employee):  # Çalışan sınıfından miras alıyoruz.\n",
    "      pass # Pass Deyimi bir bloğu sonradan tanımlamak istediğimizde kullanılan bir deyimdir."
   ]
  },
  {
   "cell_type": "code",
   "execution_count": 81,
   "id": "c9a6012f-3b0f-4d09-a6e6-c0649dd15879",
   "metadata": {},
   "outputs": [
    {
     "name": "stdout",
     "output_type": "stream",
     "text": [
      "İsim: Erkan\n",
      "Maaş: 45000\n",
      "Departman: IT SPECIALIST\n",
      "Yeni departman getiriliyor...\n",
      "İsim: Erkan\n",
      "Maaş: 45000\n",
      "Departman: Software dev.\n"
     ]
    }
   ],
   "source": [
    "class Employee:\n",
    "    def __init__(self, isim, maas, departman):\n",
    "        self.isim = isim\n",
    "        self.maas = maas\n",
    "        self.departman = departman\n",
    "\n",
    "    def bilgileri_goster(self):\n",
    "        print(f\"İsim: {self.isim}\\nMaaş: {self.maas}\\nDepartman: {self.departman}\")\n",
    "\n",
    "    def departman_degistir(self, yeni_departman):\n",
    "        print(\"Yeni departman getiriliyor...\")\n",
    "        self.departman = yeni_departman\n",
    "\n",
    "# Çalışan sınıfından miras alarak Manager sınıfını tanımlıyoruz\n",
    "class Manager(Employee):\n",
    "    pass  # Şimdilik yeni bir özellik eklemediğimiz için pass kullanıyoruz\n",
    "\n",
    "# Manager sınıfından bir obje oluşturalım\n",
    "manager1 = Manager(\"Erkan\", 45000, \"IT SPECIALIST\")\n",
    "\n",
    "# Manager objesinin bilgilerini gösterelim\n",
    "manager1.bilgileri_goster()\n",
    "\n",
    "manager1.departman_degistir(\"Software dev.\")\n",
    "manager1.bilgileri_goster()"
   ]
  },
  {
   "cell_type": "markdown",
   "id": "07d63ff6-51da-4007-92b6-f14e158831bc",
   "metadata": {},
   "source": [
    "Burada gördüğümüz gibi bütün özellikleri ve metodları Çalışan sınıfından miras aldığımız için kullanabiliyoruz. Bunu *dir()* fonksiyonu ile de görebiliriz."
   ]
  },
  {
   "cell_type": "code",
   "execution_count": 54,
   "id": "af730d47-bb1c-4982-8a7c-905ca3da52e0",
   "metadata": {},
   "outputs": [
    {
     "data": {
      "text/plain": [
       "['__class__',\n",
       " '__delattr__',\n",
       " '__dict__',\n",
       " '__dir__',\n",
       " '__doc__',\n",
       " '__eq__',\n",
       " '__format__',\n",
       " '__ge__',\n",
       " '__getattribute__',\n",
       " '__getstate__',\n",
       " '__gt__',\n",
       " '__hash__',\n",
       " '__init__',\n",
       " '__init_subclass__',\n",
       " '__le__',\n",
       " '__lt__',\n",
       " '__module__',\n",
       " '__ne__',\n",
       " '__new__',\n",
       " '__reduce__',\n",
       " '__reduce_ex__',\n",
       " '__repr__',\n",
       " '__setattr__',\n",
       " '__sizeof__',\n",
       " '__str__',\n",
       " '__subclasshook__',\n",
       " '__weakref__',\n",
       " 'bilgileri_goster',\n",
       " 'departman',\n",
       " 'departman_degistir',\n",
       " 'isim',\n",
       " 'maas']"
      ]
     },
     "execution_count": 54,
     "metadata": {},
     "output_type": "execute_result"
    }
   ],
   "source": [
    "dir(manager1)"
   ]
  },
  {
   "cell_type": "markdown",
   "id": "db06e77d-29ea-45b4-93d9-e38a0f9468aa",
   "metadata": {},
   "source": [
    "Peki biz Yönetici sınıfına ***ekstra** fonksiyonlar ve özellikler ekleyebiliyor muyuz ? Örnek olması açısından zam_yap isimli bir metod ekleyelim.\n",
    "\n"
   ]
  },
  {
   "cell_type": "code",
   "execution_count": 133,
   "id": "081ce386-afd3-48de-ba31-b15ea7860a3a",
   "metadata": {},
   "outputs": [],
   "source": [
    "class Manager(Employee):\n",
    "    def zam_yap(self,zam_miktarı):\n",
    "        print(\"Maaşa zam yapılıyor....\")\n",
    "        self.maas += zam_miktarı  "
   ]
  },
  {
   "cell_type": "code",
   "execution_count": 135,
   "id": "569475d5-7b82-40b2-9729-77838a076464",
   "metadata": {},
   "outputs": [
    {
     "name": "stdout",
     "output_type": "stream",
     "text": [
      "İsim: Erkan\n",
      "Maaş: 45000\n",
      "Departman: IT SPECIALIST\n"
     ]
    }
   ],
   "source": [
    "manager1 = Manager(\"Erkan\", 45000, \"IT SPECIALIST\")  # yönetici objesi\n",
    "manager1.bilgileri_goster() \n"
   ]
  },
  {
   "cell_type": "code",
   "execution_count": 137,
   "id": "204ee344-7db8-47fb-ae51-504997be1b60",
   "metadata": {},
   "outputs": [
    {
     "name": "stdout",
     "output_type": "stream",
     "text": [
      "Maaşa zam yapılıyor....\n",
      "İsim: Erkan\n",
      "Maaş: 50000\n",
      "Departman: IT SPECIALIST\n"
     ]
    }
   ],
   "source": [
    "manager1.zam_yap(5000) # Ekstra eklediğimiz fonksiyonu da kullanabiliyoruz.\n",
    "manager1.bilgileri_goster() "
   ]
  },
  {
   "cell_type": "markdown",
   "id": "d43853f7-57de-443d-b0e6-c84d96af601d",
   "metadata": {},
   "source": [
    "## OVERIDING (İptal Etme)\n",
    "Eğer biz miras aldığımız metodları aynı isimle kendi sınıfımızda tekrar tanımlarsak , artık metodu çağırdığımız zaman miras aldığımız değil kendi metodumuz çalışacaktır. Buna Nesne Tabanlı Programlamada bir metodu override etmek denmektedir.\n",
    "\n",
    "***Örneğin artık Çalışan sınıfının init metodunu kullanmak yerine Yönetici sınıfında init metodunu override edebiliriz. Böylelikle Yönetici sınıfına ekstra özellikler(attribute) ekleyebiliriz***"
   ]
  },
  {
   "cell_type": "code",
   "execution_count": 21,
   "id": "24a992dd-9f01-4e48-9f81-4bc9a31aace8",
   "metadata": {},
   "outputs": [],
   "source": [
    "class Çalışan():\n",
    "    def __init__(self,isim,maaş,departman):\n",
    "        print(\"Çalışan sınıfının init fonksiyonu\")\n",
    "        self.isim = isim\n",
    "        self.maaş = maaş\n",
    "        self.departman = departman\n",
    "    def bilgilerigoster(self):\n",
    "        \n",
    "        print(\"Çalışan sınıfının bilgileri.....\")\n",
    "        \n",
    "        print(\"İsim : {} \\nMaaş: {} \\nDepartman: {}\\n\".format(self.isim,self.maaş,self.departman))\n",
    "    def departman_degistir(self,yeni_departman):\n",
    "        print(\"Departman değişiyor....\")\n",
    "        self.departman = yeni_departman"
   ]
  },
  {
   "cell_type": "code",
   "execution_count": 25,
   "id": "5a011d48-d531-4469-92e9-e9c86ec5b1fc",
   "metadata": {},
   "outputs": [],
   "source": [
    "class Yönetici(Çalışan):\n",
    "    \n",
    "    def __init__(self,isim,maaş,departman,kişi_sayısı):        # Sorumlu olduğu kişi sayısı(override ettik)\n",
    "        print(\"Yönetici sınıfının init fonksiyonu\")\n",
    "        self.isim = isim\n",
    "        self.maaş = maaş\n",
    "        self.departman = departman\n",
    "        self.kişi_sayısı = kişi_sayısı # Yeni eklenen özellik\n",
    "    def zam_yap(self,zam_miktarı):\n",
    "        print(\"Maaşa zam yapılıyor....\")\n",
    "        self.maaş += zam_miktarı"
   ]
  },
  {
   "cell_type": "code",
   "execution_count": 27,
   "id": "8c53bedc-fde0-4e81-bacb-acb026c46d3d",
   "metadata": {},
   "outputs": [
    {
     "name": "stdout",
     "output_type": "stream",
     "text": [
      "Yönetici sınıfının init fonksiyonu\n"
     ]
    }
   ],
   "source": [
    "a = Yönetici(\"ERKAN TURGUT\",3000,\"Bilişim\",10) # Yönetici sınıfının init fonksiyonu. Override edildi."
   ]
  },
  {
   "cell_type": "markdown",
   "id": "e6804340-1515-4a31-a1a7-fda0a81566f2",
   "metadata": {},
   "source": [
    "***şimdi de bilgileriGoster() metodunu override edelim.***"
   ]
  },
  {
   "cell_type": "code",
   "execution_count": 32,
   "id": "b5ec5165-3638-45b5-a957-10877b71069e",
   "metadata": {},
   "outputs": [],
   "source": [
    "class Çalışan():\n",
    "    def __init__(self,isim,maaş,departman):\n",
    "        print(\"Çalışan sınıfının init fonksiyonu\")\n",
    "        self.isim = isim\n",
    "        self.maaş = maaş\n",
    "        self.departman = departman\n",
    "    def bilgilerigoster(self):\n",
    "        \n",
    "        print(\"Çalışan sınıfının bilgileri.....\")\n",
    "        \n",
    "        print(\"İsim : {} \\nMaaş: {} \\nDepartman: {}\\n\".format(self.isim,self.maaş,self.departman))\n",
    "    def departman_degistir(self,yeni_departman):\n",
    "        print(\"Departman değişiyor....\")\n",
    "        self.departman = yeni_departman"
   ]
  },
  {
   "cell_type": "code",
   "execution_count": 34,
   "id": "579ca897-fc23-4e68-a5ee-910d61b7351f",
   "metadata": {},
   "outputs": [],
   "source": [
    "class Yönetici(Çalışan):\n",
    "    \n",
    "    def __init__(self,isim,maaş,departman,kişi_sayısı): # Sorumlu olduğu kişi sayısı\n",
    "        print(\"Yönetici sınıfının init fonksiyonu\")\n",
    "        self.isim = isim\n",
    "        self.maaş = maaş\n",
    "        self.departman = departman\n",
    "        self.kişi_sayısı = kişi_sayısı # Yeni eklenen özellik\n",
    "    def bilgilerigoster(self):\n",
    "        \n",
    "        print(\"Yönetici sınıfının bilgileri.....\")\n",
    "        \n",
    "        print(\"İsim : {} \\nMaaş: {} \\nDepartman: {}\\nSorumlu kişi sayısı: {}\".format(self.isim,self.maaş,self.departman,self.kişi_sayısı))\n",
    "    def zam_yap(self,zam_miktarı):\n",
    "        print(\"Maaşa zam yapılıyor....\")\n",
    "        self.maaş += zam_miktarı"
   ]
  },
  {
   "cell_type": "code",
   "execution_count": 36,
   "id": "b059c506-50ed-486a-9857-c5e18e0393a9",
   "metadata": {},
   "outputs": [
    {
     "name": "stdout",
     "output_type": "stream",
     "text": [
      "Yönetici sınıfının init fonksiyonu\n"
     ]
    }
   ],
   "source": [
    "b =  Yönetici(\"ERKAN TURGUT\",2500,\"Pazarlama\",5) "
   ]
  },
  {
   "cell_type": "code",
   "execution_count": 38,
   "id": "3bd6b452-d01d-4d7a-8e02-b2108d41e474",
   "metadata": {},
   "outputs": [
    {
     "name": "stdout",
     "output_type": "stream",
     "text": [
      "Yönetici sınıfının bilgileri.....\n",
      "İsim : ERKAN TURGUT \n",
      "Maaş: 2500 \n",
      "Departman: Pazarlama\n",
      "Sorumlu kişi sayısı: 5\n"
     ]
    }
   ],
   "source": [
    "b.bilgilerigoster() # Kendi yazdığımız fonksiyon çağrıldı. Overriding "
   ]
  },
  {
   "cell_type": "markdown",
   "id": "7d4944d1-8e94-4d7a-87fa-1142ffcc5777",
   "metadata": {},
   "source": [
    "***super Anahtar Kelimesi***\n",
    "\n",
    "super anahtar kelimesi özellikle override ettiğimiz bir metodun içinde aynı zamanda miras aldığımız bir metodu kullanmak istersek kullanılabilir. Yani super en genel anlamıyla miras aldığımız sınıfın metodlarını alt sınıflardan kullanmamızı sağlar. Hemen örnek üzerinden anlamaya çalışalım."
   ]
  },
  {
   "cell_type": "code",
   "execution_count": 5,
   "id": "76003c42-3bd5-44ce-bda4-bbe4f3a2e596",
   "metadata": {},
   "outputs": [],
   "source": [
    "class Çalışan():\n",
    "    def __init__(self,isim,maaş,departman):\n",
    "        print(\"Çalışan sınıfının init fonksiyonu\")\n",
    "        self.isim = isim\n",
    "        self.maaş = maaş\n",
    "        self.departman = departman\n",
    "    def bilgilerigoster(self):\n",
    "        \n",
    "        print(\"Çalışan sınıfının bilgileri.....\")\n",
    "        \n",
    "        print(\"İsim : {} \\nMaaş: {} \\nDepartman: {}\\n\".format(self.isim,self.maaş,self.departman))\n",
    "    def departman_degistir(self,yeni_departman):\n",
    "        print(\"Departman değişiyor....\")\n",
    "        self.departman = yeni_departman"
   ]
  },
  {
   "cell_type": "code",
   "execution_count": 7,
   "id": "79e16fe1-5b01-4e47-8110-86ce2b6e0867",
   "metadata": {},
   "outputs": [],
   "source": [
    "class Yönetici(Çalışan):\n",
    "    \n",
    "    def __init__(self,isim,maaş,departman,kişi_sayısı): # Sorumlu olduğu kişi sayısı\n",
    "        super().__init__(isim,maaş,departman) # 3 tane özelliği Çalışan fonksiyonunun init fonksiyonuyla hallediyoruz.\n",
    "        \n",
    "        print(\"Yönetici sınıfının init fonksiyonu\")\n",
    "        \n",
    "        self.kişi_sayısı = kişi_sayısı        # Ekstra özelliği de kendimiz yazıyoruz.\n",
    "    def bilgilerigoster(self):\n",
    "        \n",
    "        print(\"Yönetici sınıfının bilgileri.....\")\n",
    "        \n",
    "        print(\"İsim : {} \\nMaaş: {} \\nDepartman: {}\\nSorumlu kişi sayısı: {}\".format(self.isim,self.maaş,self.departman,self.kişi_sayısı))\n",
    "    def zam_yap(self,zam_miktarı):\n",
    "        print(\"Maaşa zam yapılıyor....\")\n",
    "        self.maaş += zam_miktarı"
   ]
  },
  {
   "cell_type": "markdown",
   "id": "142a1454-24a8-4c4b-bf60-4c9361dd7a3f",
   "metadata": {},
   "source": [
    "Burada ***super().__init()*** diyerek Çalışan sınıfının metodunu özel olarak çağırarak isim, maaş , departman özelliklerini bu metodla belirledik."
   ]
  },
  {
   "cell_type": "code",
   "execution_count": 11,
   "id": "cd8f6b8c-238a-4914-9cb6-c86857411d86",
   "metadata": {},
   "outputs": [
    {
     "name": "stdout",
     "output_type": "stream",
     "text": [
      "Çalışan sınıfının init fonksiyonu\n",
      "Yönetici sınıfının init fonksiyonu\n",
      "Yönetici sınıfının bilgileri.....\n",
      "İsim : Oğuz Artıran \n",
      "Maaş: 3000 \n",
      "Departman: İnsan Kaynakları\n",
      "Sorumlu kişi sayısı: 4\n",
      "None\n"
     ]
    }
   ],
   "source": [
    "c = Yönetici(\"Oğuz Artıran\",3000,\"İnsan Kaynakları\",4)\n",
    "print(c.bilgilerigoster())"
   ]
  },
  {
   "cell_type": "code",
   "execution_count": null,
   "id": "8e19bf5b-104d-442f-bfec-41251c05d8e0",
   "metadata": {},
   "outputs": [],
   "source": []
  }
 ],
 "metadata": {
  "kernelspec": {
   "display_name": "Python 3 (ipykernel)",
   "language": "python",
   "name": "python3"
  },
  "language_info": {
   "codemirror_mode": {
    "name": "ipython",
    "version": 3
   },
   "file_extension": ".py",
   "mimetype": "text/x-python",
   "name": "python",
   "nbconvert_exporter": "python",
   "pygments_lexer": "ipython3",
   "version": "3.12.4"
  }
 },
 "nbformat": 4,
 "nbformat_minor": 5
}
