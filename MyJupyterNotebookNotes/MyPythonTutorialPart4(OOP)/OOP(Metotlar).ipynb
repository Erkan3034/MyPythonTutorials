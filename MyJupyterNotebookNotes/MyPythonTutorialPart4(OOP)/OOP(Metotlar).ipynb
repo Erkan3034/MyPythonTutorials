{
 "cells": [
  {
   "cell_type": "markdown",
   "id": "688c660c-0bf7-4223-b495-87ae41690154",
   "metadata": {},
   "source": [
    "## Nesne Tabanlı Programlama - Metodlar\n",
    "\n",
    "📌 bir sınıf içinde metodlarımızı nasıl tanımlayacağımızı öğrenelim. Bunun için ilk olarak bir Yazılımcı sınıfı tanımlayalım."
   ]
  },
  {
   "cell_type": "code",
   "execution_count": 16,
   "id": "e403dd05-ca16-40c1-9fc2-2d9abbe79996",
   "metadata": {},
   "outputs": [
    {
     "name": "stdout",
     "output_type": "stream",
     "text": [
      "['Python', 'C#', 'Java', 'JavaScript']\n",
      "ERKAN\n"
     ]
    }
   ],
   "source": [
    "class Yazılımcı():\n",
    "    \n",
    "    def __init__(self,isim,soyisim,numara,maaş,diller):\n",
    "        self.isim = isim\n",
    "        self.soyisim = soyisim\n",
    "        self.numara = numara    # Yazılımcı objelerinin özellikleri \n",
    "        self.maaş = maaş\n",
    "        self.diller = diller\n",
    "\n",
    "\n",
    "# yazılımcı1 objesi\n",
    "yazılımcı1 =  Yazılımcı(\"ERKAN\",\"TURGUT\",12345,45000,[\"Python\",\"C#\",\"Java\",\"JavaScript\"])\n",
    "print(yazılımcı1.diller)\n",
    "print(yazılımcı1.isim)"
   ]
  },
  {
   "cell_type": "markdown",
   "id": "f43ef2e7-db41-47ad-8793-d46694844c50",
   "metadata": {},
   "source": [
    "### Bir sınıfa metod eklemek, tıpkı __init__ metodunu tanımlamak gibi yapılır. \n",
    "Sınıfın içine, istediğimiz kadar metod tanımlayabiliriz. Bu metodlar, objeye ait işlevleri gerçekleştirir. Örneğin, bir Yazılımcı sınıfı oluşturup, bu sınıfa bilgileri_göster isimli bir metod ekleyelim:"
   ]
  },
  {
   "cell_type": "code",
   "execution_count": 36,
   "id": "aa8ddccd-cc2c-463e-aeb4-005537fabe38",
   "metadata": {},
   "outputs": [
    {
     "name": "stdout",
     "output_type": "stream",
     "text": [
      "\n",
      "        Yazılımcı Bilgisi:\n",
      "        \n",
      "        İsim :  ERKAN\n",
      "        \n",
      "        Soyisim : TURGUT\n",
      "        \n",
      "        Şirket No: 12345\n",
      "        \n",
      "        Maaş :  45000\n",
      "        \n",
      "        Diller: ['Python', 'C#', 'Java', 'JavaScript', 'HTML5', 'CSS3', 'Bootstrap5']\n",
      "        \n",
      "Dİl ekleniyor...\n",
      "\n",
      "        Yazılımcı Bilgisi:\n",
      "        \n",
      "        İsim :  ERKAN\n",
      "        \n",
      "        Soyisim : TURGUT\n",
      "        \n",
      "        Şirket No: 12345\n",
      "        \n",
      "        Maaş :  45000\n",
      "        \n",
      "        Diller: ['Python', 'C#', 'Java', 'JavaScript', 'HTML5', 'CSS3', 'Bootstrap5', 'MySQL']\n",
      "        \n"
     ]
    }
   ],
   "source": [
    "class Yazılımcı():\n",
    "    \n",
    "    def __init__(self,isim,soyisim,numara,maaş,diller):\n",
    "        self.isim = isim\n",
    "        self.soyisim = soyisim\n",
    "        self.numara = numara    # Yazılımcı objelerinin özellikleri \n",
    "        self.maaş = maaş\n",
    "        self.diller = diller\n",
    "\n",
    "    \n",
    "    def bilgilerigöster(self): # yeni metot\n",
    "        print(\"\"\"\n",
    "        Yazılımcı Bilgisi:\n",
    "        \n",
    "        İsim :  {}\n",
    "        \n",
    "        Soyisim : {}\n",
    "        \n",
    "        Şirket No: {}\n",
    "        \n",
    "        Maaş :  {}\n",
    "        \n",
    "        Diller: {}\n",
    "        \"\"\".format(self.isim,self.soyisim,self.numara,self.maaş,self.diller))\n",
    "\n",
    "    def dilEkle(self,yeniDil):  # yeni metot\n",
    "        print(\"Dİl ekleniyor...\")\n",
    "        self.diller.append(yeniDil)\n",
    "\n",
    "yazılımcı1 =  Yazılımcı(\"ERKAN\",\"TURGUT\",12345,45000,[\"Python\",\"C#\",\"Java\",\"JavaScript\",\"HTML5\",\"CSS3\",\"Bootstrap5\"])\n",
    "\n",
    "\n",
    "yazılımcı1.bilgilerigöster()\n",
    "yazılımcı1.dilEkle(\"MySQL\")\n",
    "yazılımcı1.bilgilerigöster()"
   ]
  },
  {
   "cell_type": "code",
   "execution_count": null,
   "id": "1c4a1a8f-92ea-452c-a339-2547a8493440",
   "metadata": {},
   "outputs": [],
   "source": []
  }
 ],
 "metadata": {
  "kernelspec": {
   "display_name": "Python 3 (ipykernel)",
   "language": "python",
   "name": "python3"
  },
  "language_info": {
   "codemirror_mode": {
    "name": "ipython",
    "version": 3
   },
   "file_extension": ".py",
   "mimetype": "text/x-python",
   "name": "python",
   "nbconvert_exporter": "python",
   "pygments_lexer": "ipython3",
   "version": "3.12.4"
  }
 },
 "nbformat": 4,
 "nbformat_minor": 5
}
