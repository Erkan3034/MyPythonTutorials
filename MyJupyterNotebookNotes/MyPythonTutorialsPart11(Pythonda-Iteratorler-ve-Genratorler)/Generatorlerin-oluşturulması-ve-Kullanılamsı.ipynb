{
 "cells": [
  {
   "cell_type": "markdown",
   "id": "07f185ff-e9db-4cda-aa27-5e26d72dc63e",
   "metadata": {},
   "source": [
    "# Generatorlerin oluşturulması ve Kullanılması\n"
   ]
  },
  {
   "cell_type": "markdown",
   "id": "fd73feb3-4563-46ba-99ab-75ae3f7a6358",
   "metadata": {},
   "source": [
    "➡️Generatorlar, Python'da büyük veri kümeleriyle çalışırken bellek tasarrufu sağlamak için kullanılan iterable objelerdir. Generatorlar, değerleri ihtiyaç duyuldukça üreterek bellekte büyük veri yapılarını saklama gereksinimini ortadan kaldırır. Generator fonksiyonları yield anahtar kelimesini kullanarak oluşturulur.\n",
    "\n",
    "**Örnek: Generator Kullanılmadan Fonksiyon**\n",
    "\n",
    "Aşağıdaki örnekte, bir liste kullanarak değer üreten bir fonksiyon yazıyorum:"
   ]
  },
  {
   "cell_type": "code",
   "execution_count": 4,
   "id": "6e106fbb-5348-45a7-8021-c83ad60f1193",
   "metadata": {},
   "outputs": [
    {
     "name": "stdout",
     "output_type": "stream",
     "text": [
      "[0, 1, 4, 9, 16]\n"
     ]
    }
   ],
   "source": [
    "# Generator kullanmadan büyük bir liste oluşturma\n",
    "def kareler_listesi(n):\n",
    "    liste = []\n",
    "    for i in range(n):\n",
    "        liste.append(i ** 2)  # Her sayının karesini listeye ekle\n",
    "    return liste\n",
    "\n",
    "# Fonksiyonu çalıştırma\n",
    "kareler = kareler_listesi(5)\n",
    "print(kareler)  # Çıktı: [0, 1, 4, 9, 16]\n"
   ]
  },
  {
   "cell_type": "markdown",
   "id": "fc2b360b-e87d-453b-abe7-c600fc787db0",
   "metadata": {},
   "source": [
    " ### 📌Bu Yaklaşımın Dezavantajı\n",
    "kareler_listesi fonksiyonu, \"tüm değerleri bellekte bir liste olarak saklar\". Eğer n çok büyük bir sayıysa, bu durum bellekte çok fazla yer kaplar.\n",
    "\n",
    "➡️➡️Generator Kullanarak Aynı Fonksiyon\n",
    "\n",
    "Aşağıdaki örnek, aynı işlemi generator kullanarak yapar:"
   ]
  },
  {
   "cell_type": "code",
   "execution_count": 7,
   "id": "e134f334-dfc4-4146-8668-587df1a9b952",
   "metadata": {},
   "outputs": [
    {
     "name": "stdout",
     "output_type": "stream",
     "text": [
      "0\n",
      "1\n",
      "4\n",
      "9\n",
      "16\n"
     ]
    }
   ],
   "source": [
    "# Generator ile büyük bir liste yerine sırayla değer üretme\n",
    "def kareler_generator(n):\n",
    "    for i in range(n):\n",
    "        yield i ** 2  # Her değeri üretir ve sırayla döndürür\n",
    "\n",
    "# Fonksiyonu çalıştırma\n",
    "kareler = kareler_generator(5)\n",
    "for kare in kareler:\n",
    "    print(kare)  # Çıktı: 0, 1, 4, 9, 16\n"
   ]
  },
  {
   "cell_type": "markdown",
   "id": "afda1980-96a0-4610-a722-61c3e2d9b2bb",
   "metadata": {},
   "source": [
    "### ✅Generator'un Avantajları\n",
    "\n",
    "- **Bellek Tasarrufu:** Tüm değerler aynı anda bellekte saklanmaz, sırayla üretilir.\n",
    "\n",
    "- **İterasyon:** for döngüsüyle kolayca üzerinde gezinilebilir.\n",
    "\n",
    "- **Hız ve Verimlilik:** Büyük veri setleriyle çalışırken daha hızlıdır çünkü yalnızca ihtiyaç duyulan veriler üretilir.\n",
    "\n",
    "📚Özetle:\n",
    "\n",
    "Listeler tüm elemanları bellekte saklar, bu yüzden büyük veri kümeleri için verimsizdir.\n",
    "Generatorlar ise değerleri dinamik olarak üretir ve bellek tasarrufu sağlar.\n",
    "**\"yield\"** anahtar kelimesi, generator fonksiyonlarının temelidir ve fonksiyonun durumunu kaydederek bir sonraki çağrıda devam etmesini sağlar."
   ]
  },
  {
   "cell_type": "markdown",
   "id": "0d36ed23-45ba-4cab-98d8-0ad4f55d52a8",
   "metadata": {},
   "source": [
    "____"
   ]
  },
  {
   "cell_type": "markdown",
   "id": "ff227021-2b5e-4203-b37c-ce734a562e44",
   "metadata": {},
   "source": [
    "Python'da generatorlar, genellikle büyük veri setleriyle çalışırken bellek tasarrufu sağlamak için kullanılır. İşte bazı yaygın kullanım alanları ve örnekleri:\n",
    "\n",
    "### 1. **Büyük Veri Setleriyle Çalışma**\n",
    "Eğer bir dosya veya çok büyük bir liste üzerinde işlem yapıyorsanız, tüm veriyi bellekte tutmak yerine generator kullanarak yalnızca ihtiyaç duyduğunuz veriyi üretebilirsiniz.\n",
    "\n",
    "**Örnek: Büyük bir dosyadaki satırlara erişim**\n",
    "Bir dosyadaki her satırı tek tek işlemek için generator kullanılabilir.\n",
    "\n",
    "```python\n",
    "# Dosyadaki her satırı okuyan bir generator\n",
    "def dosya_oku(file_name):\n",
    "    with open(file_name, 'r') as file:\n",
    "        for satir in file:\n",
    "            yield satir.strip()  # Satırı tek tek döndürür\n",
    "\n",
    "# Büyük bir dosya okurken memory'nin verimli kullanılması\n",
    "for satir in dosya_oku(\"büyük_dosya.txt\"):\n",
    "    print(satir)  # Satırları sırayla işleyebilirsin\n",
    "```\n",
    "**Avantaj**: Dosyanın tamamını belleğe yüklemek yerine, her satır sırayla işlendiği için bellek kullanımı çok daha verimlidir.\n",
    "\n",
    "### 2. **Sonsuz Veri Üretimi**\n",
    "Generatorlar, sınırsız sayıda veri üretmek için de idealdir. Örneğin, bir sayı dizisi oluşturmak, ancak tüm diziyi belleğe yüklememek.\n",
    "\n",
    "**Örnek: Sonsuz sayılar üretme**\n",
    "```python\n",
    "# Sonsuz sayılar üretmek için generator\n",
    "def sonsuz_sayilar():\n",
    "    i = 0\n",
    "    while True:\n",
    "        yield i  # Sürekli artan sayılar döndürür\n",
    "        i += 1\n",
    "\n",
    "# Sonsuz bir döngüde sayılar üretme\n",
    "for sayi in sonsuz_sayilar():\n",
    "    if sayi > 10:\n",
    "        break  # Sonsuz döngü, 10'a kadar olan sayıları döndürür\n",
    "    print(sayi)  # Çıktı: 0, 1, 2, 3, 4, 5, 6, 7, 8, 9, 10\n",
    "```\n",
    "**Avantaj**: Sonsuz veri üretmek mümkündür, çünkü her seferinde sadece bir sayı üretilir ve önceki sayılar bellekte saklanmaz.\n",
    "\n",
    "### 3. **Veri Filtreleme ve Dönüşümler**\n",
    "Bir listeyi ya da veri kümesini işlemek, filtrelemek veya dönüştürmek için generatorlar çok faydalıdır. Tüm veri setini bir listeye dönüştürmek yerine, sadece gerekli olan verileri üretirsiniz.\n",
    "\n",
    "**Örnek: Filtreleme**\n",
    "```python\n",
    "# Sayıları filtreleyip yalnızca çift olanları döndürme\n",
    "def cift_sayilar(liste):\n",
    "    for sayi in liste:\n",
    "        if sayi % 2 == 0:\n",
    "            yield sayi  # Çift sayıları sırayla döndürür\n",
    "\n",
    "# Listede yalnızca çift sayıları almak\n",
    "sayilar = [1, 2, 3, 4, 5, 6, 7, 8, 9]\n",
    "for sayi in cift_sayilar(sayilar):\n",
    "    print(sayi)  # Çıktı: 2, 4, 6, 8\n",
    "```\n",
    "**Avantaj**: Listeyi değiştirmeden, yalnızca ihtiyacınız olan elemanları filtreler ve döndürür.\n",
    "\n",
    "### 4. **Veri Akışları**\n",
    "Generatorlar, veri akışları ve stream processing gibi durumlarda da kullanılır. Bir veri akışını işlemekte, her gelen veriyi anında işlemek ve döndürmek için generator kullanabilirsiniz.\n",
    "\n",
    "**Örnek: Veritabanı sorgu sonuçları** \n",
    "Bir veritabanından gelen sonuçları işlerken tüm sonucu belleğe almak yerine, her sonucu sırayla işlemek için generator kullanabilirsiniz.\n",
    "\n",
    "```python\n",
    "# Veritabanı bağlantısı gibi veri akışlarını modelleyen basit örnek\n",
    "def veri_akisi():\n",
    "    veriler = [\"Veri 1\", \"Veri 2\", \"Veri 3\", \"Veri 4\"]\n",
    "    for veri in veriler:\n",
    "        yield veri  # Her veriyi sırayla döndürür\n",
    "\n",
    "# Her veri akışını işleme\n",
    "for veri in veri_akisi():\n",
    "    print(veri)  # Çıktı: Veri 1, Veri 2, Veri 3, Veri 4\n",
    "```\n",
    "\n",
    "### 5. **Lazy Evaluation (Tembel Değerlendirme)**\n",
    "Generatorlar, **lazy evaluation** (tembel değerlendirme) yaklaşımını kullanarak veri üretir. Bu, yalnızca ihtiyaç duyulduğunda veri üretilmesi anlamına gelir. Örneğin, bir hesaplama yapılacaksa ve bu hesaplama ağır bir işlemse, generator sadece gereken değerleri üretir.\n",
    "\n",
    "**Örnek: Büyük hesaplamalar için generator kullanma**\n",
    "```python\n",
    "# Büyük hesaplama işlemleri yapan bir generator\n",
    "def kareler(n):\n",
    "    for i in range(n):\n",
    "        yield i ** 2  # Her sayının karesini hesaplar ve döndürür\n",
    "\n",
    "# Hızla ve verimli bir şekilde kareleri üretme\n",
    "for kare in kareler(5):\n",
    "    print(kare)  # Çıktı: 0, 1, 4, 9, 16\n",
    "```\n",
    "\n",
    "### Sonuç:\n",
    "Generatorlar, büyük veri setleriyle çalışırken belleği verimli kullanmanızı sağlar ve işlemleri daha hızlı ve daha verimli hale getirir. Özellikle:\n",
    "- Büyük dosyalarla çalışırken,\n",
    "- Sonsuz veri üretmek gerektiğinde,\n",
    "- Veri filtreleme veya dönüşüm işlemlerinde,\n",
    "- Lazy evaluation ve veri akışlarında kullanışlıdır."
   ]
  },
  {
   "cell_type": "code",
   "execution_count": null,
   "id": "f85f6380-a057-4029-af8a-750cb166d83c",
   "metadata": {},
   "outputs": [],
   "source": []
  }
 ],
 "metadata": {
  "kernelspec": {
   "display_name": "Python 3 (ipykernel)",
   "language": "python",
   "name": "python3"
  },
  "language_info": {
   "codemirror_mode": {
    "name": "ipython",
    "version": 3
   },
   "file_extension": ".py",
   "mimetype": "text/x-python",
   "name": "python",
   "nbconvert_exporter": "python",
   "pygments_lexer": "ipython3",
   "version": "3.12.4"
  }
 },
 "nbformat": 4,
 "nbformat_minor": 5
}
