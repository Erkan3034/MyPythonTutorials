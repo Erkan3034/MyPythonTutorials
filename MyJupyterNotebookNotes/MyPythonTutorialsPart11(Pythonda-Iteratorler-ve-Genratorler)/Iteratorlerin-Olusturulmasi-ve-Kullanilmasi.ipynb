{
 "cells": [
  {
   "cell_type": "markdown",
   "id": "ebf877f2-943f-4676-b216-68d3f831d658",
   "metadata": {},
   "source": [
    "#                     İteratörlerin Oluşurulması Ve Kullanılması "
   ]
  },
  {
   "attachments": {},
   "cell_type": "markdown",
   "id": "909394cb-5de1-4179-95fa-126a4e27cd05",
   "metadata": {},
   "source": [
    "## Iteratorlar NEDİR ❓\n",
    "Iteratorlar, Python'da üzerinde \"sırayla gezinilebilen objelerdir ve her adımda bir eleman döner\". For döngüleri, list comprehension'lar ve generatorlar gibi yapılar iteratorlarla çalışır.\r\n",
    "-\n",
    "- **Iterable Obje:** Üzerinde iterator oluşturulabilen objelerdir (ör. listeler, demetler, stringler).\r\n",
    "- **Iterator Obje:** `__iter__()` ve `__next__()` metodlarına sahip objelerdir. Bu metodlar bir objeyi iterator yapar.\r\n",
    "\r\n",
    "Özetle, iterable bir objeden (`list`, `tuple`, `str` gibi) iterator oluşturabiliriz. Iteratorlar, bu objelerin elemanlarını sırayla döndürmek için kullanılır."
   ]
  },
  {
   "cell_type": "markdown",
   "id": "7d877c12-f200-40c5-b4fb-ce075be19e55",
   "metadata": {},
   "source": [
    "______"
   ]
  },
  {
   "cell_type": "markdown",
   "id": "4a2e202e-8613-450f-b637-9e57ca242a83",
   "metadata": {},
   "source": [
    "### 📌İTERATOR OLUŞTURMA\n",
    "\n",
    "Python'da iterator oluşturmak için iter() fonksiyonunu kullanırız. Bu, iterable bir objeden (liste, demet, string vb.) bir iterator oluşturur. Oluşturulan iterator'un bir sonraki elemanını almak için next() fonksiyonunu kullanabiliriz.\n",
    "\n",
    "Örnek:"
   ]
  },
  {
   "cell_type": "code",
   "execution_count": 143,
   "id": "6457bb00-0e63-4c97-84c7-88df7d05559d",
   "metadata": {},
   "outputs": [
    {
     "name": "stdout",
     "output_type": "stream",
     "text": [
      "1\n",
      "2\n",
      "3\n",
      "hata: Yazdırılacak Öge bitti\n"
     ]
    }
   ],
   "source": [
    "liste = [1, 2, 3]\n",
    "iterator = iter(liste)  # Iterator oluşturma (iter(): Iterable bir objeyi iterator'a dönüştürür.)\n",
    "try:\n",
    "    print(next(iterator))  # 1 (next(): Iterator'un bir sonraki elemanını döndürür. Eğer eleman kalmazsa StopIteration hatası verir.)\n",
    "    print(next(iterator))  # 2\n",
    "    print(next(iterator))  # 3\n",
    "    print(next(iterator)) #4 öğe bulunmadığı için hata verecektir.\n",
    "except StopIteration:  \n",
    "    print(\"hata: Yazdırılacak Öge bitti\")\n",
    "    "
   ]
  },
  {
   "cell_type": "markdown",
   "id": "cd8c9ca3-646b-411f-935b-608e2c36af33",
   "metadata": {},
   "source": [
    "____"
   ]
  },
  {
   "cell_type": "markdown",
   "id": "1ecc7fc1-be5d-4034-9a2e-fb6586231414",
   "metadata": {},
   "source": [
    "İşte iterable bir objeden bir iterator'ı bu şekilde oluşturup, *next()* fonksiyonuyla objenin sıradaki elemanını alabiliyoruz. Ancak eleman kalmayınca StopIteration hatasını alıyoruz. İşte iteratorların kullanımı bu şekildedir. Aslında biz farketmesek de Pythondaki for döngüleri aslında bir objenin üzerinde gezinirken iteratorları kullanır."
   ]
  },
  {
   "cell_type": "code",
   "execution_count": 146,
   "id": "f595f123-9d30-4b0a-8b12-a7f8ca498895",
   "metadata": {},
   "outputs": [
    {
     "name": "stdout",
     "output_type": "stream",
     "text": [
      "10\n",
      "20\n",
      "30\n",
      "40\n",
      "50\n"
     ]
    }
   ],
   "source": [
    "liste = [10,20,30,40,50]\n",
    "\n",
    "for i in liste:\n",
    "    print(i)"
   ]
  },
  {
   "cell_type": "markdown",
   "id": "a90a07dc-512a-4b68-b031-25054053df6f",
   "metadata": {},
   "source": [
    "⏩Aslında for döngülerinin iç yapısı şu şekildedir;👇"
   ]
  },
  {
   "cell_type": "code",
   "execution_count": 148,
   "id": "659a63e9-a79e-4b1d-970b-23374654bd36",
   "metadata": {},
   "outputs": [
    {
     "name": "stdout",
     "output_type": "stream",
     "text": [
      "10\n",
      "20\n",
      "30\n",
      "40\n",
      "50\n"
     ]
    }
   ],
   "source": [
    "liste = [10,20,30,40,50]\n",
    "\n",
    "iterator = iter(liste)    # yani aslında for föngüsü için python bir iterator oluşturupbu iterator ilr tüm elemanları döndürüyor.\n",
    "\n",
    "while True:\n",
    "    try:\n",
    "        print(next(iterator))\n",
    "    except StopIteration:\n",
    "        break\n",
    "    "
   ]
  },
  {
   "cell_type": "markdown",
   "id": "e01d2c66-d65c-48cc-b6f5-9046f312f840",
   "metadata": {},
   "source": [
    "____"
   ]
  },
  {
   "cell_type": "markdown",
   "id": "033525b3-1501-4cda-9feb-cac3382a3386",
   "metadata": {},
   "source": [
    " ### 📌📚 Kendi Iterable Objelerimizi Oluşturmak\n",
    "Peki biz kendi oluşturduğumuz veritiplerini nasıl iterable yapacağız ? Bunun için oluşturacağımız sınıfların mutlaka \"__iter()__ ve __next()__ \" metodlarını tanımlaması gereklidir. Şimdi bir tane kumanda sınıfı oluşturalım ve bu sınıfı iterable yapalım."
   ]
  },
  {
   "cell_type": "code",
   "execution_count": 151,
   "id": "ab2f6e82-25f2-471c-a723-16e9b45ad0c2",
   "metadata": {},
   "outputs": [
    {
     "name": "stdout",
     "output_type": "stream",
     "text": [
      "TRT 1\n",
      "ATV\n",
      "Kanal D\n",
      "Show TV\n",
      "FOX\n"
     ]
    }
   ],
   "source": [
    "class Kumanda():\n",
    "    # Sınıf başlatılırken kanal listesini alır\n",
    "    def __init__(self, kanal_listesi):\n",
    "        self.kanal_listesi = kanal_listesi  # Kanal listesini bir örnek değişkenine atar\n",
    "        self.index = -1  # Başlangıç için indeks -1 olarak ayarlanır (henüz bir kanalda değiliz)\n",
    "    \n",
    "    # Sınıfı bir iterator yapmak için __iter__ metodunu tanımlarız\n",
    "    def __iter__(self):\n",
    "        return self  # Kendisi iterator olarak döndürülür\n",
    "    \n",
    "    # Iterator'daki bir sonraki elemanı döndürmek için __next__ metodu\n",
    "    def __next__(self):\n",
    "        self.index += 1  # İndeksi bir artırır\n",
    "        # Eğer indeks kanal listesinin sınırları içindeyse o kanal döndürülür\n",
    "        if self.index < len(self.kanal_listesi):\n",
    "            return self.kanal_listesi[self.index]\n",
    "        else:\n",
    "            self.index = -1  # İndeksi sıfırlamak için tekrar -1 yapılır\n",
    "            raise StopIteration  # Listenin sonuna ulaşıldığını belirtmek için hata fırlatılır\n",
    "\n",
    "# Örnek kullanım\n",
    "kanallar = [\"TRT 1\", \"ATV\", \"Kanal D\", \"Show TV\", \"FOX\"]  # Kanal listesi oluşturulur\n",
    "kumanda = Kumanda(kanallar)  # Kumanda sınıfı kanal listesi ile başlatılır\n",
    "\n",
    "# Kumanda üzerindeki kanalları dolaşmak için for döngüsü kullanılır\n",
    "for kanal in kumanda:\n",
    "    print(kanal)  # Her bir kanalı ekrana yazdırır\n"
   ]
  },
  {
   "cell_type": "markdown",
   "id": "e95c766d-e94b-4eb7-ab31-ed98735dedf7",
   "metadata": {},
   "source": [
    "______"
   ]
  },
  {
   "cell_type": "markdown",
   "id": "50e7a595-b442-4ba4-8ca5-fe79d0b0bef9",
   "metadata": {},
   "source": [
    "⏩⏩Kodun İşleyişi⬅️⬅️⬅\n",
    "Sınıf Tanımı ve Başlatma:\n",
    "\n",
    "Kumanda sınıfına bir kanal listesi verilir ve bu liste üzerinde iterasyon yapılır.\n",
    "Iterator Yapısı:\n",
    "\n",
    "__iter__() metodu, sınıfın bir iterator olduğunu ifade eder ve self döndürür.\n",
    "__next__() metodu, sıradaki kanal ismini döndürür. Eğer listenin sonuna ulaşılmışsa, StopIteration hatası fırlatır.\n",
    "For Döngüsü:\n",
    "\n",
    "for döngüsü __iter__() metodunu çağırır ve sınıfı iterator olarak başlatır.\n",
    "Döngü her adımda __next__() metodunu çağırır ve kanalları sırayla yazdırır.\n",
    "Listenin sonuna ulaşıldığında, StopIteration hatası ile döngü sonlanır."
   ]
  },
  {
   "cell_type": "code",
   "execution_count": 154,
   "id": "17fa92d8-8439-46d7-b094-4cdc7dbcc7fd",
   "metadata": {},
   "outputs": [],
   "source": [
    "# 2. Kullanım örneği\n",
    "\n",
    "kumanda = Kumanda([\"A\",\"B\", \"C\" , \"D\" , \"E\"])\n",
    "\n",
    "iterator = iter(kumanda)"
   ]
  },
  {
   "cell_type": "code",
   "execution_count": 155,
   "id": "d93c366e-4959-4f5e-8f61-8b12a6c3d5da",
   "metadata": {},
   "outputs": [
    {
     "name": "stdout",
     "output_type": "stream",
     "text": [
      "A\n"
     ]
    }
   ],
   "source": [
    "print(next(iterator))"
   ]
  },
  {
   "cell_type": "code",
   "execution_count": 156,
   "id": "bbc04073-e55f-4745-87ab-64b68f01e4a8",
   "metadata": {},
   "outputs": [
    {
     "name": "stdout",
     "output_type": "stream",
     "text": [
      "B\n"
     ]
    }
   ],
   "source": [
    "print(next(iterator))"
   ]
  },
  {
   "cell_type": "code",
   "execution_count": 157,
   "id": "fcad442b-4d4e-451c-84db-27a7842622b3",
   "metadata": {},
   "outputs": [
    {
     "name": "stdout",
     "output_type": "stream",
     "text": [
      "C\n"
     ]
    }
   ],
   "source": [
    "print(next(iterator))"
   ]
  },
  {
   "cell_type": "code",
   "execution_count": 158,
   "id": "7a570d1e-f3b5-4d5f-a106-2d261b58b82c",
   "metadata": {},
   "outputs": [
    {
     "name": "stdout",
     "output_type": "stream",
     "text": [
      "D\n"
     ]
    }
   ],
   "source": [
    "print(next(iterator))"
   ]
  },
  {
   "cell_type": "code",
   "execution_count": 159,
   "id": "9b95ab23-0c8a-46a8-ae73-afa9c28bb5be",
   "metadata": {},
   "outputs": [
    {
     "name": "stdout",
     "output_type": "stream",
     "text": [
      "E\n"
     ]
    }
   ],
   "source": [
    "print(next(iterator))"
   ]
  },
  {
   "cell_type": "code",
   "execution_count": 160,
   "id": "2b47aa59-28cc-4027-91e0-5f9816023d73",
   "metadata": {},
   "outputs": [
    {
     "ename": "StopIteration",
     "evalue": "",
     "output_type": "error",
     "traceback": [
      "\u001b[1;31m---------------------------------------------------------------------------\u001b[0m",
      "\u001b[1;31mStopIteration\u001b[0m                             Traceback (most recent call last)",
      "Cell \u001b[1;32mIn[160], line 1\u001b[0m\n\u001b[1;32m----> 1\u001b[0m \u001b[38;5;28mprint\u001b[39m(\u001b[38;5;28mnext\u001b[39m(iterator))\n",
      "Cell \u001b[1;32mIn[151], line 19\u001b[0m, in \u001b[0;36mKumanda.__next__\u001b[1;34m(self)\u001b[0m\n\u001b[0;32m     17\u001b[0m \u001b[38;5;28;01melse\u001b[39;00m:\n\u001b[0;32m     18\u001b[0m     \u001b[38;5;28mself\u001b[39m\u001b[38;5;241m.\u001b[39mindex \u001b[38;5;241m=\u001b[39m \u001b[38;5;241m-\u001b[39m\u001b[38;5;241m1\u001b[39m  \u001b[38;5;66;03m# İndeksi sıfırlamak için tekrar -1 yapılır\u001b[39;00m\n\u001b[1;32m---> 19\u001b[0m     \u001b[38;5;28;01mraise\u001b[39;00m \u001b[38;5;167;01mStopIteration\u001b[39;00m\n",
      "\u001b[1;31mStopIteration\u001b[0m: "
     ]
    }
   ],
   "source": [
    "print(next(iterator))"
   ]
  },
  {
   "cell_type": "code",
   "execution_count": null,
   "id": "64099927-ce1e-4cdc-83ea-0377eb873fee",
   "metadata": {},
   "outputs": [],
   "source": []
  }
 ],
 "metadata": {
  "kernelspec": {
   "display_name": "Python 3 (ipykernel)",
   "language": "python",
   "name": "python3"
  },
  "language_info": {
   "codemirror_mode": {
    "name": "ipython",
    "version": 3
   },
   "file_extension": ".py",
   "mimetype": "text/x-python",
   "name": "python",
   "nbconvert_exporter": "python",
   "pygments_lexer": "ipython3",
   "version": "3.12.4"
  }
 },
 "nbformat": 4,
 "nbformat_minor": 5
}
