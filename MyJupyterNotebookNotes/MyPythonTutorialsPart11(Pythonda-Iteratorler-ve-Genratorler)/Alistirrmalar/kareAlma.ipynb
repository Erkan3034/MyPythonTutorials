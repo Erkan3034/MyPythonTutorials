{
 "cells": [
  {
   "cell_type": "code",
   "execution_count": 1,
   "id": "571de6b1-4fe3-4a13-8dc7-845e19c0230e",
   "metadata": {},
   "outputs": [],
   "source": [
    "class Kareler():\r\n",
    "    \r\n",
    "    def __init__(self,maksimum):\r\n",
    "        self.maksimum = maksimum\r\n",
    "        \r\n",
    "        self.sayı = 1\r\n",
    "        \r\n",
    "    def __iter__(self):\r\n",
    "        return self\r\n",
    "    def __next__(self):\r\n",
    "        \r\n",
    "        if (self.sayı <= self.maksimum):\r\n",
    "            \r\n",
    "            sonuc =  self.sayı ** 2\r\n",
    "            self.sayı += 1\r\n",
    "            return sonuc\r\n",
    "        else:\r\n",
    "            self.sayı = 1\r\n",
    "            raise StopIteration"
   ]
  },
  {
   "cell_type": "code",
   "execution_count": 3,
   "id": "015364c9-13f1-4342-ad4c-09aa2ace0c26",
   "metadata": {},
   "outputs": [
    {
     "name": "stdout",
     "output_type": "stream",
     "text": [
      "1\n",
      "4\n",
      "9\n",
      "16\n",
      "25\n"
     ]
    }
   ],
   "source": [
    "kareler = Kareler(5)\n",
    "for i in kareler:\n",
    "    print(i)"
   ]
  },
  {
   "cell_type": "markdown",
   "id": "a5dd2fef-50f7-4bb3-a36a-21232ac36884",
   "metadata": {},
   "source": [
    "### AÇIKLAMAA:"
   ]
  },
  {
   "cell_type": "markdown",
   "id": "e52c536f-7166-4bbd-b7d3-35b53965b257",
   "metadata": {},
   "source": [
    "### 1. **Sınıf Tanımı ve Başlatılması**\n",
    "\n",
    "```python\n",
    "class Kareler():\n",
    "    def __init__(self, maksimum):\n",
    "        self.maksimum = maksimum  # Kullanıcıdan alınan maksimum değer\n",
    "        self.sayı = 1  # Başlangıç değeri 1, karelerinin hesaplanmaya başlanacağı sayı\n",
    "```\n",
    "\n",
    "- **`__init__` metodu**: Bu metod, sınıfın örneği oluşturulurken çalışır. `maksimum` parametresi sınıfın bir örneği yaratıldığında alınır ve sınıfın `maksimum` değişkenine atanır.\n",
    "  - **`self.maksimum`**: Kullanıcının belirlediği maksimum sayı, örneğin kareleri 10'a kadar almak istiyorsa, `maksimum = 10` olur.\n",
    "  - **`self.sayı`**: Bu değişken, hesaplamaya başlamak için ilk değeri (1) tutar. `sayı` her seferinde bir artırılacak ve sırasıyla her sayının karesi döndürülecek.\n",
    "\n",
    "### 2. **Iterator Özelliği**\n",
    "\n",
    "```python\n",
    "def __iter__(self):\n",
    "    return self\n",
    "```\n",
    "\n",
    "- **`__iter__` metodu**: Bu metod, sınıfı bir **iterator** yapar. Bu metod, iterator olmak isteyen bir sınıfın içinde mutlaka bulunmalıdır.\n",
    "  - Bu örnekte, `__iter__` metodu sadece `self`'i döndürüyor, yani kendisi bir iterator olarak kullanılabilir hale geliyor.\n",
    "\n",
    "### 3. **`__next__` Metodu**\n",
    "\n",
    "```python\n",
    "def __next__(self):\n",
    "    if (self.sayı <= self.maksimum):\n",
    "        sonuc =  self.sayı ** 2  # Sayının karesi hesaplanır\n",
    "        self.sayı += 1  # Sayıyı bir artır\n",
    "        return sonuc  # Karesini döndür\n",
    "    else:\n",
    "        self.sayı = 1  # Iterasyon bittiğinde sayıyı sıfırlama (isteğe bağlı)\n",
    "        raise StopIteration  # Iterasyonu durdurma\n",
    "```\n",
    "\n",
    "- **`__next__` metodu**: Bu metod her çağrıldığında iterator'dan **bir sonraki değeri döndürür**.\n",
    "  - **`if (self.sayı <= self.maksimum):`**: Bu koşul, şu anki sayının `maksimum` değerden küçük ya da ona eşit olup olmadığını kontrol eder. Eğer eşitse, o sayının karesi hesaplanır.\n",
    "  - **`sonuc = self.sayı ** 2`**: `self.sayı` değerinin karesi hesaplanır. Örneğin, ilk seferde `self.sayı = 1` olduğunda, `sonuc = 1 ** 2 = 1` olur.\n",
    "  - **`self.sayı += 1`**: `self.sayı` bir artırılır. Bu, bir sonraki kareyi hesaplamak için gerekir. Örneğin, `self.sayı` ilk başta 1, sonra 2, sonra 3 şeklinde artar.\n",
    "  - **`return sonuc`**: Hesaplanan karesini döndürür. Örneğin, 1'in karesi 1, 2'nin karesi 4 vb.\n",
    "  - **`else:`**: Eğer `self.sayı`, `maksimum` değeri geçerse, iterasyon tamamlanmış demektir. \n",
    "    - **`self.sayı = 1`**: Bu satır, iterator tekrar başlatıldığında `self.sayı`'yı 1'e sıfırlamak için kullanılır.\n",
    "    - **`raise StopIteration`**: Bu, Python'a iterasyonun sona erdiğini bildirir. `StopIteration` hatası, iterasyonun sona erdiğini belirten özel bir hata türüdür.\n",
    "\n",
    "### 4. **Örnek Kullanım**\n",
    "\n",
    "```python\n",
    "kareler = Kareler(5)  # 1'den 5'e kadar olan sayıların karelerini alacak bir iteratör\n",
    "\n",
    "# Iterator üzerinde gezinti\n",
    "for kare in kareler:\n",
    "    print(kare)  # Çıktı: 1, 4, 9, 16, 25\n",
    "```\n",
    "\n",
    "- **`kareler = Kareler(5)`**: `Kareler` sınıfının bir örneği oluşturuluyor ve `maksimum` değeri 5 olarak belirleniyor. Bu, `__init__` metodunda `self.maksimum = 5` olarak atanır.\n",
    "- **`for kare in kareler:`**: `for` döngüsü, `Kareler` sınıfının `__iter__` metodunu çağırarak, sınıfı bir iterator olarak kabul eder ve `__next__` metodunu tekrar tekrar çağırarak her seferinde bir kareyi döndürür.\n",
    "- **`print(kare)`**: Her döngü adımında, `__next__` metodu tarafından döndürülen kareyi ekrana yazdırır.\n",
    "\n",
    "### Adım Adım Çalışma:\n",
    "1. İlk adımda `self.sayı = 1` ve `self.maksimum = 5` olduğunda, `__next__` metodu 1'in karesini döndürür (1). Sonra `self.sayı` 2 olur.\n",
    "2. İkinci adımda `self.sayı = 2`, `__next__` metodu 2'nin karesini döndürür (4). Sonra `self.sayı` 3 olur.\n",
    "3. Üçüncü adımda `self.sayı = 3`, `__next__` metodu 3'ün karesini döndürür (9). Sonra `self.sayı` 4 olur.\n",
    "4. Dördüncü adımda `self.sayı = 4`, `__next__` metodu 4'ün karesini döndürür (16). Sonra `self.sayı` 5 olur.\n",
    "5. Beşinci adımda `self.sayı = 5`, `__next__` metodu 5'in karesini döndürür (25). Sonra `self.sayı` 6 olur.\n",
    "6. Sonraki adımda `self.sayı = 6` olduğunda, koşul `self.sayı <= self.maksimum` sağlanmadığı için `StopIteration` hatası fırlatılır ve iterasyon sona erer.\n",
    "\n",
    "### Özet\n",
    "- Bu sınıf, bir iterator'dır ve her çağrıldığında bir sonraki sayının karesini döndürur\n",
    "- `__iter__` ve `__next__` metodları sayesinde bu sınıf `for` döngüsünde rahatça kullanılabilir.\n",
    "- `StopIteration` hatası, tüm kareler döndürüldüğünde iterasyonun bitmesini sağlar."
   ]
  },
  {
   "cell_type": "code",
   "execution_count": null,
   "id": "be248be5-ac58-46a9-90c2-cdaea00d3327",
   "metadata": {},
   "outputs": [],
   "source": []
  }
 ],
 "metadata": {
  "kernelspec": {
   "display_name": "Python 3 (ipykernel)",
   "language": "python",
   "name": "python3"
  },
  "language_info": {
   "codemirror_mode": {
    "name": "ipython",
    "version": 3
   },
   "file_extension": ".py",
   "mimetype": "text/x-python",
   "name": "python",
   "nbconvert_exporter": "python",
   "pygments_lexer": "ipython3",
   "version": "3.12.4"
  }
 },
 "nbformat": 4,
 "nbformat_minor": 5
}
