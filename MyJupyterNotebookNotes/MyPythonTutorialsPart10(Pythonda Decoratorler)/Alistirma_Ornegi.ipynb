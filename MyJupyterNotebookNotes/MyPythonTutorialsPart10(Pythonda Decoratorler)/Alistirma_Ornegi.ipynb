{
 "cells": [
  {
   "cell_type": "code",
   "execution_count": 63,
   "id": "0e65481b-fcd2-45d3-b1bd-c1fdb0af3f79",
   "metadata": {},
   "outputs": [
    {
     "name": "stdout",
     "output_type": "stream",
     "text": [
      "Mükemmel sayılar: 6 28\n",
      "Asal sayılar: 2 3 5 7 11 13 17 19 23 29 31 37 41 43 47 53 59 61 67 71 73 79 83 89 97\n",
      "Genel Ortalama: 50.0\n"
     ]
    }
   ],
   "source": [
    "def ekstra(fonk):\n",
    "    # Decorator fonksiyonu(extra özellik)\n",
    "    def wrapper(sayılar):\n",
    "        bölenler = [] #bölenleri tutacak liste\n",
    "        bölenlerin_toplamı = 0\n",
    "        mukemmel_sayilar = []  # Mükemmel sayıları tutacak liste\n",
    "\n",
    "        # Mükemmel sayıları bulma\n",
    "        for sayı in sayılar: #gelen sayı listesi\n",
    "            toplam_bölen = 0\n",
    "            for bölen in range(1, sayı):  # 1'den başlayarak bölenleri bul\n",
    "                if sayı % bölen == 0:  # Eğer bölense\n",
    "                    toplam_bölen += bölen  # Bölenlerin toplamını ekle\n",
    "            if toplam_bölen == sayı:  # Eğer toplam bölenler sayıya eşitse\n",
    "                mukemmel_sayilar.append(sayı)  # Mükemmel sayıyı listeye ekle\n",
    "\n",
    "        print(\"Mükemmel sayılar:\", *mukemmel_sayilar)  # Mükemmel sayıları yazdır\n",
    "\n",
    "        \n",
    "        # Fonksiyonu çağırmadan önce diğer hesaplamaları yap\n",
    "        fonk(sayılar)  # Orijinal fonksiyonu çağır (ortalama_bul gibi)\n",
    "\n",
    "    return wrapper\n",
    "\n",
    "# Decorator'ı uygulayalım\n",
    "@ekstra\n",
    "def ortalamabul(sayılar):\n",
    "    toplam = 0\n",
    "    asallar = []\n",
    "    \n",
    "    for sayı in sayılar:\n",
    "        # Asal sayıları bulmak için kontrol\n",
    "        if sayı > 1:  # Asal sayı 1'den büyük olmalıdır\n",
    "            for i in range(2, sayı):  # 2'den başlayarak kontrol et\n",
    "                if sayı % i == 0:  # Eğer böleni varsa asal değildir\n",
    "                    break\n",
    "            else:  # Eğer hiç bölen bulunmazsa asal sayıdır\n",
    "                asallar.append(sayı)\n",
    "\n",
    "    print(\"Asal sayılar:\", *asallar)  # Asal sayıları yazdır\n",
    "    print(\"Genel Ortalama:\", sum(sayılar) / len(sayılar))  # Genel ortalamayı yazdır\n",
    "\n",
    "# Fonksiyonu çağırıyoruz\n",
    "ortalamabul(range(1, 100))  # 1'den 100'e kadar sayılarla hesaplama yap\n"
   ]
  },
  {
   "cell_type": "code",
   "execution_count": null,
   "id": "21a7ff57-ae00-4ab7-83e2-da764f39fa3e",
   "metadata": {},
   "outputs": [],
   "source": [
    "def ekstra(fonk):\n",
    "\n",
    "    def wrapper(sayılar): #decorator\n",
    "        çiftler_toplamı = 0\n",
    "        çift_sayılar = 0\n",
    "        tekler_toplamı = 0\n",
    "        tek_sayılar = 0\n",
    "\n",
    "        for sayı in sayılar: #fonksiyona gönderilen parametreler.\n",
    "\n",
    "            if (sayı % 2 == 0):\n",
    "\n",
    "                çiftler_toplamı += sayı\n",
    "                çift_sayılar += 1\n",
    "            else:\n",
    "                tekler_toplamı += sayı\n",
    "                tek_sayılar += 1\n",
    "        print(\"Teklerin Ortalaması:\",tekler_toplamı / tek_sayılar)\n",
    "\n",
    "        print(\"Çiftlerin Ortalaması:\",çiftler_toplamı/ çift_sayılar)\n",
    "\n",
    "        fonk(sayılar) #ortalama_bul fonksiyonunu çalıştırma.\n",
    "    return wrapper\n",
    "\n",
    "@ekstra\n",
    "def ortalamabul(sayılar):\n",
    "\n",
    "    toplam = 0\n",
    "\n",
    "    for sayı in sayılar:\n",
    "        \n",
    "        toplam += sayı\n",
    "    print(\"Genel Ortalama:\",toplam/len(sayılar))\n",
    "\n",
    "\n",
    "ortalamabul([1,2,3,4,34,60,63,32,100,105])"
   ]
  }
 ],
 "metadata": {
  "kernelspec": {
   "display_name": "Python 3 (ipykernel)",
   "language": "python",
   "name": "python3"
  },
  "language_info": {
   "codemirror_mode": {
    "name": "ipython",
    "version": 3
   },
   "file_extension": ".py",
   "mimetype": "text/x-python",
   "name": "python",
   "nbconvert_exporter": "python",
   "pygments_lexer": "ipython3",
   "version": "3.12.4"
  }
 },
 "nbformat": 4,
 "nbformat_minor": 5
}
