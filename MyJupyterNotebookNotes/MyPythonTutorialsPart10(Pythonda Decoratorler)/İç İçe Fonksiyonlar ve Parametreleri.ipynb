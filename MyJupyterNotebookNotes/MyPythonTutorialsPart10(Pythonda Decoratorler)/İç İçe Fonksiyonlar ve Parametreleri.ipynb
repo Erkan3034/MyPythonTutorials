{
 "cells": [
  {
   "cell_type": "markdown",
   "id": "92ae31a4-b724-465e-959b-df5f83ceb0c5",
   "metadata": {},
   "source": [
    "## İç İçe Fonksiyonlar ve Parametreleri"
   ]
  },
  {
   "cell_type": "markdown",
   "id": "ac432b82-db42-4a21-a3ca-393f30964b07",
   "metadata": {},
   "source": [
    "Decoratorları daha iyi anlamak için fonksiyonlara biraz daha derinlemesine bakmaya çalışalım\n",
    "\n",
    "***args** ve ****kwargs**\n",
    "\n",
    "Fonksiyonlara argüman göndermenin esnek bir şekilde yapıldığını biliyoruz. İsterseniz ilk olarak yıldızlı argümanları hatırlamaya çalışalım."
   ]
  },
  {
   "cell_type": "code",
   "execution_count": 212,
   "id": "445e1a99-849d-4195-b039-7a27a9dd1953",
   "metadata": {},
   "outputs": [],
   "source": [
    "def fonksiyon(*args): # İstediğimiz sayıda argüman gönderebiliriz\n",
    "    print(args)\n",
    "    for i in args:\n",
    "        print(i)"
   ]
  },
  {
   "cell_type": "code",
   "execution_count": 213,
   "id": "ca504262-3cce-4362-a403-281f423eb0e2",
   "metadata": {},
   "outputs": [
    {
     "name": "stdout",
     "output_type": "stream",
     "text": [
      "(4, 8, 6, 7, 9, 21, 45)\n",
      "4\n",
      "8\n",
      "6\n",
      "7\n",
      "9\n",
      "21\n",
      "45\n"
     ]
    }
   ],
   "source": [
    "fonksiyon(4,8,6,7,9,21,45)"
   ]
  },
  {
   "cell_type": "code",
   "execution_count": 214,
   "id": "af787a93-4a43-4479-915c-c3a244361ae9",
   "metadata": {},
   "outputs": [
    {
     "name": "stdout",
     "output_type": "stream",
     "text": [
      "(12, 45, 56)\n",
      "12\n",
      "45\n",
      "56\n"
     ]
    }
   ],
   "source": [
    "fonksiyon(12,45,56)"
   ]
  },
  {
   "cell_type": "code",
   "execution_count": 215,
   "id": "25437127-45f9-4802-8a01-490e9cd6c799",
   "metadata": {},
   "outputs": [],
   "source": [
    "def fonksiyon(isim,*args): \n",
    "    print(\"İsim:\",isim)\n",
    "    for i in args:\n",
    "        print(i)"
   ]
  },
  {
   "cell_type": "code",
   "execution_count": 216,
   "id": "a50727ec-282b-4215-85fe-1cbec7d38f59",
   "metadata": {},
   "outputs": [
    {
     "name": "stdout",
     "output_type": "stream",
     "text": [
      "İsim: Erkan\n",
      "4\n",
      "5\n",
      "6\n",
      "7\n",
      "8\n",
      "9\n"
     ]
    }
   ],
   "source": [
    "fonksiyon(\"Erkan\",4,5,6,7,8,9)"
   ]
  },
  {
   "cell_type": "code",
   "execution_count": 217,
   "id": "565f2720-bbc2-4537-8317-e89294d5c066",
   "metadata": {},
   "outputs": [
    {
     "name": "stdout",
     "output_type": "stream",
     "text": [
      "İsim: Murat\n",
      "1\n",
      "2\n",
      "3\n",
      "4\n",
      "5\n",
      "6\n",
      "7\n",
      "8\n"
     ]
    }
   ],
   "source": [
    "fonksiyon(\"Murat\",1,2,3,4,5,6,7,8)\n"
   ]
  },
  {
   "cell_type": "code",
   "execution_count": 218,
   "id": "2e705421-0b5c-485b-bcf8-0ca68d720e9d",
   "metadata": {},
   "outputs": [],
   "source": [
    "def fonksiyon(**kwargs):\n",
    "    print(kwargs)"
   ]
  },
  {
   "cell_type": "code",
   "execution_count": 219,
   "id": "3a02d1a9-6c23-45e9-aa23-3a3dd1a4517f",
   "metadata": {},
   "outputs": [
    {
     "name": "stdout",
     "output_type": "stream",
     "text": [
      "{'isim': 'Murat', 'soyisim': 'Coşkun', 'numara': 12345}\n"
     ]
    }
   ],
   "source": [
    "fonksiyon(isim = \"Murat\", soyisim = \"Coşkun\", numara = 12345)"
   ]
  },
  {
   "cell_type": "markdown",
   "id": "888108f0-5d04-4e33-aa3d-e7ce6a98fce7",
   "metadata": {},
   "source": [
    "📌 Dikkat edersek 2 yıldız koyarak keyword argümanlar ile (anahtar kelimeli argümanlar) fonksiyonumuzu tanımladık ve argümanlara isim vererek fonksiyonumuzu çağırdığımızda isimleri \"anahtar kelime , argüman değerlerini\" değer olarak alarak fonksiyonumuz sözlük oluşturdu. İşte keyword argümanlar bu şekilde kullanılabiliyor."
   ]
  },
  {
   "cell_type": "code",
   "execution_count": 221,
   "id": "bf969437-b7da-4a85-8e31-bbf62e3a65c5",
   "metadata": {},
   "outputs": [],
   "source": [
    "def fonksiyon(**kwargs):\n",
    "    for i,j in kwargs.items():\n",
    "        print(\"Key: \" , i , \"Value: \" , j)"
   ]
  },
  {
   "cell_type": "code",
   "execution_count": 222,
   "id": "a0d5e9a6-5528-4aa9-8283-05edd3f46929",
   "metadata": {},
   "outputs": [
    {
     "name": "stdout",
     "output_type": "stream",
     "text": [
      "Key:  isim Value:  Erkan\n",
      "\n",
      "Key:  soyisim Value:  Turgut\n",
      "\n",
      "Key:  yas Value:  21\n"
     ]
    }
   ],
   "source": [
    "fonksiyon(isim = \"Erkan\\n\" , soyisim = \"Turgut\\n\" , yas = 21) #Burda key ve value değerlerini bir arada yazıdırıyoruz."
   ]
  },
  {
   "cell_type": "markdown",
   "id": "2bc986ba-199f-4060-a646-17daf94df3e4",
   "metadata": {},
   "source": [
    "📌 Şimdi de *args ve **kwargs argümanlarının beraber kullanımına bakalım."
   ]
  },
  {
   "cell_type": "code",
   "execution_count": 224,
   "id": "7f1ec7a7-dc8f-4a9f-97f2-886b36c78eb3",
   "metadata": {},
   "outputs": [],
   "source": [
    "def fonksiyon(*args,**kwargs):\n",
    "    for i in args:\n",
    "        print(\"Argümanlar:\",i)\n",
    "    print(\"------------------------------\")\n",
    "    for i ,j in kwargs.items():\n",
    "        print(\"Argüman İsmi:\",i,\"Argüman Değeri:\",j)"
   ]
  },
  {
   "cell_type": "code",
   "execution_count": 225,
   "id": "57e090fc-d3ba-4634-8f1e-2495ee7fa3df",
   "metadata": {},
   "outputs": [
    {
     "name": "stdout",
     "output_type": "stream",
     "text": [
      "Argümanlar: 1\n",
      "Argümanlar: 2\n",
      "Argümanlar: 3\n",
      "Argümanlar: 4\n",
      "Argümanlar: 5\n",
      "Argümanlar: 6\n",
      "Argümanlar: 7\n",
      "Argümanlar: 8\n",
      "------------------------------\n",
      "Argüman İsmi: isim Argüman Değeri: Erkan\n",
      "Argüman İsmi: soyad Argüman Değeri: Turgut\n"
     ]
    }
   ],
   "source": [
    "fonksiyon(1,2,3,4,5,6,7,8 , isim = \"Erkan\" , soyad = \"Turgut\")"
   ]
  },
  {
   "cell_type": "markdown",
   "id": "830fdc79-501a-4a2e-ac3f-7fb339dd5493",
   "metadata": {},
   "source": [
    "#### 📌İç içe fonksiyonlar\n",
    "\n",
    "Pythonda fonksiyonlar da birer **\"obje\"** oldukları için hem bir tane değişkene atanabilirler, hem de başka bir fonksiyonun içinde tanımlanabilirler. Şimdi bunlara bakmaya başlayalım."
   ]
  },
  {
   "cell_type": "code",
   "execution_count": 227,
   "id": "0cf1564d-be6a-49a0-94a7-241aa5bde876",
   "metadata": {},
   "outputs": [],
   "source": [
    "def selamla(isim):\n",
    "    print(\"Selam,\",isim)"
   ]
  },
  {
   "cell_type": "code",
   "execution_count": 228,
   "id": "4b946040-7556-4960-98b5-8ec64abac9ec",
   "metadata": {},
   "outputs": [
    {
     "name": "stdout",
     "output_type": "stream",
     "text": [
      "Selam, Erkan\n"
     ]
    }
   ],
   "source": [
    "selamla(\"Erkan\")"
   ]
  },
  {
   "cell_type": "code",
   "execution_count": 229,
   "id": "c57b5ecb-f789-4896-9f77-fc0dee21fac6",
   "metadata": {},
   "outputs": [],
   "source": [
    "merhaba = selamla"
   ]
  },
  {
   "cell_type": "code",
   "execution_count": 230,
   "id": "865f65a2-3fe5-4533-9c45-d00fe0ab5f57",
   "metadata": {},
   "outputs": [
    {
     "data": {
      "text/plain": [
       "<function __main__.selamla(isim)>"
      ]
     },
     "execution_count": 230,
     "metadata": {},
     "output_type": "execute_result"
    }
   ],
   "source": [
    "merhaba # Obje tipi fonksiyon oldu."
   ]
  },
  {
   "cell_type": "code",
   "execution_count": 231,
   "id": "54171d5a-2f72-4ed4-9c21-4921b25ebba7",
   "metadata": {},
   "outputs": [
    {
     "data": {
      "text/plain": [
       "<function __main__.selamla(isim)>"
      ]
     },
     "execution_count": 231,
     "metadata": {},
     "output_type": "execute_result"
    }
   ],
   "source": [
    "selamla # Obje tipi fonksiyon"
   ]
  },
  {
   "cell_type": "code",
   "execution_count": 232,
   "id": "2867ae55-d932-4e41-b802-4c88a469ea32",
   "metadata": {},
   "outputs": [
    {
     "name": "stdout",
     "output_type": "stream",
     "text": [
      "Selam, Ayşe\n"
     ]
    }
   ],
   "source": [
    "merhaba(\"Ayşe\") # Fonksiyon olduğu için artık bu isimle de kullanabilirim."
   ]
  },
  {
   "cell_type": "code",
   "execution_count": 233,
   "id": "3bd50cd3-d2b8-404c-8236-b1e38cd0a63c",
   "metadata": {},
   "outputs": [],
   "source": [
    "del selamla # Selamla fonksiyonunu siliyoruz"
   ]
  },
  {
   "cell_type": "code",
   "execution_count": 234,
   "id": "9706cb80-959b-4399-a640-c7ae5212a159",
   "metadata": {},
   "outputs": [
    {
     "name": "stdout",
     "output_type": "stream",
     "text": [
      "Selam, Kemal\n"
     ]
    }
   ],
   "source": [
    "merhaba(\"Kemal\") # selamla objesi silinmesine rağmen merhaba objesi silinmedi."
   ]
  },
  {
   "cell_type": "markdown",
   "id": "eac048ba-c13f-4d64-8a91-5228f805bd26",
   "metadata": {},
   "source": [
    "Şimdi de isterseniz iç içe fonksiyon tanımlamayı öğrenelim."
   ]
  },
  {
   "cell_type": "code",
   "execution_count": 236,
   "id": "f4be16eb-5d19-4980-a363-769af2bc5ced",
   "metadata": {},
   "outputs": [],
   "source": [
    "def fonksiyon():\n",
    "    def fonksiyon2():\n",
    "        print(\"Küçük fonksiyondan Merhaba\")\n",
    "    print(\"Büyük fonksiyondan Merhaba\")\n",
    "    fonksiyon2() # Tanımladığım fonksiyonu kullanabilirim."
   ]
  },
  {
   "cell_type": "code",
   "execution_count": 259,
   "id": "1a8b807b-9f38-4b3e-b7df-79fe32fdc3ab",
   "metadata": {},
   "outputs": [
    {
     "name": "stdout",
     "output_type": "stream",
     "text": [
      "Büyük fonksiyondan Merhaba\n",
      "Küçük fonksiyondan Merhaba\n"
     ]
    }
   ],
   "source": [
    "fonksiyon()"
   ]
  },
  {
   "cell_type": "code",
   "execution_count": 271,
   "id": "4f53c290-d8d5-4b48-9e60-dae0f63350d3",
   "metadata": {
    "scrolled": true
   },
   "outputs": [
    {
     "ename": "NameError",
     "evalue": "name 'fonksiyon2' is not defined",
     "output_type": "error",
     "traceback": [
      "\u001b[1;31m---------------------------------------------------------------------------\u001b[0m",
      "\u001b[1;31mNameError\u001b[0m                                 Traceback (most recent call last)",
      "Cell \u001b[1;32mIn[271], line 1\u001b[0m\n\u001b[1;32m----> 1\u001b[0m fonksiyon2()\n",
      "\u001b[1;31mNameError\u001b[0m: name 'fonksiyon2' is not defined"
     ]
    }
   ],
   "source": [
    "fonksiyon2()  # Lokal bir değişken olduğu için fonksiyon() çağrısından sonra yok oldu. o yüzden çıktı hata verecek"
   ]
  },
  {
   "cell_type": "code",
   "execution_count": 282,
   "id": "3c2f368d-71ce-4c70-9dd8-fd1da852ff85",
   "metadata": {},
   "outputs": [],
   "source": [
    "def fonksiyon(*args): # args : (1,2,3,4,5,6)  (değişken sayıda parametre veriyoruz..)\n",
    "    \n",
    "    def topla(args): # (1,2,3,4,5,6)\n",
    "        toplam = 0\n",
    "        for i in args:\n",
    "            toplam += i\n",
    "        return toplam\n",
    "    \n",
    "    print(topla(args))"
   ]
  },
  {
   "cell_type": "code",
   "execution_count": 284,
   "id": "37cf4588-a34f-4f6d-9c7a-71b56d17efb1",
   "metadata": {},
   "outputs": [
    {
     "name": "stdout",
     "output_type": "stream",
     "text": [
      "21\n"
     ]
    }
   ],
   "source": [
    "fonksiyon(1,2,3,4,5,6)"
   ]
  },
  {
   "cell_type": "code",
   "execution_count": null,
   "id": "45e13d3e-226d-4ac6-a423-c4013a813dc4",
   "metadata": {},
   "outputs": [],
   "source": []
  }
 ],
 "metadata": {
  "kernelspec": {
   "display_name": "Python 3 (ipykernel)",
   "language": "python",
   "name": "python3"
  },
  "language_info": {
   "codemirror_mode": {
    "name": "ipython",
    "version": 3
   },
   "file_extension": ".py",
   "mimetype": "text/x-python",
   "name": "python",
   "nbconvert_exporter": "python",
   "pygments_lexer": "ipython3",
   "version": "3.12.4"
  }
 },
 "nbformat": 4,
 "nbformat_minor": 5
}
