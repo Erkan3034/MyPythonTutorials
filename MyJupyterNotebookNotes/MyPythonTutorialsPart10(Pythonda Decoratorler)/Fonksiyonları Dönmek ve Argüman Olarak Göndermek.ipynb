{
 "cells": [
  {
   "cell_type": "markdown",
   "id": "f008b1bc-c779-4e16-a694-223c39fc1916",
   "metadata": {},
   "source": [
    "### Fonksiyonları Dönmek ve Argüman Olarak Göndermek"
   ]
  },
  {
   "cell_type": "markdown",
   "id": "1c452ebf-b112-4ae1-8ce6-e1583f3764fe",
   "metadata": {},
   "source": [
    "Fonksiyonları **return** ile Dönmek\n",
    "\n",
    "Bir fonksiyon aynı zamanda bir obje olduğu için, bu fonksiyonu başka bir fonksiyondan return ile döndürebiliriz."
   ]
  },
  {
   "cell_type": "code",
   "execution_count": 3,
   "id": "a900622e-2208-45fc-86aa-1a6f351d74c8",
   "metadata": {},
   "outputs": [],
   "source": [
    "def fonksiyon(işlem_adı): # parametre olarak çalıştırmak istediğimiz fonksiyonun ismini veriyoruz.\n",
    "    \n",
    "    def toplama(*args): #esnek parametre sayısı\n",
    "        toplam = 0\n",
    "        for i in args:\n",
    "            toplam += i\n",
    "        return toplam\n",
    "        \n",
    "    def çarpma(*args):\n",
    "        çarpım = 1\n",
    "        for i in args:\n",
    "            çarpım *= i\n",
    "        return çarpım\n",
    "    \n",
    "    if işlem_adı == \"toplama\":\n",
    "        return toplama\n",
    "    else:\n",
    "        return çarpma"
   ]
  },
  {
   "cell_type": "code",
   "execution_count": 5,
   "id": "b35bafa6-af62-4ca3-a72f-6713d77aeede",
   "metadata": {},
   "outputs": [],
   "source": [
    "deneme = fonksiyon(\"toplama\")"
   ]
  },
  {
   "cell_type": "code",
   "execution_count": 7,
   "id": "f724c709-481d-4456-a725-d75b96b203e3",
   "metadata": {},
   "outputs": [
    {
     "data": {
      "text/plain": [
       "<function __main__.fonksiyon.<locals>.toplama(*args)>"
      ]
     },
     "execution_count": 7,
     "metadata": {},
     "output_type": "execute_result"
    }
   ],
   "source": [
    "deneme"
   ]
  },
  {
   "cell_type": "code",
   "execution_count": 13,
   "id": "cfbf2dbd-2b3b-4cf6-ad31-0a508358ca4b",
   "metadata": {},
   "outputs": [
    {
     "data": {
      "text/plain": [
       "2041"
      ]
     },
     "execution_count": 13,
     "metadata": {},
     "output_type": "execute_result"
    }
   ],
   "source": [
    "deneme(12,5,2024) # toplamak istediğimiz parametreler"
   ]
  },
  {
   "cell_type": "code",
   "execution_count": 21,
   "id": "b34b61ae-3aac-4659-a367-8d267bd8785b",
   "metadata": {},
   "outputs": [],
   "source": [
    "deneme2 = fonksiyon(\"çarpma\")"
   ]
  },
  {
   "cell_type": "code",
   "execution_count": 23,
   "id": "17e7ca5b-6fd2-4fea-b9ab-c72136c99634",
   "metadata": {},
   "outputs": [
    {
     "data": {
      "text/plain": [
       "<function __main__.fonksiyon.<locals>.çarpma(*args)>"
      ]
     },
     "execution_count": 23,
     "metadata": {},
     "output_type": "execute_result"
    }
   ],
   "source": [
    "deneme2"
   ]
  },
  {
   "cell_type": "code",
   "execution_count": 27,
   "id": "45cbc0d8-3799-4b2c-a91b-9d11a4f6d8d6",
   "metadata": {},
   "outputs": [
    {
     "data": {
      "text/plain": [
       "121440"
      ]
     },
     "execution_count": 27,
     "metadata": {},
     "output_type": "execute_result"
    }
   ],
   "source": [
    "deneme2(12,5,2024) # çarpmak istediğimiz parametreler"
   ]
  },
  {
   "cell_type": "markdown",
   "id": "969a3a00-5ebd-456f-88bf-f7d3163aa8ca",
   "metadata": {},
   "source": [
    "📌İşte bu şekilde fonksiyonlarımızı da tıpkı diğer değişkenler gibi başka bir fonksiyon içinde tanımlayıp , çağırdığımız yere dönebiliriz"
   ]
  },
  {
   "cell_type": "code",
   "execution_count": 90,
   "id": "977ab8cc-1608-42f5-8d7f-c0e88b06c8c1",
   "metadata": {},
   "outputs": [
    {
     "name": "stdin",
     "output_type": "stream",
     "text": [
      "Sayı (çıkmak için 0 girin):  4\n",
      "Sayı (çıkmak için 0 girin):  5\n",
      "Sayı (çıkmak için 0 girin):  0\n"
     ]
    },
    {
     "name": "stdout",
     "output_type": "stream",
     "text": [
      "Toplam: 9\n"
     ]
    }
   ],
   "source": [
    "def anaFonksiyon(gelen_fonksiyon):\n",
    "    def toplama(*args):\n",
    "        toplam = 0\n",
    "        for i in args:\n",
    "            toplam += i\n",
    "        return toplam\n",
    "        \n",
    "    def carpma(*args):\n",
    "        carp = 1\n",
    "        for i in args:\n",
    "            carp *= i\n",
    "        return carp\n",
    "        \n",
    "    if gelen_fonksiyon == \"toplama\":\n",
    "        return toplama\n",
    "\n",
    "    if gelen_fonksiyon == \"carpma\":\n",
    "        return carpma\n",
    "\n",
    "# Kullanım örneği - Toplama işlemi\n",
    "toplam_fonksiyonu = anaFonksiyon(\"toplama\") # toplama fonksiyonu çin kullanıcıdan parametre alaalım.\n",
    "sayilar = []  #sayıları tutacak boş liste.\n",
    "\n",
    "while True: #sıfır girilene kadar girdi alacagız\n",
    "    sayi = int(input(\"Sayı (çıkmak için 0 girin): \"))\n",
    "    if sayi == 0:\n",
    "        sonuc = toplam_fonksiyonu(*sayilar)  # Sayıları fonksiyona ileterek toplama işlemini yapıyoruz\n",
    "        print(f\"Toplam: {sonuc}\")\n",
    "        break  # Döngüyü sonlandırıyoruz\n",
    "    sayilar.append(sayi) # eger sıfır girildiyse işlemi yap ve döngüden çık. sıfır değilse eklmeye devam et.\n",
    "\n",
    "# Kullanım örneği - Çarpma işlemi\n",
    "carpim_fonksiyonu = anaFonksiyon(\"carpma\")\n",
    "sonuc2 = carpim_fonksiyonu(1, 2, 3, 4)  # 1 * 2 * 3 * 4 = 24\n",
    "#print(f\"Çarpım: {sonuc2}\")\n"
   ]
  },
  {
   "cell_type": "code",
   "execution_count": null,
   "id": "94cd3e52-f6f6-43e0-804b-e088d2cfb679",
   "metadata": {},
   "outputs": [],
   "source": []
  }
 ],
 "metadata": {
  "kernelspec": {
   "display_name": "Python 3 (ipykernel)",
   "language": "python",
   "name": "python3"
  },
  "language_info": {
   "codemirror_mode": {
    "name": "ipython",
    "version": 3
   },
   "file_extension": ".py",
   "mimetype": "text/x-python",
   "name": "python",
   "nbconvert_exporter": "python",
   "pygments_lexer": "ipython3",
   "version": "3.12.4"
  }
 },
 "nbformat": 4,
 "nbformat_minor": 5
}
