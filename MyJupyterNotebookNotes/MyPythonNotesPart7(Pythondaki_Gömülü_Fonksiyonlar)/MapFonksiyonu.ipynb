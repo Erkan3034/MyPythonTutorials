{
 "cells": [
  {
   "cell_type": "markdown",
   "id": "74db008a-8654-487a-b0d4-cfde3c43ac94",
   "metadata": {},
   "source": [
    "### Map Fonksiyonu"
   ]
  },
  {
   "cell_type": "markdown",
   "id": "ca506a29-742b-4b00-b4e3-deda11f330e0",
   "metadata": {},
   "source": [
    "Pythonda gömülü bir fonksiyon olan *map()* fonksiyonunun yapısı şu şekildedir.\n",
    "\n",
    "                map(fonksiyon,iterasyon yapılabilecek veritipi(liste,demet vb),....)\n",
    "\n",
    "*map()* fonksiyonu ilk parametre olarak bir tane fonksiyon objesi alır. (Fonksiyonlar da birer obje olduğu için başka bir fonksiyona gönderilebilir.) 2. parametre olarak da bir tane iterasyon yapılacak veritipi alarak , gönderilen fonksiyonu her bir eleman üzerinde uygulayarak sonuçları bir *map* objesi olarak döner. Örneklerimize geçersek bu fonksiyonun işlevini daha iyi anlayacağız."
   ]
  },
  {
   "cell_type": "code",
   "execution_count": 3,
   "id": "d6954feb-fee5-46e9-9de8-951daab4740e",
   "metadata": {},
   "outputs": [],
   "source": [
    "def double(x):\n",
    "    return x * 2"
   ]
  },
  {
   "cell_type": "code",
   "execution_count": 7,
   "id": "9b3fa370-b11b-4634-9b62-a09ba374916c",
   "metadata": {},
   "outputs": [
    {
     "data": {
      "text/plain": [
       "[2, 4, 6, 8, 10, 12, 14]"
      ]
     },
     "execution_count": 7,
     "metadata": {},
     "output_type": "execute_result"
    }
   ],
   "source": [
    "list(map(double,[1,2,3,4,5,6,7])) # Her elemanı double() fonksiyonu içinde işleyip yeni listeye ekler."
   ]
  },
  {
   "cell_type": "markdown",
   "id": "507f7798-84ba-4968-a198-fab69a16ccbe",
   "metadata": {},
   "source": [
    "Buradaki fonksiyonları ***lambda*** ifadeleriyle de yazabiliriz."
   ]
  },
  {
   "cell_type": "code",
   "execution_count": 11,
   "id": "43248313-a741-47a1-bd59-2664e050c828",
   "metadata": {},
   "outputs": [
    {
     "data": {
      "text/plain": [
       "[4, 16, 36, 64, 100, 144]"
      ]
     },
     "execution_count": 11,
     "metadata": {},
     "output_type": "execute_result"
    }
   ],
   "source": [
    "list(map(lambda x: x**2 , [2,4,6,8,10,12]))"
   ]
  },
  {
   "cell_type": "code",
   "execution_count": 15,
   "id": "bb5f878e-e35b-485c-9c69-4a386ff63e07",
   "metadata": {},
   "outputs": [
    {
     "data": {
      "text/plain": [
       "<map at 0x218a5056bc0>"
      ]
     },
     "execution_count": 15,
     "metadata": {},
     "output_type": "execute_result"
    }
   ],
   "source": [
    "# Map fonksiyonu birden fazla liste veya demet alabilir.\n",
    "\n",
    "liste1 = [1,2,3,4]\n",
    "liste2 = [5,6,7,8]\n",
    "liste3 = [9,10,11,12,13]\n",
    "\n",
    "map(lambda x,y : x * y , liste1,liste2) # x = liste1   ve    y = liste2"
   ]
  },
  {
   "cell_type": "code",
   "execution_count": 21,
   "id": "e7becc0c-a35f-445f-9ff3-372638b416ce",
   "metadata": {},
   "outputs": [
    {
     "data": {
      "text/plain": [
       "[5, 12, 21, 32]"
      ]
     },
     "execution_count": 21,
     "metadata": {},
     "output_type": "execute_result"
    }
   ],
   "source": [
    "list(map(lambda x,y : x*y , liste1,liste2)) # liste1 elemanı * liste2 elemanı"
   ]
  },
  {
   "cell_type": "code",
   "execution_count": 23,
   "id": "fa257fb8-5f2b-4807-b7fc-3379f744c98e",
   "metadata": {},
   "outputs": [
    {
     "data": {
      "text/plain": [
       "[45, 120, 231, 384]"
      ]
     },
     "execution_count": 23,
     "metadata": {},
     "output_type": "execute_result"
    }
   ],
   "source": [
    "list(map(lambda x,y,j : x*y*j , liste1, liste2, liste3))"
   ]
  },
  {
   "cell_type": "code",
   "execution_count": null,
   "id": "e0e8cadf-ded9-4234-93cc-8cf6dfc40c9d",
   "metadata": {},
   "outputs": [],
   "source": []
  }
 ],
 "metadata": {
  "kernelspec": {
   "display_name": "Python 3 (ipykernel)",
   "language": "python",
   "name": "python3"
  },
  "language_info": {
   "codemirror_mode": {
    "name": "ipython",
    "version": 3
   },
   "file_extension": ".py",
   "mimetype": "text/x-python",
   "name": "python",
   "nbconvert_exporter": "python",
   "pygments_lexer": "ipython3",
   "version": "3.12.4"
  }
 },
 "nbformat": 4,
 "nbformat_minor": 5
}
