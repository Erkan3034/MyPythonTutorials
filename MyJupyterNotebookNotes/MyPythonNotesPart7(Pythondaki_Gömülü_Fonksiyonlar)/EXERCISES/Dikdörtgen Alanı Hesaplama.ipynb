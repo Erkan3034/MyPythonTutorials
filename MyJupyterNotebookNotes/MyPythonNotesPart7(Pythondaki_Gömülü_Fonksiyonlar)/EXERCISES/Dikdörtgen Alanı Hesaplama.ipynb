{
 "cells": [
  {
   "cell_type": "markdown",
   "id": "1ae25a30-2e94-420e-8c77-2bcc1b17cbc4",
   "metadata": {},
   "source": [
    "Elimizde dikdörtgenin kenar uzunluk çiftlerinin olduğu bir listeyi kullanıp bu alan değerlerini sırasıyla yazan bir program yazalım."
   ]
  },
  {
   "cell_type": "code",
   "execution_count": 8,
   "id": "4794e5b0-649b-470b-afa5-8addc8ed627a",
   "metadata": {},
   "outputs": [
    {
     "name": "stdout",
     "output_type": "stream",
     "text": [
      "[15, 200, 180, 108]\n"
     ]
    }
   ],
   "source": [
    "# Önce alanı hesaplayan bir fonksiyon tanımlayalım.\n",
    "\n",
    "def hesapla(elemanlar):\n",
    "    return elemanlar[0] * elemanlar[1]\n",
    "\n",
    "liste = [(3,5), (10,20), (12,15), (9,12)]\n",
    "\n",
    "print(list(map(hesapla,liste))) # map ile sonuçları döndük"
   ]
  },
  {
   "cell_type": "code",
   "execution_count": null,
   "id": "3dc146a9-e4e1-4790-bbf8-fb0075ded9c5",
   "metadata": {},
   "outputs": [],
   "source": []
  }
 ],
 "metadata": {
  "kernelspec": {
   "display_name": "Python 3 (ipykernel)",
   "language": "python",
   "name": "python3"
  },
  "language_info": {
   "codemirror_mode": {
    "name": "ipython",
    "version": 3
   },
   "file_extension": ".py",
   "mimetype": "text/x-python",
   "name": "python",
   "nbconvert_exporter": "python",
   "pygments_lexer": "ipython3",
   "version": "3.12.4"
  }
 },
 "nbformat": 4,
 "nbformat_minor": 5
}
