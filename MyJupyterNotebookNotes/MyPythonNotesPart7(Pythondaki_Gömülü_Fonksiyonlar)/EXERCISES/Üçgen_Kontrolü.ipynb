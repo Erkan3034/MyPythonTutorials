{
 "cells": [
  {
   "cell_type": "markdown",
   "id": "f7f6d3f5-8c34-423a-aca4-4a2bb8955c6f",
   "metadata": {},
   "source": [
    "Elimizde her bir elemanı 3'lü bir demet olan bir liste olsun.\n",
    "\n",
    "     [(3,4,5),(6,8,10),(3,10,7)]\n",
    "\n",
    "Şimdi kenar uzunluklarına göre bu kenarların bir üçgen olup olmadığını dönen bir fonksiyon yazıp ve sadece üçgen belirten kenarları bulunduran listeyi ekrana yazdıralım"
   ]
  },
  {
   "cell_type": "code",
   "execution_count": 6,
   "id": "30afb8b1-4229-440f-816a-51615db8aceb",
   "metadata": {},
   "outputs": [
    {
     "name": "stdout",
     "output_type": "stream",
     "text": [
      "[(3, 4, 5), (6, 8, 10)]\n"
     ]
    }
   ],
   "source": [
    "def ucgen_mi(demet):\n",
    "    if( demet[0] + demet[1] > demet[2]  and  demet[0] + demet[2] > demet[1] and demet[1] + demet[2] > demet[0]):\n",
    "        return True\n",
    "    else:\n",
    "        return False\n",
    "\n",
    "liste = [(3,4,5),(6,8,10),(3,10,7)]\n",
    "\n",
    "sonuc = list(filter(ucgen_mi , liste)) # filter ile işleme uyan elemanları listeyelim.\n",
    "\n",
    "print(sonuc)"
   ]
  },
  {
   "cell_type": "code",
   "execution_count": null,
   "id": "245c050b-b97f-4962-845d-45b9b3a20a20",
   "metadata": {},
   "outputs": [],
   "source": []
  }
 ],
 "metadata": {
  "kernelspec": {
   "display_name": "Python 3 (ipykernel)",
   "language": "python",
   "name": "python3"
  },
  "language_info": {
   "codemirror_mode": {
    "name": "ipython",
    "version": 3
   },
   "file_extension": ".py",
   "mimetype": "text/x-python",
   "name": "python",
   "nbconvert_exporter": "python",
   "pygments_lexer": "ipython3",
   "version": "3.12.4"
  }
 },
 "nbformat": 4,
 "nbformat_minor": 5
}
