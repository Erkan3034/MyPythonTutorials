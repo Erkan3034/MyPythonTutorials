{
 "cells": [
  {
   "cell_type": "markdown",
   "id": "7b279bc8-016e-43ae-be9b-1e19a5f51e18",
   "metadata": {},
   "source": [
    "### Enumerate Fonksiyonu"
   ]
  },
  {
   "cell_type": "code",
   "execution_count": 4,
   "id": "778e7e6a-622c-47c5-acaa-58894037563b",
   "metadata": {},
   "outputs": [
    {
     "name": "stdout",
     "output_type": "stream",
     "text": [
      "[(0, 'Elma'), (1, 'Armut'), (2, 'Muz'), (3, 'Kiraz')]\n"
     ]
    }
   ],
   "source": [
    "liste = [\"Elma\",\"Armut\",\"Muz\",\"Kiraz\"]\n",
    "\n",
    "# sonucu [(0,'Elma'),(1,'Armut'),(2,'Muz'),(3,'Kiraz')] yapmak istiyoruz.\n",
    "\n",
    "sonuç = list()\n",
    "\n",
    "i = 0\n",
    "\n",
    "for a in liste:\n",
    "    \n",
    "    sonuç.append((i,a))\n",
    "    i +=1\n",
    "print(sonuç)"
   ]
  },
  {
   "cell_type": "markdown",
   "id": "5fdaf6c7-bd87-47e9-9662-b0ee8b87ecd6",
   "metadata": {},
   "source": [
    "Yani aslında burada herbir elemanı indekslerle numaralandırıyor ve demet çiftleri oluşturuyoruz. *for döngüsü* yazarken bazen hem elemanları hem de indeksleri almak isteyebiliriz. Böyle bir durumda numaralandırma işlemi yapan *enumerate* fonksiyonunu kullanabiliriz."
   ]
  },
  {
   "cell_type": "code",
   "execution_count": 9,
   "id": "5312722a-494e-403f-a1f2-25eb8e24e968",
   "metadata": {},
   "outputs": [
    {
     "data": {
      "text/plain": [
       "[(0, 'Elma'), (1, 'Armut'), (2, 'Muz'), (3, 'Kiraz')]"
      ]
     },
     "execution_count": 9,
     "metadata": {},
     "output_type": "execute_result"
    }
   ],
   "source": [
    "liste = [\"Elma\",\"Armut\",\"Muz\",\"Kiraz\"]\n",
    "list(enumerate(liste)) # Bu bize liste elemanlarını index değerileri ile beraber döndürür."
   ]
  },
  {
   "cell_type": "code",
   "execution_count": 21,
   "id": "85393cbf-c90e-4f09-b3bf-22c70233b78e",
   "metadata": {},
   "outputs": [
    {
     "name": "stdout",
     "output_type": "stream",
     "text": [
      "index: 0  Değer: a\n",
      "index: 2  Değer: c\n",
      "index: 4  Değer: e\n",
      "index: 6  Değer: g\n",
      "index: 8  Değer: j\n"
     ]
    }
   ],
   "source": [
    "# Örneğin bir listenin çift indekslerini(0,2,4) enumerate kullanarak nasıl yazdırabiliriz ? \n",
    "\n",
    "liste2 = [\"a\",\"b\",\"c\",\"d\",\"e\",\"f\",\"g\",\"h\",\"j\"]\n",
    "\n",
    "for i,j in enumerate(liste2): # i index numarasını  j ise index değerini tutar. \n",
    "    if (i % 2 == 0):\n",
    "        print(f\"index: {i}  Değer: {j}\")"
   ]
  },
  {
   "cell_type": "code",
   "execution_count": null,
   "id": "7949d7f2-a678-4de8-882a-bf3ad14cdeb8",
   "metadata": {},
   "outputs": [],
   "source": []
  }
 ],
 "metadata": {
  "kernelspec": {
   "display_name": "Python 3 (ipykernel)",
   "language": "python",
   "name": "python3"
  },
  "language_info": {
   "codemirror_mode": {
    "name": "ipython",
    "version": 3
   },
   "file_extension": ".py",
   "mimetype": "text/x-python",
   "name": "python",
   "nbconvert_exporter": "python",
   "pygments_lexer": "ipython3",
   "version": "3.12.4"
  }
 },
 "nbformat": 4,
 "nbformat_minor": 5
}
