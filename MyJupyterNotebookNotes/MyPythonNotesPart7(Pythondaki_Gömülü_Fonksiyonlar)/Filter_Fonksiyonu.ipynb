{
 "cells": [
  {
   "cell_type": "markdown",
   "id": "74142e3c-5ddc-4fce-a3f4-57e304d73995",
   "metadata": {},
   "source": [
    "### Filter Fonksiyonu"
   ]
  },
  {
   "cell_type": "markdown",
   "id": "55198d73-115e-44cb-ad4a-2fad64bd13c0",
   "metadata": {},
   "source": [
    "Bu konuda filter fonksiyonunu öğrenmeye çalışacağız.\n",
    "\n",
    "                filter(fonksiyon,iterasyon yapılabilen bir veritipi(liste vb.))\n",
    "\n",
    "filter() fonksiyonu birinci parametre olarak ***mutlaka mantıksal değer dönen (True , False)*** bir fonksiyon alır ve liste gibi veritiplerinin her bir elemanına bu fonksiyonunu uygular. *filter* sadece True sonuç çıkaran değerleri alarak bir tane *filter* objesi döner."
   ]
  },
  {
   "cell_type": "code",
   "execution_count": 4,
   "id": "4d82b21a-831b-4546-a8c9-a3f3f1039cd8",
   "metadata": {},
   "outputs": [
    {
     "data": {
      "text/plain": [
       "<filter at 0x1a803467250>"
      ]
     },
     "execution_count": 4,
     "metadata": {},
     "output_type": "execute_result"
    }
   ],
   "source": [
    "filter(lambda x : x % 2 == 0, [1,2,3,4,5,6,7,8,9,10])"
   ]
  },
  {
   "cell_type": "code",
   "execution_count": 24,
   "id": "9b1b4ccb-6ca0-4c5f-810d-dd5132d58d8e",
   "metadata": {},
   "outputs": [
    {
     "data": {
      "text/plain": [
       "[2, 4, 6, 8, 10]"
      ]
     },
     "execution_count": 24,
     "metadata": {},
     "output_type": "execute_result"
    }
   ],
   "source": [
    "list(filter(lambda x : x % 2 == 0, [1,2,3,4,5,6,7,8,9,10])) # Çift olan sayılar\n",
    "#filter ile sadece sağlanan değerleri aldık."
   ]
  },
  {
   "cell_type": "code",
   "execution_count": 22,
   "id": "a1286f2a-d325-4ad5-b7fb-8fa8c5ab7529",
   "metadata": {},
   "outputs": [
    {
     "data": {
      "text/plain": [
       "[False, True, False, True, False, True, False, True, False, True]"
      ]
     },
     "execution_count": 22,
     "metadata": {},
     "output_type": "execute_result"
    }
   ],
   "source": [
    "list(map(lambda x : x % 2 == 0, [1,2,3,4,5,6,7,8,9,10])) # Çift olan sayılar\n",
    "#map ile işlem."
   ]
  },
  {
   "cell_type": "code",
   "execution_count": 26,
   "id": "0bff48f8-bc04-4f77-af12-a5960288a872",
   "metadata": {},
   "outputs": [],
   "source": [
    "def asal_mi(x):\n",
    "    i = 2\n",
    "    if (x == 1):\n",
    "        return False # Asal değil\n",
    "    elif(x == 2):\n",
    "        return True # Asal sayı\n",
    "    else:\n",
    "        while(i < x):\n",
    "            if (x % i == 0):\n",
    "                return False # Asal Değil\n",
    "            i += 1\n",
    "    return True"
   ]
  },
  {
   "cell_type": "code",
   "execution_count": 28,
   "id": "fa7475e7-e926-47dd-89d3-92bfc7b48de3",
   "metadata": {},
   "outputs": [
    {
     "data": {
      "text/plain": [
       "False"
      ]
     },
     "execution_count": 28,
     "metadata": {},
     "output_type": "execute_result"
    }
   ],
   "source": [
    "asal_mi(15)"
   ]
  },
  {
   "cell_type": "code",
   "execution_count": 30,
   "id": "c9575327-72bd-42e6-863f-a26cb590b610",
   "metadata": {},
   "outputs": [
    {
     "data": {
      "text/plain": [
       "<filter at 0x1a8057eef50>"
      ]
     },
     "execution_count": 30,
     "metadata": {},
     "output_type": "execute_result"
    }
   ],
   "source": [
    "filter(asal_mi,range(1,100))"
   ]
  },
  {
   "cell_type": "code",
   "execution_count": 34,
   "id": "6f997ca1-5ef7-41b5-be54-9ed8ccd8a3ce",
   "metadata": {},
   "outputs": [
    {
     "data": {
      "text/plain": [
       "[2,\n",
       " 3,\n",
       " 5,\n",
       " 7,\n",
       " 11,\n",
       " 13,\n",
       " 17,\n",
       " 19,\n",
       " 23,\n",
       " 29,\n",
       " 31,\n",
       " 37,\n",
       " 41,\n",
       " 43,\n",
       " 47,\n",
       " 53,\n",
       " 59,\n",
       " 61,\n",
       " 67,\n",
       " 71,\n",
       " 73,\n",
       " 79,\n",
       " 83,\n",
       " 89,\n",
       " 97]"
      ]
     },
     "execution_count": 34,
     "metadata": {},
     "output_type": "execute_result"
    }
   ],
   "source": [
    "list(filter(asal_mi,range(1,100))) #sayılardan  asal olanları filtreledik."
   ]
  },
  {
   "cell_type": "code",
   "execution_count": null,
   "id": "51302caa-eafd-4f6b-bf87-4c3ad3086725",
   "metadata": {},
   "outputs": [],
   "source": []
  }
 ],
 "metadata": {
  "kernelspec": {
   "display_name": "Python 3 (ipykernel)",
   "language": "python",
   "name": "python3"
  },
  "language_info": {
   "codemirror_mode": {
    "name": "ipython",
    "version": 3
   },
   "file_extension": ".py",
   "mimetype": "text/x-python",
   "name": "python",
   "nbconvert_exporter": "python",
   "pygments_lexer": "ipython3",
   "version": "3.12.4"
  }
 },
 "nbformat": 4,
 "nbformat_minor": 5
}
