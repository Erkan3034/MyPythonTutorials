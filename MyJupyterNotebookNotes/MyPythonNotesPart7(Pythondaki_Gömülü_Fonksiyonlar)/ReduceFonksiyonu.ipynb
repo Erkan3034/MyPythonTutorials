{
 "cells": [
  {
   "cell_type": "markdown",
   "id": "92b31910-e686-4af9-90f6-bc3c0718038c",
   "metadata": {},
   "source": [
    "### REDUCE FONKSİYONU"
   ]
  },
  {
   "cell_type": "markdown",
   "id": "09a60e80-51d8-468e-8290-036060c1ebf4",
   "metadata": {},
   "source": [
    "Bu konuda bir diğer gömülü fonksiyonumuz olan reduce fonksiyonunu öğrenmeye çalışacağız.\n",
    "\n",
    "            reduce(function, iterasyon yapılabilen veritipi(liste vb.))\n",
    "\n",
    "*reduce() fonksiyonu* değer olarak aldığı fonksiyonu soldan başlayarak listenin ilk 2 elemanına uygular ve daha sonra çıkan sonucu listenin 3. elemanına uygular ve bu şekilde devam ederek liste bitince bir tane değer döner. Anlamak için örneğimize ve görselimize bakalım."
   ]
  },
  {
   "cell_type": "code",
   "execution_count": 3,
   "id": "f555d0f2-b54f-4a64-a01c-8019b45f4bb2",
   "metadata": {},
   "outputs": [],
   "source": [
    "from functools import reduce  # reduce fonksiyonu son sürümlerde functools modülüne taşındı."
   ]
  },
  {
   "cell_type": "code",
   "execution_count": 9,
   "id": "694528cd-47ab-4704-9e09-5dab5770d780",
   "metadata": {},
   "outputs": [
    {
     "data": {
      "text/plain": [
       "100"
      ]
     },
     "execution_count": 9,
     "metadata": {},
     "output_type": "execute_result"
    }
   ],
   "source": [
    "reduce(lambda x,y : x + y , [10,20,30,40])"
   ]
  },
  {
   "cell_type": "markdown",
   "id": "5e4f3c4a-876d-45a0-b06b-93c6b7836d61",
   "metadata": {},
   "source": [
    "Burada sonuç neden 100 çıkıyor bakalım. İlk önce 10 ve 20 değeri fonksiyona argüman olarak gidiyor ve toplanarak sonuç 30 çıkıyor. Daha sonra 30 değeriyle bir sonraki eleman olan 30 değeri toplanıyor ve sonuç 60 çıkıyor. En son 60 değeriyle listenin en son elemanı olan 40 değeri toplanıyor ve liste bittiği için sonuç 100 çıkıyor.\n",
    "\n"
   ]
  },
  {
   "cell_type": "code",
   "execution_count": 18,
   "id": "073884f4-1062-4216-bfa1-9f36e2f7f63d",
   "metadata": {},
   "outputs": [
    {
     "data": {
      "text/plain": [
       "120"
      ]
     },
     "execution_count": 18,
     "metadata": {},
     "output_type": "execute_result"
    }
   ],
   "source": [
    "# 5'in faktöriyelini bulalım.\n",
    "reduce(lambda x,y : x * y , [1,2,3,4,5])"
   ]
  },
  {
   "cell_type": "code",
   "execution_count": 20,
   "id": "48566b10-f624-468e-859d-124b0321dd96",
   "metadata": {},
   "outputs": [
    {
     "data": {
      "text/plain": [
       "600"
      ]
     },
     "execution_count": 20,
     "metadata": {},
     "output_type": "execute_result"
    }
   ],
   "source": [
    "reduce(lambda x,y : x * y , [3,4,5,10])"
   ]
  },
  {
   "cell_type": "code",
   "execution_count": 24,
   "id": "89bcaee4-4897-4f23-bbea-fcacc6d2c462",
   "metadata": {},
   "outputs": [
    {
     "data": {
      "text/plain": [
       "15"
      ]
     },
     "execution_count": 24,
     "metadata": {},
     "output_type": "execute_result"
    }
   ],
   "source": [
    "# max fonksiyonu()\n",
    "max([1,2,3,4,5,6,7,15])"
   ]
  },
  {
   "cell_type": "code",
   "execution_count": 36,
   "id": "901162e4-06b8-42f5-970d-0f62c6ecdfff",
   "metadata": {},
   "outputs": [
    {
     "name": "stdout",
     "output_type": "stream",
     "text": [
      "100\n"
     ]
    }
   ],
   "source": [
    "# Max fonksiyonuna benzer bir işlem yapacak kendi fonksiyonumuzu tanımlıyoruz\n",
    "def maksimum(x, y):\n",
    "    # İki değeri karşılaştırır ve büyük olanı döner\n",
    "    if (x > y):\n",
    "        return x\n",
    "    else:\n",
    "        return y\n",
    "\n",
    "# reduce fonksiyonu:\n",
    "# İlk iki elemanla başlar (örnek: -2 ve 1),\n",
    "# ardından sonucu bir sonraki elemanla karşılaştırarak işlemine devam eder.\n",
    "result = reduce(maksimum, [-2, 1, 100, 35, 32])\n",
    "\n",
    "# reduce işleminin adım adım çalışma mantığı:\n",
    "# İlk adım: maksimum(-2, 1) => 1\n",
    "# İkinci adım: maksimum(1, 100) => 100\n",
    "# Üçüncü adım: maksimum(100, 35) => 100\n",
    "# Dördüncü adım: maksimum(100, 32) => 100\n",
    "\n",
    "# Sonuç: 100\n",
    "print(result)  # 100\n"
   ]
  },
  {
   "cell_type": "code",
   "execution_count": null,
   "id": "8f81119b-ed64-43eb-9694-a4ac9a11ad4a",
   "metadata": {},
   "outputs": [],
   "source": []
  }
 ],
 "metadata": {
  "kernelspec": {
   "display_name": "Python 3 (ipykernel)",
   "language": "python",
   "name": "python3"
  },
  "language_info": {
   "codemirror_mode": {
    "name": "ipython",
    "version": 3
   },
   "file_extension": ".py",
   "mimetype": "text/x-python",
   "name": "python",
   "nbconvert_exporter": "python",
   "pygments_lexer": "ipython3",
   "version": "3.12.4"
  }
 },
 "nbformat": 4,
 "nbformat_minor": 5
}
