{
 "cells": [
  {
   "cell_type": "markdown",
   "id": "9044a1d8-a9ac-49b8-9438-7ac21c4c357d",
   "metadata": {},
   "source": [
    "### ALL ve ANY fonksiyonları"
   ]
  },
  {
   "cell_type": "code",
   "execution_count": 48,
   "id": "750e0f65-a135-492a-a078-f03d8c394ecb",
   "metadata": {},
   "outputs": [],
   "source": [
    "def hepsi(liste):\n",
    "    for i in liste:\n",
    "        if not i:\n",
    "            return False\n",
    "    return True\n",
    "# Bütün değerler True ise True en az birisi False ise False döndürmek istiyoruz.\n",
    "liste = [True,False,True,False,True]\n",
    "        "
   ]
  },
  {
   "cell_type": "code",
   "execution_count": 49,
   "id": "7c9914c8-4bda-4775-b790-eb4359221e57",
   "metadata": {},
   "outputs": [
    {
     "data": {
      "text/plain": [
       "False"
      ]
     },
     "execution_count": 49,
     "metadata": {},
     "output_type": "execute_result"
    }
   ],
   "source": [
    "hepsi(liste) # En az birisi False"
   ]
  },
  {
   "cell_type": "code",
   "execution_count": 50,
   "id": "cca708f6-378b-4784-a8fa-0a31299ba7af",
   "metadata": {},
   "outputs": [
    {
     "data": {
      "text/plain": [
       "True"
      ]
     },
     "execution_count": 50,
     "metadata": {},
     "output_type": "execute_result"
    }
   ],
   "source": [
    "liste = [1,2,3,4,5] # Daha önceden biliyoruz. 0' haricinde bütün sayılar True sayılmaktadır.\n",
    "\n",
    "hepsi(liste) # Hepsi True"
   ]
  },
  {
   "cell_type": "code",
   "execution_count": 51,
   "id": "aaf7f686-0635-4a1f-a96b-9ffc5957f42d",
   "metadata": {},
   "outputs": [],
   "source": [
    "def herhangi(liste):\n",
    "    for i in liste:\n",
    "        if i:\n",
    "            return True\n",
    "    return False\n",
    "# Herhangi bir değer True ise True, Hepsi False ise False döndürmek istiyoruz."
   ]
  },
  {
   "cell_type": "code",
   "execution_count": 52,
   "id": "221b35e5-be1c-4da1-84e7-04ec6f4a4ac6",
   "metadata": {},
   "outputs": [
    {
     "data": {
      "text/plain": [
       "True"
      ]
     },
     "execution_count": 52,
     "metadata": {},
     "output_type": "execute_result"
    }
   ],
   "source": [
    "liste = [True,False,True,False,True]\n",
    "herhangi(liste)"
   ]
  },
  {
   "cell_type": "code",
   "execution_count": 53,
   "id": "6f966174-d5c6-4ffd-b474-766fe0982c15",
   "metadata": {},
   "outputs": [
    {
     "data": {
      "text/plain": [
       "False"
      ]
     },
     "execution_count": 53,
     "metadata": {},
     "output_type": "execute_result"
    }
   ],
   "source": [
    "liste = [0,0,0,0,0,0,0] # Bütün değerler False , 0 = False\n",
    "herhangi(liste)"
   ]
  },
  {
   "cell_type": "code",
   "execution_count": 54,
   "id": "aefa81d0-ccad-4af1-a591-803412b4968f",
   "metadata": {},
   "outputs": [
    {
     "data": {
      "text/plain": [
       "True"
      ]
     },
     "execution_count": 54,
     "metadata": {},
     "output_type": "execute_result"
    }
   ],
   "source": [
    "liste = [0,1,0,0,0,0,0] # Bütün değerler False değil , 0 = False\n",
    "herhangi(liste)"
   ]
  },
  {
   "cell_type": "markdown",
   "id": "d079791f-16cb-4697-b015-f8098f68b85c",
   "metadata": {},
   "source": [
    "Aslında bu işlemleri ***all()*** ve ***any()*** fonksiyonları yapmaktadır. İsterseniz bunların örneklerine bakalım.\n",
    "_______________________________________________________________________________________________\n",
    "*all() fonksiyonu* bütün değerler True ise True, en az bir değer False ise False sonuç döndürür."
   ]
  },
  {
   "cell_type": "code",
   "execution_count": 56,
   "id": "1794dc34-b756-4d82-9687-8272c1e58a1d",
   "metadata": {},
   "outputs": [
    {
     "data": {
      "text/plain": [
       "False"
      ]
     },
     "execution_count": 56,
     "metadata": {},
     "output_type": "execute_result"
    }
   ],
   "source": [
    "liste = [True,False,True,False,True]\n",
    "all(liste) # Bütün değerler True değil."
   ]
  },
  {
   "cell_type": "code",
   "execution_count": 57,
   "id": "52767b3d-0220-45d1-8805-6e33a71c8ed6",
   "metadata": {},
   "outputs": [
    {
     "data": {
      "text/plain": [
       "True"
      ]
     },
     "execution_count": 57,
     "metadata": {},
     "output_type": "execute_result"
    }
   ],
   "source": [
    "liste = [1,2,3,4,5]\n",
    "all(liste)"
   ]
  },
  {
   "cell_type": "markdown",
   "id": "d26c14cd-928e-429e-9cdb-cd6ead3bb2aa",
   "metadata": {},
   "source": [
    "*any() fonksiyonu* bütün değerler False ise False, en az bir değer True ise True sonuç döndürür."
   ]
  },
  {
   "cell_type": "code",
   "execution_count": 59,
   "id": "076d3489-b4df-473a-b7b3-416da41533f8",
   "metadata": {},
   "outputs": [
    {
     "data": {
      "text/plain": [
       "True"
      ]
     },
     "execution_count": 59,
     "metadata": {},
     "output_type": "execute_result"
    }
   ],
   "source": [
    "liste = [True,False,True,False,True]\n",
    "any(liste) # En az biri True"
   ]
  },
  {
   "cell_type": "code",
   "execution_count": 60,
   "id": "824f57d7-c1d9-4862-8dd5-7d5d480bb8e0",
   "metadata": {},
   "outputs": [
    {
     "data": {
      "text/plain": [
       "False"
      ]
     },
     "execution_count": 60,
     "metadata": {},
     "output_type": "execute_result"
    }
   ],
   "source": [
    "liste = [0,0,0,0,0,0,0] # Hepsi false\n",
    "any(liste)"
   ]
  },
  {
   "cell_type": "code",
   "execution_count": null,
   "id": "46238c0a-2482-4897-acae-7fea0d342fa9",
   "metadata": {},
   "outputs": [],
   "source": []
  }
 ],
 "metadata": {
  "kernelspec": {
   "display_name": "Python 3 (ipykernel)",
   "language": "python",
   "name": "python3"
  },
  "language_info": {
   "codemirror_mode": {
    "name": "ipython",
    "version": 3
   },
   "file_extension": ".py",
   "mimetype": "text/x-python",
   "name": "python",
   "nbconvert_exporter": "python",
   "pygments_lexer": "ipython3",
   "version": "3.12.4"
  }
 },
 "nbformat": 4,
 "nbformat_minor": 5
}
