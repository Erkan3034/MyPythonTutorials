{
 "cells": [
  {
   "cell_type": "code",
   "execution_count": 14,
   "id": "8ccdf9f9-8bd7-4adb-854f-9252cee3657d",
   "metadata": {},
   "outputs": [
    {
     "name": "stdout",
     "output_type": "stream",
     "text": [
      "ZİP\n",
      "[(1, 'x'), (2, 'y'), (3, 'z')]\n"
     ]
    }
   ],
   "source": [
    "#zip()\n",
    "#Ne İşe Yarar? Birden fazla iterable'ı birleştirir ve elemanları demetler (tuple) olarak eşleştirir.\n",
    "#Kullanım:\n",
    "\n",
    "a = [1, 2, 3]\n",
    "b = ['x', 'y', 'z']\n",
    "print(\"ZİP\")\n",
    "print(list(zip(a, b)))  # [(1, 'x'), (2, 'y'), (3, 'z')]"
   ]
  },
  {
   "cell_type": "code",
   "execution_count": 16,
   "id": "1092f8bb-be33-44a3-a2be-2fe03e0a759f",
   "metadata": {},
   "outputs": [
    {
     "name": "stdout",
     "output_type": "stream",
     "text": [
      "Map\n",
      "[1, 4, 9]\n"
     ]
    }
   ],
   "source": [
    "#map()\n",
    "#Ne İşe Yarar? Bir fonksiyonu verilen iterable'ın her elemanına uygular ve sonuçları döner.\n",
    "#Kullanım:\n",
    "\n",
    "nums = [1, 2, 3]\n",
    "print(\"Map\")\n",
    "print(list(map(lambda x: x ** 2, nums)))  # [1, 4, 9]"
   ]
  },
  {
   "cell_type": "code",
   "execution_count": 18,
   "id": "b773c299-95e8-42e3-99c0-400cab9d9d2c",
   "metadata": {},
   "outputs": [
    {
     "name": "stdout",
     "output_type": "stream",
     "text": [
      "filter\n",
      "[2, 4]\n"
     ]
    }
   ],
   "source": [
    "#filter()\n",
    "#Ne İşe Yarar? Bir fonksiyona göre iterable'dan elemanları filtreler.\n",
    "#Kullanım:\n",
    "\n",
    "nums = [1, 2, 3, 4]\n",
    "print(\"filter\")\n",
    "print(list(filter(lambda x: x % 2 == 0, nums)))  # [2, 4]"
   ]
  },
  {
   "cell_type": "code",
   "execution_count": 24,
   "id": "badf7e59-c64d-4387-a1cf-305ef0ea33f2",
   "metadata": {},
   "outputs": [
    {
     "name": "stdout",
     "output_type": "stream",
     "text": [
      "enumerate\n",
      "[(0, 'apple'), (1, 'banana')]\n"
     ]
    }
   ],
   "source": [
    "#enumerate()\n",
    "#Ne İşe Yarar? Bir iterable'ın elemanlarına sıralı bir indeks atar.\n",
    "#Kullanım:\n",
    "\n",
    "fruits = ['apple', 'banana']\n",
    "print(\"enumerate\")\n",
    "print(list(enumerate(fruits)))  # [(0, 'apple'), (1, 'banana')]"
   ]
  },
  {
   "cell_type": "code",
   "execution_count": 22,
   "id": "538ab6e5-1230-4660-b927-c59952044238",
   "metadata": {},
   "outputs": [
    {
     "name": "stdout",
     "output_type": "stream",
     "text": [
      "reduce\n",
      "10\n"
     ]
    }
   ],
   "source": [
    "#reduce()\n",
    "#Ne İşe Yarar? Bir fonksiyonu kullanarak iterable'daki elemanları sırayla işler ve tek bir sonuç döner.\n",
    "\n",
    "from functools import reduce\n",
    "nums = [1, 2, 3, 4]\n",
    "print(\"reduce\")\n",
    "print(reduce(lambda x, y: x + y, nums))  # 10"
   ]
  },
  {
   "cell_type": "code",
   "execution_count": 6,
   "id": "92bd7dc4-3ff7-436f-98ef-5dad3f444cc3",
   "metadata": {},
   "outputs": [
    {
     "name": "stdout",
     "output_type": "stream",
     "text": [
      "False\n",
      "True\n"
     ]
    }
   ],
   "source": [
    "#all()\n",
    "#Ne İşe Yarar? Bir iterable'daki tüm elemanlar True ise True döner; aksi halde False.\n",
    "#Kullanım:\n",
    "\n",
    "nums = [True, True, False]\n",
    "print(all(nums))  # False\n",
    "\n",
    "\n",
    "\n",
    "# any()\n",
    "#Ne İşe Yarar? Bir iterable'da herhangi bir eleman True ise True döner; aksi halde False.\n",
    "#Kullanım:\n",
    "\n",
    "nums = [False, True, False]\n",
    "print(any(nums))  # True"
   ]
  },
  {
   "cell_type": "code",
   "execution_count": null,
   "id": "f80eb119-e39e-4386-a5e0-304aad50bfe8",
   "metadata": {},
   "outputs": [],
   "source": []
  }
 ],
 "metadata": {
  "kernelspec": {
   "display_name": "Python 3 (ipykernel)",
   "language": "python",
   "name": "python3"
  },
  "language_info": {
   "codemirror_mode": {
    "name": "ipython",
    "version": 3
   },
   "file_extension": ".py",
   "mimetype": "text/x-python",
   "name": "python",
   "nbconvert_exporter": "python",
   "pygments_lexer": "ipython3",
   "version": "3.12.4"
  }
 },
 "nbformat": 4,
 "nbformat_minor": 5
}
