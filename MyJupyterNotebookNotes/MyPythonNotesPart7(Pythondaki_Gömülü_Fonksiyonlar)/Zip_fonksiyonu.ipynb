{
 "cells": [
  {
   "cell_type": "markdown",
   "id": "637562e6-826d-4ea8-b5e8-0ebcde0db77e",
   "metadata": {},
   "source": [
    "### Zip  Fonksiyonu"
   ]
  },
  {
   "cell_type": "markdown",
   "id": "22f668eb-91c2-43e4-9a29-521c444d43d2",
   "metadata": {},
   "source": [
    "Python'daki zip() fonksiyonu, birden fazla iterable (örneğin listeler, demetler) nesnesini birleştirerek ***her birinin elemanlarını sırasıyla eşleştirir.*** Sonuç olarak bir zip objesi (bir iterator) döner. Bu objeyi genelde bir listeye veya döngüye dönüştürerek kullanırız."
   ]
  },
  {
   "cell_type": "code",
   "execution_count": 20,
   "id": "67a410ef-2bb1-4532-95cf-3f84eb845482",
   "metadata": {},
   "outputs": [
    {
     "name": "stdout",
     "output_type": "stream",
     "text": [
      "[(1, 6), (2, 7), (3, 8), (4, 9), (5, 10)]\n"
     ]
    }
   ],
   "source": [
    "liste1 = [1,2,3,4,5]\n",
    "liste2 = [6,7,8,9,10,11]\n",
    "\n",
    "# sonucu [(1,6),(2,7),(3,8),(4,9),(5,10)] yapmaya çalışalım.\n",
    "\n",
    "i = 0\n",
    "sonuç = list()\n",
    "while (i < len(liste1) and i < len(liste2)):\n",
    "    sonuç.append((liste1[i],liste2[i]))\n",
    "    \n",
    "    i +=1\n",
    "print(sonuç)"
   ]
  },
  {
   "cell_type": "markdown",
   "id": "cccc583c-0472-4c6d-8cce-d8366602c5fc",
   "metadata": {},
   "source": [
    "Bu işlemi daha kısa olarak zip() fonksiyonu ile yapabiliriz:"
   ]
  },
  {
   "cell_type": "code",
   "execution_count": 23,
   "id": "325ddf55-5e45-4194-9596-2eede6335a3d",
   "metadata": {},
   "outputs": [
    {
     "data": {
      "text/plain": [
       "[(1, 6), (2, 7), (3, 8), (4, 9), (5, 10)]"
      ]
     },
     "execution_count": 23,
     "metadata": {},
     "output_type": "execute_result"
    }
   ],
   "source": [
    "list(zip(liste1,liste2))"
   ]
  },
  {
   "cell_type": "code",
   "execution_count": 25,
   "id": "0b0b9ab5-c99e-4893-a8e3-ab6653e539a7",
   "metadata": {},
   "outputs": [
    {
     "name": "stdout",
     "output_type": "stream",
     "text": [
      "[(1, 5, 'Python'), (2, 6, 'Php'), (3, 7, 'Java'), (4, 8, 'Javascript')]\n"
     ]
    }
   ],
   "source": [
    "liste1 = [1,2,3,4]\n",
    "liste2 = [5,6,7,8]\n",
    "liste3 = [\"Python\",\"Php\",\"Java\",\"Javascript\",\"C#\"]\n",
    "\n",
    "sonuc = list(zip(liste1, liste2,liste3))\n",
    "\n",
    "print(sonuc)"
   ]
  },
  {
   "cell_type": "code",
   "execution_count": 33,
   "id": "2079cd79-17ea-41dd-87f5-0f4c95b7cc3a",
   "metadata": {},
   "outputs": [
    {
     "name": "stdout",
     "output_type": "stream",
     "text": [
      "İndex:  1 Değer:  Python\n",
      "İndex:  2 Değer:  C#\n",
      "İndex:  3 Değer:  Java\n",
      "İndex:  4 Değer:  PHP\n"
     ]
    }
   ],
   "source": [
    "# Aynı anda iki tane liste üzerinde gezinmek:\n",
    "liste3 = [1,2,3,4]\n",
    "liste4 = [\"Python\",\"C#\",\"Java\",\"PHP\"]\n",
    "\n",
    "for i,j in zip(liste3,liste4):\n",
    "    print(\"İndex: \" , i , \"Değer: \", j)"
   ]
  },
  {
   "cell_type": "code",
   "execution_count": null,
   "id": "fded47be-d7b4-427f-aad9-bb68ac3fdfa1",
   "metadata": {},
   "outputs": [],
   "source": []
  }
 ],
 "metadata": {
  "kernelspec": {
   "display_name": "Python 3 (ipykernel)",
   "language": "python",
   "name": "python3"
  },
  "language_info": {
   "codemirror_mode": {
    "name": "ipython",
    "version": 3
   },
   "file_extension": ".py",
   "mimetype": "text/x-python",
   "name": "python",
   "nbconvert_exporter": "python",
   "pygments_lexer": "ipython3",
   "version": "3.12.4"
  }
 },
 "nbformat": 4,
 "nbformat_minor": 5
}
