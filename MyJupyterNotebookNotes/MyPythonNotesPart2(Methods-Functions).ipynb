{
 "cells": [
  {
   "cell_type": "markdown",
   "id": "64b08db0-1fa0-475f-ad45-f55aeaaa87a3",
   "metadata": {},
   "source": [
    "\n",
    "Metodlar, Python'da bir \"obje üzerinde işlem yapan\", o objeye özgü fonksiyonlardır. \n",
    "\n",
    "---->Python'da her veri tipi bir obje olarak kabul edilir ve bu objelere ait çeşitli metodlar tanımlanmıştır. Bu metodlar, belirli işlemleri     gerçekleştirmek için objeler üzerinde kullanılır."
   ]
  },
  {
   "cell_type": "markdown",
   "id": "a3122c8d-90dc-46b7-9a72-5cb1b88f38fd",
   "metadata": {},
   "source": [
    "---------------------------------->LİSTE METODLARI------------------"
   ]
  },
  {
   "cell_type": "code",
   "execution_count": 5,
   "id": "47a53fce-77ed-44c2-843c-68a9ab7fea0c",
   "metadata": {},
   "outputs": [
    {
     "name": "stdout",
     "output_type": "stream",
     "text": [
      "['elma', 'muz', 'portakal', 'armut']\n",
      "['elma', 'portakal', 'armut']\n",
      "['armut', 'elma', 'portakal']\n",
      "['armut', 'elma']\n"
     ]
    }
   ],
   "source": [
    "# Liste oluşturma\n",
    "meyveler = ['elma', 'muz', 'portakal']\n",
    "\n",
    "# append() metodu: Listeye eleman ekler\n",
    "meyveler.append('armut')\n",
    "print(meyveler)  # Çıktı: ['elma', 'muz', 'portakal', 'armut']\n",
    "\n",
    "\n",
    "\n",
    "# remove() metodu: Listeden belirli bir elemanı kaldırır\n",
    "meyveler.remove('muz')\n",
    "print(meyveler)  # Çıktı: ['elma', 'portakal', 'armut']\n",
    "\n",
    "\n",
    "\n",
    "# sort() metodu: Listeyi sıralar(alfabetik veya büyüklük sıralamaya göre )\n",
    "meyveler.sort()\n",
    "print(meyveler)  # Çıktı: ['armut', 'elma', 'portakal']\n",
    "\n",
    "# pop() metodu listenin sonundaki elemanı siler.\n",
    "meyveler.pop()\n",
    "print(meyveler)"
   ]
  },
  {
   "cell_type": "code",
   "execution_count": null,
   "id": "b846c17c-22d7-4f80-acb8-5525b19d5946",
   "metadata": {},
   "outputs": [],
   "source": [
    "---------------------------------------------->String METODLARI"
   ]
  },
  {
   "cell_type": "code",
   "execution_count": 43,
   "id": "f52faab8-d67c-42ea-ba09-639f7bf5f6e6",
   "metadata": {},
   "outputs": [
    {
     "name": "stdout",
     "output_type": "stream",
     "text": [
      "MERHABA, PYTHON!\n",
      "['Merhaba', 'Python!']\n",
      "Hello, Python!\n",
      "M/e/r/h/a/b/a/,/ /P/y/t/h/o/n/!\n",
      "Merhaba,/Python!\n"
     ]
    }
   ],
   "source": [
    "# String oluşturma\n",
    "metin = \"Merhaba, Python!\"\n",
    "\n",
    "# upper() metodu: Tüm harfleri büyük yapar\n",
    "buyuk_harfli_metin = metin.upper()\n",
    "print(buyuk_harfli_metin)  # Çıktı: \"MERHABA, PYTHON!\"\n",
    "\n",
    "\n",
    "# split() metodu: Stringi belirtilen ayırıcıya göre böler ve çıktıyı bir listeye atar.\n",
    "kelimeler = metin.split(\", \")\n",
    "print(kelimeler)  # Çıktı: ['Merhaba', 'Python!']\n",
    "\n",
    "\n",
    "# replace() metodu: Belirli bir kelimeyi başka bir kelimeyle değiştirir\n",
    "yeni_metin = metin.replace(\"Merhaba\", \"Hello\")\n",
    "print(yeni_metin)  # Çıktı: \"Merhaba, Dünya!\"\n",
    "\n",
    "\n",
    "# yeni_metin2 = \"/\".join(metin) # bu kullanım kelimenşn her karakterini ayırı, sadece kelimleri ayırmak için önce metni ayırıp sonra joinle birleştireceğiz.\n",
    "# print(yeni_metin2)\n",
    "\n",
    "# Doğru kullanım\n",
    "\n",
    "yeni_metin3 = metin.split() # ['Merhaba', 'Python!']\n",
    "yeni_metin4 = \"/\".join(yeni_metin3)  # Merhaba/Python!\n",
    "print(yeni_metin4)"
   ]
  },
  {
   "cell_type": "code",
   "execution_count": null,
   "id": "78093138-3e94-4e19-83a3-766382c75f05",
   "metadata": {},
   "outputs": [],
   "source": [
    "------------------------------------------------->FONKSIYONLAR---------------------------"
   ]
  },
  {
   "cell_type": "markdown",
   "id": "750490ce-9f28-4980-af79-1fab2404d26a",
   "metadata": {},
   "source": [
    "Fonksiyon, belirli bir işlemi gerçekleştiren ve belirli bir isimle çağrılan kod bloğudur. Fonksiyonlar, kodunuzu daha okunabilir ve yönetilebilir hale getirir.\n",
    "\n",
    "--------------->FONKSİYON TANIMLAMA\n",
    "Python'da bir fonksiyon oluşturmak için \"def\" anahtar kelimesini kullanırız."
   ]
  },
  {
   "cell_type": "code",
   "execution_count": 45,
   "id": "52f7cee8-915f-4a7a-b8ef-079872ee9ed5",
   "metadata": {},
   "outputs": [
    {
     "name": "stdout",
     "output_type": "stream",
     "text": [
      "Merhaba, dünya!\n"
     ]
    }
   ],
   "source": [
    "def merhaba():\n",
    "    print(\"Merhaba, dünya!\")\n",
    "merhaba() # fonk çağırma"
   ]
  },
  {
   "cell_type": "markdown",
   "id": "510b22f2-b897-40b3-8943-68d1f89c0c27",
   "metadata": {},
   "source": [
    "------------->Parametreli Fonksiyonlar\n",
    "Fonksiyonlar, dışarıdan veri almak için parametreler alabilir. Bu, fonksiyonun farklı girişlerle çalışmasına olanak tanır."
   ]
  },
  {
   "cell_type": "code",
   "execution_count": 47,
   "id": "bcb16714-bb9d-41fe-a311-63001cb18b11",
   "metadata": {},
   "outputs": [
    {
     "name": "stdout",
     "output_type": "stream",
     "text": [
      "Merhaba, ERKAN!\n"
     ]
    }
   ],
   "source": [
    "def selamla(isim):\n",
    "    print(f\"Merhaba, {isim}!\")\n",
    "\n",
    "#çağırma\n",
    "\n",
    "selamla(\"ERKAN\")"
   ]
  },
  {
   "cell_type": "markdown",
   "id": "e0e39b26-9998-4d87-9b41-bef3a5075cbf",
   "metadata": {},
   "source": [
    "----------------------------------->Geri Dönüş Değeri Olan Fonksiyonlar\n",
    "Fonksiyonlar, işlemlerinin sonucunu \"return\" anahtar kelimesi ile döndürebilir"
   ]
  },
  {
   "cell_type": "code",
   "execution_count": 53,
   "id": "6b9fb164-e711-423a-843f-87e3e4f00dea",
   "metadata": {},
   "outputs": [
    {
     "name": "stdout",
     "output_type": "stream",
     "text": [
      "Sonuç :  833\n"
     ]
    }
   ],
   "source": [
    "def topla(a, b):\n",
    "    return a + b\n",
    "\n",
    "sonuc = topla(318, 515) #çağırma\n",
    "print(\"Sonuç : \",sonuc)  \n"
   ]
  },
  {
   "cell_type": "markdown",
   "id": "e92b4581-f85c-4494-97c3-9991fccbf2dd",
   "metadata": {},
   "source": [
    "---------------------------------------------->Lambda Fonksiyonları\n",
    "Kısa ve basit fonksiyonlar tanımlamak için \"lambda\" anahtar kelimesi kullanılır."
   ]
  },
  {
   "cell_type": "code",
   "execution_count": 51,
   "id": "4945671e-7da1-4b24-8ec0-6f9a5473c4ec",
   "metadata": {},
   "outputs": [
    {
     "name": "stdout",
     "output_type": "stream",
     "text": [
      "5\n",
      "20\n",
      "-------------------------------------\n",
      "5\n"
     ]
    }
   ],
   "source": [
    "Topla = lambda x, y: x + y # x ve y'nin toplamını tut.\n",
    "\n",
    "print(Topla(2, 3))  # Çıktı: 5\n",
    "\n",
    "\n",
    "\n",
    "Çarp = lambda a,b,c : (a+b)*c\n",
    "\n",
    "print(Çarp(2,3,4))\n",
    "\n",
    "\n",
    "print(\"-------------------------------------\")\n",
    "\n",
    "\n",
    "cıkar = lambda k,l : abs(k-l)\n",
    "\n",
    "print(cıkar(5,10))"
   ]
  },
  {
   "cell_type": "code",
   "execution_count": 59,
   "id": "f4d48759-4a07-4699-bb29-d7bf3cbc28b3",
   "metadata": {},
   "outputs": [
    {
     "name": "stdout",
     "output_type": "stream",
     "text": [
      "120\n",
      "16\n"
     ]
    }
   ],
   "source": [
    " #-------------------------->Bir Fonksiyon Kütüphanesi\n",
    "   #Aşağıda, birkaç fonksiyonu bir araya getiren basit bir kütüphane örneğği\n",
    "\n",
    "\n",
    "def faktoriyel(n):\n",
    "    if n == 0:\n",
    "        return 1\n",
    "    else:\n",
    "        return n * faktoriyel(n - 1)\n",
    "\n",
    "def kare_al(x):\n",
    "    return x ** 2\n",
    "\n",
    "# Fonksiyonları kullanma\n",
    "print(faktoriyel(5))  # Çıktı 120 \n",
    "print(kare_al(4))     # Çıktı 16"
   ]
  },
  {
   "cell_type": "code",
   "execution_count": 1,
   "id": "a888bfdc-7f82-4ea6-845d-0c262bf96c08",
   "metadata": {},
   "outputs": [
    {
     "name": "stdout",
     "output_type": "stream",
     "text": [
      "Parametreler: (1, 2, 3, 4, 5, 6, 7, 8, 9)\n",
      "45\n",
      "Parametreler: (10, 20, 30)\n",
      "60\n",
      "Parametreler: (2, 8, 9, 7, 5, 78, 95)\n",
      "204\n"
     ]
    }
   ],
   "source": [
    "def toplama(*parametreler): # Artık parametreler değişkenini bir demet gibi kullanabiliriz. (Metot overloading) istenilen mikatrda parametre işlem yapılır.\n",
    "    toplam =  0\n",
    "    print(\"Parametreler:\",parametreler)\n",
    "    for i in parametreler:\n",
    "        toplam += i\n",
    "    return toplam\n",
    "\n",
    "print(toplama(1,2,3,4,5,6,7,8,9)) # 1. parametre sayısı\n",
    "\n",
    "print(toplama(10,20,30))    #2. paramaetre sayısı\n",
    "\n",
    "print(toplama(2,8,9,7,5,78,95))\n"
   ]
  },
  {
   "cell_type": "markdown",
   "id": "2aa64486-6504-4bc2-aa35-1ab5a956f47a",
   "metadata": {},
   "source": [
    "-----------------------------------------------GLOBAL VE YEREL DEĞŞKENLER------------------------------------------"
   ]
  },
  {
   "cell_type": "markdown",
   "id": "b202822c-3db8-4b08-8e56-e5f65b20701a",
   "metadata": {},
   "source": [
    "📌Pythonda fonksiyonlarda tanımlanan değişkenler Python tarafından \"\"Yerel (Local) değişkenler\"\" olarak tanımlanırlar. \n",
    "\n",
    "---> Yani bir fonksiyon bloğunda oluşturulan değişkenler fonksiyona özgüdür ve fonksiyon çalışmasını bitirdikten sonra bu değişkenler bellekten \"\"silinir\"\" ve yok olur. Böylelikle , fonksiyon içinde tanımlanmış bir değişkene başka bir yerden erişilemez.\n",
    "\n",
    "✔️Pythonda en genel kapsama sahip değişkenler ise **Global değişkenler** olarak tanımlanırlar ve global değişkenlere tanımlandığı andan itibaren programın **her** yerinden ulaşabiliriz."
   ]
  },
  {
   "cell_type": "code",
   "execution_count": null,
   "id": "b94e65e4-4a7e-407d-aecc-ac1823e5169a",
   "metadata": {},
   "outputs": [],
   "source": [
    "def fonksiyon():\n",
    "    a = 10 # Yerel isim alanında bir değişken\n",
    "    print(a)\n",
    "\n",
    "    \n",
    "fonksiyon() \n",
    "print(a)  # a değişkeni yok oldu bu yüzden hata verir."
   ]
  },
  {
   "cell_type": "code",
   "execution_count": 34,
   "id": "a825f953-9280-451d-92e3-0f530a25aac6",
   "metadata": {},
   "outputs": [
    {
     "name": "stdout",
     "output_type": "stream",
     "text": [
      "Usage global variable 'b' in function : 225\n",
      "Usage global varianle 'b' in function2 :  + 450\n"
     ]
    }
   ],
   "source": [
    "#fakat burda genel bir değişken tanımladığımız için değişken programın her yerinden erişileblir olacaktır.\n",
    "\n",
    "b= 15\n",
    "\n",
    "def function():\n",
    "    print(f\"Usage global variable 'b' in function : {b**2}\")\n",
    "function() \n",
    "\n",
    "def function2():\n",
    "    print(f\"Usage global varianle 'b' in function2 :  + {(b*b) + (b**2)}\")\n",
    "function2()"
   ]
  },
  {
   "cell_type": "code",
   "execution_count": 36,
   "id": "edef147e-83c3-42fe-bcbf-1b8cc57815c5",
   "metadata": {},
   "outputs": [
    {
     "name": "stdout",
     "output_type": "stream",
     "text": [
      "2\n",
      "10\n"
     ]
    }
   ],
   "source": [
    "c = 10 # Globalde tanımlanmış bir değişken \n",
    "def fonksiyon():\n",
    "    c = 2 # Yerelde tanımlanmış bir değişken\n",
    "    print(c)  # Yerel değişken kullanılıyor.\n",
    "\n",
    "fonksiyon() # Fonskiyon önce yerelde değişkeni kullanır ve sonra bu değişken yok olur.\n",
    "print(c)    # yereldeki değişken kullnılıp yok olduğu için globalde aynı isimdeki değişken kullanılır bu sefer."
   ]
  },
  {
   "cell_type": "code",
   "execution_count": 41,
   "id": "66a323b6-f381-41bf-a4ef-451952eefdb7",
   "metadata": {},
   "outputs": [
    {
     "name": "stdout",
     "output_type": "stream",
     "text": [
      "4\n",
      "4\n"
     ]
    }
   ],
   "source": [
    "# bir fonksiyonda globalde tanımlanmış bir değişkeni kuullanmak  için Pythonda \"global\" ifadesi bulunmaktadır\n",
    "\n",
    "\n",
    "d = 10\n",
    "\n",
    "def fonksiyon():\n",
    "    global d\n",
    "    \n",
    "    d = 4\n",
    "    print(d)\n",
    "fonksiyon()\n",
    "print(d)  #globaldeki değişkenin değerini değiştirdik."
   ]
  },
  {
   "cell_type": "code",
   "execution_count": 43,
   "id": "f44fb2c3-2c6c-43ff-a9ac-71d165afcc5b",
   "metadata": {},
   "outputs": [
    {
     "name": "stdout",
     "output_type": "stream",
     "text": [
      "5\n",
      "5\n"
     ]
    }
   ],
   "source": [
    "#if ve while bloklarında tanımlanan değişkenler yerel bir değişken yerine global bir değişken olmaktadır.\n",
    "\n",
    "if True:\n",
    "    e=5\n",
    "    print(e)\n",
    "print(e)"
   ]
  },
  {
   "cell_type": "code",
   "execution_count": null,
   "id": "99a73703-f44d-4723-8bf7-42dc8e8e1285",
   "metadata": {},
   "outputs": [],
   "source": []
  }
 ],
 "metadata": {
  "kernelspec": {
   "display_name": "Python 3 (ipykernel)",
   "language": "python",
   "name": "python3"
  },
  "language_info": {
   "codemirror_mode": {
    "name": "ipython",
    "version": 3
   },
   "file_extension": ".py",
   "mimetype": "text/x-python",
   "name": "python",
   "nbconvert_exporter": "python",
   "pygments_lexer": "ipython3",
   "version": "3.12.4"
  }
 },
 "nbformat": 4,
 "nbformat_minor": 5
}
