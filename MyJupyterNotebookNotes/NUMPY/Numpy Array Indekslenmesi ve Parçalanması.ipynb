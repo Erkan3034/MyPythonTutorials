{
 "cells": [
  {
   "cell_type": "markdown",
   "id": "55071619-6643-4fa5-a6bb-b55dfc95f101",
   "metadata": {},
   "source": [
    "# Numpy Array Indekslenmesi ve Parçalanması"
   ]
  },
  {
   "cell_type": "code",
   "execution_count": 4,
   "id": "f4b668c7-e245-4a1d-bfba-dcb7d085ded9",
   "metadata": {},
   "outputs": [],
   "source": [
    "import numpy as np "
   ]
  },
  {
   "cell_type": "code",
   "execution_count": 16,
   "id": "ddc2cfe9-a192-4c24-9232-6e3b33003659",
   "metadata": {},
   "outputs": [],
   "source": [
    "arr = np.arange(1,10)"
   ]
  },
  {
   "cell_type": "code",
   "execution_count": 18,
   "id": "867a5cf6-80a9-4599-8abf-1e824d021b3c",
   "metadata": {},
   "outputs": [
    {
     "data": {
      "text/plain": [
       "array([1, 2, 3, 4, 5, 6, 7, 8, 9])"
      ]
     },
     "execution_count": 18,
     "metadata": {},
     "output_type": "execute_result"
    }
   ],
   "source": [
    "arr"
   ]
  },
  {
   "cell_type": "code",
   "execution_count": 22,
   "id": "a485ae00-16f5-47f8-91cd-0a8418157c24",
   "metadata": {},
   "outputs": [
    {
     "data": {
      "text/plain": [
       "3"
      ]
     },
     "execution_count": 22,
     "metadata": {},
     "output_type": "execute_result"
    }
   ],
   "source": [
    "arr[2] # 3. değer"
   ]
  },
  {
   "cell_type": "code",
   "execution_count": 24,
   "id": "e233e5a2-134c-4aae-befb-3ec7953b2881",
   "metadata": {},
   "outputs": [
    {
     "data": {
      "text/plain": [
       "4"
      ]
     },
     "execution_count": 24,
     "metadata": {},
     "output_type": "execute_result"
    }
   ],
   "source": [
    "arr[3]"
   ]
  },
  {
   "cell_type": "code",
   "execution_count": 26,
   "id": "16aade2f-71d3-4995-a34e-4e962ac1e1c2",
   "metadata": {},
   "outputs": [
    {
     "data": {
      "text/plain": [
       "array([2, 3, 4, 5])"
      ]
     },
     "execution_count": 26,
     "metadata": {},
     "output_type": "execute_result"
    }
   ],
   "source": [
    "arr[1:5] # 1 ile 5 arası index değerleri"
   ]
  },
  {
   "cell_type": "code",
   "execution_count": 30,
   "id": "676f6316-109e-4de6-bdb6-7aad6c227d47",
   "metadata": {},
   "outputs": [
    {
     "data": {
      "text/plain": [
       "array([1, 2, 3, 4])"
      ]
     },
     "execution_count": 30,
     "metadata": {},
     "output_type": "execute_result"
    }
   ],
   "source": [
    "arr[:4] # baştan 4. indexe kadar"
   ]
  },
  {
   "cell_type": "code",
   "execution_count": 34,
   "id": "2f61c0ab-9c7a-484c-bdd8-29eb6d656a39",
   "metadata": {},
   "outputs": [
    {
     "data": {
      "text/plain": [
       "array([1, 3, 5, 7, 9])"
      ]
     },
     "execution_count": 34,
     "metadata": {},
     "output_type": "execute_result"
    }
   ],
   "source": [
    "arr[::2] #baştan sona 2'şer atlayarak alır."
   ]
  },
  {
   "cell_type": "code",
   "execution_count": 36,
   "id": "64074756-ce6d-4734-bdbb-5950a78bcbc1",
   "metadata": {},
   "outputs": [
    {
     "data": {
      "text/plain": [
       "array([1, 2, 3])"
      ]
     },
     "execution_count": 36,
     "metadata": {},
     "output_type": "execute_result"
    }
   ],
   "source": [
    "arr[0:3]"
   ]
  },
  {
   "cell_type": "code",
   "execution_count": 42,
   "id": "7614804c-98f4-4e5c-9669-2118e2ae43a1",
   "metadata": {},
   "outputs": [],
   "source": [
    "arr[:3] = 25  # ilk iç değeri değiştirme"
   ]
  },
  {
   "cell_type": "code",
   "execution_count": 44,
   "id": "579942b3-009e-4ef2-85bd-bfbca09b851b",
   "metadata": {},
   "outputs": [
    {
     "data": {
      "text/plain": [
       "array([25, 25, 25,  4,  5,  6,  7,  8,  9])"
      ]
     },
     "execution_count": 44,
     "metadata": {},
     "output_type": "execute_result"
    }
   ],
   "source": [
    "arr"
   ]
  },
  {
   "cell_type": "code",
   "execution_count": 46,
   "id": "e8040ee9-a699-4805-84ae-f0a5a96e6241",
   "metadata": {},
   "outputs": [],
   "source": [
    "arr = np.arange(1,10) "
   ]
  },
  {
   "cell_type": "code",
   "execution_count": 48,
   "id": "b4823b38-ead3-418f-bcab-6808c459102c",
   "metadata": {},
   "outputs": [
    {
     "data": {
      "text/plain": [
       "array([1, 2, 3, 4, 5, 6, 7, 8, 9])"
      ]
     },
     "execution_count": 48,
     "metadata": {},
     "output_type": "execute_result"
    }
   ],
   "source": [
    "arr"
   ]
  },
  {
   "cell_type": "code",
   "execution_count": 54,
   "id": "2f088aa4-6b3d-426b-9096-21f360294204",
   "metadata": {},
   "outputs": [],
   "source": [
    "arr2 = arr # değer değiştirme(atama)"
   ]
  },
  {
   "cell_type": "code",
   "execution_count": 56,
   "id": "4b639c6a-a5b9-4aaa-9cb3-7e0de1bdf702",
   "metadata": {},
   "outputs": [
    {
     "data": {
      "text/plain": [
       "array([1, 2, 3, 4, 5, 6, 7, 8, 9])"
      ]
     },
     "execution_count": 56,
     "metadata": {},
     "output_type": "execute_result"
    }
   ],
   "source": [
    "arr2"
   ]
  },
  {
   "cell_type": "code",
   "execution_count": 58,
   "id": "9b2022d0-bb4f-402b-93c4-690e0c266822",
   "metadata": {},
   "outputs": [],
   "source": [
    "arr2[:3] = 100"
   ]
  },
  {
   "cell_type": "code",
   "execution_count": 60,
   "id": "2d8502d1-573a-40e5-9b13-23a70fdc59fe",
   "metadata": {},
   "outputs": [
    {
     "data": {
      "text/plain": [
       "array([100, 100, 100,   4,   5,   6,   7,   8,   9])"
      ]
     },
     "execution_count": 60,
     "metadata": {},
     "output_type": "execute_result"
    }
   ],
   "source": [
    "arr2"
   ]
  },
  {
   "cell_type": "code",
   "execution_count": 64,
   "id": "f9c0e23b-0c89-4c80-9bb5-a26e895f9129",
   "metadata": {},
   "outputs": [
    {
     "data": {
      "text/plain": [
       "array([100, 100, 100,   4,   5,   6,   7,   8,   9])"
      ]
     },
     "execution_count": 64,
     "metadata": {},
     "output_type": "execute_result"
    }
   ],
   "source": [
    "arr # arr2'de değer değişikliğine gittiğimiz taktirde arr'de de değerlerimiz değişmiş olacaktır."
   ]
  },
  {
   "cell_type": "code",
   "execution_count": 69,
   "id": "89c18316-8591-476b-ac10-8b336b282890",
   "metadata": {},
   "outputs": [],
   "source": [
    "arr = np.arange(1,10) "
   ]
  },
  {
   "cell_type": "code",
   "execution_count": 71,
   "id": "90b61023-c394-469b-98ff-ae432ae32930",
   "metadata": {},
   "outputs": [
    {
     "data": {
      "text/plain": [
       "array([1, 2, 3, 4, 5, 6, 7, 8, 9])"
      ]
     },
     "execution_count": 71,
     "metadata": {},
     "output_type": "execute_result"
    }
   ],
   "source": [
    "arr"
   ]
  },
  {
   "cell_type": "code",
   "execution_count": 87,
   "id": "c5283750-e531-468f-b8e9-bce14aad94a6",
   "metadata": {},
   "outputs": [],
   "source": [
    "arr2 = arr.copy() # az önceki işlemin aynısı( fakat arr2 farklı bir bellekte oluştu. Bu demek oluyor ki arr2'de yaptığımız bir değişiklik arr dizisini etkilemeyecektir"
   ]
  },
  {
   "cell_type": "code",
   "execution_count": 89,
   "id": "3f6ca92b-c1af-4252-b643-96435adf92e4",
   "metadata": {},
   "outputs": [
    {
     "data": {
      "text/plain": [
       "array([1, 2, 3, 4, 5, 6, 7, 8, 9])"
      ]
     },
     "execution_count": 89,
     "metadata": {},
     "output_type": "execute_result"
    }
   ],
   "source": [
    "arr2"
   ]
  },
  {
   "cell_type": "code",
   "execution_count": 91,
   "id": "1d32ab37-125b-437b-b3ad-b150e055930f",
   "metadata": {},
   "outputs": [],
   "source": [
    "arr2[:4 ] = 12"
   ]
  },
  {
   "cell_type": "code",
   "execution_count": 93,
   "id": "1dde9eb3-c1d2-484a-b0db-1f9c2d38bec7",
   "metadata": {},
   "outputs": [
    {
     "data": {
      "text/plain": [
       "array([12, 12, 12, 12,  5,  6,  7,  8,  9])"
      ]
     },
     "execution_count": 93,
     "metadata": {},
     "output_type": "execute_result"
    }
   ],
   "source": [
    "arr2"
   ]
  },
  {
   "cell_type": "code",
   "execution_count": 95,
   "id": "fee1829f-1f37-4e71-acd3-644073423716",
   "metadata": {},
   "outputs": [
    {
     "data": {
      "text/plain": [
       "array([1, 2, 3, 4, 5, 6, 7, 8, 9])"
      ]
     },
     "execution_count": 95,
     "metadata": {},
     "output_type": "execute_result"
    }
   ],
   "source": [
    "arr"
   ]
  },
  {
   "cell_type": "markdown",
   "id": "0b519272-ada0-4d1e-97d5-42bfe4233944",
   "metadata": {},
   "source": [
    "____"
   ]
  },
  {
   "cell_type": "code",
   "execution_count": 98,
   "id": "2b206992-3ebf-408b-98ef-b3ee940cb7ca",
   "metadata": {},
   "outputs": [],
   "source": [
    "newArray = np.arange(1,21)"
   ]
  },
  {
   "cell_type": "code",
   "execution_count": 102,
   "id": "939a880e-f506-4047-9a49-ee5ee374219a",
   "metadata": {},
   "outputs": [
    {
     "data": {
      "text/plain": [
       "array([ 1,  2,  3,  4,  5,  6,  7,  8,  9, 10, 11, 12, 13, 14, 15, 16, 17,\n",
       "       18, 19, 20])"
      ]
     },
     "execution_count": 102,
     "metadata": {},
     "output_type": "execute_result"
    }
   ],
   "source": [
    "newArray"
   ]
  },
  {
   "cell_type": "code",
   "execution_count": 108,
   "id": "7c600509-8c98-4a9d-b770-155dbaa007a7",
   "metadata": {},
   "outputs": [],
   "source": [
    "newArray = newArray.reshape(5,4) # 5'e 4'lük bir matrise çevirelim"
   ]
  },
  {
   "cell_type": "code",
   "execution_count": 110,
   "id": "a7b2d369-7e29-4e3d-958e-25deef94b857",
   "metadata": {},
   "outputs": [
    {
     "data": {
      "text/plain": [
       "array([[ 1,  2,  3,  4],\n",
       "       [ 5,  6,  7,  8],\n",
       "       [ 9, 10, 11, 12],\n",
       "       [13, 14, 15, 16],\n",
       "       [17, 18, 19, 20]])"
      ]
     },
     "execution_count": 110,
     "metadata": {},
     "output_type": "execute_result"
    }
   ],
   "source": [
    "newArray"
   ]
  },
  {
   "cell_type": "code",
   "execution_count": 118,
   "id": "f2f0779e-31ac-48b0-b1eb-c2b64e09ed7e",
   "metadata": {},
   "outputs": [],
   "source": [
    "#determinantını bulalım.\n",
    " #-> np.linalg.det(newArray) # hata alırız çinkü bu işlem için matrisimizin kare matris olması lazım"
   ]
  },
  {
   "cell_type": "code",
   "execution_count": 120,
   "id": "a175d8b1-d9c2-4e48-9df7-7915e5648029",
   "metadata": {},
   "outputs": [
    {
     "data": {
      "text/plain": [
       "1"
      ]
     },
     "execution_count": 120,
     "metadata": {},
     "output_type": "execute_result"
    }
   ],
   "source": [
    "newArray[0,0] # ilk satırın ilk elemanı"
   ]
  },
  {
   "cell_type": "code",
   "execution_count": 124,
   "id": "ee46d171-1f1a-46eb-98c9-7ac4b50cd1a6",
   "metadata": {},
   "outputs": [
    {
     "data": {
      "text/plain": [
       "array([[ 1,  2],\n",
       "       [ 5,  6],\n",
       "       [ 9, 10],\n",
       "       [13, 14],\n",
       "       [17, 18]])"
      ]
     },
     "execution_count": 124,
     "metadata": {},
     "output_type": "execute_result"
    }
   ],
   "source": [
    "#Tüm satırların ilk  iki değerini(ilk iki sütunu) alalım:\n",
    "newArray[:,:2] # satırların hepsini al , ancak sütunların sadece ilk ikisini al."
   ]
  },
  {
   "cell_type": "code",
   "execution_count": 128,
   "id": "c5a95ecb-0fa5-492a-a0e3-0d471dc5d343",
   "metadata": {},
   "outputs": [
    {
     "data": {
      "text/plain": [
       "array([[ 1,  2,  3],\n",
       "       [ 5,  6,  7],\n",
       "       [ 9, 10, 11]])"
      ]
     },
     "execution_count": 128,
     "metadata": {},
     "output_type": "execute_result"
    }
   ],
   "source": [
    "newArray[:3,:3] # ilk 3"
   ]
  },
  {
   "cell_type": "code",
   "execution_count": 132,
   "id": "021b5317-089a-40e1-bdfc-f5acf1f42ca9",
   "metadata": {},
   "outputs": [
    {
     "data": {
      "text/plain": [
       "array([[1, 2, 3, 4],\n",
       "       [5, 6, 7, 8]])"
      ]
     },
     "execution_count": 132,
     "metadata": {},
     "output_type": "execute_result"
    }
   ],
   "source": [
    "newArray[:2,:] # ilk iki satırın tüm sütunları"
   ]
  },
  {
   "cell_type": "code",
   "execution_count": 134,
   "id": "9c6fdc81-3caf-47ea-a697-94d09b1e9df8",
   "metadata": {},
   "outputs": [
    {
     "data": {
      "text/plain": [
       "array([[1, 2, 3, 4],\n",
       "       [5, 6, 7, 8]])"
      ]
     },
     "execution_count": 134,
     "metadata": {},
     "output_type": "execute_result"
    }
   ],
   "source": [
    "newArray[:2]"
   ]
  },
  {
   "cell_type": "markdown",
   "id": "80e1bd88-677d-45c8-b43e-75d3cc71ac5a",
   "metadata": {},
   "source": [
    "_____"
   ]
  },
  {
   "cell_type": "markdown",
   "id": "2706ad3e-8c58-4696-b6f8-297eac3d1a34",
   "metadata": {},
   "source": [
    "### Numpy Arraylerinin Filtrelenmesi"
   ]
  },
  {
   "cell_type": "code",
   "execution_count": 140,
   "id": "2b765d95-dfb7-4cdf-adc6-8761a922edd4",
   "metadata": {},
   "outputs": [],
   "source": [
    "arr = np.arange(1,11) "
   ]
  },
  {
   "cell_type": "code",
   "execution_count": 142,
   "id": "44805f41-21fc-4247-97bb-1dc608995047",
   "metadata": {},
   "outputs": [
    {
     "data": {
      "text/plain": [
       "array([ 1,  2,  3,  4,  5,  6,  7,  8,  9, 10])"
      ]
     },
     "execution_count": 142,
     "metadata": {},
     "output_type": "execute_result"
    }
   ],
   "source": [
    "arr"
   ]
  },
  {
   "cell_type": "code",
   "execution_count": 148,
   "id": "a6e98a91-cb1c-4221-8973-dcfe976af52b",
   "metadata": {},
   "outputs": [
    {
     "data": {
      "text/plain": [
       "array([False, False, False,  True,  True,  True,  True,  True,  True,\n",
       "        True])"
      ]
     },
     "execution_count": 148,
     "metadata": {},
     "output_type": "execute_result"
    }
   ],
   "source": [
    "arr>3 # 3'ten büyük değerlerin tru-false oluşunu kontrol edelim"
   ]
  },
  {
   "cell_type": "code",
   "execution_count": 150,
   "id": "bca6a4de-5830-45be-a8d9-16eef57ccc68",
   "metadata": {},
   "outputs": [],
   "source": [
    "boolValuesArray = arr > 3"
   ]
  },
  {
   "cell_type": "code",
   "execution_count": 156,
   "id": "9228e7fd-2f18-4707-bf95-e57aac684daf",
   "metadata": {},
   "outputs": [],
   "source": [
    "true_array = arr[boolValuesArray]"
   ]
  },
  {
   "cell_type": "code",
   "execution_count": 158,
   "id": "6568e9ba-3594-4887-992c-bde14aaa8a77",
   "metadata": {},
   "outputs": [
    {
     "data": {
      "text/plain": [
       "array([ 4,  5,  6,  7,  8,  9, 10])"
      ]
     },
     "execution_count": 158,
     "metadata": {},
     "output_type": "execute_result"
    }
   ],
   "source": [
    "true_array"
   ]
  },
  {
   "cell_type": "code",
   "execution_count": 164,
   "id": "77691e45-8f02-4b60-b923-53cb86b04034",
   "metadata": {},
   "outputs": [
    {
     "data": {
      "text/plain": [
       "array([ 6,  7,  8,  9, 10])"
      ]
     },
     "execution_count": 164,
     "metadata": {},
     "output_type": "execute_result"
    }
   ],
   "source": [
    "arr[arr > 5] # Daha kısa hali "
   ]
  },
  {
   "cell_type": "code",
   "execution_count": null,
   "id": "c2535ed5-73d5-4460-9bbc-75d659139874",
   "metadata": {},
   "outputs": [],
   "source": [
    "bv "
   ]
  }
 ],
 "metadata": {
  "kernelspec": {
   "display_name": "Python 3 (ipykernel)",
   "language": "python",
   "name": "python3"
  },
  "language_info": {
   "codemirror_mode": {
    "name": "ipython",
    "version": 3
   },
   "file_extension": ".py",
   "mimetype": "text/x-python",
   "name": "python",
   "nbconvert_exporter": "python",
   "pygments_lexer": "ipython3",
   "version": "3.12.4"
  }
 },
 "nbformat": 4,
 "nbformat_minor": 5
}
