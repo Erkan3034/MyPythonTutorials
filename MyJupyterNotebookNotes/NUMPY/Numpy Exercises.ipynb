{
 "cells": [
  {
   "cell_type": "code",
   "execution_count": 89,
   "id": "0db8a060-4dcf-470a-aaf7-540c7694ca6d",
   "metadata": {},
   "outputs": [],
   "source": [
    "import numpy as np"
   ]
  },
  {
   "cell_type": "code",
   "execution_count": 90,
   "id": "a6a635e7-340e-47ef-8d7c-828cf4ddc272",
   "metadata": {},
   "outputs": [
    {
     "data": {
      "text/plain": [
       "array([1, 1, 1, 1, 1])"
      ]
     },
     "execution_count": 90,
     "metadata": {},
     "output_type": "execute_result"
    }
   ],
   "source": [
    "# 5 tane 1 içeren array\n",
    "arr = np.ones(5) # int olarak almak istersek dtype vermemiz lazım\n",
    "arr\n",
    "arr_int = np.ones(5, dtype = int)\n",
    "arr_int"
   ]
  },
  {
   "cell_type": "code",
   "execution_count": 91,
   "id": "a66d0853-82cc-47bd-9e5f-9d820d3ca65c",
   "metadata": {},
   "outputs": [
    {
     "data": {
      "text/plain": [
       "array([0., 0., 0., 0., 0.])"
      ]
     },
     "execution_count": 91,
     "metadata": {},
     "output_type": "execute_result"
    }
   ],
   "source": [
    "# 5 tane  içeren array\n",
    "arr2 = np.zeros(5)\n",
    "arr2"
   ]
  },
  {
   "cell_type": "code",
   "execution_count": 92,
   "id": "b1ea6672-e572-4495-8950-86228384b960",
   "metadata": {},
   "outputs": [
    {
     "data": {
      "text/plain": [
       "array([  0,   2,   4,   6,   8,  10,  12,  14,  16,  18,  20,  22,  24,\n",
       "        26,  28,  30,  32,  34,  36,  38,  40,  42,  44,  46,  48,  50,\n",
       "        52,  54,  56,  58,  60,  62,  64,  66,  68,  70,  72,  74,  76,\n",
       "        78,  80,  82,  84,  86,  88,  90,  92,  94,  96,  98, 100])"
      ]
     },
     "execution_count": 92,
     "metadata": {},
     "output_type": "execute_result"
    }
   ],
   "source": [
    "# 0 - 100 arası 2'ye tam bölünen sayılar\n",
    "arr3 = np.arange(0,101,2)\n",
    "arr3"
   ]
  },
  {
   "cell_type": "code",
   "execution_count": 93,
   "id": "3400c79c-fc4c-480e-9ea5-8115bf88dbfb",
   "metadata": {},
   "outputs": [
    {
     "data": {
      "text/plain": [
       "array([ 0, 10, 20, 30, 40, 50, 60, 70, 80, 90])"
      ]
     },
     "execution_count": 93,
     "metadata": {},
     "output_type": "execute_result"
    }
   ],
   "source": [
    "arr4 = np.arange(0,100,10)\n",
    "arr4[arr4//10] # 0- 100 arası 10' tam bölünen sayılar dizisi\n",
    "arr4"
   ]
  },
  {
   "cell_type": "code",
   "execution_count": 94,
   "id": "701051ea-2c4e-4d3c-aa92-043748704267",
   "metadata": {},
   "outputs": [
    {
     "name": "stdout",
     "output_type": "stream",
     "text": [
      "[10 10 10 10 10 10 10 10 10 10]\n"
     ]
    }
   ],
   "source": [
    "# 10 tane 10 içeren bir dizi oluşturma\n",
    "arr = np.full(10,10)\n",
    "\n",
    "# Diziyi yazdır\n",
    "print(arr)"
   ]
  },
  {
   "cell_type": "code",
   "execution_count": 95,
   "id": "8284aed2-9fb9-47e4-a8af-4ec9d1bde389",
   "metadata": {},
   "outputs": [
    {
     "data": {
      "text/plain": [
       "array([[ 1,  2,  3,  4],\n",
       "       [ 5,  6,  7,  8],\n",
       "       [ 9, 10, 11, 12],\n",
       "       [13, 14, 15, 16]])"
      ]
     },
     "execution_count": 95,
     "metadata": {},
     "output_type": "execute_result"
    }
   ],
   "source": [
    "# 1'den 16'ya kadar değer bulunduran 4x4'lük bir matris \n",
    "matris_arr = np.arange(1,17)\n",
    "\n",
    "matris_arr.reshape(4,4) # matrise çevirme"
   ]
  },
  {
   "cell_type": "code",
   "execution_count": 96,
   "id": "88ac4159-6ff6-458d-9cec-f0f3c4dbe23b",
   "metadata": {},
   "outputs": [
    {
     "data": {
      "text/plain": [
       "array([[1., 0., 0., 0.],\n",
       "       [0., 1., 0., 0.],\n",
       "       [0., 0., 1., 0.],\n",
       "       [0., 0., 0., 1.]])"
      ]
     },
     "execution_count": 96,
     "metadata": {},
     "output_type": "execute_result"
    }
   ],
   "source": [
    "# 4x4'lük bir birim matris\n",
    "arr_unit_matrix = np.eye(4)\n",
    "arr_unit_matrix "
   ]
  },
  {
   "cell_type": "code",
   "execution_count": 97,
   "id": "81092eeb-571c-401e-82e6-fb4ad39be696",
   "metadata": {},
   "outputs": [
    {
     "data": {
      "text/plain": [
       "1.0"
      ]
     },
     "execution_count": 97,
     "metadata": {},
     "output_type": "execute_result"
    }
   ],
   "source": [
    "# birim matris determinantı \n",
    "np.linalg.det(arr_unit_matrix)"
   ]
  },
  {
   "cell_type": "code",
   "execution_count": 98,
   "id": "467f9ed7-fe73-4200-b7e2-8014d0da1b3e",
   "metadata": {},
   "outputs": [
    {
     "data": {
      "text/plain": [
       "array([4, 1, 1, 2, 4])"
      ]
     },
     "execution_count": 98,
     "metadata": {},
     "output_type": "execute_result"
    }
   ],
   "source": [
    "# 0 ile 5 arasında rastgele değerler \n",
    "arr_random = np.random.randint(0,6,5)\n",
    "arr_random"
   ]
  },
  {
   "cell_type": "code",
   "execution_count": 99,
   "id": "cb964c03-7e52-4bc8-805a-935096f74795",
   "metadata": {},
   "outputs": [
    {
     "data": {
      "text/plain": [
       "array([[-0.41687373,  0.10746145, -1.47329727,  1.15316586,  1.66413846],\n",
       "       [-0.96150806,  1.47777469, -1.01355993, -1.35539922, -0.27485061],\n",
       "       [ 0.60229089,  1.95715113,  0.06749627, -0.41640483,  0.1414542 ],\n",
       "       [ 0.57643755,  0.29230526,  0.96568732,  1.79696424,  0.73356195],\n",
       "       [ 0.79860502,  0.53251696, -1.24312437,  0.45295466, -0.33283918]])"
      ]
     },
     "execution_count": 99,
     "metadata": {},
     "output_type": "execute_result"
    }
   ],
   "source": [
    "#5 x 5'lik bir matrisi Gaussian Distribution'a Göre(0'ın etrafında dönme) (randn() fonksiyonu) değerler üreterek oluşturma\n",
    "arr_gaussian =  np.random.randn(5,5)\n",
    "arr_gaussian"
   ]
  },
  {
   "cell_type": "code",
   "execution_count": 100,
   "id": "26d0d856-6e1d-4002-ac21-a4f65ee53298",
   "metadata": {},
   "outputs": [
    {
     "data": {
      "text/plain": [
       "array([1.        , 1.21052632, 1.42105263, 1.63157895, 1.84210526,\n",
       "       2.05263158, 2.26315789, 2.47368421, 2.68421053, 2.89473684,\n",
       "       3.10526316, 3.31578947, 3.52631579, 3.73684211, 3.94736842,\n",
       "       4.15789474, 4.36842105, 4.57894737, 4.78947368, 5.        ])"
      ]
     },
     "execution_count": 100,
     "metadata": {},
     "output_type": "execute_result"
    }
   ],
   "source": [
    "#1 ile 5 arasındaki mesafeyi eşit parçalara bölerek 20'lik bir array oluşturma\n",
    "\n",
    "arr_mesafe_bölme = np.linspace(1,5,20)\n",
    "arr_mesafe_bölme"
   ]
  },
  {
   "cell_type": "markdown",
   "id": "2d763975-1e2f-432e-9d8e-3ad1f42ae8f5",
   "metadata": {},
   "source": [
    "______________"
   ]
  },
  {
   "cell_type": "code",
   "execution_count": 102,
   "id": "2401f8d4-5881-43b8-84ac-1a19227189f0",
   "metadata": {},
   "outputs": [],
   "source": [
    "## Array Indekslenmesi\n",
    "arr  = np.arange(1,101).reshape(10,10)"
   ]
  },
  {
   "cell_type": "code",
   "execution_count": 103,
   "id": "a77242c4-03a9-49d3-a179-290b3a8cc72a",
   "metadata": {},
   "outputs": [
    {
     "data": {
      "text/plain": [
       "array([[  1,   2,   3,   4,   5,   6,   7,   8,   9,  10],\n",
       "       [ 11,  12,  13,  14,  15,  16,  17,  18,  19,  20],\n",
       "       [ 21,  22,  23,  24,  25,  26,  27,  28,  29,  30],\n",
       "       [ 31,  32,  33,  34,  35,  36,  37,  38,  39,  40],\n",
       "       [ 41,  42,  43,  44,  45,  46,  47,  48,  49,  50],\n",
       "       [ 51,  52,  53,  54,  55,  56,  57,  58,  59,  60],\n",
       "       [ 61,  62,  63,  64,  65,  66,  67,  68,  69,  70],\n",
       "       [ 71,  72,  73,  74,  75,  76,  77,  78,  79,  80],\n",
       "       [ 81,  82,  83,  84,  85,  86,  87,  88,  89,  90],\n",
       "       [ 91,  92,  93,  94,  95,  96,  97,  98,  99, 100]])"
      ]
     },
     "execution_count": 103,
     "metadata": {},
     "output_type": "execute_result"
    }
   ],
   "source": [
    "arr"
   ]
  },
  {
   "cell_type": "code",
   "execution_count": 137,
   "id": "1ba73555-8af7-4be4-8598-dc32af9cf86c",
   "metadata": {},
   "outputs": [
    {
     "name": "stdout",
     "output_type": "stream",
     "text": [
      "[ 41  42  43  44  45  46  47  48  49  50  51  52  53  54  55  56  57  58\n",
      "  59  60  61  62  63  64  65  66  67  68  69  70  71  72  73  74  75  76\n",
      "  77  78  79  80  81  82  83  84  85  86  87  88  89  90  91  92  93  94\n",
      "  95  96  97  98  99 100]\n"
     ]
    }
   ],
   "source": [
    "#İndex işlemleri ile 40 tan sonraki sayıları yazdırma\n",
    "arr  = np.arange(1,101).reshape(10,10)\n",
    "result = arr[arr > 40]\n",
    "print(result)"
   ]
  },
  {
   "cell_type": "code",
   "execution_count": 149,
   "id": "01032b24-bf19-4cea-bf8a-92928085f1e9",
   "metadata": {},
   "outputs": [],
   "source": [
    "arr1 = ((np.random.rand(9) * 5).astype(int)).reshape(3,3)\n",
    "arr2 = ((np.random.rand(9) * 5).astype(int)).reshape(3,3)\n"
   ]
  },
  {
   "cell_type": "code",
   "execution_count": 151,
   "id": "7766e960-9a22-49a1-8431-b56c1d85f965",
   "metadata": {},
   "outputs": [
    {
     "data": {
      "text/plain": [
       "array([[2, 2, 0],\n",
       "       [2, 1, 0],\n",
       "       [0, 4, 2]])"
      ]
     },
     "execution_count": 151,
     "metadata": {},
     "output_type": "execute_result"
    }
   ],
   "source": [
    "arr1"
   ]
  },
  {
   "cell_type": "code",
   "execution_count": 153,
   "id": "6ad2b558-2fa6-42fb-9030-9b2a32de7711",
   "metadata": {},
   "outputs": [
    {
     "data": {
      "text/plain": [
       "array([[2, 0, 3],\n",
       "       [3, 4, 4],\n",
       "       [0, 3, 2]])"
      ]
     },
     "execution_count": 153,
     "metadata": {},
     "output_type": "execute_result"
    }
   ],
   "source": [
    "arr2"
   ]
  },
  {
   "cell_type": "code",
   "execution_count": 158,
   "id": "3bac4024-d5bf-4e6e-8035-54203a1ecd02",
   "metadata": {},
   "outputs": [
    {
     "data": {
      "text/plain": [
       "13"
      ]
     },
     "execution_count": 158,
     "metadata": {},
     "output_type": "execute_result"
    }
   ],
   "source": [
    "arr1.sum()"
   ]
  },
  {
   "cell_type": "code",
   "execution_count": 160,
   "id": "4e107c5d-d25b-4719-bd6f-812e991f2d5e",
   "metadata": {},
   "outputs": [
    {
     "data": {
      "text/plain": [
       "1.4444444444444444"
      ]
     },
     "execution_count": 160,
     "metadata": {},
     "output_type": "execute_result"
    }
   ],
   "source": [
    "arr1.mean()"
   ]
  },
  {
   "cell_type": "code",
   "execution_count": 162,
   "id": "f2d70e01-de96-416b-8eb2-8e790b53aece",
   "metadata": {},
   "outputs": [
    {
     "data": {
      "text/plain": [
       "array([[ 4,  0,  0],\n",
       "       [ 6,  4,  0],\n",
       "       [ 0, 12,  4]])"
      ]
     },
     "execution_count": 162,
     "metadata": {},
     "output_type": "execute_result"
    }
   ],
   "source": [
    "arr1*arr2"
   ]
  },
  {
   "cell_type": "code",
   "execution_count": null,
   "id": "cb5c6d43-c9c2-4f02-9c1a-041808f6f71c",
   "metadata": {},
   "outputs": [],
   "source": []
  }
 ],
 "metadata": {
  "kernelspec": {
   "display_name": "Python 3 (ipykernel)",
   "language": "python",
   "name": "python3"
  },
  "language_info": {
   "codemirror_mode": {
    "name": "ipython",
    "version": 3
   },
   "file_extension": ".py",
   "mimetype": "text/x-python",
   "name": "python",
   "nbconvert_exporter": "python",
   "pygments_lexer": "ipython3",
   "version": "3.12.4"
  }
 },
 "nbformat": 4,
 "nbformat_minor": 5
}
