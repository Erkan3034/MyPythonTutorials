{
 "cells": [
  {
   "cell_type": "markdown",
   "id": "eb6fe6b0-e5bc-4eb0-9733-5de1a1f68bf6",
   "metadata": {},
   "source": [
    "# Numpy Array Oluşturma Yöntemleri"
   ]
  },
  {
   "cell_type": "markdown",
   "id": "9f29788c-b482-4657-891d-022bf2acc744",
   "metadata": {},
   "source": [
    "📌NumPy, Python programlama dilinde yüksek performanslı sayısal işlemler yapmak için kullanılan bir açık kaynak kütüphanesidir. \"Numerical Python\" ifadesinin kısaltması olan NumPy, çok boyutlu diziler (ndarray) ve matrisler üzerinde çalışmayı kolaylaştıran çeşitli matematiksel işlevler sunar. Aşağıda NumPy'nin temel özellikleri ve yapısı özetlenmiştir.\n",
    "\n",
    "`NumPy'nin Temel Özellikleri:`\n",
    "\n",
    "**Çok Boyutlu Diziler:** NumPy, homojen veri türlerine sahip çok boyutlu diziler oluşturmanıza olanak tanır. Bu diziler, Python'un standart listelerinden daha hızlı ve verimlidir\n",
    "\n",
    "**Matematiksel İşlemler:** NumPy, matris çarpımı, transpozisyon, determinant hesaplama gibi birçok matematiksel işlemi destekler. Bu işlemler, özellikle bilimsel ve mühendislik hesaplamalarında yaygın olarak kullanılır\n",
    "\n",
    "**Rastgele Sayı Üretimi:** NumPy, rastgele sayı üretimi için yerleşik fonksiyonlar sunar. Bu özellik, simülasyon ve veri analizi gibi alanlarda faydalıdır.\n",
    "\n",
    "İstatistiksel Analiz: Büyük veri setlerinde istatistiksel analiz yapmayı kolaylaştırır. NumPy ile verilerinizi hızlı bir şekilde analiz edebilir ve istatistiksel hesaplamalar gerçekleştirebilirsinzi\n",
    "\n",
    "**NumPy Yapısı:**\n",
    "\n",
    "NumPy'nin en önemli bileşeni ndarray (n-boyutlu dizi) veri yapısıdır. Bu yapı, bellekte sürekli bir alan kaplar ve tüm elemanları aynı veri tipine sahiptir. Bu özellik, NumPy'nin hızlı işlem yapabilmesini sağlar"
   ]
  },
  {
   "cell_type": "markdown",
   "id": "80ea4fd8-ed55-4b42-8fae-98486000a859",
   "metadata": {},
   "source": [
    "_____"
   ]
  },
  {
   "cell_type": "code",
   "execution_count": 6,
   "id": "ac6ba88e-cb12-479a-abad-c453b044c998",
   "metadata": {},
   "outputs": [],
   "source": [
    "data_list = [1,2,3]"
   ]
  },
  {
   "cell_type": "code",
   "execution_count": 7,
   "id": "d4db35d3-f7e7-47a0-a37a-e19763f9d043",
   "metadata": {},
   "outputs": [
    {
     "data": {
      "text/plain": [
       "[1, 2, 3]"
      ]
     },
     "execution_count": 7,
     "metadata": {},
     "output_type": "execute_result"
    }
   ],
   "source": [
    "data_list"
   ]
  },
  {
   "cell_type": "code",
   "execution_count": 8,
   "id": "db68e14c-9224-4a1a-9f07-d7eadc0498f7",
   "metadata": {},
   "outputs": [],
   "source": [
    "import numpy as np"
   ]
  },
  {
   "cell_type": "code",
   "execution_count": 9,
   "id": "e0757e6d-b1be-4bd9-aded-2eb1568c72fa",
   "metadata": {},
   "outputs": [],
   "source": [
    "arr = np.array(data_list) # np arrayi "
   ]
  },
  {
   "cell_type": "code",
   "execution_count": 10,
   "id": "20a39a13-818c-4ab8-9ae6-5186572f52f3",
   "metadata": {},
   "outputs": [
    {
     "data": {
      "text/plain": [
       "array([1, 2, 3])"
      ]
     },
     "execution_count": 10,
     "metadata": {},
     "output_type": "execute_result"
    }
   ],
   "source": [
    "arr #tek boyutlu "
   ]
  },
  {
   "cell_type": "code",
   "execution_count": 11,
   "id": "15e0ee75-1050-46d2-a6e1-795c3adf0e4b",
   "metadata": {},
   "outputs": [],
   "source": [
    "data_list2 = [[10,20,30],[40,50,60],[70,80,90]]"
   ]
  },
  {
   "cell_type": "code",
   "execution_count": 12,
   "id": "f7e3c8da-7237-483f-af67-60bd00e5ec6b",
   "metadata": {},
   "outputs": [],
   "source": [
    "arr2 = np.array(data_list2) # ççok boyutlu dizi( 3 * 3 matris )"
   ]
  },
  {
   "cell_type": "code",
   "execution_count": 13,
   "id": "2905397d-66fc-41cc-b1ed-83420899c03c",
   "metadata": {},
   "outputs": [
    {
     "data": {
      "text/plain": [
       "array([[10, 20, 30],\n",
       "       [40, 50, 60],\n",
       "       [70, 80, 90]])"
      ]
     },
     "execution_count": 13,
     "metadata": {},
     "output_type": "execute_result"
    }
   ],
   "source": [
    "arr2"
   ]
  },
  {
   "cell_type": "code",
   "execution_count": 14,
   "id": "31c78e2b-b737-43aa-b1ec-d400eb220ad4",
   "metadata": {},
   "outputs": [],
   "source": [
    "arr3 = np.array([1,2,3,4,5,6]) # alternatif tanımlama şekli "
   ]
  },
  {
   "cell_type": "code",
   "execution_count": 15,
   "id": "8de2b994-e9ed-4dce-9e03-67f58341d439",
   "metadata": {},
   "outputs": [
    {
     "data": {
      "text/plain": [
       "array([1, 2, 3, 4, 5, 6])"
      ]
     },
     "execution_count": 15,
     "metadata": {},
     "output_type": "execute_result"
    }
   ],
   "source": [
    "arr3"
   ]
  },
  {
   "cell_type": "code",
   "execution_count": 16,
   "id": "5e52ded5-a8ef-4f38-bc85-333a4faa1773",
   "metadata": {},
   "outputs": [
    {
     "data": {
      "text/plain": [
       "4"
      ]
     },
     "execution_count": 16,
     "metadata": {},
     "output_type": "execute_result"
    }
   ],
   "source": [
    "arr3[3] # belirli indexe ulaşma"
   ]
  },
  {
   "cell_type": "code",
   "execution_count": 17,
   "id": "c22f2afa-5487-45a3-a70f-7074a3fd337c",
   "metadata": {},
   "outputs": [
    {
     "data": {
      "text/plain": [
       "90"
      ]
     },
     "execution_count": 17,
     "metadata": {},
     "output_type": "execute_result"
    }
   ],
   "source": [
    "arr2[2][2] # istenilen değere ulaşma\n",
    "#arr2[2,2]   # aynı sonucu verir"
   ]
  },
  {
   "cell_type": "code",
   "execution_count": 18,
   "id": "d0444389-8bb1-4ef6-a077-2b83b3fb723d",
   "metadata": {},
   "outputs": [
    {
     "data": {
      "text/plain": [
       "array([10, 11, 12, 13, 14, 15, 16, 17, 18, 19])"
      ]
     },
     "execution_count": 18,
     "metadata": {},
     "output_type": "execute_result"
    }
   ],
   "source": [
    "#range kullanımı \n",
    "\n",
    "np.arange(10,20) #10 - 20 arası sayı yazdırır"
   ]
  },
  {
   "cell_type": "code",
   "execution_count": 19,
   "id": "1be65716-d557-41fb-846d-4da04ad2eda5",
   "metadata": {},
   "outputs": [
    {
     "data": {
      "text/plain": [
       "array([ 0,  3,  6,  9, 12, 15, 18, 21, 24, 27, 30, 33, 36, 39, 42, 45, 48,\n",
       "       51, 54, 57, 60, 63, 66, 69, 72, 75, 78, 81, 84, 87, 90, 93, 96, 99])"
      ]
     },
     "execution_count": 19,
     "metadata": {},
     "output_type": "execute_result"
    }
   ],
   "source": [
    "np.arange(0,100,3) #3er 3er atlayarak yazar."
   ]
  },
  {
   "cell_type": "code",
   "execution_count": 20,
   "id": "a1a60ea8-1b3a-46b6-b003-56bfcf2c4766",
   "metadata": {},
   "outputs": [
    {
     "data": {
      "text/plain": [
       "array([0., 0., 0., 0., 0., 0., 0., 0., 0., 0.])"
      ]
     },
     "execution_count": 20,
     "metadata": {},
     "output_type": "execute_result"
    }
   ],
   "source": [
    "np.zeros(10) #0 ile depolanmış 10 elemanlık array"
   ]
  },
  {
   "cell_type": "code",
   "execution_count": 21,
   "id": "feaa1aed-7d88-40b9-94f3-92af1e8a7ae6",
   "metadata": {},
   "outputs": [
    {
     "data": {
      "text/plain": [
       "array([1., 1., 1., 1., 1., 1., 1., 1., 1., 1., 1., 1., 1., 1., 1., 1., 1.,\n",
       "       1., 1., 1.])"
      ]
     },
     "execution_count": 21,
     "metadata": {},
     "output_type": "execute_result"
    }
   ],
   "source": [
    "np.ones(20)  #1 ile depolanmış 20 elemanlık array (float)"
   ]
  },
  {
   "cell_type": "code",
   "execution_count": 22,
   "id": "a803eeb2-b784-4e51-8786-771639dd961f",
   "metadata": {},
   "outputs": [
    {
     "data": {
      "text/plain": [
       "array([[0., 0.],\n",
       "       [0., 0.]])"
      ]
     },
     "execution_count": 22,
     "metadata": {},
     "output_type": "execute_result"
    }
   ],
   "source": [
    "np.zeros((2,2)) #matrise(çok boyutlu dizi) değer verdirme"
   ]
  },
  {
   "cell_type": "markdown",
   "id": "65f66a12-0f1d-4da6-a902-1c1774d77689",
   "metadata": {},
   "source": [
    "np.ones((3,5))"
   ]
  },
  {
   "cell_type": "code",
   "execution_count": 24,
   "id": "deca31b3-8505-42a7-b4a4-e53f9106c663",
   "metadata": {},
   "outputs": [
    {
     "data": {
      "text/plain": [
       "array([  0.,  25.,  50.,  75., 100.])"
      ]
     },
     "execution_count": 24,
     "metadata": {},
     "output_type": "execute_result"
    }
   ],
   "source": [
    "np.linspace(0,100,5) # 0 - 100 arasını 5 eşit değere bölüp depola"
   ]
  },
  {
   "cell_type": "code",
   "execution_count": 25,
   "id": "7bf77760-6ef6-46b2-89fb-0cb241b3cc4a",
   "metadata": {},
   "outputs": [
    {
     "data": {
      "text/plain": [
       "array([0.        , 0.11111111, 0.22222222, 0.33333333, 0.44444444,\n",
       "       0.55555556, 0.66666667, 0.77777778, 0.88888889, 1.        ])"
      ]
     },
     "execution_count": 25,
     "metadata": {},
     "output_type": "execute_result"
    }
   ],
   "source": [
    "np.linspace(0,1,10) #0-1 arasını 10 parçaya böl"
   ]
  },
  {
   "cell_type": "markdown",
   "id": "061de17a-6010-4f2c-bed2-ebac70a9319d",
   "metadata": {},
   "source": [
    "#### BİRİM MATRİS:"
   ]
  },
  {
   "cell_type": "markdown",
   "id": "5b58ab38-5a8e-49d9-a411-77a69376732f",
   "metadata": {},
   "source": [
    "Birim matris, ana köşegenindeki elemanları 1, diğer tüm elemanları ise 0 olan kare matristir. \n",
    "Genellikle \"I\" harfi ile gösterilir. \n",
    "Örneğin, 2x2 boyutundaki bir birim matris aşağıdaki gibidir. \n",
    "\n",
    "📌Birim matrisler, matris çarpımı işlemlerinde etkisiz elemanlardır; yani bir matrisle birim matris çarpıldığında sonuç yine o matris olur. Örneğin,  A bir matris ise:\r",
    "\r",
    "`A * I = A`\n",
    "\r",
    "\r",
    "Birim matrislerin boyutu teorik olarak sonsuz olabilir ve her boyutta köşegen elemanları 1, diğer elemanlar ise 0'dırse 0'dır\n"
   ]
  },
  {
   "cell_type": "code",
   "execution_count": 28,
   "id": "dc1bcf1f-1527-4450-9de9-670b48ac464a",
   "metadata": {},
   "outputs": [
    {
     "data": {
      "image/png": "[encoded data removed]",
      "text/plain": [
       "<IPython.core.display.Image object>"
      ]
     },
     "execution_count": 28,
     "metadata": {},
     "output_type": "execute_result"
    }
   ],
   "source": [
    "from IPython.display import Image\n",
    "Image(\"C:/Users/ERKAN TURGUT/Desktop/MyJupyterNotebookNotes/NUMPY/birimMatris.png\")\n",
    "\n",
    "\n"
   ]
  },
  {
   "cell_type": "code",
   "execution_count": 101,
   "id": "5970f3d3-e312-41b7-8621-89e99cf46aaa",
   "metadata": {},
   "outputs": [
    {
     "data": {
      "text/plain": [
       "array([[1., 0., 0., 0., 0., 0., 0., 0.],\n",
       "       [0., 1., 0., 0., 0., 0., 0., 0.],\n",
       "       [0., 0., 1., 0., 0., 0., 0., 0.],\n",
       "       [0., 0., 0., 1., 0., 0., 0., 0.],\n",
       "       [0., 0., 0., 0., 1., 0., 0., 0.],\n",
       "       [0., 0., 0., 0., 0., 1., 0., 0.],\n",
       "       [0., 0., 0., 0., 0., 0., 1., 0.],\n",
       "       [0., 0., 0., 0., 0., 0., 0., 1.]])"
      ]
     },
     "execution_count": 101,
     "metadata": {},
     "output_type": "execute_result"
    }
   ],
   "source": [
    "#birim matris matris örneği oluşturmak için \"eye\" kullanırız.\n",
    "np.eye(8)"
   ]
  },
  {
   "cell_type": "code",
   "execution_count": 30,
   "id": "68601c16-c614-4a1c-80d8-5786f9f88dfb",
   "metadata": {},
   "outputs": [
    {
     "data": {
      "text/plain": [
       "9"
      ]
     },
     "execution_count": 30,
     "metadata": {},
     "output_type": "execute_result"
    }
   ],
   "source": [
    "np.random.randint(0,10) # 0 - 10 arası bir değer ( 0 dahil 10 değil)"
   ]
  },
  {
   "cell_type": "code",
   "execution_count": 31,
   "id": "ab7876b4-c74e-476b-9ae2-1b74494cde6c",
   "metadata": {},
   "outputs": [
    {
     "data": {
      "text/plain": [
       "0"
      ]
     },
     "execution_count": 31,
     "metadata": {},
     "output_type": "execute_result"
    }
   ],
   "source": [
    "np.random.randint(15) #aynı şey"
   ]
  },
  {
   "cell_type": "code",
   "execution_count": 32,
   "id": "7b5a20b1-b461-40b4-89b7-6fd5cbe318b1",
   "metadata": {},
   "outputs": [
    {
     "data": {
      "text/plain": [
       "array([3, 3, 8, 5, 6])"
      ]
     },
     "execution_count": 32,
     "metadata": {},
     "output_type": "execute_result"
    }
   ],
   "source": [
    "np.random.randint(1,10,5) # 1 ile 10 arası 5 değer döndürüp bir arrayda depolar."
   ]
  },
  {
   "cell_type": "code",
   "execution_count": 33,
   "id": "28922d88-21e7-4a1c-838c-514841b16931",
   "metadata": {},
   "outputs": [
    {
     "data": {
      "text/plain": [
       "array([0.0106944 , 0.22512832, 0.82898502, 0.71264531, 0.12196334])"
      ]
     },
     "execution_count": 33,
     "metadata": {},
     "output_type": "execute_result"
    }
   ],
   "source": [
    "# 0 - 5 arası değerler için:\n",
    "np.random.rand(5)"
   ]
  },
  {
   "cell_type": "code",
   "execution_count": 103,
   "id": "c96426a5-6c46-43da-851b-53adb8223050",
   "metadata": {},
   "outputs": [
    {
     "data": {
      "text/plain": [
       "array([-0.87046319,  2.16711727,  0.16917357, -1.25715357, -1.99834381])"
      ]
     },
     "execution_count": 103,
     "metadata": {},
     "output_type": "execute_result"
    }
   ],
   "source": [
    "# negatif sayılar için np.random.randn()\n",
    "\n",
    "np.random.randn(5) # 0 etrafında 5  sayı(gausion distrubituon)"
   ]
  },
  {
   "cell_type": "code",
   "execution_count": 35,
   "id": "843b71f8-9bd6-411c-80e3-fcb44f047765",
   "metadata": {},
   "outputs": [],
   "source": [
    "arr = np.arange(25)"
   ]
  },
  {
   "cell_type": "code",
   "execution_count": 36,
   "id": "368b9ef1-f7aa-4a6d-b7b5-3ebf95343b7e",
   "metadata": {},
   "outputs": [
    {
     "data": {
      "text/plain": [
       "array([ 0,  1,  2,  3,  4,  5,  6,  7,  8,  9, 10, 11, 12, 13, 14, 15, 16,\n",
       "       17, 18, 19, 20, 21, 22, 23, 24])"
      ]
     },
     "execution_count": 36,
     "metadata": {},
     "output_type": "execute_result"
    }
   ],
   "source": [
    "arr"
   ]
  },
  {
   "cell_type": "code",
   "execution_count": 37,
   "id": "f1b53496-2a9f-4b63-981b-6ad9bf4c7154",
   "metadata": {},
   "outputs": [
    {
     "data": {
      "text/plain": [
       "array([[ 0,  1,  2,  3,  4],\n",
       "       [ 5,  6,  7,  8,  9],\n",
       "       [10, 11, 12, 13, 14],\n",
       "       [15, 16, 17, 18, 19],\n",
       "       [20, 21, 22, 23, 24]])"
      ]
     },
     "execution_count": 37,
     "metadata": {},
     "output_type": "execute_result"
    }
   ],
   "source": [
    "arr.reshape(5,5) # dizideki elemanları 5'e 5 şekilde sıraladık. Bunun için kare dizi olmalı"
   ]
  },
  {
   "cell_type": "code",
   "execution_count": 38,
   "id": "e519206e-5851-40b9-a754-abaf7a939652",
   "metadata": {},
   "outputs": [],
   "source": [
    "newArr = np.random.randint(1,100,10) # 0 - 100  arası  10 sayı "
   ]
  },
  {
   "cell_type": "code",
   "execution_count": 39,
   "id": "e6481b72-2d33-402f-a3b2-8d8339ce0314",
   "metadata": {},
   "outputs": [
    {
     "data": {
      "text/plain": [
       "array([62, 60,  8, 85, 94, 18, 42, 15, 83, 33])"
      ]
     },
     "execution_count": 39,
     "metadata": {},
     "output_type": "execute_result"
    }
   ],
   "source": [
    "newArr"
   ]
  },
  {
   "cell_type": "code",
   "execution_count": 40,
   "id": "9e04c374-730e-4e3d-b507-4f472c65a562",
   "metadata": {},
   "outputs": [
    {
     "data": {
      "text/plain": [
       "94"
      ]
     },
     "execution_count": 40,
     "metadata": {},
     "output_type": "execute_result"
    }
   ],
   "source": [
    "newArr.max() # arraydeki en büyük değer."
   ]
  },
  {
   "cell_type": "code",
   "execution_count": 41,
   "id": "452b0f82-7cc4-4b47-95e0-3c42b893990a",
   "metadata": {},
   "outputs": [
    {
     "data": {
      "text/plain": [
       "8"
      ]
     },
     "execution_count": 41,
     "metadata": {},
     "output_type": "execute_result"
    }
   ],
   "source": [
    "newArr.min()  # arraydeki en küçük değer."
   ]
  },
  {
   "cell_type": "code",
   "execution_count": 42,
   "id": "8e92e6c7-102b-45e6-ae0f-a64736978243",
   "metadata": {},
   "outputs": [
    {
     "data": {
      "text/plain": [
       "500"
      ]
     },
     "execution_count": 42,
     "metadata": {},
     "output_type": "execute_result"
    }
   ],
   "source": [
    "newArr.sum() #arraydeki elemanların toplamı"
   ]
  },
  {
   "cell_type": "code",
   "execution_count": 43,
   "id": "73083178-00b6-4168-8d1c-e74b7350e95a",
   "metadata": {},
   "outputs": [
    {
     "data": {
      "text/plain": [
       "50.0"
      ]
     },
     "execution_count": 43,
     "metadata": {},
     "output_type": "execute_result"
    }
   ],
   "source": [
    "newArr.mean() # array ortalaması"
   ]
  },
  {
   "cell_type": "code",
   "execution_count": 44,
   "id": "750d3723-b185-40a4-a998-a382888a0074",
   "metadata": {},
   "outputs": [
    {
     "data": {
      "text/plain": [
       "4"
      ]
     },
     "execution_count": 44,
     "metadata": {},
     "output_type": "execute_result"
    }
   ],
   "source": [
    "newArr.argmax() # max sayının indxini verir."
   ]
  },
  {
   "cell_type": "code",
   "execution_count": 45,
   "id": "cbe20455-ed6b-461f-865e-244c372afe8e",
   "metadata": {},
   "outputs": [
    {
     "data": {
      "text/plain": [
       "2"
      ]
     },
     "execution_count": 45,
     "metadata": {},
     "output_type": "execute_result"
    }
   ],
   "source": [
    "newArr.argmin() # min sayının indxini verir."
   ]
  },
  {
   "cell_type": "markdown",
   "id": "fe12de94-686c-45f4-97a5-ca8e9768b91e",
   "metadata": {},
   "source": [
    "_____"
   ]
  },
  {
   "cell_type": "code",
   "execution_count": 105,
   "id": "50b913b2-2863-4735-8284-0f0464cc1e31",
   "metadata": {},
   "outputs": [],
   "source": [
    "detArr = np.random.randint(1,100,25) # 1 ile 100 arası 25 değer."
   ]
  },
  {
   "cell_type": "code",
   "execution_count": 48,
   "id": "bdd7798a-d478-4a48-ab84-5267d74d816d",
   "metadata": {},
   "outputs": [
    {
     "data": {
      "text/plain": [
       "array([92, 92, 89, 22, 68, 83, 15, 69, 64, 70, 52, 22, 77, 28, 38, 83, 68,\n",
       "       16, 80, 46, 73, 44, 83, 81, 50])"
      ]
     },
     "execution_count": 48,
     "metadata": {},
     "output_type": "execute_result"
    }
   ],
   "source": [
    "detArr"
   ]
  },
  {
   "cell_type": "code",
   "execution_count": 49,
   "id": "c2eddeb1-8352-4486-9ef1-8ad574121dc9",
   "metadata": {},
   "outputs": [],
   "source": [
    "detArr = detArr.reshape(5,5) # 5 5lik matrise dönüştürme"
   ]
  },
  {
   "cell_type": "code",
   "execution_count": 50,
   "id": "0f326ece-8e11-418f-b042-a8fb379d6ed1",
   "metadata": {},
   "outputs": [
    {
     "data": {
      "text/plain": [
       "array([[92, 92, 89, 22, 68],\n",
       "       [83, 15, 69, 64, 70],\n",
       "       [52, 22, 77, 28, 38],\n",
       "       [83, 68, 16, 80, 46],\n",
       "       [73, 44, 83, 81, 50]])"
      ]
     },
     "execution_count": 50,
     "metadata": {},
     "output_type": "execute_result"
    }
   ],
   "source": [
    "detArr"
   ]
  },
  {
   "cell_type": "code",
   "execution_count": 51,
   "id": "88d19a6a-f271-41ea-beb0-740ef7d572dd",
   "metadata": {},
   "outputs": [
    {
     "data": {
      "text/plain": [
       "-191924645.9999995"
      ]
     },
     "execution_count": 51,
     "metadata": {},
     "output_type": "execute_result"
    }
   ],
   "source": [
    "# bu detArr arrayinin determinantını bulmak için linelg.det() kullanacağız.\n",
    "\n",
    "np.linalg.det(detArr) #determinant"
   ]
  }
 ],
 "metadata": {
  "kernelspec": {
   "display_name": "Python 3 (ipykernel)",
   "language": "python",
   "name": "python3"
  },
  "language_info": {
   "codemirror_mode": {
    "name": "ipython",
    "version": 3
   },
   "file_extension": ".py",
   "mimetype": "text/x-python",
   "name": "python",
   "nbconvert_exporter": "python",
   "pygments_lexer": "ipython3",
   "version": "3.12.4"
  }
 },
 "nbformat": 4,
 "nbformat_minor": 5
}
