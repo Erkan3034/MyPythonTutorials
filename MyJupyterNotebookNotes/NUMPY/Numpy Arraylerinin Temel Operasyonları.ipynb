{
 "cells": [
  {
   "cell_type": "markdown",
   "id": "e30df76b-3f8f-4fdb-b113-2104b4ff2397",
   "metadata": {},
   "source": [
    "# Numpy Arraylerinin Temel Operasyonları"
   ]
  },
  {
   "cell_type": "code",
   "execution_count": 76,
   "id": "b1c6dba0-e073-4ac5-a0ca-451e75be3db1",
   "metadata": {},
   "outputs": [],
   "source": [
    "import numpy as np"
   ]
  },
  {
   "cell_type": "code",
   "execution_count": 77,
   "id": "35442a73-4bc2-4e03-9237-6f35c339417a",
   "metadata": {},
   "outputs": [],
   "source": [
    "arr = np.arange(1,10)"
   ]
  },
  {
   "cell_type": "code",
   "execution_count": 78,
   "id": "abd2aba9-fac8-4e96-b933-8b89d08a4654",
   "metadata": {},
   "outputs": [
    {
     "data": {
      "text/plain": [
       "array([1, 2, 3, 4, 5, 6, 7, 8, 9])"
      ]
     },
     "execution_count": 78,
     "metadata": {},
     "output_type": "execute_result"
    }
   ],
   "source": [
    "arr"
   ]
  },
  {
   "cell_type": "code",
   "execution_count": 79,
   "id": "4d33e745-e9cd-4cca-939e-f202f37e2b1b",
   "metadata": {},
   "outputs": [],
   "source": [
    "arr1 = np.array([10,20,30,40,50])\n",
    "arr2 = np.array([2,3,4,5,6])"
   ]
  },
  {
   "cell_type": "code",
   "execution_count": 80,
   "id": "b643426a-5cbc-4850-8590-a16d5f41989c",
   "metadata": {},
   "outputs": [
    {
     "data": {
      "text/plain": [
       "array([ 20,  60, 120, 200, 300])"
      ]
     },
     "execution_count": 80,
     "metadata": {},
     "output_type": "execute_result"
    }
   ],
   "source": [
    "arr1 * arr2  # Inner Product(İç Çarpım)"
   ]
  },
  {
   "cell_type": "code",
   "execution_count": 81,
   "id": "5eac6fa6-a8a6-4f77-9453-5b5f42b0d3cd",
   "metadata": {},
   "outputs": [
    {
     "data": {
      "text/plain": [
       "array([12, 23, 34, 45, 56])"
      ]
     },
     "execution_count": 81,
     "metadata": {},
     "output_type": "execute_result"
    }
   ],
   "source": [
    "arr1 + arr2 # her bir eleman kendi içinde toplanır"
   ]
  },
  {
   "cell_type": "code",
   "execution_count": 82,
   "id": "44f6d762-df90-48ad-9211-1a404a4bacb1",
   "metadata": {},
   "outputs": [],
   "source": [
    "# Farklı boyutlarda arrylerde toplama sağlayamıyoruz"
   ]
  },
  {
   "cell_type": "code",
   "execution_count": 83,
   "id": "1943f80b-6d8a-4ab5-83d3-4062d792c52e",
   "metadata": {},
   "outputs": [
    {
     "data": {
      "text/plain": [
       "array([ 8, 17, 26, 35, 44])"
      ]
     },
     "execution_count": 83,
     "metadata": {},
     "output_type": "execute_result"
    }
   ],
   "source": [
    "arr1 - arr2 "
   ]
  },
  {
   "cell_type": "code",
   "execution_count": 84,
   "id": "91f69e67-e7e0-40bc-809f-13fc9c86438e",
   "metadata": {},
   "outputs": [
    {
     "data": {
      "text/plain": [
       "array([10, 20, 30, 40, 50])"
      ]
     },
     "execution_count": 84,
     "metadata": {},
     "output_type": "execute_result"
    }
   ],
   "source": [
    "arr1"
   ]
  },
  {
   "cell_type": "code",
   "execution_count": 85,
   "id": "dedc2965-3579-4ac1-ba49-e689003348e4",
   "metadata": {},
   "outputs": [
    {
     "data": {
      "text/plain": [
       "array([20, 30, 40, 50, 60])"
      ]
     },
     "execution_count": 85,
     "metadata": {},
     "output_type": "execute_result"
    }
   ],
   "source": [
    "arr1 + 10 # her eleman 10 ile toplanır;"
   ]
  },
  {
   "cell_type": "code",
   "execution_count": 86,
   "id": "6aed1ddd-764d-441a-b44d-1e6265b86af4",
   "metadata": {},
   "outputs": [
    {
     "data": {
      "text/plain": [
       "array([100, 200, 300, 400, 500])"
      ]
     },
     "execution_count": 86,
     "metadata": {},
     "output_type": "execute_result"
    }
   ],
   "source": [
    "arr1 * 10 # her eleman 10 ile çarpılır;"
   ]
  },
  {
   "cell_type": "code",
   "execution_count": 87,
   "id": "075ce7bf-10c8-4de9-b1c4-422d4e1d2a89",
   "metadata": {},
   "outputs": [
    {
     "data": {
      "text/plain": [
       "array([0, 1, 2, 3, 4])"
      ]
     },
     "execution_count": 87,
     "metadata": {},
     "output_type": "execute_result"
    }
   ],
   "source": [
    "arr2 - 2 # her elemandan 2 çıkarılır"
   ]
  },
  {
   "cell_type": "code",
   "execution_count": 88,
   "id": "7dc68c64-3fd8-47fc-b662-8aea14308ef8",
   "metadata": {},
   "outputs": [
    {
     "data": {
      "text/plain": [
       "array([0.66666667, 1.        , 1.33333333, 1.66666667, 2.        ])"
      ]
     },
     "execution_count": 88,
     "metadata": {},
     "output_type": "execute_result"
    }
   ],
   "source": [
    "arr2 / 3 # float döner"
   ]
  },
  {
   "cell_type": "code",
   "execution_count": 89,
   "id": "cfa74ceb-b772-48e0-9563-f52039f428e2",
   "metadata": {},
   "outputs": [
    {
     "data": {
      "text/plain": [
       "array([10, 20, 30, 40, 50])"
      ]
     },
     "execution_count": 89,
     "metadata": {},
     "output_type": "execute_result"
    }
   ],
   "source": [
    "arr1"
   ]
  },
  {
   "cell_type": "code",
   "execution_count": 90,
   "id": "861a049b-99b2-4bbc-9b60-059b2adac745",
   "metadata": {},
   "outputs": [
    {
     "data": {
      "text/plain": [
       "array([3.16227766, 4.47213595, 5.47722558, 6.32455532, 7.07106781])"
      ]
     },
     "execution_count": 90,
     "metadata": {},
     "output_type": "execute_result"
    }
   ],
   "source": [
    "np.sqrt(arr1) # her elemanın karekökü alnır;"
   ]
  },
  {
   "cell_type": "markdown",
   "id": "99e13f6b-c975-41da-aa9d-878eb5049a43",
   "metadata": {},
   "source": [
    "_____"
   ]
  },
  {
   "cell_type": "code",
   "execution_count": 122,
   "id": "50d6dc2d-1e8b-424e-8362-01eb36ed1bad",
   "metadata": {},
   "outputs": [],
   "source": [
    "arr3 = np.array([4,16,36,49,64,81,100,121,144,169,196,225,256,289])"
   ]
  },
  {
   "cell_type": "code",
   "execution_count": 124,
   "id": "67d97ee0-3e81-4c8a-bab7-fdc0b2c037f3",
   "metadata": {},
   "outputs": [
    {
     "data": {
      "text/plain": [
       "array([  4,  16,  36,  49,  64,  81, 100, 121, 144, 169, 196, 225, 256,\n",
       "       289])"
      ]
     },
     "execution_count": 124,
     "metadata": {},
     "output_type": "execute_result"
    }
   ],
   "source": [
    "arr3"
   ]
  },
  {
   "cell_type": "code",
   "execution_count": 128,
   "id": "59ec63bb-4486-4db2-8ac6-7dc2829d3460",
   "metadata": {},
   "outputs": [
    {
     "data": {
      "text/plain": [
       "array([ 2.,  4.,  6.,  7.,  8.,  9., 10., 11., 12., 13., 14., 15., 16.,\n",
       "       17.])"
      ]
     },
     "execution_count": 128,
     "metadata": {},
     "output_type": "execute_result"
    }
   ],
   "source": [
    "np.sqrt(arr3) # her elemanın karekökünü alır(kök derecesi)"
   ]
  },
  {
   "cell_type": "code",
   "execution_count": null,
   "id": "cab910bf-66e6-48d3-b0a6-aa0e3b080d83",
   "metadata": {},
   "outputs": [],
   "source": []
  }
 ],
 "metadata": {
  "kernelspec": {
   "display_name": "Python 3 (ipykernel)",
   "language": "python",
   "name": "python3"
  },
  "language_info": {
   "codemirror_mode": {
    "name": "ipython",
    "version": 3
   },
   "file_extension": ".py",
   "mimetype": "text/x-python",
   "name": "python",
   "nbconvert_exporter": "python",
   "pygments_lexer": "ipython3",
   "version": "3.12.4"
  }
 },
 "nbformat": 4,
 "nbformat_minor": 5
}
