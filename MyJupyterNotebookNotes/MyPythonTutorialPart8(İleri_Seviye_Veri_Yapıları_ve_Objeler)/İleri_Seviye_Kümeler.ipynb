{
 "cells": [
  {
   "cell_type": "markdown",
   "id": "792ba88d-0408-49a9-a84b-bcb4a2c7cdd4",
   "metadata": {},
   "source": [
    "### İleri Seviye Kümeler (Sets)\n",
    "Bu konuda yeni bir veritipi olan kümeler veya ingilizce adıyla setleri öğreneceğiz.\n",
    "\n",
    "Kümeler, matematikte olduğu gibi ***bir elemandan sadece bir adet tutan bir veritipidir.*** Bu açıdan kullanıldıkları yerlerde çok önemli bir veritipi olmaktadırlar. İsterseniz hemen bir küme oluşturalım.\n",
    "\n",
    "#### 📌Küme oluşturmak"
   ]
  },
  {
   "cell_type": "code",
   "execution_count": 2,
   "id": "48c69c0e-2b45-4d09-8287-40a764f7b77e",
   "metadata": {},
   "outputs": [],
   "source": [
    "x =  set() # Boş küme"
   ]
  },
  {
   "cell_type": "code",
   "execution_count": 4,
   "id": "39a86457-0738-400e-85b9-21e3a5be5f54",
   "metadata": {},
   "outputs": [
    {
     "data": {
      "text/plain": [
       "set"
      ]
     },
     "execution_count": 4,
     "metadata": {},
     "output_type": "execute_result"
    }
   ],
   "source": [
    "type(x)"
   ]
  },
  {
   "cell_type": "code",
   "execution_count": 6,
   "id": "c8f7e333-958d-41e0-82d5-62aaa49c5dac",
   "metadata": {},
   "outputs": [],
   "source": [
    "liste = [1,2,3,3,1,1,2,2,2] # Aynı elemanı birçok defa  barındıran bir liste"
   ]
  },
  {
   "cell_type": "code",
   "execution_count": 9,
   "id": "644dcceb-5ea5-46c2-baab-8fea469a3640",
   "metadata": {},
   "outputs": [],
   "source": [
    "x = set(liste) # Veri tipi dönüşümü"
   ]
  },
  {
   "cell_type": "code",
   "execution_count": 11,
   "id": "e097a420-ac3a-4f70-a4c5-bc156dbba182",
   "metadata": {},
   "outputs": [
    {
     "data": {
      "text/plain": [
       "{1, 2, 3}"
      ]
     },
     "execution_count": 11,
     "metadata": {},
     "output_type": "execute_result"
    }
   ],
   "source": [
    "x # Aynı elemanlar tek bir elemana indirgendi."
   ]
  },
  {
   "cell_type": "code",
   "execution_count": 13,
   "id": "8a7daedb-a450-4c57-80f2-e3e65f877bba",
   "metadata": {},
   "outputs": [],
   "source": [
    "x = set(\"Python Programlama Dili\")  # Aynı karakterler tek bir karaktere indirgendi."
   ]
  },
  {
   "cell_type": "code",
   "execution_count": 15,
   "id": "8fc621c1-c536-4a15-a51a-42eb88be9ba9",
   "metadata": {},
   "outputs": [
    {
     "data": {
      "text/plain": [
       "{' ', 'D', 'P', 'a', 'g', 'h', 'i', 'l', 'm', 'n', 'o', 'r', 't', 'y'}"
      ]
     },
     "execution_count": 15,
     "metadata": {},
     "output_type": "execute_result"
    }
   ],
   "source": [
    "x"
   ]
  },
  {
   "cell_type": "code",
   "execution_count": 17,
   "id": "3536d105-d476-40a9-9468-461fc4612fde",
   "metadata": {},
   "outputs": [],
   "source": [
    "x = {\"Python\",\"Php\",\"Python\"}"
   ]
  },
  {
   "cell_type": "code",
   "execution_count": 21,
   "id": "bdf3de8a-45ef-4dbe-97b2-e24ace1f19eb",
   "metadata": {},
   "outputs": [
    {
     "data": {
      "text/plain": [
       "{'Php', 'Python'}"
      ]
     },
     "execution_count": 21,
     "metadata": {},
     "output_type": "execute_result"
    }
   ],
   "source": [
    "x # Aynı elemanalr teke indirgeniyor"
   ]
  },
  {
   "cell_type": "markdown",
   "id": "c69f3595-9b06-49cd-86da-1757384f97df",
   "metadata": {},
   "source": [
    "_________________________________"
   ]
  },
  {
   "cell_type": "markdown",
   "id": "2b1e2485-f973-483d-ad2e-391681cf08a5",
   "metadata": {},
   "source": [
    "##### 📌For döngüsüyle Gezinmek\n",
    "Kümeler de tıpkı sözlükler gibi sırasız bir veri tipidir. Bunu *for* döngüsüyle görebiliriz."
   ]
  },
  {
   "cell_type": "code",
   "execution_count": 25,
   "id": "28f048d8-6467-4b87-a28c-f224707e74c9",
   "metadata": {},
   "outputs": [],
   "source": [
    "x = {\"Python\",\"Php\",\"Java\",\"C\",\"Javascript\"}"
   ]
  },
  {
   "cell_type": "code",
   "execution_count": 27,
   "id": "36cc3829-4e0f-4106-93a1-e19ce9d34b89",
   "metadata": {},
   "outputs": [
    {
     "name": "stdout",
     "output_type": "stream",
     "text": [
      "Java\n",
      "Python\n",
      "C\n",
      "Javascript\n",
      "Php\n"
     ]
    }
   ],
   "source": [
    "for i in x:\n",
    "    print(i)"
   ]
  },
  {
   "cell_type": "markdown",
   "id": "a765ef7d-4506-4381-aa68-f1fc498cb57b",
   "metadata": {},
   "source": [
    "----->**Peki bir kümenin elemanlarına direk olarak ulaşabiliyor muyuz ?**"
   ]
  },
  {
   "cell_type": "code",
   "execution_count": 30,
   "id": "b78d8ce7-ae81-45fd-aa94-4f73c8b69f20",
   "metadata": {},
   "outputs": [
    {
     "data": {
      "text/plain": [
       "{'C', 'Java', 'Javascript', 'Php', 'Python'}"
      ]
     },
     "execution_count": 30,
     "metadata": {},
     "output_type": "execute_result"
    }
   ],
   "source": [
    "x = {\"Python\",\"Php\",\"Java\",\"C\",\"Javascript\"}\n",
    "x"
   ]
  },
  {
   "cell_type": "code",
   "execution_count": 34,
   "id": "2bc76fc0-4fbe-4766-b087-5235eb6a19a1",
   "metadata": {},
   "outputs": [
    {
     "ename": "TypeError",
     "evalue": "'set' object is not subscriptable",
     "output_type": "error",
     "traceback": [
      "\u001b[1;31m---------------------------------------------------------------------------\u001b[0m",
      "\u001b[1;31mTypeError\u001b[0m                                 Traceback (most recent call last)",
      "Cell \u001b[1;32mIn[34], line 1\u001b[0m\n\u001b[1;32m----> 1\u001b[0m x[\u001b[38;5;241m1\u001b[39m]\n",
      "\u001b[1;31mTypeError\u001b[0m: 'set' object is not subscriptable"
     ]
    }
   ],
   "source": [
    "x[1]"
   ]
  },
  {
   "cell_type": "code",
   "execution_count": 35,
   "id": "dd00f760-0e68-4e83-9a5b-673466b63a17",
   "metadata": {},
   "outputs": [
    {
     "ename": "TypeError",
     "evalue": "'set' object is not subscriptable",
     "output_type": "error",
     "traceback": [
      "\u001b[1;31m---------------------------------------------------------------------------\u001b[0m",
      "\u001b[1;31mTypeError\u001b[0m                                 Traceback (most recent call last)",
      "Cell \u001b[1;32mIn[35], line 1\u001b[0m\n\u001b[1;32m----> 1\u001b[0m x[\u001b[38;5;124m\"\u001b[39m\u001b[38;5;124mPython\u001b[39m\u001b[38;5;124m\"\u001b[39m]\n",
      "\u001b[1;31mTypeError\u001b[0m: 'set' object is not subscriptable"
     ]
    }
   ],
   "source": [
    "x[\"Python\"]"
   ]
  },
  {
   "cell_type": "markdown",
   "id": "cdd076c0-a3ce-4de7-8c86-4a7500a8371d",
   "metadata": {},
   "source": [
    "**Buradaki işlemler aslında kümelerde tanımlı değil. Yani biz bir kümenin elemanlarına ne indexle ne de eleman ismiyle erişebiliyoruz. Erişmek için mutlaka veritipi dönüşümü yapmamız gerekiyor.***"
   ]
  },
  {
   "cell_type": "code",
   "execution_count": 44,
   "id": "76088820-09bc-46e4-8a16-c899dbcdbbf4",
   "metadata": {},
   "outputs": [],
   "source": [
    "liste = list({1,2,3,4,5})"
   ]
  },
  {
   "cell_type": "code",
   "execution_count": 46,
   "id": "97c4a59b-1bba-45f3-816f-79ed2ff16a17",
   "metadata": {},
   "outputs": [
    {
     "data": {
      "text/plain": [
       "1"
      ]
     },
     "execution_count": 46,
     "metadata": {},
     "output_type": "execute_result"
    }
   ],
   "source": [
    "liste[0]"
   ]
  },
  {
   "cell_type": "markdown",
   "id": "48154200-7631-4e5e-ade2-7f6393908ea3",
   "metadata": {},
   "source": [
    "## 🌐Kümelerin Metodları\n",
    "\n",
    "#### 📌Eleman Eklemek : add() metodu\n",
    "Kümeye eleman eklemimizi sağlar. Aynı eleman eklenmeye çalışırsa hata vermez ve herhangi bir ekleme işlemi yapmaz."
   ]
  },
  {
   "cell_type": "code",
   "execution_count": 51,
   "id": "6dd403cd-91e5-4a56-968e-5f32531d895c",
   "metadata": {},
   "outputs": [
    {
     "name": "stdout",
     "output_type": "stream",
     "text": [
      "{1, 2, 3, 4}\n"
     ]
    }
   ],
   "source": [
    "x = {1,2,3}\n",
    "\n",
    "x.add(4)\n",
    "\n",
    "print(x)"
   ]
  },
  {
   "cell_type": "code",
   "execution_count": 57,
   "id": "ea4649fd-82d6-4f1c-b9ad-6c9fa8d33ead",
   "metadata": {},
   "outputs": [
    {
     "data": {
      "text/plain": [
       "{1, 2, 3, 4}"
      ]
     },
     "execution_count": 57,
     "metadata": {},
     "output_type": "execute_result"
    }
   ],
   "source": [
    "x.add(4)  # tekrar ekleme yapılmaz.\n",
    "x"
   ]
  },
  {
   "cell_type": "markdown",
   "id": "dd047f39-26c5-4159-91e9-b545711c3809",
   "metadata": {},
   "source": [
    "### 📌 iki kümenin farkı : ***difference()*** metodu\n",
    "Bu metod birinci kümenin ikinci kümeden farkını döner.\n",
    "\n",
    "    küme1.difference(küme2) # Küme1'in Küme2'den farkı"
   ]
  },
  {
   "cell_type": "code",
   "execution_count": 60,
   "id": "56c47836-423d-46e0-81e4-0eaa94d7bc71",
   "metadata": {},
   "outputs": [],
   "source": [
    "küme1 = {1,2,3,10,34,100,-2}\n",
    "küme2 = {1,2,23,34,-1}\n"
   ]
  },
  {
   "cell_type": "code",
   "execution_count": 64,
   "id": "e0630a1f-6ec0-4fde-a3f8-bc82368a0e51",
   "metadata": {},
   "outputs": [
    {
     "data": {
      "text/plain": [
       "{-2, 3, 10, 100}"
      ]
     },
     "execution_count": 64,
     "metadata": {},
     "output_type": "execute_result"
    }
   ],
   "source": [
    "küme1.difference(küme2) # küme1'de olup küme2'de olmayan elemanları döndürür."
   ]
  },
  {
   "cell_type": "code",
   "execution_count": 68,
   "id": "8bc94e83-324c-411d-bedb-099b609408d5",
   "metadata": {},
   "outputs": [
    {
     "data": {
      "text/plain": [
       "{-1, 23}"
      ]
     },
     "execution_count": 68,
     "metadata": {},
     "output_type": "execute_result"
    }
   ],
   "source": [
    "küme2.difference(küme1) # küme2'de olup küme1'de olmayan elemanları döndürür."
   ]
  },
  {
   "cell_type": "markdown",
   "id": "8ebf3716-c0cf-4de9-bc5f-d63c47600aee",
   "metadata": {},
   "source": [
    "#### İki kümenin farkı ve güncelleme : ***difference_update()*** metodu\n",
    "Bu metod birinci kümenin ikinci kümeden farkını dönerek birinci kümeyi bu farka göre günceller.\n",
    "\n",
    "küme1.difference_update(küme2) # Küme1'in Küme2'den farkı"
   ]
  },
  {
   "cell_type": "code",
   "execution_count": 71,
   "id": "5ac59441-3386-497c-b147-2eb905c85250",
   "metadata": {},
   "outputs": [
    {
     "data": {
      "text/plain": [
       "{-2, 1, 2, 3, 10, 34, 100}"
      ]
     },
     "execution_count": 71,
     "metadata": {},
     "output_type": "execute_result"
    }
   ],
   "source": [
    "küme1"
   ]
  },
  {
   "cell_type": "code",
   "execution_count": 73,
   "id": "a10b5932-ddb6-4c5b-8913-d773d865d9d8",
   "metadata": {},
   "outputs": [
    {
     "data": {
      "text/plain": [
       "{-1, 1, 2, 23, 34}"
      ]
     },
     "execution_count": 73,
     "metadata": {},
     "output_type": "execute_result"
    }
   ],
   "source": [
    "küme2"
   ]
  },
  {
   "cell_type": "code",
   "execution_count": 79,
   "id": "624189fd-1b3f-4514-9602-4757ff6c2059",
   "metadata": {},
   "outputs": [],
   "source": [
    "küme1.difference_update(küme2)"
   ]
  },
  {
   "cell_type": "code",
   "execution_count": 85,
   "id": "d9beb631-2a8c-41e1-87e6-50fd51cd6453",
   "metadata": {},
   "outputs": [
    {
     "data": {
      "text/plain": [
       "{-2, 3, 10, 100}"
      ]
     },
     "execution_count": 85,
     "metadata": {},
     "output_type": "execute_result"
    }
   ],
   "source": [
    "küme1 # Farka göre güncellendi( yani küme1'de olup da küme2'de olmayan elemanlar olacak şekilde küme güncellendi)"
   ]
  },
  {
   "cell_type": "markdown",
   "id": "707df4d8-cb8d-4ff7-9ae5-4dea9d15413c",
   "metadata": {},
   "source": [
    "#### 📌Kümeden Eleman Çıkartmak : ***discard()*** metodu\n",
    "İçine verilen değeri kümeden çıkartır. Eğer kümede öyle bir değer yoksa, bu metod hiçbir şey yapmaz(Hata vermez)."
   ]
  },
  {
   "cell_type": "code",
   "execution_count": 88,
   "id": "5d80b2f4-5ca8-4ca0-965f-27890019516e",
   "metadata": {},
   "outputs": [
    {
     "data": {
      "text/plain": [
       "{-2, 3, 10, 100}"
      ]
     },
     "execution_count": 88,
     "metadata": {},
     "output_type": "execute_result"
    }
   ],
   "source": [
    "küme1"
   ]
  },
  {
   "cell_type": "code",
   "execution_count": 92,
   "id": "24daf872-ad71-4b10-a91e-dcf45c7b0065",
   "metadata": {},
   "outputs": [
    {
     "data": {
      "text/plain": [
       "{-2, 3, 100}"
      ]
     },
     "execution_count": 92,
     "metadata": {},
     "output_type": "execute_result"
    }
   ],
   "source": [
    "küme1.discard(10)\n",
    "\n",
    "küme1"
   ]
  },
  {
   "cell_type": "code",
   "execution_count": 96,
   "id": "ddbd6912-0f0f-4bfe-b64c-8b271bf10bf3",
   "metadata": {},
   "outputs": [
    {
     "data": {
      "text/plain": [
       "{-2, 3, 100}"
      ]
     },
     "execution_count": 96,
     "metadata": {},
     "output_type": "execute_result"
    }
   ],
   "source": [
    "küme1.discard(45) # Küme'de yok. Hata vermez çalışır.\n",
    "\n",
    "küme1"
   ]
  },
  {
   "cell_type": "markdown",
   "id": "e5b01631-4fea-4ec8-9c10-44883cec27f3",
   "metadata": {},
   "source": [
    "### 🌐Küme kesişimleri : ***intersection()*** metodu\n",
    "\n",
    "Bu metod iki kümenin kesişimleri bulmamızı sağlar."
   ]
  },
  {
   "cell_type": "code",
   "execution_count": 105,
   "id": "3a47e5d7-38c7-44e6-b475-44bbc2c08314",
   "metadata": {},
   "outputs": [],
   "source": [
    "küme1 = {1,2,3,10,34,100,-2}\n",
    "küme2 = {1,2,23,34,-1}"
   ]
  },
  {
   "cell_type": "code",
   "execution_count": 108,
   "id": "fa9cb325-953e-4f63-b901-0a9104324ce3",
   "metadata": {},
   "outputs": [
    {
     "data": {
      "text/plain": [
       "{1, 2, 34}"
      ]
     },
     "execution_count": 108,
     "metadata": {},
     "output_type": "execute_result"
    }
   ],
   "source": [
    "küme1.intersection(küme2)"
   ]
  },
  {
   "cell_type": "markdown",
   "id": "ac271890-af48-4496-8828-3a41f47d4276",
   "metadata": {},
   "source": [
    "#### 📌Küme kesişimleri ve güncelleme : ***intersection_update()*** metodu\n",
    "Bu metod birinci kümeyle ikinci kümenin kesişimlerini bulur ve birinci kümeyi bu kesişime göre günceller."
   ]
  },
  {
   "cell_type": "code",
   "execution_count": 113,
   "id": "2c663535-40e7-4404-9024-1702392323db",
   "metadata": {},
   "outputs": [],
   "source": [
    "küme1 = {1,2,3,10,34,100,-2}\n",
    "küme2 = {1,2,23,34,-1}"
   ]
  },
  {
   "cell_type": "code",
   "execution_count": 115,
   "id": "74b131c1-3048-43b8-b20b-584c9debb374",
   "metadata": {},
   "outputs": [],
   "source": [
    "küme1.intersection_update(küme2)"
   ]
  },
  {
   "cell_type": "code",
   "execution_count": 119,
   "id": "8c3f0a98-44ac-4e07-8050-8feed7d1d527",
   "metadata": {},
   "outputs": [
    {
     "data": {
      "text/plain": [
       "{1, 2, 34}"
      ]
     },
     "execution_count": 119,
     "metadata": {},
     "output_type": "execute_result"
    }
   ],
   "source": [
    "küme1  # Kesişimlere göre güncellendi( yani küme1 ve küme2'de olan elemanlar olacak şekilde küme güncellendi)"
   ]
  },
  {
   "cell_type": "markdown",
   "id": "8a939b90-3837-42cc-a399-e896e1c4829c",
   "metadata": {},
   "source": [
    "#### 📌Kümeler ayrık küme mi ? : ***isdisjoint()*** metodu\n",
    "Bu metod, eğer iki kümenin kesişim kümesi boş ise True, değilse False döner."
   ]
  },
  {
   "cell_type": "code",
   "execution_count": 123,
   "id": "6c99250c-3d96-4d53-a43c-489003b7d313",
   "metadata": {},
   "outputs": [],
   "source": [
    "küme1 = {1,2,3,10,34,100,-2}\n",
    "küme2 = {1,2,23,34,-1}\n",
    "küme3 = {30,40,50}"
   ]
  },
  {
   "cell_type": "code",
   "execution_count": 127,
   "id": "0c02123f-9201-4cf5-b997-3755fd3882d0",
   "metadata": {},
   "outputs": [
    {
     "data": {
      "text/plain": [
       "False"
      ]
     },
     "execution_count": 127,
     "metadata": {},
     "output_type": "execute_result"
    }
   ],
   "source": [
    "küme1.isdisjoint(küme2) # Küme kesişimi boş değil (1,2,23,34)"
   ]
  },
  {
   "cell_type": "code",
   "execution_count": 131,
   "id": "ae7aad54-2580-4797-95b2-3f069a3f0b54",
   "metadata": {},
   "outputs": [
    {
     "data": {
      "text/plain": [
       "True"
      ]
     },
     "execution_count": 131,
     "metadata": {},
     "output_type": "execute_result"
    }
   ],
   "source": [
    "küme1.isdisjoint(küme3) # Küme kesişimi boş "
   ]
  },
  {
   "cell_type": "markdown",
   "id": "cb120f36-00a8-40ef-949c-76e0fb2bff70",
   "metadata": {},
   "source": [
    "#### 📌Alt kümesi mi ? : ***issubset()*** metodu\n",
    "Bu metod , birinci küme ikinci kümenin alt kümesiyse True, değilse False döner."
   ]
  },
  {
   "cell_type": "code",
   "execution_count": 140,
   "id": "49cefa02-271f-47d1-833c-731bbc6fd072",
   "metadata": {},
   "outputs": [],
   "source": [
    "küme1 = {1,2,3}\n",
    "küme2 = {1,2,3,4}\n",
    "küme3 = {5,6,7}"
   ]
  },
  {
   "cell_type": "code",
   "execution_count": 142,
   "id": "95a9e6df-45d4-4b40-967d-4127e46087d7",
   "metadata": {},
   "outputs": [
    {
     "data": {
      "text/plain": [
       "True"
      ]
     },
     "execution_count": 142,
     "metadata": {},
     "output_type": "execute_result"
    }
   ],
   "source": [
    "küme1.issubset(küme2) # küme1 küme2'nin alt kümesi mi ?"
   ]
  },
  {
   "cell_type": "code",
   "execution_count": 144,
   "id": "5ee692a5-b518-401d-b276-280f1c0495b1",
   "metadata": {},
   "outputs": [
    {
     "data": {
      "text/plain": [
       "False"
      ]
     },
     "execution_count": 144,
     "metadata": {},
     "output_type": "execute_result"
    }
   ],
   "source": [
    "küme1.issubset(küme3)"
   ]
  },
  {
   "cell_type": "markdown",
   "id": "37116a1a-258c-422c-a4a5-20430b63f399",
   "metadata": {},
   "source": [
    "#### 📌Birleşim Kümesi : union() metodu\n",
    "Bu metod, iki kümenin birleşim kümesini döner."
   ]
  },
  {
   "cell_type": "code",
   "execution_count": 149,
   "id": "e916a145-2af8-469f-8c7c-c58441ff4f6c",
   "metadata": {},
   "outputs": [],
   "source": [
    "küme1 = {1,2,3,10,34,100,-2}\n",
    "küme2 = {1,2,23,34,-1}"
   ]
  },
  {
   "cell_type": "code",
   "execution_count": 153,
   "id": "753c1d80-95fd-4a41-aa6d-14c65e6c0c81",
   "metadata": {},
   "outputs": [
    {
     "data": {
      "text/plain": [
       "{-2, -1, 1, 2, 3, 10, 23, 34, 100}"
      ]
     },
     "execution_count": 153,
     "metadata": {},
     "output_type": "execute_result"
    }
   ],
   "source": [
    "küme1.union(küme2) # küme birleşimi döner"
   ]
  },
  {
   "cell_type": "markdown",
   "id": "7e88e2ec-caa4-4f48-afc8-3179d6aaf579",
   "metadata": {},
   "source": [
    "#### 📌Birleşim Kümesi ve update : update() metodu\n",
    "Bu birinci kümeyle ikinci kümenin birleşim kümesini döner ve birinci kümeyi buna göre günceller."
   ]
  },
  {
   "cell_type": "code",
   "execution_count": 164,
   "id": "49e0863b-56af-493c-ba85-b2cf0c35cb09",
   "metadata": {},
   "outputs": [],
   "source": [
    "küme1 = {1,2,3,10,34,100,-2}\n",
    "küme2 = {1,2,23,34,-1}"
   ]
  },
  {
   "cell_type": "code",
   "execution_count": 172,
   "id": "a4c1ba68-949c-4752-86fb-d174cae9eb6b",
   "metadata": {},
   "outputs": [],
   "source": [
    "küme1.update(küme2) # iki kümeyi birleştir ve küme1'i buna güncelle."
   ]
  },
  {
   "cell_type": "code",
   "execution_count": 168,
   "id": "5b56db10-0845-4b67-aff6-49dfcbf60436",
   "metadata": {},
   "outputs": [
    {
     "data": {
      "text/plain": [
       "{-2, -1, 1, 2, 3, 10, 23, 34, 100}"
      ]
     },
     "execution_count": 168,
     "metadata": {},
     "output_type": "execute_result"
    }
   ],
   "source": [
    "küme1"
   ]
  },
  {
   "cell_type": "code",
   "execution_count": null,
   "id": "60effd25-8ca1-4dda-b7a2-ed006d60a40d",
   "metadata": {},
   "outputs": [],
   "source": []
  }
 ],
 "metadata": {
  "kernelspec": {
   "display_name": "Python 3 (ipykernel)",
   "language": "python",
   "name": "python3"
  },
  "language_info": {
   "codemirror_mode": {
    "name": "ipython",
    "version": 3
   },
   "file_extension": ".py",
   "mimetype": "text/x-python",
   "name": "python",
   "nbconvert_exporter": "python",
   "pygments_lexer": "ipython3",
   "version": "3.12.4"
  }
 },
 "nbformat": 4,
 "nbformat_minor": 5
}
