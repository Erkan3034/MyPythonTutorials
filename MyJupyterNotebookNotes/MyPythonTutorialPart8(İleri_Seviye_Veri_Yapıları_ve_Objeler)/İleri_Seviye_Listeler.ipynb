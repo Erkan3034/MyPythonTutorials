{
 "cells": [
  {
   "cell_type": "markdown",
   "id": "e61d9920-10b9-43c6-aced-497cdc6bb303",
   "metadata": {},
   "source": [
    "### İleri Seviye Listeler\n",
    "Bu konuda listelerin üzerinde en çok kullanılan metodları öğreneceğiz.\n",
    "\n",
    "#### 📌append() metodu\n",
    "*append* metodu listenin en sonuna eleman eklememizi sağlar."
   ]
  },
  {
   "cell_type": "code",
   "execution_count": 53,
   "id": "0518b4b0-1932-4e0d-a723-8ae327cef03f",
   "metadata": {},
   "outputs": [],
   "source": [
    "liste = [1,2,3,4,5]"
   ]
  },
  {
   "cell_type": "markdown",
   "id": "c2641d2c-20ec-4ca9-a4a6-8f1b1f370157",
   "metadata": {},
   "source": [
    "liste.append(1205)"
   ]
  },
  {
   "cell_type": "code",
   "execution_count": 55,
   "id": "bf552da7-94fd-4da7-b359-f594345249e3",
   "metadata": {},
   "outputs": [
    {
     "data": {
      "text/plain": [
       "[1, 2, 3, 4, 5]"
      ]
     },
     "execution_count": 55,
     "metadata": {},
     "output_type": "execute_result"
    }
   ],
   "source": [
    "liste"
   ]
  },
  {
   "cell_type": "code",
   "execution_count": 56,
   "id": "fecf1760-5fcf-43c0-a68b-403d1043558c",
   "metadata": {},
   "outputs": [],
   "source": [
    "liste.append(\"python\")"
   ]
  },
  {
   "cell_type": "code",
   "execution_count": 57,
   "id": "b4b0fcc3-f795-4117-82f9-285c496d0056",
   "metadata": {},
   "outputs": [
    {
     "data": {
      "text/plain": [
       "[1, 2, 3, 4, 5, 'python']"
      ]
     },
     "execution_count": 57,
     "metadata": {},
     "output_type": "execute_result"
    }
   ],
   "source": [
    "liste"
   ]
  },
  {
   "cell_type": "markdown",
   "id": "0a7fe353-7f40-48c4-aea6-f82461df49e5",
   "metadata": {},
   "source": [
    "#### 📌extend() metodu\n",
    "*extend()* metodu bir listeye başka bir listenin elemanları eklememizi sağlar."
   ]
  },
  {
   "cell_type": "code",
   "execution_count": 59,
   "id": "e20a1cbf-7d25-4e81-8fb3-8adb370405ec",
   "metadata": {},
   "outputs": [
    {
     "data": {
      "text/plain": [
       "[1, 2, 3, 4, 5, 'python']"
      ]
     },
     "execution_count": 59,
     "metadata": {},
     "output_type": "execute_result"
    }
   ],
   "source": [
    "liste"
   ]
  },
  {
   "cell_type": "code",
   "execution_count": 60,
   "id": "9fff7bd4-c4ae-4359-9275-58bb7538fae5",
   "metadata": {},
   "outputs": [],
   "source": [
    "liste2 = [\"Erkan\", \"Serkan\"]"
   ]
  },
  {
   "cell_type": "code",
   "execution_count": 61,
   "id": "5416240b-b1a4-4df1-b400-802e388a840d",
   "metadata": {},
   "outputs": [],
   "source": [
    "liste.extend(liste2)"
   ]
  },
  {
   "cell_type": "code",
   "execution_count": 62,
   "id": "a1867922-5142-447f-acc0-bbb12fad97b1",
   "metadata": {},
   "outputs": [
    {
     "data": {
      "text/plain": [
       "[1, 2, 3, 4, 5, 'python', 'Erkan', 'Serkan']"
      ]
     },
     "execution_count": 62,
     "metadata": {},
     "output_type": "execute_result"
    }
   ],
   "source": [
    "liste"
   ]
  },
  {
   "cell_type": "markdown",
   "id": "63c01764-d958-429e-9f5c-5d86f42dca34",
   "metadata": {},
   "source": [
    "#### 📌insert() metodu\n",
    "*insert()* metodu listenin belli bir indeksine bir eleman eklememizi sağlar."
   ]
  },
  {
   "cell_type": "code",
   "execution_count": 83,
   "id": "bee8377b-9b1f-40b5-8e13-dcc591b703ba",
   "metadata": {},
   "outputs": [],
   "source": [
    "liste3 = [1,2,3,4,5,6,7]"
   ]
  },
  {
   "cell_type": "code",
   "execution_count": 85,
   "id": "0cc2ece1-1899-44f6-a67a-5d12a9d911b4",
   "metadata": {},
   "outputs": [],
   "source": [
    "liste3.insert(3,\"Dört\") # 3. index'e \"Dört\" ekliyoruz"
   ]
  },
  {
   "cell_type": "code",
   "execution_count": 87,
   "id": "3c94cdcb-062e-4d92-a5bb-4e24dc962cd7",
   "metadata": {},
   "outputs": [
    {
     "data": {
      "text/plain": [
       "[1, 2, 3, 'Dört', 4, 5, 6, 7]"
      ]
     },
     "execution_count": 87,
     "metadata": {},
     "output_type": "execute_result"
    }
   ],
   "source": [
    "liste3"
   ]
  },
  {
   "cell_type": "markdown",
   "id": "58ea76e3-301e-4f82-9fe3-0593c380a8a5",
   "metadata": {},
   "source": [
    "#### 📌pop() metodu\n",
    "*pop() metodu* içine hiçbir değer vermezsek listenin son elemanını silerek ekrana basar. İçine belli bir indeks değeri verirsek o indeksi siler ve ekrana basar."
   ]
  },
  {
   "cell_type": "code",
   "execution_count": 104,
   "id": "9fed17fd-f0ec-48bf-a6de-76a442790c55",
   "metadata": {},
   "outputs": [],
   "source": [
    "liste4 = [1,2,3,4,5,6,7]"
   ]
  },
  {
   "cell_type": "code",
   "execution_count": 106,
   "id": "799d8356-2596-4ef1-9483-2afd1f029cdf",
   "metadata": {},
   "outputs": [
    {
     "data": {
      "text/plain": [
       "7"
      ]
     },
     "execution_count": 106,
     "metadata": {},
     "output_type": "execute_result"
    }
   ],
   "source": [
    "liste4.pop() # Son eleman siliniyor."
   ]
  },
  {
   "cell_type": "code",
   "execution_count": 108,
   "id": "42b41e1e-03df-44bb-9bcf-df94c10404b5",
   "metadata": {},
   "outputs": [
    {
     "data": {
      "text/plain": [
       "5"
      ]
     },
     "execution_count": 108,
     "metadata": {},
     "output_type": "execute_result"
    }
   ],
   "source": [
    "liste4.pop(4)  #4. indexteki elemanı sil."
   ]
  },
  {
   "cell_type": "markdown",
   "id": "4ebf25a4-c781-4dbc-9887-d40553ea5ba3",
   "metadata": {},
   "source": [
    "#### 📌remove() metodu\n",
    "*remove() metodu* verdiğimiz değeri listeden çıkarmamızı sağlar."
   ]
  },
  {
   "cell_type": "code",
   "execution_count": 122,
   "id": "673cadbb-7ba4-491b-ac64-816900fc5daf",
   "metadata": {},
   "outputs": [],
   "source": [
    "liste5 = [1,2,3,4,5,6,7]"
   ]
  },
  {
   "cell_type": "code",
   "execution_count": 124,
   "id": "e8c1ce28-a2ff-49c2-8a3d-502e76b05962",
   "metadata": {},
   "outputs": [],
   "source": [
    "liste5.remove(6) # 6'yı siler."
   ]
  },
  {
   "cell_type": "code",
   "execution_count": 126,
   "id": "656437c8-8a5c-4a81-aa38-83866dddab42",
   "metadata": {},
   "outputs": [
    {
     "data": {
      "text/plain": [
       "[1, 2, 3, 4, 5, 7]"
      ]
     },
     "execution_count": 126,
     "metadata": {},
     "output_type": "execute_result"
    }
   ],
   "source": [
    "liste5"
   ]
  },
  {
   "cell_type": "markdown",
   "id": "eddcc340-e3c1-4211-adc3-4def18281e58",
   "metadata": {},
   "source": [
    "#### 📌index() metodu\n",
    "*index() metodu* verilen bir değerin baştan başlayarak hangi indekste olduğunu söyler. Değer listede yoksa hata döner. Eğer ekstra index değeri belirtilirse, *index metodu()* değeri bu indeksten itibaren aramaya çalışır."
   ]
  },
  {
   "cell_type": "code",
   "execution_count": 135,
   "id": "35b25cd3-1323-4cce-9419-6ba828f9747c",
   "metadata": {},
   "outputs": [],
   "source": [
    "liste6 = [1,2,3,4,3,3,5,6,7,8,9]"
   ]
  },
  {
   "cell_type": "code",
   "execution_count": 137,
   "id": "c1a8caed-0b03-4cc1-b2f3-df61e2467fde",
   "metadata": {},
   "outputs": [
    {
     "data": {
      "text/plain": [
       "3"
      ]
     },
     "execution_count": 137,
     "metadata": {},
     "output_type": "execute_result"
    }
   ],
   "source": [
    "liste6.index(4) #4ün indexini basar."
   ]
  },
  {
   "cell_type": "code",
   "execution_count": 141,
   "id": "b250bb2b-a9ea-4841-a7ca-32743c458690",
   "metadata": {},
   "outputs": [
    {
     "data": {
      "text/plain": [
       "4"
      ]
     },
     "execution_count": 141,
     "metadata": {},
     "output_type": "execute_result"
    }
   ],
   "source": [
    "liste6.index(3,3) # 3 elemanı 3.indekten itibaren arandığından 4.indekste "
   ]
  },
  {
   "cell_type": "markdown",
   "id": "2c356dde-7f32-43d0-877c-101fa8f138bb",
   "metadata": {},
   "source": [
    "#### 📌count() metodu\n",
    "*count() metodu* verilen bir değerin listede kaç defa geçtiğini sayar."
   ]
  },
  {
   "cell_type": "code",
   "execution_count": 144,
   "id": "b0069b1d-a357-4b33-aa98-fdaa6847ad87",
   "metadata": {},
   "outputs": [],
   "source": [
    "liste7 = [1,2,3,4,3,3,5,6,7,8,9,9,9]"
   ]
  },
  {
   "cell_type": "code",
   "execution_count": 148,
   "id": "d75b9090-fac2-4148-8938-0427f38bbe95",
   "metadata": {},
   "outputs": [
    {
     "data": {
      "text/plain": [
       "3"
      ]
     },
     "execution_count": 148,
     "metadata": {},
     "output_type": "execute_result"
    }
   ],
   "source": [
    "liste7.count(9) # 9 değerinin listede kaç defa geçtiğini döner"
   ]
  },
  {
   "cell_type": "markdown",
   "id": "90634f73-16de-4b23-a57f-00ac2dd5a479",
   "metadata": {},
   "source": [
    "#### 📌sort() metodu\n",
    "*sort()* metodu bir listenin elemanlarını sayıysa küçükten büyüğe , string ise alfabetik olarak sıralar. Eğer özellikle içine *reverse = True* değeri verilirse elemanları büyükten küçüğe sıralar."
   ]
  },
  {
   "cell_type": "code",
   "execution_count": 153,
   "id": "a7631d9a-3772-4e3a-83a8-ae334d624864",
   "metadata": {},
   "outputs": [],
   "source": [
    "liste8 = [1,2,3,4,3,3,5,6,7,8,9,9,9]"
   ]
  },
  {
   "cell_type": "code",
   "execution_count": 155,
   "id": "63bdea85-bea0-49ba-b270-324444658209",
   "metadata": {},
   "outputs": [],
   "source": [
    "liste8.sort()"
   ]
  },
  {
   "cell_type": "code",
   "execution_count": 157,
   "id": "750f9d08-92a9-4d2d-bd3c-8737f0b5fd1b",
   "metadata": {},
   "outputs": [
    {
     "data": {
      "text/plain": [
       "[1, 2, 3, 3, 3, 4, 5, 6, 7, 8, 9, 9, 9]"
      ]
     },
     "execution_count": 157,
     "metadata": {},
     "output_type": "execute_result"
    }
   ],
   "source": [
    "liste8"
   ]
  },
  {
   "cell_type": "code",
   "execution_count": 169,
   "id": "f18dc6b1-0db5-4255-a27f-743f0d284d6e",
   "metadata": {},
   "outputs": [],
   "source": [
    "liste9 = [\"Python\",\"Php\",\"C\",\"Java\"]"
   ]
  },
  {
   "cell_type": "code",
   "execution_count": 171,
   "id": "226cb652-13f1-4236-bfae-8930a4de57bb",
   "metadata": {},
   "outputs": [
    {
     "data": {
      "text/plain": [
       "['C', 'Java', 'Php', 'Python']"
      ]
     },
     "execution_count": 171,
     "metadata": {},
     "output_type": "execute_result"
    }
   ],
   "source": [
    "liste9.sort()\n",
    "liste9"
   ]
  },
  {
   "cell_type": "code",
   "execution_count": null,
   "id": "388c3076-3a7d-4794-a5c4-44ff96e9d3a7",
   "metadata": {},
   "outputs": [],
   "source": []
  }
 ],
 "metadata": {
  "kernelspec": {
   "display_name": "Python 3 (ipykernel)",
   "language": "python",
   "name": "python3"
  },
  "language_info": {
   "codemirror_mode": {
    "name": "ipython",
    "version": 3
   },
   "file_extension": ".py",
   "mimetype": "text/x-python",
   "name": "python",
   "nbconvert_exporter": "python",
   "pygments_lexer": "ipython3",
   "version": "3.12.4"
  }
 },
 "nbformat": 4,
 "nbformat_minor": 5
}
