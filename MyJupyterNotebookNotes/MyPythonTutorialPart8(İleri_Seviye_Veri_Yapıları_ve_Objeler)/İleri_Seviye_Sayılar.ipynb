{
 "cells": [
  {
   "cell_type": "markdown",
   "id": "326b38e4-01c9-46c8-9e1c-9cce2846c2a3",
   "metadata": {},
   "source": [
    "### İleri Seviye Sayılar"
   ]
  },
  {
   "cell_type": "markdown",
   "id": "d150b3dc-3e93-422b-8d92-0b48f4f3415e",
   "metadata": {},
   "source": [
    "Bazen programlamada sayılarımızı 10'luk taban haricinde 2'lik(binary) ve 16'lık(hexadecimal) tabanda göstermek ve kullanmak isteyebiliriz.\n",
    "\n",
    "10'luk tabandaki sayıları 2'lik ve 16'lık tabanda göstermeye başlamadan önce şu linklerden 2'lik(binary) ve 16'lık(hexadecimal) tabanları inceleyelim.\n",
    "\n",
    "https://www.turkcebilgi.com/ikili_(binary)_say%C4%B1_sistemleri\n",
    "\n",
    "http://www.blogkafem.net/2014/01/sayi-sistemleri.html\n",
    "\n",
    "Şimdi  10'luk tabandaki bir sayıyı ikilik tabana çevirmek için kullanılan *bin()* fonksiyonuna bakalım."
   ]
  },
  {
   "cell_type": "markdown",
   "id": "3cc48407-274a-41cc-9712-dc10ae3c1fc8",
   "metadata": {},
   "source": [
    "Bunu örneklerle açıklayayım:\n",
    "________________________________________________________________\n",
    "📌Örnek:--> Onluk sistemden ikili sisteme geçiş.\n",
    "Sayı: 13\n",
    "\n",
    "13 ÷ 2 = 6 kalan 1\n",
    "\n",
    "6 ÷ 2 = 3 kalan 0\n",
    "\n",
    "3 ÷ 2 = 1 kalan 1\n",
    "\n",
    "1 ÷ 2 = 0 kalan 1\n",
    "\n",
    "✔️İkili Sistem: 1101\n",
    "\n",
    "________________________________________________________________\n",
    "\n",
    "\n",
    "📌Sayı: 1101 (ikilik sistemden onluk sisteme geçiş)\n",
    "\n",
    "(1 × 2^3) + (1 × 2^2) + (0 × 2^1) + (1 × 2^0)\n",
    "\n",
    "(1 × 8) + (1 × 4) + (0 × 2) + (1 × 1)\n",
    "\n",
    "8 + 4 + 0 + 1 = 13\n",
    "\n",
    "✔️Ondalık Sistem: 13"
   ]
  },
  {
   "cell_type": "code",
   "execution_count": 7,
   "id": "a35295a4-0399-44b3-8f31-2b5d8e240787",
   "metadata": {},
   "outputs": [
    {
     "data": {
      "text/plain": [
       "'0b101'"
      ]
     },
     "execution_count": 7,
     "metadata": {},
     "output_type": "execute_result"
    }
   ],
   "source": [
    "bin(5) # bin() fonksiyonu ile sayımızı 10'luk tabandan 2'lik tabana(1 ve 0) çektik."
   ]
  },
  {
   "cell_type": "code",
   "execution_count": 14,
   "id": "fa761553-8c54-40af-b520-a399bd8fd907",
   "metadata": {},
   "outputs": [
    {
     "data": {
      "text/plain": [
       "'0b1101'"
      ]
     },
     "execution_count": 14,
     "metadata": {},
     "output_type": "execute_result"
    }
   ],
   "source": [
    "bin(13)"
   ]
  },
  {
   "cell_type": "code",
   "execution_count": 20,
   "id": "ac402d43-82df-4a98-b9c9-a1c522ffb77d",
   "metadata": {},
   "outputs": [
    {
     "data": {
      "text/plain": [
       "'0b10010110101'"
      ]
     },
     "execution_count": 20,
     "metadata": {},
     "output_type": "execute_result"
    }
   ],
   "source": [
    "bin(1205)"
   ]
  },
  {
   "cell_type": "markdown",
   "id": "74f897c3-b9f5-444f-9db5-3386a84bc6f2",
   "metadata": {},
   "source": [
    "_________________________________________\n",
    "Şimdi de 10'luk tabandaki bir sayıyı 16'lık tabana çevirmek için kullanılan **hex()** fonksiyonuna bakalım."
   ]
  },
  {
   "cell_type": "code",
   "execution_count": 40,
   "id": "3e4ccbc7-06f9-4b32-8da9-c534cdefdd9a",
   "metadata": {},
   "outputs": [
    {
     "data": {
      "text/plain": [
       "'0x2d'"
      ]
     },
     "execution_count": 40,
     "metadata": {},
     "output_type": "execute_result"
    }
   ],
   "source": [
    "hex(45)  #sayı 16'lık tabanda yazıldı."
   ]
  },
  {
   "cell_type": "code",
   "execution_count": 2,
   "id": "98790a2e-4f18-4573-be6f-5c478a47831d",
   "metadata": {},
   "outputs": [
    {
     "data": {
      "text/plain": [
       "'0x36'"
      ]
     },
     "execution_count": 2,
     "metadata": {},
     "output_type": "execute_result"
    }
   ],
   "source": [
    "hex(54) # Sayımız 16'lık tabanda yazıldı.\n"
   ]
  },
  {
   "cell_type": "markdown",
   "id": "f8c1727f-48c1-4055-bd70-13684caa6e37",
   "metadata": {},
   "source": [
    "_________________________________"
   ]
  },
  {
   "cell_type": "markdown",
   "id": "70812f76-faed-4ecd-be5f-87f01cdc4853",
   "metadata": {},
   "source": [
    "### Fonksiyonlar\n",
    "\n",
    "##### 📌abs fonksiyonu\n",
    "Sayının mutlak değerini almamızı sağlar."
   ]
  },
  {
   "cell_type": "code",
   "execution_count": 11,
   "id": "6a507de0-6ce7-4a01-ad1c-60f08d55a792",
   "metadata": {},
   "outputs": [
    {
     "data": {
      "text/plain": [
       "4"
      ]
     },
     "execution_count": 11,
     "metadata": {},
     "output_type": "execute_result"
    }
   ],
   "source": [
    "abs(-4)"
   ]
  },
  {
   "cell_type": "code",
   "execution_count": 13,
   "id": "fb3ec17f-c50e-41d1-9ecd-bbdfbe2fcc1a",
   "metadata": {},
   "outputs": [
    {
     "data": {
      "text/plain": [
       "45"
      ]
     },
     "execution_count": 13,
     "metadata": {},
     "output_type": "execute_result"
    }
   ],
   "source": [
    "abs(-45)"
   ]
  },
  {
   "cell_type": "code",
   "execution_count": 15,
   "id": "bf13b6b3-a2fb-4ef9-ab2c-9fb39ffb1415",
   "metadata": {},
   "outputs": [
    {
     "data": {
      "text/plain": [
       "121"
      ]
     },
     "execution_count": 15,
     "metadata": {},
     "output_type": "execute_result"
    }
   ],
   "source": [
    "abs(121)"
   ]
  },
  {
   "cell_type": "markdown",
   "id": "e9a1b09c-84f8-4483-990d-c34357be032f",
   "metadata": {},
   "source": [
    "#### 📌round fonksiyonu\n",
    "Sayıları alta veya üste yuvarlar."
   ]
  },
  {
   "cell_type": "code",
   "execution_count": 23,
   "id": "ce9882c0-a490-408c-b510-a17680340bc9",
   "metadata": {},
   "outputs": [
    {
     "data": {
      "text/plain": [
       "12"
      ]
     },
     "execution_count": 23,
     "metadata": {},
     "output_type": "execute_result"
    }
   ],
   "source": [
    "round(12.4)"
   ]
  },
  {
   "cell_type": "code",
   "execution_count": 25,
   "id": "a8d6ac9f-62c2-4268-ba85-b48f9fbb4b5a",
   "metadata": {},
   "outputs": [
    {
     "data": {
      "text/plain": [
       "13"
      ]
     },
     "execution_count": 25,
     "metadata": {},
     "output_type": "execute_result"
    }
   ],
   "source": [
    "round(12.6)"
   ]
  },
  {
   "cell_type": "code",
   "execution_count": 27,
   "id": "545442f0-cea8-4ad3-b9f7-8e0e67a121bd",
   "metadata": {},
   "outputs": [
    {
     "data": {
      "text/plain": [
       "12"
      ]
     },
     "execution_count": 27,
     "metadata": {},
     "output_type": "execute_result"
    }
   ],
   "source": [
    "round(12.5)"
   ]
  },
  {
   "cell_type": "code",
   "execution_count": 29,
   "id": "50d698c8-d404-45cb-b277-5c532795d256",
   "metadata": {},
   "outputs": [
    {
     "data": {
      "text/plain": [
       "3.2133"
      ]
     },
     "execution_count": 29,
     "metadata": {},
     "output_type": "execute_result"
    }
   ],
   "source": [
    "round(3.21329321321323,4) # Ondalıklı sayının 4. hanesine göre yuvarlar"
   ]
  },
  {
   "cell_type": "code",
   "execution_count": 31,
   "id": "ae0c735a-2595-4804-90fd-3e9eae1453a5",
   "metadata": {},
   "outputs": [
    {
     "data": {
      "text/plain": [
       "3.2132"
      ]
     },
     "execution_count": 31,
     "metadata": {},
     "output_type": "execute_result"
    }
   ],
   "source": [
    "round(3.21324321321323,4) # Ondalıklı sayının 4. hanesine göre yuvarlar"
   ]
  },
  {
   "cell_type": "markdown",
   "id": "c819046a-8cb3-42be-8a8b-71128a62d175",
   "metadata": {},
   "source": [
    "### max ve min fonksiyonu\n",
    "📌*max()* fonksiyonu verdiğimiz değerlerin en büyüğünü döndürür.\n",
    "\n",
    "📌*min()* fonksiyonu verdiğimiz değerlerin en küçüğünü döndürür."
   ]
  },
  {
   "cell_type": "code",
   "execution_count": 34,
   "id": "f9920e1e-dcf5-42a2-8e86-baf844b7ca59",
   "metadata": {},
   "outputs": [
    {
     "data": {
      "text/plain": [
       "985"
      ]
     },
     "execution_count": 34,
     "metadata": {},
     "output_type": "execute_result"
    }
   ],
   "source": [
    "max(12,45,86,78,1,3,985)"
   ]
  },
  {
   "cell_type": "code",
   "execution_count": 38,
   "id": "4528ad92-1f72-4dc4-ab24-c3e5ce4931d5",
   "metadata": {},
   "outputs": [
    {
     "data": {
      "text/plain": [
       "15.6"
      ]
     },
     "execution_count": 38,
     "metadata": {},
     "output_type": "execute_result"
    }
   ],
   "source": [
    "max([13.2,-4.32,1.2,15.6]) # Sayıları liste şeklinde de verebiliriz."
   ]
  },
  {
   "cell_type": "code",
   "execution_count": 40,
   "id": "5411679f-a3d0-409c-ac77-08cd042c3a97",
   "metadata": {},
   "outputs": [
    {
     "data": {
      "text/plain": [
       "-3"
      ]
     },
     "execution_count": 40,
     "metadata": {},
     "output_type": "execute_result"
    }
   ],
   "source": [
    "min(12,45,86,78,1,-3,985)"
   ]
  },
  {
   "cell_type": "markdown",
   "id": "07b1f56e-57b8-40db-b0b0-05faf72e3595",
   "metadata": {},
   "source": [
    "### sum fonksiyonu\n",
    "📌\"*sum() fonksiyonu\"* verilen değerleri toplayarak döndürür. Değerlerin liste,demet vb. şeklinde verilmesi gerekir."
   ]
  },
  {
   "cell_type": "code",
   "execution_count": 48,
   "id": "0f18d595-f2cc-4b6c-a3ea-ecc8aa59c361",
   "metadata": {},
   "outputs": [
    {
     "ename": "TypeError",
     "evalue": "'int' object is not iterable",
     "output_type": "error",
     "traceback": [
      "\u001b[1;31m---------------------------------------------------------------------------\u001b[0m",
      "\u001b[1;31mTypeError\u001b[0m                                 Traceback (most recent call last)",
      "Cell \u001b[1;32mIn[48], line 1\u001b[0m\n\u001b[1;32m----> 1\u001b[0m \u001b[38;5;28msum\u001b[39m(\u001b[38;5;241m5\u001b[39m,\u001b[38;5;241m8\u001b[39m)\n",
      "\u001b[1;31mTypeError\u001b[0m: 'int' object is not iterable"
     ]
    }
   ],
   "source": [
    "sum(5,8)"
   ]
  },
  {
   "cell_type": "code",
   "execution_count": 50,
   "id": "fc67c52b-114e-4607-954e-c60d66b398c4",
   "metadata": {},
   "outputs": [
    {
     "data": {
      "text/plain": [
       "7"
      ]
     },
     "execution_count": 50,
     "metadata": {},
     "output_type": "execute_result"
    }
   ],
   "source": [
    "sum((3,4)) # demet olarak verdik."
   ]
  },
  {
   "cell_type": "code",
   "execution_count": 56,
   "id": "82cd414f-347c-4119-a88d-268f2b071ca1",
   "metadata": {},
   "outputs": [
    {
     "data": {
      "text/plain": [
       "7"
      ]
     },
     "execution_count": 56,
     "metadata": {},
     "output_type": "execute_result"
    }
   ],
   "source": [
    "sum([3,4]) #liste olarak verdik."
   ]
  },
  {
   "cell_type": "markdown",
   "id": "c5b1720d-05e6-47c2-af06-5015ca3c2e75",
   "metadata": {},
   "source": [
    "### 📌pow fonksiyonu\n",
    "*pow() fonksiyonu* üs alma işlemlerinde kullanılır."
   ]
  },
  {
   "cell_type": "code",
   "execution_count": 59,
   "id": "2341d8a2-c80f-44b0-b48e-d5aba92a5e85",
   "metadata": {},
   "outputs": [
    {
     "data": {
      "text/plain": [
       "32"
      ]
     },
     "execution_count": 59,
     "metadata": {},
     "output_type": "execute_result"
    }
   ],
   "source": [
    "pow(2,5)"
   ]
  },
  {
   "cell_type": "code",
   "execution_count": 63,
   "id": "907eac7a-bb7c-4eed-88ed-b75f628241f3",
   "metadata": {},
   "outputs": [
    {
     "data": {
      "text/plain": [
       "1024"
      ]
     },
     "execution_count": 63,
     "metadata": {},
     "output_type": "execute_result"
    }
   ],
   "source": [
    "pow(4,5)"
   ]
  },
  {
   "cell_type": "code",
   "execution_count": null,
   "id": "29a63725-48b9-42db-a36a-6fc72aa904b0",
   "metadata": {},
   "outputs": [],
   "source": []
  }
 ],
 "metadata": {
  "kernelspec": {
   "display_name": "Python 3 (ipykernel)",
   "language": "python",
   "name": "python3"
  },
  "language_info": {
   "codemirror_mode": {
    "name": "ipython",
    "version": 3
   },
   "file_extension": ".py",
   "mimetype": "text/x-python",
   "name": "python",
   "nbconvert_exporter": "python",
   "pygments_lexer": "ipython3",
   "version": "3.12.4"
  }
 },
 "nbformat": 4,
 "nbformat_minor": 5
}
