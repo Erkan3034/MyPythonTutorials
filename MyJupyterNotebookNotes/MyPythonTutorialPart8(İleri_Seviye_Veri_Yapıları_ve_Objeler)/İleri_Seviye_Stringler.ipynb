{
 "cells": [
  {
   "cell_type": "markdown",
   "id": "93dbec6d-eed3-4fbb-993b-1c15667b9dff",
   "metadata": {},
   "source": [
    "### İleri Seviye Karakter Dizileri (Stringler)\n",
    "Bu konuda karakter dizilerinin yararlı metodlarını öğrenelim.\n",
    "\n",
    "#### 📌 upper() ve lower()\n",
    "*upper()* metodu stringin tüm karakterlerini büyük harfe çevirir.\n",
    "\n",
    "*lower()* metodu stringin tüm karakterlerini küçük harfe çevirir."
   ]
  },
  {
   "cell_type": "code",
   "execution_count": 13,
   "id": "d490cac7-ad58-4cdb-9fe9-a1849c6ffa7f",
   "metadata": {},
   "outputs": [
    {
     "data": {
      "text/plain": [
       "'ERKAN TURGUT'"
      ]
     },
     "execution_count": 13,
     "metadata": {},
     "output_type": "execute_result"
    }
   ],
   "source": [
    "isim = \"erkan turgut\"\n",
    "isim.upper()"
   ]
  },
  {
   "cell_type": "code",
   "execution_count": 15,
   "id": "29cc03b7-b3bd-42ec-a0a6-9288d98020b4",
   "metadata": {},
   "outputs": [
    {
     "data": {
      "text/plain": [
       "'turgut'"
      ]
     },
     "execution_count": 15,
     "metadata": {},
     "output_type": "execute_result"
    }
   ],
   "source": [
    "\"TURGUT\".lower()"
   ]
  },
  {
   "cell_type": "markdown",
   "id": "d93c34ba-7075-40ab-ad0d-e957866aab6e",
   "metadata": {},
   "source": [
    "______________________________"
   ]
  },
  {
   "cell_type": "markdown",
   "id": "8e7a247a-6e5d-4821-ae98-abcc1ee139a3",
   "metadata": {},
   "source": [
    "#### 📌replace()\n",
    "*replace(x,y)* : Stringteki x değerlerini y ile değiştirir."
   ]
  },
  {
   "cell_type": "code",
   "execution_count": 18,
   "id": "1bafd331-3fe7-4121-8ab3-49f7cd00ac45",
   "metadata": {},
   "outputs": [
    {
     "data": {
      "text/plain": [
       "'SERKAN'"
      ]
     },
     "execution_count": 18,
     "metadata": {},
     "output_type": "execute_result"
    }
   ],
   "source": [
    "\"ERKAN\".replace(\"E\", \"SE\")"
   ]
  },
  {
   "cell_type": "code",
   "execution_count": 20,
   "id": "53114917-6180-4f59-85d9-1b1188c20f1b",
   "metadata": {},
   "outputs": [
    {
     "data": {
      "text/plain": [
       "'Erkan turgut'"
      ]
     },
     "execution_count": 20,
     "metadata": {},
     "output_type": "execute_result"
    }
   ],
   "source": [
    "isim = \"erkan turgut\"\n",
    "isim.replace(\"e\", \"E\")"
   ]
  },
  {
   "cell_type": "code",
   "execution_count": 22,
   "id": "80628f04-f654-4b9d-8a43-3e17575121d4",
   "metadata": {},
   "outputs": [
    {
     "data": {
      "text/plain": [
       "'Python-programlama-dili'"
      ]
     },
     "execution_count": 22,
     "metadata": {},
     "output_type": "execute_result"
    }
   ],
   "source": [
    "dil = \"Python programlama dili\"\n",
    "\n",
    "dil.replace(\" \" ,\"-\") "
   ]
  },
  {
   "cell_type": "code",
   "execution_count": 50,
   "id": "8e085bf1-8453-452d-ae87-f93f9cfcad0c",
   "metadata": {},
   "outputs": [
    {
     "data": {
      "text/plain": [
       "'Istanbul/Kağıthane/YahyaKemal'"
      ]
     },
     "execution_count": 50,
     "metadata": {},
     "output_type": "execute_result"
    }
   ],
   "source": [
    "adres = \"Istanbul Kağıthane YahyaKemal\"\n",
    "adres.replace(\" \" , \"/\")"
   ]
  },
  {
   "cell_type": "markdown",
   "id": "6978e75c-5b34-4092-96e0-619c2c881461",
   "metadata": {},
   "source": [
    "______________________________"
   ]
  },
  {
   "cell_type": "markdown",
   "id": "b5a3b914-501d-4ed9-a101-7c2428994639",
   "metadata": {},
   "source": [
    "#### 📌startswith() ve endswith()\n",
    "*startswith(x)* : String x ile başlıyorsa True, başlamıyorsa False değeri döndürür.\n",
    "\n",
    "*endswith(x)* : String x ile bitiyorsa True, bitmiyorsa False değeri döndürür."
   ]
  },
  {
   "cell_type": "code",
   "execution_count": 35,
   "id": "c68ae605-1e53-43af-947f-5c969861a9c3",
   "metadata": {},
   "outputs": [
    {
     "data": {
      "text/plain": [
       "True"
      ]
     },
     "execution_count": 35,
     "metadata": {},
     "output_type": "execute_result"
    }
   ],
   "source": [
    "dil = \"Python programlama dili\"\n",
    "dil.startswith(\"P\")"
   ]
  },
  {
   "cell_type": "code",
   "execution_count": 39,
   "id": "9734f036-8920-4a50-a697-b6a1d85f3fef",
   "metadata": {},
   "outputs": [
    {
     "data": {
      "text/plain": [
       "False"
      ]
     },
     "execution_count": 39,
     "metadata": {},
     "output_type": "execute_result"
    }
   ],
   "source": [
    "dil = \"Python programlama dili\"\n",
    "dil.startswith(\"A\")"
   ]
  },
  {
   "cell_type": "code",
   "execution_count": 37,
   "id": "5225a56a-4524-4a42-ae40-f2ad82e95069",
   "metadata": {},
   "outputs": [
    {
     "data": {
      "text/plain": [
       "True"
      ]
     },
     "execution_count": 37,
     "metadata": {},
     "output_type": "execute_result"
    }
   ],
   "source": [
    "dil = \"Python programlama dili\"\n",
    "dil.endswith(\"i\")"
   ]
  },
  {
   "cell_type": "markdown",
   "id": "77e991b8-a63a-4ab3-a7e5-9643bfed1f70",
   "metadata": {},
   "source": [
    "______________________________"
   ]
  },
  {
   "cell_type": "markdown",
   "id": "e0948121-4b8c-4a56-84db-40645937b51b",
   "metadata": {},
   "source": [
    "#### 📌split()\n",
    "*split(a)* : Verilen bir a değerine göre string parçalara ayrılarak herbir parça listeye atılır."
   ]
  },
  {
   "cell_type": "code",
   "execution_count": 44,
   "id": "28f71f70-3432-49de-9f61-2f067ae3705d",
   "metadata": {},
   "outputs": [
    {
     "data": {
      "text/plain": [
       "['Python', 'programlama', 'dili']"
      ]
     },
     "execution_count": 44,
     "metadata": {},
     "output_type": "execute_result"
    }
   ],
   "source": [
    "dil = \"Python programlama dili\"\n",
    "\n",
    "dil.split(\" \") # Boşluk karakterşne göre."
   ]
  },
  {
   "cell_type": "code",
   "execution_count": 54,
   "id": "d85e2799-f60b-4534-b0bc-96a4ed157233",
   "metadata": {},
   "outputs": [
    {
     "data": {
      "text/plain": [
       "['Istanbul', 'Kağıthane', 'YahyaKemal']"
      ]
     },
     "execution_count": 54,
     "metadata": {},
     "output_type": "execute_result"
    }
   ],
   "source": [
    "adres = \"Istanbul/Kağıthane/YahyaKemal\"\n",
    "adres.split(\"/\")"
   ]
  },
  {
   "cell_type": "markdown",
   "id": "d66a91b4-c2d7-4126-9da0-792bc0b3bb86",
   "metadata": {},
   "source": [
    "____________________________"
   ]
  },
  {
   "cell_type": "markdown",
   "id": "f8accc7d-732c-4186-b622-d10d3d3f9085",
   "metadata": {},
   "source": [
    "### 📌strip() , lstrip() ve rstrip()\n",
    "*strip(x)* : Stringin başında ve sonunda bulunan x değerlerini siler.\n",
    "\n",
    "*lstrip(x)* : Stringin sadece başında bulunan x değerlerini siler.\n",
    "\n",
    "*rstrip(x)* : Stringin sadece sonunda bulunan x değerlerini siler"
   ]
  },
  {
   "cell_type": "code",
   "execution_count": 62,
   "id": "0a64606b-52f8-4cc4-a54d-b95b3ec1a679",
   "metadata": {},
   "outputs": [
    {
     "data": {
      "text/plain": [
       "'ERKAN'"
      ]
     },
     "execution_count": 62,
     "metadata": {},
     "output_type": "execute_result"
    }
   ],
   "source": [
    "\"                   ERKAN                          \".strip() # değer göndermezsek varsayılan olarak boşluk karakterini siler"
   ]
  },
  {
   "cell_type": "code",
   "execution_count": 78,
   "id": "e8cf9602-6145-4371-8154-9d029272683c",
   "metadata": {},
   "outputs": [
    {
     "data": {
      "text/plain": [
       "'ERKAN'"
      ]
     },
     "execution_count": 78,
     "metadata": {},
     "output_type": "execute_result"
    }
   ],
   "source": [
    "\">>>>>>>>>>>>>>ERKAN>>>>>>>>>>>>>>>>>>>>>>>>>>\".strip(\">\") # Stringe bulunan > karakyterlerini temzile."
   ]
  },
  {
   "cell_type": "code",
   "execution_count": 66,
   "id": "b666bd73-155d-4e62-9c28-f8594253dd95",
   "metadata": {},
   "outputs": [
    {
     "data": {
      "text/plain": [
       "'python                          '"
      ]
     },
     "execution_count": 66,
     "metadata": {},
     "output_type": "execute_result"
    }
   ],
   "source": [
    "\"                   python                          \".lstrip() # lstrip() ile Stringin başındaki boşlukları sildik."
   ]
  },
  {
   "cell_type": "code",
   "execution_count": 68,
   "id": "95c8201c-2666-47f9-89a4-91b34bb8e9ea",
   "metadata": {},
   "outputs": [
    {
     "data": {
      "text/plain": [
       "'                   python'"
      ]
     },
     "execution_count": 68,
     "metadata": {},
     "output_type": "execute_result"
    }
   ],
   "source": [
    "\"                   python                          \".rstrip() # rstrip() ile Stringin sonundaki boşlukları sildik."
   ]
  },
  {
   "cell_type": "markdown",
   "id": "f610bebb-240f-4ce6-82a5-2e55fbc6f386",
   "metadata": {},
   "source": [
    "________________"
   ]
  },
  {
   "cell_type": "markdown",
   "id": "ce102008-8cb9-4348-93f6-5a22109dd81e",
   "metadata": {},
   "source": [
    "#### 📌join()\n",
    "Listenin elemanlarını bir string değeriyle birleştirmemizi sağlar."
   ]
  },
  {
   "cell_type": "code",
   "execution_count": 92,
   "id": "418c09b1-7305-463a-a292-1af16d9510fb",
   "metadata": {},
   "outputs": [
    {
     "data": {
      "text/plain": [
       "'21/11/2024'"
      ]
     },
     "execution_count": 92,
     "metadata": {},
     "output_type": "execute_result"
    }
   ],
   "source": [
    "tarih = [\"21\",\"11\",\"2024\"]\n",
    "\"/\".join(tarih)"
   ]
  },
  {
   "cell_type": "markdown",
   "id": "f2c04b69-525c-4c43-a6e2-0dda2254dacf",
   "metadata": {},
   "source": [
    "________________"
   ]
  },
  {
   "cell_type": "markdown",
   "id": "afdd6b37-d70a-48b0-b59d-612c87926740",
   "metadata": {},
   "source": [
    "#### 📌count()\n",
    "\n",
    "*count(x)*: Stringin içindeki x değerlerini sayar.\n",
    "\n",
    "*count(x,index)*: Stringin içindeki x değerlerini verilen index değerinden başlayarak saymaya başlar."
   ]
  },
  {
   "cell_type": "code",
   "execution_count": 96,
   "id": "0b29eae7-c962-4a8d-995e-66f0b8f85ea6",
   "metadata": {},
   "outputs": [
    {
     "data": {
      "text/plain": [
       "6"
      ]
     },
     "execution_count": 96,
     "metadata": {},
     "output_type": "execute_result"
    }
   ],
   "source": [
    "\"ada kapısı yandan çarklı\".count(\"a\")"
   ]
  },
  {
   "cell_type": "code",
   "execution_count": 98,
   "id": "9d016c51-fa32-4222-9e5b-2f2fd2abae35",
   "metadata": {},
   "outputs": [
    {
     "data": {
      "text/plain": [
       "3"
      ]
     },
     "execution_count": 98,
     "metadata": {},
     "output_type": "execute_result"
    }
   ],
   "source": [
    "\"değerlerini\".count(\"e\") "
   ]
  },
  {
   "cell_type": "markdown",
   "id": "fdf34313-f352-49da-9955-93ff291ba49e",
   "metadata": {},
   "source": [
    "________________"
   ]
  },
  {
   "cell_type": "markdown",
   "id": "1b8d41bc-87b7-409c-a099-73818cf099a1",
   "metadata": {},
   "source": [
    "#### 📌find() ve rfind()\n",
    "\"*find(x)*\" : x değerini baştan itibaren string içinde arar ve bulursa ilk bulduğu indeksi döndürür. Bulamazsa \"-1\" değerini verir.\n",
    "\n",
    "*\"rfind(x)*\" : x değerini sondan itibaren string içinde arar ve bulursa ilk bulduğu indeksi döndürür. Bulamazsa \"-1\" değerini verir."
   ]
  },
  {
   "cell_type": "code",
   "execution_count": 103,
   "id": "bf405c7f-1a26-4773-9698-b8bcd62ce5f3",
   "metadata": {},
   "outputs": [
    {
     "data": {
      "text/plain": [
       "0"
      ]
     },
     "execution_count": 103,
     "metadata": {},
     "output_type": "execute_result"
    }
   ],
   "source": [
    "\"araba\".find(\"a\")"
   ]
  },
  {
   "cell_type": "code",
   "execution_count": 105,
   "id": "ecc31586-2415-4156-a3e0-2a413ec8cd61",
   "metadata": {},
   "outputs": [
    {
     "data": {
      "text/plain": [
       "4"
      ]
     },
     "execution_count": 105,
     "metadata": {},
     "output_type": "execute_result"
    }
   ],
   "source": [
    "\"araba\".rfind(\"a\")"
   ]
  },
  {
   "cell_type": "code",
   "execution_count": 107,
   "id": "7857d3eb-e929-4114-977b-b495a389c320",
   "metadata": {},
   "outputs": [
    {
     "data": {
      "text/plain": [
       "-1"
      ]
     },
     "execution_count": 107,
     "metadata": {},
     "output_type": "execute_result"
    }
   ],
   "source": [
    "\"araba\".rfind(\"s\")"
   ]
  },
  {
   "cell_type": "code",
   "execution_count": null,
   "id": "7f1fe064-1163-4473-b65d-c240243cf9e7",
   "metadata": {},
   "outputs": [],
   "source": []
  }
 ],
 "metadata": {
  "kernelspec": {
   "display_name": "Python 3 (ipykernel)",
   "language": "python",
   "name": "python3"
  },
  "language_info": {
   "codemirror_mode": {
    "name": "ipython",
    "version": 3
   },
   "file_extension": ".py",
   "mimetype": "text/x-python",
   "name": "python",
   "nbconvert_exporter": "python",
   "pygments_lexer": "ipython3",
   "version": "3.12.4"
  }
 },
 "nbformat": 4,
 "nbformat_minor": 5
}
