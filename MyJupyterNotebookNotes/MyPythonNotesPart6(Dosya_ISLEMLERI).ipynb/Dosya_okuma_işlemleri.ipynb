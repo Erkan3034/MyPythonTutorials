{
 "cells": [
  {
   "cell_type": "markdown",
   "id": "bfeea9cd-9133-4652-86f7-feae4954eebc",
   "metadata": {},
   "source": [
    "## Dosya Okuma İşlemleri\n",
    "\n",
    "Dosyaları okumak ve verileri almak için ***\"r\"*** kipiyle açmamız gerekiyor. \"r\" kipiyle açtığımız dosya eğer bulunmuyorsa **\"FileNotFoundError\"** hatası dönecektir. Şimdi bulunduğumuz dizinde bulunan \"python.txt\" dosyasını açalım\n"
   ]
  },
  {
   "cell_type": "code",
   "execution_count": 51,
   "id": "91338a62-05e7-4e18-ad09-53b5ab84258b",
   "metadata": {},
   "outputs": [],
   "source": [
    "file = open(\"python.txt\",\"r\", encoding=\"utf-8\") # r = read"
   ]
  },
  {
   "cell_type": "code",
   "execution_count": 53,
   "id": "ebf26117-78c2-4b14-baf7-46ae9626607d",
   "metadata": {},
   "outputs": [],
   "source": [
    "file.close()"
   ]
  },
  {
   "cell_type": "code",
   "execution_count": 9,
   "id": "e23b5ab8-551b-4fa4-aa43-2a87ca351fa0",
   "metadata": {},
   "outputs": [
    {
     "ename": "FileNotFoundError",
     "evalue": "[Errno 2] No such file or directory: 'python2.txt'",
     "output_type": "error",
     "traceback": [
      "\u001b[1;31m---------------------------------------------------------------------------\u001b[0m",
      "\u001b[1;31mFileNotFoundError\u001b[0m                         Traceback (most recent call last)",
      "Cell \u001b[1;32mIn[9], line 1\u001b[0m\n\u001b[1;32m----> 1\u001b[0m file \u001b[38;5;241m=\u001b[39m \u001b[38;5;28mopen\u001b[39m(\u001b[38;5;124m\"\u001b[39m\u001b[38;5;124mpython2.txt\u001b[39m\u001b[38;5;124m\"\u001b[39m, \u001b[38;5;124m\"\u001b[39m\u001b[38;5;124mr\u001b[39m\u001b[38;5;124m\"\u001b[39m , encoding \u001b[38;5;241m=\u001b[39m \u001b[38;5;124m\"\u001b[39m\u001b[38;5;124mutf-8\u001b[39m\u001b[38;5;124m\"\u001b[39m)\n",
      "File \u001b[1;32mC:\\Anaconda3\\Lib\\site-packages\\IPython\\core\\interactiveshell.py:324\u001b[0m, in \u001b[0;36m_modified_open\u001b[1;34m(file, *args, **kwargs)\u001b[0m\n\u001b[0;32m    317\u001b[0m \u001b[38;5;28;01mif\u001b[39;00m file \u001b[38;5;129;01min\u001b[39;00m {\u001b[38;5;241m0\u001b[39m, \u001b[38;5;241m1\u001b[39m, \u001b[38;5;241m2\u001b[39m}:\n\u001b[0;32m    318\u001b[0m     \u001b[38;5;28;01mraise\u001b[39;00m \u001b[38;5;167;01mValueError\u001b[39;00m(\n\u001b[0;32m    319\u001b[0m         \u001b[38;5;124mf\u001b[39m\u001b[38;5;124m\"\u001b[39m\u001b[38;5;124mIPython won\u001b[39m\u001b[38;5;124m'\u001b[39m\u001b[38;5;124mt let you open fd=\u001b[39m\u001b[38;5;132;01m{\u001b[39;00mfile\u001b[38;5;132;01m}\u001b[39;00m\u001b[38;5;124m by default \u001b[39m\u001b[38;5;124m\"\u001b[39m\n\u001b[0;32m    320\u001b[0m         \u001b[38;5;124m\"\u001b[39m\u001b[38;5;124mas it is likely to crash IPython. If you know what you are doing, \u001b[39m\u001b[38;5;124m\"\u001b[39m\n\u001b[0;32m    321\u001b[0m         \u001b[38;5;124m\"\u001b[39m\u001b[38;5;124myou can use builtins\u001b[39m\u001b[38;5;124m'\u001b[39m\u001b[38;5;124m open.\u001b[39m\u001b[38;5;124m\"\u001b[39m\n\u001b[0;32m    322\u001b[0m     )\n\u001b[1;32m--> 324\u001b[0m \u001b[38;5;28;01mreturn\u001b[39;00m io_open(file, \u001b[38;5;241m*\u001b[39margs, \u001b[38;5;241m*\u001b[39m\u001b[38;5;241m*\u001b[39mkwargs)\n",
      "\u001b[1;31mFileNotFoundError\u001b[0m: [Errno 2] No such file or directory: 'python2.txt'"
     ]
    }
   ],
   "source": [
    "file = open(\"python2.txt\", \"r\" , encoding = \"utf-8\") # Böyle bir dosya olmadığı için FileNotFound hatası verir."
   ]
  },
  {
   "cell_type": "markdown",
   "id": "9346d243-7298-4630-a54b-242cbac7c5d1",
   "metadata": {},
   "source": [
    "Dosya işlemlerini daha güvenli yazmak  ***try,except*** bloklarını kullanabilirsiniz."
   ]
  },
  {
   "cell_type": "code",
   "execution_count": 55,
   "id": "feba29a7-e484-46d3-9e5b-8e0120648599",
   "metadata": {},
   "outputs": [
    {
     "name": "stdout",
     "output_type": "stream",
     "text": [
      "Dosya bulunamadı !\n"
     ]
    }
   ],
   "source": [
    "try:\n",
    "    file = open(\"python2.txt\" , \"r\" , encoding = \"utf-8\") # python2.txt dosyası olmadığı için \"Dosya bulunamadı\" hatasını fırlatacak.\n",
    "except FileNotFoundError:\n",
    "    print(\"Dosya bulunamadı !\")"
   ]
  },
  {
   "cell_type": "markdown",
   "id": "135f930b-84e0-4940-bb07-668294a32030",
   "metadata": {},
   "source": [
    "-------------------------------------\n",
    "\n",
    "Peki bir dosyanın içinden bilgileri nasıl okuyacağız ? \n",
    "\n",
    "Bunun için Pythonda değişik yöntemler bulunuyor. Şimdi yöntemleri tek tek görmeye çalışalım.\n",
    "\n",
    "📌***For döngüsü ile okuma**\n",
    "\n",
    "Şöyle bir kullanım dosyamızdaki herbir satırı tek tek okuyacaktır."
   ]
  },
  {
   "cell_type": "code",
   "execution_count": 72,
   "id": "6a89c8a8-b536-43cd-9b19-30340384703b",
   "metadata": {},
   "outputs": [
    {
     "name": "stdout",
     "output_type": "stream",
     "text": [
      "Serkan TURGUT\n",
      "\n",
      "Necip TURGUT\n",
      "\n",
      "Erkan TURGUT\n"
     ]
    }
   ],
   "source": [
    "file = open(\"python.txt\" , \"r\" , encoding = \"utf-8\") # Dosyayı okuma kipiyle(\"r\") açıyoruz. Türkçe karaktere dikkat.\n",
    "for i in file: # Tıpkı listeler gibi dosyanın her bir satırı üzerinde geziniyoruz.\n",
    "    print(i)   # ekrana yazdırıyoruz.\n",
    "file.close()   # işlem sonrası dosyayı kaoatıyoruz.\n"
   ]
  },
  {
   "cell_type": "markdown",
   "id": "ccd45d1a-7b20-426f-9ca0-ec4452f4a900",
   "metadata": {},
   "source": [
    "Burada her bir satırımız boşluklu yazıldı. Bunun nedeni, hem her satır sonunda \"\\n\" karakterinin olması hem de print fonksiyonun bir alt satıra geçmek için boşluk bırakmasıdır. Bunu önlemek için varsayılan değer olarak \"\\n\" karakteri alan *end* parametresine kendimiz değer verebiliriz."
   ]
  },
  {
   "cell_type": "code",
   "execution_count": 74,
   "id": "ee2e7dd9-1510-4947-ac68-48f4f3798b75",
   "metadata": {},
   "outputs": [
    {
     "name": "stdout",
     "output_type": "stream",
     "text": [
      "Serkan TURGUT\n",
      "Necip TURGUT\n",
      "Erkan TURGUT"
     ]
    }
   ],
   "source": [
    "file = open(\"python.txt\",\"r\",encoding= \"utf-8\") # Dosyayı okuma kipiyle açıyoruz. Türkçe karaktere dikkat.\n",
    "\n",
    "for i in file: # Tıpkı listeler gibi dosyanın her bir satırı üzerinde geziniyoruz.\n",
    "    print(i,end = \"\") # Her bir satırı ekrana basıyoruz. end parametresi \\n yerine boşluk alacak.\n",
    "file.close()"
   ]
  },
  {
   "cell_type": "markdown",
   "id": "30933b0a-0333-464f-86d5-ad656a68d1ea",
   "metadata": {},
   "source": [
    "------------------------------------------\n",
    "#### read() fonksiyonu\n",
    "read() fonksiyonu eğer içine hiçbir değer vermezsek **bütün dosyamızı** okuyacaktır.\n",
    "\n",
    "read() fonksiyonuna değer vererek belli bir kısmı okumayı bir sonraki kısımda öğrenelim."
   ]
  },
  {
   "cell_type": "code",
   "execution_count": 108,
   "id": "822f2f55-6223-45e5-bf4e-3354112ff2d0",
   "metadata": {},
   "outputs": [
    {
     "name": "stdout",
     "output_type": "stream",
     "text": [
      "Dosya İçeriği:\n",
      "Serkan TURGUT\n",
      "Necip TURGUT\n",
      "Erkan TURGUT\n"
     ]
    }
   ],
   "source": [
    "file = open(\"python.txt\" , \"r\" , encoding= \"utf-8\")\n",
    "\n",
    "icerik = file.read() # dosyayı oku.\n",
    "\n",
    "print(\"Dosya İçeriği:\\n\" , icerik , sep = \"\")\n",
    "\n",
    "file.close()"
   ]
  },
  {
   "cell_type": "markdown",
   "id": "497ac200-3791-4708-899d-ca191c7ef8a2",
   "metadata": {},
   "source": [
    "-----------------------------------------\n",
    "📌📌read() fonksiyonuyla bir dosyayı okuduğumuzda dosya imlecimiz dosyanın ***\"en sonuna gider ve read() fonksiyonu 2. okuma da artık boş string döner\"***."
   ]
  },
  {
   "cell_type": "code",
   "execution_count": 110,
   "id": "09286a15-b364-49c5-8622-56a6dc0967b8",
   "metadata": {},
   "outputs": [
    {
     "name": "stdout",
     "output_type": "stream",
     "text": [
      "Dosya İçeriği 1:\n",
      "Serkan TURGUT\n",
      "Necip TURGUT\n",
      "Erkan TURGUT\n",
      "Dosya İçeriği 2:\n",
      "\n"
     ]
    }
   ],
   "source": [
    "file = open(\"python.txt\" , \"r\" , encoding= \"utf-8\")\n",
    "\n",
    "icerik = file.read() # dosyayı oku.\n",
    "\n",
    "print(\"Dosya İçeriği 1:\\n\" , icerik , sep = \"\")\n",
    "\n",
    "icerik2 = file.read() # dosyayı oku.\n",
    "\n",
    "print(\"Dosya İçeriği 2:\\n\" , icerik2 , sep = \"\")\n",
    "\n",
    "file.close()"
   ]
  },
  {
   "cell_type": "markdown",
   "id": "255574f5-681a-4644-aed5-256e90e434e4",
   "metadata": {},
   "source": [
    "----------------------------------------------\n",
    "#### readline() fonksiyonu\n",
    "\n",
    "readline() fonksiyonu her çağrıldığında dosyanın **\"sadece bir satırını okur\"**. Her seferinde dosya imlecimiz (file) bir satır atlayarak devam eder."
   ]
  },
  {
   "cell_type": "code",
   "execution_count": 130,
   "id": "1f193aae-7f10-421d-96ed-a8fb34fb74fd",
   "metadata": {},
   "outputs": [],
   "source": [
    "file = open(\"python.txt\",\"r\",encoding=\"utf-8\")"
   ]
  },
  {
   "cell_type": "code",
   "execution_count": 132,
   "id": "59a28a27-e783-4bf9-a45c-e1141d9ca60c",
   "metadata": {},
   "outputs": [
    {
     "name": "stdout",
     "output_type": "stream",
     "text": [
      "Serkan TURGUT\n",
      "\n"
     ]
    }
   ],
   "source": [
    "print(file.readline())"
   ]
  },
  {
   "cell_type": "code",
   "execution_count": 134,
   "id": "5f721a1a-db1f-4e90-a4c3-9abb5ed57a63",
   "metadata": {},
   "outputs": [
    {
     "name": "stdout",
     "output_type": "stream",
     "text": [
      "Necip TURGUT\n",
      "\n"
     ]
    }
   ],
   "source": [
    "print(file.readline())"
   ]
  },
  {
   "cell_type": "code",
   "execution_count": 136,
   "id": "3708f1b2-20ae-4c73-823f-ebb0cdf8c8a3",
   "metadata": {},
   "outputs": [
    {
     "name": "stdout",
     "output_type": "stream",
     "text": [
      "Erkan TURGUT\n"
     ]
    }
   ],
   "source": [
    "print(file.readline())"
   ]
  },
  {
   "cell_type": "code",
   "execution_count": 140,
   "id": "dffc2da6-87a6-43e5-9c33-fcd5b6e6f7fe",
   "metadata": {},
   "outputs": [
    {
     "name": "stdout",
     "output_type": "stream",
     "text": [
      "\n"
     ]
    }
   ],
   "source": [
    "print(file.readline()) # Okuyacak herhangi bir şey kalmayınca readline fonksiyonu boş string döner."
   ]
  },
  {
   "cell_type": "code",
   "execution_count": 142,
   "id": "a6ea2440-43a2-4f4b-9139-3b8eb85c92c6",
   "metadata": {},
   "outputs": [],
   "source": [
    "file.close()"
   ]
  },
  {
   "cell_type": "markdown",
   "id": "04e06e87-2a16-464f-a366-20a79dc03fb0",
   "metadata": {},
   "source": [
    "---------------------------\n",
    "##### readlines() fonksiyonu\n",
    "readlines() fonksiyonu dosyanın bütün satırları bir liste şeklinde döner."
   ]
  },
  {
   "cell_type": "code",
   "execution_count": 169,
   "id": "db7ae4c7-9acd-4857-9f11-5bf304b340be",
   "metadata": {},
   "outputs": [],
   "source": [
    "file = open(\"python.txt\" ,\"r\" , encoding = \"utf-8\")"
   ]
  },
  {
   "cell_type": "code",
   "execution_count": 171,
   "id": "d8adc21f-57d6-4f06-b7d6-6deb8dab8e56",
   "metadata": {},
   "outputs": [
    {
     "name": "stdout",
     "output_type": "stream",
     "text": [
      "['Serkan TURGUT\\n', 'Necip TURGUT\\n', 'Erkan TURGUT']\n"
     ]
    }
   ],
   "source": [
    "print(file.readlines())"
   ]
  },
  {
   "cell_type": "code",
   "execution_count": 173,
   "id": "ba25ffcb-5b11-445f-8a69-3fc6d6ff52f4",
   "metadata": {},
   "outputs": [],
   "source": [
    "file.close()"
   ]
  },
  {
   "cell_type": "code",
   "execution_count": null,
   "id": "350a64e0-2bac-419b-b5e2-e72acfb05fa6",
   "metadata": {},
   "outputs": [],
   "source": []
  }
 ],
 "metadata": {
  "kernelspec": {
   "display_name": "Python 3 (ipykernel)",
   "language": "python",
   "name": "python3"
  },
  "language_info": {
   "codemirror_mode": {
    "name": "ipython",
    "version": 3
   },
   "file_extension": ".py",
   "mimetype": "text/x-python",
   "name": "python",
   "nbconvert_exporter": "python",
   "pygments_lexer": "ipython3",
   "version": "3.12.4"
  }
 },
 "nbformat": 4,
 "nbformat_minor": 5
}
