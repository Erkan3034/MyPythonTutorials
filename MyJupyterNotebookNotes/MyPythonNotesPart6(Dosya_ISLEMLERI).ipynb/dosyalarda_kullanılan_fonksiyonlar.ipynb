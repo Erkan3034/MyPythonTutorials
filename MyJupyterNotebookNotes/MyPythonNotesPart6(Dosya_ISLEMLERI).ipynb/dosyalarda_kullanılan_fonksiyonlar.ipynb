{
 "cells": [
  {
   "cell_type": "markdown",
   "id": "43534fba-4974-42fa-8f77-b6a869807f16",
   "metadata": {},
   "source": [
    "## Dosyalarda Kullanılan Fonksiyonlar"
   ]
  },
  {
   "cell_type": "markdown",
   "id": "5eb0027d-e4a9-4dfb-b268-9ffead06d4cd",
   "metadata": {},
   "source": [
    "📌**Dosyaları Otomatik Kapatma**\n",
    "\n",
    "Dosyalarda işlemlerimiz bittiği zaman dosyamızı kapatmamız gerektiğini biliyoruz. Ancak programlamacılık doğası gereği çoğu zaman dosyaları kapatmayı unutabiliriz. Bunun için Pythonda dosyalarda işimiz bitince otomatik kapatma özelliği bulunuyor. Bundan sonra Pythonda dosya işlemlerimizi şu blok içinde yapacağız.\n",
    "\n",
    "                with open(dosya_adı,dosya_kipi) as file:\n",
    "                    Dosya işlemleri\n",
    "Örnek:"
   ]
  },
  {
   "cell_type": "code",
   "execution_count": 12,
   "id": "0bcbe179-2bd6-44b5-b9f8-10a0b20bc5e9",
   "metadata": {},
   "outputs": [
    {
     "name": "stdout",
     "output_type": "stream",
     "text": [
      "Serkan TURGUT\n",
      "\n",
      "Necip TURGUT\n",
      "\n",
      "Erkan TURGUT\n",
      "\n"
     ]
    }
   ],
   "source": [
    "with open(\"python.txt\" ,\"r\" , encoding = \"utf-8\") as file:\n",
    "    for i in file:\n",
    "        print(i)"
   ]
  },
  {
   "cell_type": "markdown",
   "id": "8fb50bb0-c994-4f4d-982c-39664f468f70",
   "metadata": {},
   "source": [
    "Eğer dosya işlemlerini bu blok içinde yaparsak işlemimiz bittiği zaman dosyamız otomatik olarak \"\"kapanacaktır.\""
   ]
  },
  {
   "cell_type": "markdown",
   "id": "0d61d7a6-b2e9-4a63-9aed-e0deb8940335",
   "metadata": {},
   "source": [
    "📌 \n",
    "#### Dosyaları İleri Geri Sarmak"
   ]
  },
  {
   "cell_type": "markdown",
   "id": "dc966eaa-3922-4608-8001-d60b53fc9a6b",
   "metadata": {},
   "source": [
    "Dosyaları okurken sadece dosyanın en başından başlayabiliyorduk ve dosya imlecimiz okuma işleminin sonunda ,dosyanın en sonuna gidiyordu. \n",
    "\n",
    "Ancak biz çoğu zaman dosya imlecini (file) dosyanın herhangi bir yerine götürmek isteyebiliriz. \n",
    "\n",
    "Bunun için Pythondaki ***\"seek()\"*** fonksiyonunu kullanacağız. Ancak ondan önce dosya imlecinin hangi byteda olduğunu söyleyen ***\"tell()\"*** fonksiyonuna bakalım."
   ]
  },
  {
   "cell_type": "code",
   "execution_count": 20,
   "id": "f9a78fe8-6408-4622-9605-4ae997cce6ea",
   "metadata": {},
   "outputs": [
    {
     "name": "stdout",
     "output_type": "stream",
     "text": [
      "0\n"
     ]
    }
   ],
   "source": [
    "with open(\"python.txt\",\"r\",encoding = \"utf-8\") as file:\n",
    "    print(file.tell())"
   ]
  },
  {
   "cell_type": "markdown",
   "id": "3bd59b7e-d528-408d-87d8-8d5cec1b8d57",
   "metadata": {},
   "source": [
    "\n",
    "Şu anda hiçbir işlem yapmadığımız için tell() fonksiyonu dosyanın en başında (0. byteda) olduğumuzu söyledi. Peki bir dosya imlecini dosyanın 20.byte'ına götürmek için ne yapacağız ? Bunun için de \"\"seek()\"\" fonksiyonunu kullanacağız."
   ]
  },
  {
   "cell_type": "code",
   "execution_count": 25,
   "id": "692bea83-9fb8-4b38-b454-acdb155b983b",
   "metadata": {},
   "outputs": [
    {
     "name": "stdout",
     "output_type": "stream",
     "text": [
      "15\n"
     ]
    }
   ],
   "source": [
    "with open(\"python.txt\",\"r\",encoding = \"utf-8\") as file:\n",
    "    file.seek(15) # imlecimi 15. byte'a  yerleştirdim.\n",
    "    print(file.tell()) # imlecimin 15. byte'da olduğunu söyleyecek."
   ]
  },
  {
   "cell_type": "markdown",
   "id": "3988cbab-75e7-4e74-941f-a0065a27ace7",
   "metadata": {},
   "source": [
    "👀Peki biz bir dosyanın belirli bir byte'ına(karakter) gidip **sadece belli sayıda karakteri nasıl okuyacağız ?** Eğer biz read() fonksiyonuna bir sayı değeri verirsek sadece o sayı değeri kadar alanı okuyacaktır. Hemen görelim."
   ]
  },
  {
   "cell_type": "code",
   "execution_count": 38,
   "id": "8d65b0a3-d98b-4602-a2c1-9391aad655c3",
   "metadata": {},
   "outputs": [
    {
     "name": "stdout",
     "output_type": "stream",
     "text": [
      "n TURGUT\n",
      "N\n",
      "16\n"
     ]
    }
   ],
   "source": [
    "with open(\"python.txt\",\"r\",encoding = \"utf-8\") as file:\n",
    "    file.seek(5) # imlecimi 15. byte'a  yerleştirdim.\n",
    "    icerik = file.read(10)\n",
    "    print(icerik)\n",
    "    print(file.tell()) # imlecimin 15. byte'da olduğunu söyleyecek.\n"
   ]
  },
  {
   "cell_type": "code",
   "execution_count": 42,
   "id": "2006b26d-57f4-454a-a2c6-028bb12c3d2b",
   "metadata": {},
   "outputs": [
    {
     "name": "stdout",
     "output_type": "stream",
     "text": [
      "n TURGUT\n",
      "N\n",
      "Serkan\n"
     ]
    }
   ],
   "source": [
    "with open(\"python.txt\",\"r\",encoding = \"utf-8\") as file:\n",
    "    \n",
    "    file.seek(5) # 5.byte gidiyoruz.\n",
    "    icerik = file.read(10)  # 10 karakteri okuyoruz.\n",
    "    \n",
    "    print(icerik)\n",
    "    \n",
    "    file.seek(0) # tekrar 0. byte'a gidiyoruz.\n",
    "    icerik2 = file.read(6) # 0'dan 6. byte'a kadar yazıyoruz.\n",
    "    print(icerik2)"
   ]
  },
  {
   "cell_type": "code",
   "execution_count": null,
   "id": "31bf91a2-43de-46cc-83ad-cb7aa0c273c6",
   "metadata": {},
   "outputs": [],
   "source": []
  }
 ],
 "metadata": {
  "kernelspec": {
   "display_name": "Python 3 (ipykernel)",
   "language": "python",
   "name": "python3"
  },
  "language_info": {
   "codemirror_mode": {
    "name": "ipython",
    "version": 3
   },
   "file_extension": ".py",
   "mimetype": "text/x-python",
   "name": "python",
   "nbconvert_exporter": "python",
   "pygments_lexer": "ipython3",
   "version": "3.12.4"
  }
 },
 "nbformat": 4,
 "nbformat_minor": 5
}
