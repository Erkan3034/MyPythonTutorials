{
 "cells": [
  {
   "cell_type": "markdown",
   "id": "227e2929-c94e-4281-a8c3-85a7ee03cf29",
   "metadata": {},
   "source": [
    "### Dosya Açma ve Yazma İşlemleri"
   ]
  },
  {
   "cell_type": "markdown",
   "id": "89cc58da-825c-4bed-8204-ea5fd018ca15",
   "metadata": {},
   "source": [
    "📌 **Dosya Açmak**\n",
    "Bir dosyayı açmak için *open()* fonksiyonunu kullanıyoruz. Yapısı şu şekildedir;\n",
    "\n",
    "                open(dosya_adı,dosya_erişme_kipi)\n",
    "Dosya adını istediğimiz isimde verebiliriz. Dosya erişme kipi ise bizim dosya üzerindeki işlemlerimizi belirler. Bunları dersler boyunca yavaş yavaş göreceğiz.\n",
    "\n",
    "***\"w\"*** dosya kipi\n",
    "Dosyalarımızı açmak ve dosyalarımıza yazmak için \"write\" anlamına gelen \"w\" kipini kullanıyoruz. \"w\" kipi eğer oluşturmak istediğimiz dizinde öyle bir dosya yoksa dosyayı oluşturuyor , eğer öyle bir dosya varsa dosyayı silip tekrar oluşturuyor. Yani, eğer açmak istediğimiz dosyadan zaten varsa ve dosyanın içi doluysa \"w\" kipi dosyadaki bilgileri silip tekrar oluşturacaktır. (Biraz Tehlikeli)"
   ]
  },
  {
   "cell_type": "code",
   "execution_count": 178,
   "id": "980d5108-3411-4c4d-bc84-576940427701",
   "metadata": {},
   "outputs": [
    {
     "data": {
      "text/plain": [
       "<_io.TextIOWrapper name='python.txt' mode='w' encoding='cp1254'>"
      ]
     },
     "execution_count": 178,
     "metadata": {},
     "output_type": "execute_result"
    }
   ],
   "source": [
    "open(\"python.txt\", \"w\") # Dosyayı bulunduğumuz dizinde açıyor. "
   ]
  },
  {
   "cell_type": "code",
   "execution_count": 179,
   "id": "dd20c8d0-b19c-467a-ad79-54ad520f8d8d",
   "metadata": {},
   "outputs": [],
   "source": [
    "file = open(\"python.txt\" , \"w\") # Dosya üzerinde işlem yapacak dosya imlecini file isimli değişkene atıyoruz."
   ]
  },
  {
   "cell_type": "markdown",
   "id": "1b8b8d9d-fa5b-43e7-ae6a-e59205bdbe2b",
   "metadata": {},
   "source": [
    "📌**Dosyaları Kapatmak**\n",
    "\n",
    "Bir dosya üzerinde işlem yaptığımızda o dosyayı kapatmak sistem kaynaklarının gereksiz kullanılmaması açısından önemlidir. Çünkü programımız bitse bile dosyanın kapanacağı garanti değildir. Bu yüzden işlerimiz bittiği zaman dosyayı kapatmalıyız."
   ]
  },
  {
   "cell_type": "code",
   "execution_count": 181,
   "id": "4a23d481-74d2-411f-b3d9-5f8dcda60125",
   "metadata": {},
   "outputs": [],
   "source": [
    "file.close()  # Dosyayı kapatmak"
   ]
  },
  {
   "cell_type": "markdown",
   "id": "e838c45f-43fc-4cd5-b1f1-a7579a6441c1",
   "metadata": {},
   "source": [
    "👀Eğer bir dosyayı bulunduğumuz dizinde değil de başka bir dizinde açmak istersek, dizinin ***yolunu*** özellikle belirtmeliyiz.\n",
    "\n"
   ]
  },
  {
   "cell_type": "code",
   "execution_count": 183,
   "id": "9dcc4d67-5304-4be9-9d3b-92fb1b53baf8",
   "metadata": {},
   "outputs": [],
   "source": [
    "file = open(\"C:\\\\Users\\\\ERKAN TURGUT\\\\Desktop\\\\MyJupyterNotebookNotes\\\\MyPythonNotesPart6(Dosya_ISLEMLERI).ipynb\\\\python.txt\", \"w\")\n",
    " # çalıştırdığımızda belirttiğimiz bilgiler.txt oluşacaktır."
   ]
  },
  {
   "cell_type": "code",
   "execution_count": 184,
   "id": "94abd5e7-5a53-422d-84ee-1331c831f159",
   "metadata": {},
   "outputs": [],
   "source": [
    "file.close() #dosyayı kapatalım."
   ]
  },
  {
   "cell_type": "markdown",
   "id": "5eb89bb9-7331-4352-ae0e-5d3cef3f720b",
   "metadata": {},
   "source": [
    "\"w\" Kipiyle Dosyalara Yazmak\n",
    "İlk olarak dosyayı \"w\" kipiyle açıyoruz."
   ]
  },
  {
   "cell_type": "code",
   "execution_count": 186,
   "id": "58642d6d-1a7f-4dfa-bb55-e9ea37d7f66b",
   "metadata": {},
   "outputs": [],
   "source": [
    "file = open(\"python.txt\",\"w\",encoding=\"utf-8\") # Türkçe karakter kullanacaksak encoding=\"utf-8\" parametresini vermemiz lazım."
   ]
  },
  {
   "cell_type": "code",
   "execution_count": 187,
   "id": "ea883288-6707-49e9-9f0d-9273607cd67b",
   "metadata": {},
   "outputs": [
    {
     "data": {
      "text/plain": [
       "12"
      ]
     },
     "execution_count": 187,
     "metadata": {},
     "output_type": "execute_result"
    }
   ],
   "source": [
    "file.write(\"ERKAN TURGUT\") # write fonksiyonu ile dosyamıza 12 byte'lık bilgi(\"ERKAN TURGUT\") yazıyoruz."
   ]
  },
  {
   "cell_type": "code",
   "execution_count": 188,
   "id": "75813bd1-5c19-415d-9a77-36b3508d37ea",
   "metadata": {},
   "outputs": [],
   "source": [
    "file.close()"
   ]
  },
  {
   "cell_type": "markdown",
   "id": "8605494b-9771-492f-bd59-7f4d4d332d53",
   "metadata": {},
   "source": [
    "📌 Gördüğümüz gibi write fonksiyonuyla dosyamıza herhangi bir şey yazabiliyoruz. Ancak \"w\" kipi her seferinde dosyayı tekrar oluşturduğu için dosyayı tekrar açtığımızda bilgiler kaybolacaktır."
   ]
  },
  {
   "cell_type": "code",
   "execution_count": 190,
   "id": "d9ca5cae-cc10-433b-9fc4-0ae784b1f5d5",
   "metadata": {},
   "outputs": [],
   "source": [
    "file = open(\"python.txt\",\"w\",encoding=\"utf-8\") # az önc eklediğimiz bilgiler kayboldu ve dosya yeniden oluşturuldu\n",
    "file.close()"
   ]
  },
  {
   "cell_type": "markdown",
   "id": "9f739257-114e-4225-90dd-1f7ff5a6a7f8",
   "metadata": {},
   "source": [
    "📌📌 **\"a\"** Kipiyle Dosyalara Yazmak\n",
    "\n",
    "\"append\" (ekleme) kelimesinin kısaltması olan \"a\" kipiyle bir dosyayı açtığımızda , dosya eğer yoksa oluşturulur. ***Eğer öyle bir dosya mevcut ise, dosya tekrar oluşturulmaz*** ve dosya imleci dosyanın sonuna giderek dosyaya ekleme yapmamızı sağlar."
   ]
  },
  {
   "cell_type": "code",
   "execution_count": 192,
   "id": "51b95ead-1587-4493-aa53-1b739c33af3b",
   "metadata": {},
   "outputs": [],
   "source": [
    "file = open(\"python.txt\" , \"a\" , encoding = \"utf-8\")"
   ]
  },
  {
   "cell_type": "code",
   "execution_count": 193,
   "id": "8b7d7d25-f12c-48fa-8a97-9a927335cc30",
   "metadata": {},
   "outputs": [
    {
     "data": {
      "text/plain": [
       "14"
      ]
     },
     "execution_count": 193,
     "metadata": {},
     "output_type": "execute_result"
    }
   ],
   "source": [
    "file.write(\"Serkan TURGUT\\n\")  # var olan dosyaya \"a\" kipyle yeni İSİM ekledik."
   ]
  },
  {
   "cell_type": "code",
   "execution_count": 194,
   "id": "844172d7-b750-41f1-9723-e1e386e9a37a",
   "metadata": {},
   "outputs": [],
   "source": [
    "file.close()"
   ]
  },
  {
   "cell_type": "markdown",
   "id": "bd6c486f-e400-447e-b333-85a9086f85c7",
   "metadata": {},
   "source": [
    "Dosyayı tekrar açalım."
   ]
  },
  {
   "cell_type": "code",
   "execution_count": 196,
   "id": "27e80a62-f82f-407d-a251-a85e9cba206e",
   "metadata": {},
   "outputs": [],
   "source": [
    "file = open(\"python.txt\" , \"a\" , encoding = \"utf-8\")"
   ]
  },
  {
   "cell_type": "code",
   "execution_count": 197,
   "id": "213af0d3-9357-45d4-b02a-661c7f3d721a",
   "metadata": {},
   "outputs": [
    {
     "data": {
      "text/plain": [
       "13"
      ]
     },
     "execution_count": 197,
     "metadata": {},
     "output_type": "execute_result"
    }
   ],
   "source": [
    "file.write(\"Necip TURGUT\\n\")"
   ]
  },
  {
   "cell_type": "code",
   "execution_count": 198,
   "id": "51390751-fb6e-4600-b1be-d28683e60792",
   "metadata": {},
   "outputs": [],
   "source": [
    "file.close()"
   ]
  },
  {
   "cell_type": "code",
   "execution_count": 215,
   "id": "835a5845-1554-4a7d-bc1d-b9213a271fab",
   "metadata": {},
   "outputs": [],
   "source": [
    "file = open(\"python.txt\" , \"a\" , encoding = \"utf-8\")"
   ]
  },
  {
   "cell_type": "code",
   "execution_count": 217,
   "id": "800b9a38-f987-4150-836f-70961fdf7c71",
   "metadata": {},
   "outputs": [
    {
     "data": {
      "text/plain": [
       "12"
      ]
     },
     "execution_count": 217,
     "metadata": {},
     "output_type": "execute_result"
    }
   ],
   "source": [
    "file.write(\"Erkan TURGUT\")"
   ]
  },
  {
   "cell_type": "code",
   "execution_count": 219,
   "id": "b99751ea-64c0-479f-bdca-c6525662391d",
   "metadata": {},
   "outputs": [],
   "source": [
    "file.close()"
   ]
  },
  {
   "cell_type": "code",
   "execution_count": null,
   "id": "6a586502-0cde-4616-a9fa-3055cd5e6a51",
   "metadata": {},
   "outputs": [],
   "source": []
  }
 ],
 "metadata": {
  "kernelspec": {
   "display_name": "Python 3 (ipykernel)",
   "language": "python",
   "name": "python3"
  },
  "language_info": {
   "codemirror_mode": {
    "name": "ipython",
    "version": 3
   },
   "file_extension": ".py",
   "mimetype": "text/x-python",
   "name": "python",
   "nbconvert_exporter": "python",
   "pygments_lexer": "ipython3",
   "version": "3.12.4"
  }
 },
 "nbformat": 4,
 "nbformat_minor": 5
}
