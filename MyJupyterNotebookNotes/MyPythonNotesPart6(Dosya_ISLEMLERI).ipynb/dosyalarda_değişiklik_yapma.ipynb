{
 "cells": [
  {
   "cell_type": "markdown",
   "id": "83c76fe6-8a6d-472f-a215-2ab45e9216de",
   "metadata": {},
   "source": [
    "### Dosyalarda Değişiklik Yapmak"
   ]
  },
  {
   "cell_type": "markdown",
   "id": "6de0d118-63cb-40a7-9183-18040f9322af",
   "metadata": {},
   "source": [
    "***seek() ve write()***\n",
    "\n",
    "Eğer biz bir dosyanın belli bir yerine seek() fonksiyonu ile gidip, write() fonksiyonunu kullanırsak, yazdığımız değerler öncesinde bulunan **değerlerin üzerine yazılacaktır**. Bunun için hem okuma hem de yazma işlemimizi yapmamızı sağlayan ***\"r+\"*** kipini kullanacağız. İlk önce dosyamızda bilgileri görelim."
   ]
  },
  {
   "cell_type": "code",
   "execution_count": 11,
   "id": "dc40efa2-e9ba-404e-afb2-d68fa4721a71",
   "metadata": {},
   "outputs": [
    {
     "name": "stdout",
     "output_type": "stream",
     "text": [
      "Serkan TURGUT\n",
      "Necip TURGUT\n",
      "Erkan TURGUT\n",
      "\n"
     ]
    }
   ],
   "source": [
    "with open(\"python.txt\",\"r+\",encoding = \"utf-8\") as file:\n",
    "    print(file.read())  # read hepsini okur.(r+ ile hem okuma hem ayzam işlemini yaptık."
   ]
  },
  {
   "cell_type": "code",
   "execution_count": 13,
   "id": "f17defad-34c6-4b8d-97a6-6fa673072ccb",
   "metadata": {},
   "outputs": [],
   "source": [
    "with open(\"python.txt\",\"r+\",encoding = \"utf-8\") as file: \n",
    "    file.seek(10) # 10. byte\n",
    "    file.write(\"Deneme\")"
   ]
  },
  {
   "cell_type": "code",
   "execution_count": 18,
   "id": "7e5e8137-f175-4d28-adb9-d435117ed4da",
   "metadata": {},
   "outputs": [
    {
     "name": "stdout",
     "output_type": "stream",
     "text": [
      "Serkan TURDenemeecip TURGUT\n",
      "Erkan TURGUT\n",
      "\n"
     ]
    }
   ],
   "source": [
    "with open(\"python.txt\",\"r+\",encoding = \"utf-8\") as file:\n",
    "    print(file.read())  # read hepsini okur."
   ]
  },
  {
   "cell_type": "markdown",
   "id": "d43af1e1-17ec-4c39-a7ad-f9ceb70258e3",
   "metadata": {},
   "source": [
    "Bu şekilde bir şeyler yapmak istersek bu yöntemi kullanabiliriz."
   ]
  },
  {
   "cell_type": "markdown",
   "id": "9b45bab4-8bf8-4135-a4bc-bc1b7d751d3d",
   "metadata": {},
   "source": [
    "📌 \n",
    "#### Dosyanın Sonunda Değişiklik Yapmak\n"
   ]
  },
  {
   "cell_type": "markdown",
   "id": "0750e82d-91de-4771-aa72-5fb47b0a1e68",
   "metadata": {},
   "source": [
    "Dosyaların sonunda değişiklik yapmak için, dosyamızı **\"a\"** kipiyle açalım ve sadece dosyanın sonuna ***write()*** ile ekleme yapalım."
   ]
  },
  {
   "cell_type": "code",
   "execution_count": 33,
   "id": "0bd25859-3d85-4948-b915-404dbc4b0ea9",
   "metadata": {},
   "outputs": [],
   "source": [
    "with open(\"python.txt\",\"a\",encoding = \"utf-8\") as file:\n",
    "    file.write(\"Mike Tyson\\n\") # \"append\" metoduyla açılan bir dosyanın imleci direk dosyanın sonunda olduğu için sadece write kullanırız."
   ]
  },
  {
   "cell_type": "code",
   "execution_count": 40,
   "id": "87ae036c-972a-4c20-8131-cbf695154646",
   "metadata": {},
   "outputs": [
    {
     "name": "stdout",
     "output_type": "stream",
     "text": [
      "Serkan TURDenemeecip TURGUT\n",
      "Erkan TURGUT\n",
      "Mike Tyson\n",
      "\n"
     ]
    }
   ],
   "source": [
    "with open(\"python.txt\",\"r\",encoding = \"utf-8\") as file:\n",
    "    print(file.read())\n",
    "    "
   ]
  },
  {
   "cell_type": "code",
   "execution_count": 42,
   "id": "f97cbb30-b457-49c8-b008-1660433f08cf",
   "metadata": {},
   "outputs": [],
   "source": [
    "file.close()"
   ]
  },
  {
   "cell_type": "markdown",
   "id": "8b40dc98-91f6-4b96-a2b8-7facefa5f702",
   "metadata": {},
   "source": [
    "📌\n",
    "### Dosyanın Başında Değişiklik Yapmak\n",
    "\n",
    "\"python.txt\" dosyamızın başına bir tane satır eklemek için ne yapabiliriz ? \n",
    "Bunun için dosyamızı bütünüyle string halinde alıp daha sonra satırımızı string'in başına eklememiz gerekiyor. Daha sonra dosyanın en başına **seek()** fonksiyonuyla giderek ,direk write() fonksiyonunu kullanabiliriz"
   ]
  },
  {
   "cell_type": "code",
   "execution_count": 44,
   "id": "07ddf146-2919-4ed2-97cd-312a24e99373",
   "metadata": {},
   "outputs": [
    {
     "name": "stdout",
     "output_type": "stream",
     "text": [
      "Serkan TURDenemeecip TURGUT\n",
      "Erkan TURGUT\n",
      "Mike Tyson\n",
      "\n"
     ]
    }
   ],
   "source": [
    "with open(\"python.txt\",\"r+\",encoding = \"utf-8\") as file:\n",
    "    icerik = file.read()\n",
    "    print(icerik)"
   ]
  },
  {
   "cell_type": "code",
   "execution_count": 46,
   "id": "2ac3cc3a-9ddf-4fb2-aaf7-8a5ec2c3d95b",
   "metadata": {},
   "outputs": [],
   "source": [
    "with open(\"python.txt\",\"r+\",encoding = \"utf-8\") as file:\n",
    "    icerik = file.read()\n",
    "\n",
    "    icerik = \"Hasan Baş\\n\" + icerik\n",
    "    file.seek(0)\n",
    "    file.write(icerik)"
   ]
  },
  {
   "cell_type": "code",
   "execution_count": 48,
   "id": "949fa2ef-c12d-4ea2-be39-ab859623caab",
   "metadata": {},
   "outputs": [
    {
     "name": "stdout",
     "output_type": "stream",
     "text": [
      "Hasan Baş\n",
      "Serkan TURDenemeecip TURGUT\n",
      "Erkan TURGUT\n",
      "Mike Tyson\n",
      "\n"
     ]
    }
   ],
   "source": [
    "with open(\"python.txt\",\"r+\",encoding = \"utf-8\") as file:\n",
    "    icerik = file.read()\n",
    "    print(icerik)"
   ]
  },
  {
   "cell_type": "markdown",
   "id": "b13a7b09-2294-48da-aa78-42428da06cbd",
   "metadata": {},
   "source": [
    "📌\n",
    "#### Dosyanın Ortasında Değişiklik Yapmak\n",
    "\r",
    "Dosyaların ortasına herhangi bir satır eklemek için ilk olarak her bir satırı liste halinde almamızı sağlayan readlines() fonksiyonunu kullanacağız. Daha sonra bu listenin herhangi bir yerine bir eleman ekleyerek bu listeyi for döngüsü ile dosyaya yazacağız.."
   ]
  },
  {
   "cell_type": "code",
   "execution_count": 60,
   "id": "3621b82b-9bee-44b4-941c-483f558abadd",
   "metadata": {},
   "outputs": [
    {
     "name": "stdout",
     "output_type": "stream",
     "text": [
      "['Hasan Baş\\n', 'Serkan TURDenemeecip TURGUT\\n', 'Erkan TURGUT\\n', 'Mike Tyson\\n']\n"
     ]
    }
   ],
   "source": [
    "with open(\"python.txt\",\"r+\",encoding = \"utf-8\") as file:\n",
    "    print(file.readlines())"
   ]
  },
  {
   "cell_type": "markdown",
   "id": "f6a2dbda-5524-4283-926e-8adb5b529ae6",
   "metadata": {},
   "source": [
    "Örneğin , \"Erkan TURGUT\" satırının altına bir tane daha satır eklemek istiyoruz. Bunun için bu listenin 3.indeksine **insert()** metoduyla bir satır ekleyeceğiz. Daha sonra dosyanın en başına giderek bu listeyi tek tek for döngüsü ile yazacağız."
   ]
  },
  {
   "cell_type": "code",
   "execution_count": 123,
   "id": "baeac1f9-417d-46ff-a792-b98366e7cbd2",
   "metadata": {},
   "outputs": [],
   "source": [
    "with open(\"python.txt\",\"r+\",encoding = \"utf-8\") as file:\n",
    "    liste = file.readlines() # işlemi gerçekleştirmek için önce listeye döndürüyoruz.\n",
    "    liste.insert(3,\"Elanur\\n\") # 3. liste indexinden sonra Elanur ismini ekleyelim.\n",
    "    file.seek(0)\n",
    "    for satır in liste:\n",
    "        file.write(satır)"
   ]
  },
  {
   "cell_type": "code",
   "execution_count": 125,
   "id": "57571a32-b74b-4049-a3eb-21317eaab422",
   "metadata": {},
   "outputs": [
    {
     "name": "stdout",
     "output_type": "stream",
     "text": [
      "Hasan Baş\n",
      "Serkan TURDenemeecip TURGUT\n",
      "Erkan TURGUT\n",
      "Elanur\n",
      "Mike Tyson\n",
      "\n"
     ]
    }
   ],
   "source": [
    "with open(\"python.txt\",\"r+\",encoding = \"utf-8\") as file:\n",
    "    icerik = file.read()\n",
    "    print(icerik)"
   ]
  },
  {
   "cell_type": "markdown",
   "id": "50764ba9-d699-4423-89f3-cd9813681760",
   "metadata": {},
   "source": [
    "Pythonda bir dosyaya listenin içindeki değerleri yazmak için for döngüsü dışında pratik bir fonksiyon bulunuyor. **writelines** fonksiyonu içine verdiğimiz listeyi dosyaya yazacaktır."
   ]
  },
  {
   "cell_type": "code",
   "execution_count": 137,
   "id": "c6dcc757-c360-48eb-888f-9af5ef8379de",
   "metadata": {},
   "outputs": [],
   "source": [
    "with open(\"python.txt\",\"r+\",encoding = \"utf-8\") as file:\n",
    "    liste = file.readlines()\n",
    "    liste.insert(3,\"Ahmet ahmet\\n\")\n",
    "    file.seek(0)\n",
    "    file.writelines(liste)"
   ]
  },
  {
   "cell_type": "code",
   "execution_count": 139,
   "id": "1bc2b4d4-2806-482d-9865-22f52bfebbe1",
   "metadata": {},
   "outputs": [
    {
     "name": "stdout",
     "output_type": "stream",
     "text": [
      "Hasan Baş\n",
      "Serkan TURDenemeecip TURGUT\n",
      "Erkan TURGUT\n",
      "Ahmet ahmet\n",
      "Elanur\n",
      "Mike Tyson\n",
      "\n"
     ]
    }
   ],
   "source": [
    "with open(\"python.txt\",\"r+\",encoding = \"utf-8\") as file:\n",
    "    icerik = file.read()\n",
    "    print(icerik)"
   ]
  },
  {
   "cell_type": "code",
   "execution_count": null,
   "id": "32ec7460-6afe-45c5-b802-c516fd7620bc",
   "metadata": {},
   "outputs": [],
   "source": []
  }
 ],
 "metadata": {
  "kernelspec": {
   "display_name": "Python 3 (ipykernel)",
   "language": "python",
   "name": "python3"
  },
  "language_info": {
   "codemirror_mode": {
    "name": "ipython",
    "version": 3
   },
   "file_extension": ".py",
   "mimetype": "text/x-python",
   "name": "python",
   "nbconvert_exporter": "python",
   "pygments_lexer": "ipython3",
   "version": "3.12.4"
  }
 },
 "nbformat": 4,
 "nbformat_minor": 5
}
