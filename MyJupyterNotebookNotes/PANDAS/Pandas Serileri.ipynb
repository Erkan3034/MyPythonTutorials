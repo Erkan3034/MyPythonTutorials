{
 "cells": [
  {
   "cell_type": "markdown",
   "id": "4a3f10f6-bcc7-4211-976f-311935b7b169",
   "metadata": {},
   "source": [
    "# Pandas Serileri"
   ]
  },
  {
   "cell_type": "markdown",
   "id": "ab71e7a0-ec5b-4bd0-bab6-c1fd13837109",
   "metadata": {},
   "source": [
    "### Pandas Serisi Nedir?\n",
    "\n",
    "Pandas Serisi, tek boyutlu bir veri yapısıdır. Bir dizi (array) gibi düşünülebilir, ancak etiketli bir eksene (index) sahiptir. Bu, verilerinizi daha anlamlı hale getirir.\n",
    "\n",
    "`Veri Tipleri:` Seriler, farklı veri tiplerini (int, float, string vb.) içerebilir.\n",
    "\n",
    "`Kullanım Alanları:` Zaman serisi analizi, veri manipülasyonu ve daha fazlasında kullanılır."
   ]
  },
  {
   "cell_type": "code",
   "execution_count": 5,
   "id": "da0c8692-818f-4f36-971a-457db8c0071f",
   "metadata": {},
   "outputs": [],
   "source": [
    "import numpy as np\n",
    "import pandas as pd"
   ]
  },
  {
   "cell_type": "markdown",
   "id": "faacffc1-05ce-406f-8a0b-4b53badc5a63",
   "metadata": {},
   "source": [
    "# 📌 Tanımlanma Yöntemleri - 1"
   ]
  },
  {
   "cell_type": "code",
   "execution_count": 7,
   "id": "a8d01a99-f44e-45c0-a572-3bad5f24d88b",
   "metadata": {},
   "outputs": [],
   "source": [
    "labels_list =  [\"Erkan\",\"Serkan\",\"Necip\",\"Hasan\"]"
   ]
  },
  {
   "cell_type": "code",
   "execution_count": 8,
   "id": "11634606-d710-4f9a-b377-c401b5f763c4",
   "metadata": {},
   "outputs": [],
   "source": [
    "data_list = [10,20,30,40]"
   ]
  },
  {
   "cell_type": "code",
   "execution_count": 9,
   "id": "5cbeef0b-1e76-48ae-82a6-3b642649b69f",
   "metadata": {},
   "outputs": [
    {
     "data": {
      "text/plain": [
       "0    10\n",
       "1    20\n",
       "2    30\n",
       "3    40\n",
       "dtype: int64"
      ]
     },
     "execution_count": 9,
     "metadata": {},
     "output_type": "execute_result"
    }
   ],
   "source": [
    "pd.Series(data = data_list)"
   ]
  },
  {
   "cell_type": "code",
   "execution_count": 10,
   "id": "c2d61b90-ba72-4d56-943f-0c4da7ab2358",
   "metadata": {},
   "outputs": [
    {
     "data": {
      "text/plain": [
       "Erkan     10\n",
       "Serkan    20\n",
       "Necip     30\n",
       "Hasan     40\n",
       "dtype: int64"
      ]
     },
     "execution_count": 10,
     "metadata": {},
     "output_type": "execute_result"
    }
   ],
   "source": [
    "pd.Series(data = data_list , index = labels_list)"
   ]
  },
  {
   "cell_type": "markdown",
   "id": "8e19cc4b-9b22-4a20-ab01-712c62fe27c5",
   "metadata": {},
   "source": [
    "______"
   ]
  },
  {
   "cell_type": "markdown",
   "id": "766379a0-f724-443d-ac63-fb989066e8b0",
   "metadata": {},
   "source": [
    "# 📌 Tanımlanma Yöntemleri - 2"
   ]
  },
  {
   "cell_type": "code",
   "execution_count": 13,
   "id": "b669bb33-de8a-46cd-bca0-f8d34a8ca9ed",
   "metadata": {},
   "outputs": [],
   "source": [
    "npArray = np.array([10,20,30,40])"
   ]
  },
  {
   "cell_type": "code",
   "execution_count": 14,
   "id": "8162a726-6ed6-41d5-8c49-00977aa554a3",
   "metadata": {},
   "outputs": [
    {
     "data": {
      "text/plain": [
       "0    10\n",
       "1    20\n",
       "2    30\n",
       "3    40\n",
       "dtype: int32"
      ]
     },
     "execution_count": 14,
     "metadata": {},
     "output_type": "execute_result"
    }
   ],
   "source": [
    "pd.Series(data = npArray)"
   ]
  },
  {
   "cell_type": "code",
   "execution_count": 15,
   "id": "f9094d07-0cb4-45ab-924c-f1a4c705df18",
   "metadata": {},
   "outputs": [
    {
     "data": {
      "text/plain": [
       "Erkan     10\n",
       "Serkan    20\n",
       "Necip     30\n",
       "Hasan     40\n",
       "dtype: int32"
      ]
     },
     "execution_count": 15,
     "metadata": {},
     "output_type": "execute_result"
    }
   ],
   "source": [
    "pd.Series(data = npArray , index = labels_list)"
   ]
  },
  {
   "cell_type": "code",
   "execution_count": 16,
   "id": "93ddc803-41ac-46d6-a687-4a3c710dc3ad",
   "metadata": {},
   "outputs": [
    {
     "data": {
      "text/plain": [
       "10     Erkan\n",
       "20    Serkan\n",
       "30     Necip\n",
       "40     Hasan\n",
       "dtype: object"
      ]
     },
     "execution_count": 16,
     "metadata": {},
     "output_type": "execute_result"
    }
   ],
   "source": [
    "pd.Series(data = labels_list , index = data_list)"
   ]
  },
  {
   "cell_type": "code",
   "execution_count": 17,
   "id": "c87403cc-8863-40eb-8325-57b51b1bb504",
   "metadata": {},
   "outputs": [
    {
     "data": {
      "text/plain": [
       "A    10\n",
       "B    20\n",
       "C    30\n",
       "D    40\n",
       "dtype: int32"
      ]
     },
     "execution_count": 17,
     "metadata": {},
     "output_type": "execute_result"
    }
   ],
   "source": [
    "pd.Series(data = npArray , index = [\"A\",\"B\",\"C\",\"D\"])"
   ]
  },
  {
   "cell_type": "markdown",
   "id": "fe00c3b2-f74e-419c-a869-0579b7ac8875",
   "metadata": {},
   "source": [
    "______________"
   ]
  },
  {
   "cell_type": "markdown",
   "id": "208b8310-b5a1-4adf-8557-a29e91a34909",
   "metadata": {},
   "source": [
    "# 📌 Tanımlanma Yöntemleri - 3"
   ]
  },
  {
   "cell_type": "code",
   "execution_count": 20,
   "id": "7fdde300-7853-4d71-8654-c39f8cf4c307",
   "metadata": {},
   "outputs": [],
   "source": [
    "data_dict = {\"Erkan\": 22 , \"Serkan\" : 23 , \"Necip\":50}"
   ]
  },
  {
   "cell_type": "code",
   "execution_count": 21,
   "id": "d250d1bc-8e96-4c14-b437-9c30bdafbfc0",
   "metadata": {},
   "outputs": [
    {
     "data": {
      "text/plain": [
       "Erkan     22\n",
       "Serkan    23\n",
       "Necip     50\n",
       "dtype: int64"
      ]
     },
     "execution_count": 21,
     "metadata": {},
     "output_type": "execute_result"
    }
   ],
   "source": [
    "pd.Series(data_dict)"
   ]
  },
  {
   "cell_type": "markdown",
   "id": "df49ec79-5a7b-4dbd-9ff2-fff723d4fe48",
   "metadata": {},
   "source": [
    "# 📈Seriler Üzerinde Operasyonlar"
   ]
  },
  {
   "cell_type": "code",
   "execution_count": 23,
   "id": "5b015bf1-877d-4d50-8d94-5a5724a55e98",
   "metadata": {},
   "outputs": [],
   "source": [
    "ser2017 = pd.Series([5,10,14,20],[\"Buğday\",\"Mısır\",\"Kiraz\",\"Erik\"])\n"
   ]
  },
  {
   "cell_type": "code",
   "execution_count": 24,
   "id": "1d64be9c-caff-441b-8cd2-6e1eda1e9582",
   "metadata": {},
   "outputs": [],
   "source": [
    "ser2018 = pd.Series([2,12,12,6],[\"Buğday\",\"Mısır\",\"Çilek\",\"Erik\"])\n"
   ]
  },
  {
   "cell_type": "code",
   "execution_count": 25,
   "id": "16731bb7-01fc-4547-b852-9d50874b5c47",
   "metadata": {},
   "outputs": [
    {
     "data": {
      "text/plain": [
       "Buğday     5\n",
       "Mısır     10\n",
       "Kiraz     14\n",
       "Erik      20\n",
       "dtype: int64"
      ]
     },
     "execution_count": 25,
     "metadata": {},
     "output_type": "execute_result"
    }
   ],
   "source": [
    "ser2017"
   ]
  },
  {
   "cell_type": "code",
   "execution_count": 26,
   "id": "52989e0f-c081-45b1-8504-1c9af17871c9",
   "metadata": {},
   "outputs": [
    {
     "data": {
      "text/plain": [
       "5"
      ]
     },
     "execution_count": 26,
     "metadata": {},
     "output_type": "execute_result"
    }
   ],
   "source": [
    "ser2017[\"Buğday\"] # Buğdaya karşılık gelen index"
   ]
  },
  {
   "cell_type": "code",
   "execution_count": 27,
   "id": "012caa70-c39d-4434-ab7c-d300197e7a52",
   "metadata": {},
   "outputs": [
    {
     "data": {
      "text/plain": [
       "6"
      ]
     },
     "execution_count": 27,
     "metadata": {},
     "output_type": "execute_result"
    }
   ],
   "source": [
    "ser2018[\"Erik\"] # Erik'e karşılık gelen index"
   ]
  },
  {
   "cell_type": "code",
   "execution_count": 28,
   "id": "fa844dd8-c971-4ab9-a5cd-8b0deda08919",
   "metadata": {},
   "outputs": [
    {
     "data": {
      "text/plain": [
       "Buğday     7.0\n",
       "Erik      26.0\n",
       "Kiraz      NaN\n",
       "Mısır     22.0\n",
       "Çilek      NaN\n",
       "dtype: float64"
      ]
     },
     "execution_count": 28,
     "metadata": {},
     "output_type": "execute_result"
    }
   ],
   "source": [
    "ser2017  + ser2018 # ikisinde ortak olarak bulunmayan elemanlara NaN döner."
   ]
  },
  {
   "cell_type": "code",
   "execution_count": 29,
   "id": "8e2fc675-64bd-46e6-8e23-876ce3132acf",
   "metadata": {},
   "outputs": [],
   "source": [
    "total = ser2017 + ser2018"
   ]
  },
  {
   "cell_type": "code",
   "execution_count": 30,
   "id": "09f10068-813f-4826-b23d-ea55a8ee3619",
   "metadata": {},
   "outputs": [
    {
     "data": {
      "text/plain": [
       "Buğday     7.0\n",
       "Erik      26.0\n",
       "Kiraz      NaN\n",
       "Mısır     22.0\n",
       "Çilek      NaN\n",
       "dtype: float64"
      ]
     },
     "execution_count": 30,
     "metadata": {},
     "output_type": "execute_result"
    }
   ],
   "source": [
    "total"
   ]
  },
  {
   "cell_type": "code",
   "execution_count": 31,
   "id": "08a2c7c5-cfbe-40a1-9e25-d3071ee80782",
   "metadata": {},
   "outputs": [
    {
     "data": {
      "text/plain": [
       "nan"
      ]
     },
     "execution_count": 31,
     "metadata": {},
     "output_type": "execute_result"
    }
   ],
   "source": [
    "total[\"Çilek\"]"
   ]
  },
  {
   "cell_type": "code",
   "execution_count": 32,
   "id": "16a3206d-2858-43bc-936e-b3ee571ad5ef",
   "metadata": {},
   "outputs": [
    {
     "ename": "KeyError",
     "evalue": "'Üzüm'",
     "output_type": "error",
     "traceback": [
      "\u001b[1;31m---------------------------------------------------------------------------\u001b[0m",
      "\u001b[1;31mKeyError\u001b[0m                                  Traceback (most recent call last)",
      "File \u001b[1;32mC:\\Anaconda3\\Lib\\site-packages\\pandas\\core\\indexes\\base.py:3805\u001b[0m, in \u001b[0;36mIndex.get_loc\u001b[1;34m(self, key)\u001b[0m\n\u001b[0;32m   3804\u001b[0m \u001b[38;5;28;01mtry\u001b[39;00m:\n\u001b[1;32m-> 3805\u001b[0m     \u001b[38;5;28;01mreturn\u001b[39;00m \u001b[38;5;28mself\u001b[39m\u001b[38;5;241m.\u001b[39m_engine\u001b[38;5;241m.\u001b[39mget_loc(casted_key)\n\u001b[0;32m   3806\u001b[0m \u001b[38;5;28;01mexcept\u001b[39;00m \u001b[38;5;167;01mKeyError\u001b[39;00m \u001b[38;5;28;01mas\u001b[39;00m err:\n",
      "File \u001b[1;32mindex.pyx:167\u001b[0m, in \u001b[0;36mpandas._libs.index.IndexEngine.get_loc\u001b[1;34m()\u001b[0m\n",
      "File \u001b[1;32mindex.pyx:196\u001b[0m, in \u001b[0;36mpandas._libs.index.IndexEngine.get_loc\u001b[1;34m()\u001b[0m\n",
      "File \u001b[1;32mpandas\\\\_libs\\\\hashtable_class_helper.pxi:7081\u001b[0m, in \u001b[0;36mpandas._libs.hashtable.PyObjectHashTable.get_item\u001b[1;34m()\u001b[0m\n",
      "File \u001b[1;32mpandas\\\\_libs\\\\hashtable_class_helper.pxi:7089\u001b[0m, in \u001b[0;36mpandas._libs.hashtable.PyObjectHashTable.get_item\u001b[1;34m()\u001b[0m\n",
      "\u001b[1;31mKeyError\u001b[0m: 'Üzüm'",
      "\nThe above exception was the direct cause of the following exception:\n",
      "\u001b[1;31mKeyError\u001b[0m                                  Traceback (most recent call last)",
      "Cell \u001b[1;32mIn[32], line 1\u001b[0m\n\u001b[1;32m----> 1\u001b[0m total[\u001b[38;5;124m\"\u001b[39m\u001b[38;5;124mÜzüm\u001b[39m\u001b[38;5;124m\"\u001b[39m]\n",
      "File \u001b[1;32mC:\\Anaconda3\\Lib\\site-packages\\pandas\\core\\series.py:1121\u001b[0m, in \u001b[0;36mSeries.__getitem__\u001b[1;34m(self, key)\u001b[0m\n\u001b[0;32m   1118\u001b[0m     \u001b[38;5;28;01mreturn\u001b[39;00m \u001b[38;5;28mself\u001b[39m\u001b[38;5;241m.\u001b[39m_values[key]\n\u001b[0;32m   1120\u001b[0m \u001b[38;5;28;01melif\u001b[39;00m key_is_scalar:\n\u001b[1;32m-> 1121\u001b[0m     \u001b[38;5;28;01mreturn\u001b[39;00m \u001b[38;5;28mself\u001b[39m\u001b[38;5;241m.\u001b[39m_get_value(key)\n\u001b[0;32m   1123\u001b[0m \u001b[38;5;66;03m# Convert generator to list before going through hashable part\u001b[39;00m\n\u001b[0;32m   1124\u001b[0m \u001b[38;5;66;03m# (We will iterate through the generator there to check for slices)\u001b[39;00m\n\u001b[0;32m   1125\u001b[0m \u001b[38;5;28;01mif\u001b[39;00m is_iterator(key):\n",
      "File \u001b[1;32mC:\\Anaconda3\\Lib\\site-packages\\pandas\\core\\series.py:1237\u001b[0m, in \u001b[0;36mSeries._get_value\u001b[1;34m(self, label, takeable)\u001b[0m\n\u001b[0;32m   1234\u001b[0m     \u001b[38;5;28;01mreturn\u001b[39;00m \u001b[38;5;28mself\u001b[39m\u001b[38;5;241m.\u001b[39m_values[label]\n\u001b[0;32m   1236\u001b[0m \u001b[38;5;66;03m# Similar to Index.get_value, but we do not fall back to positional\u001b[39;00m\n\u001b[1;32m-> 1237\u001b[0m loc \u001b[38;5;241m=\u001b[39m \u001b[38;5;28mself\u001b[39m\u001b[38;5;241m.\u001b[39mindex\u001b[38;5;241m.\u001b[39mget_loc(label)\n\u001b[0;32m   1239\u001b[0m \u001b[38;5;28;01mif\u001b[39;00m is_integer(loc):\n\u001b[0;32m   1240\u001b[0m     \u001b[38;5;28;01mreturn\u001b[39;00m \u001b[38;5;28mself\u001b[39m\u001b[38;5;241m.\u001b[39m_values[loc]\n",
      "File \u001b[1;32mC:\\Anaconda3\\Lib\\site-packages\\pandas\\core\\indexes\\base.py:3812\u001b[0m, in \u001b[0;36mIndex.get_loc\u001b[1;34m(self, key)\u001b[0m\n\u001b[0;32m   3807\u001b[0m     \u001b[38;5;28;01mif\u001b[39;00m \u001b[38;5;28misinstance\u001b[39m(casted_key, \u001b[38;5;28mslice\u001b[39m) \u001b[38;5;129;01mor\u001b[39;00m (\n\u001b[0;32m   3808\u001b[0m         \u001b[38;5;28misinstance\u001b[39m(casted_key, abc\u001b[38;5;241m.\u001b[39mIterable)\n\u001b[0;32m   3809\u001b[0m         \u001b[38;5;129;01mand\u001b[39;00m \u001b[38;5;28many\u001b[39m(\u001b[38;5;28misinstance\u001b[39m(x, \u001b[38;5;28mslice\u001b[39m) \u001b[38;5;28;01mfor\u001b[39;00m x \u001b[38;5;129;01min\u001b[39;00m casted_key)\n\u001b[0;32m   3810\u001b[0m     ):\n\u001b[0;32m   3811\u001b[0m         \u001b[38;5;28;01mraise\u001b[39;00m InvalidIndexError(key)\n\u001b[1;32m-> 3812\u001b[0m     \u001b[38;5;28;01mraise\u001b[39;00m \u001b[38;5;167;01mKeyError\u001b[39;00m(key) \u001b[38;5;28;01mfrom\u001b[39;00m \u001b[38;5;21;01merr\u001b[39;00m\n\u001b[0;32m   3813\u001b[0m \u001b[38;5;28;01mexcept\u001b[39;00m \u001b[38;5;167;01mTypeError\u001b[39;00m:\n\u001b[0;32m   3814\u001b[0m     \u001b[38;5;66;03m# If we have a listlike key, _check_indexing_error will raise\u001b[39;00m\n\u001b[0;32m   3815\u001b[0m     \u001b[38;5;66;03m#  InvalidIndexError. Otherwise we fall through and re-raise\u001b[39;00m\n\u001b[0;32m   3816\u001b[0m     \u001b[38;5;66;03m#  the TypeError.\u001b[39;00m\n\u001b[0;32m   3817\u001b[0m     \u001b[38;5;28mself\u001b[39m\u001b[38;5;241m.\u001b[39m_check_indexing_error(key)\n",
      "\u001b[1;31mKeyError\u001b[0m: 'Üzüm'"
     ]
    }
   ],
   "source": [
    "total[\"Üzüm\"] # total'de yok(hata verecek)"
   ]
  },
  {
   "cell_type": "markdown",
   "id": "3c5871f4-2ee8-435e-9b6c-28c7afa68750",
   "metadata": {},
   "source": [
    "____"
   ]
  },
  {
   "cell_type": "markdown",
   "id": "fefd37b1-2f28-492f-abc8-634602d80a83",
   "metadata": {},
   "source": [
    "### Serinin İstatistiksel Özellikleri"
   ]
  },
  {
   "cell_type": "code",
   "execution_count": null,
   "id": "a80f2cea-b281-47e1-9b83-094fa70770a5",
   "metadata": {},
   "outputs": [],
   "source": [
    "# Veri serisi oluşturma\n",
    "data = [1, 2, 3, 4, 5]\n",
    "series = pd.Series(data)\n",
    "\n",
    "# İstatistiksel özellikler\n",
    "print(\"Toplam:\", series.sum())\n",
    "print(\"Ortalama:\", series.mean()) #ortalama\n",
    "print(\"Standart Sapma:\", series.std()) #standart sapma"
   ]
  },
  {
   "cell_type": "code",
   "execution_count": 33,
   "id": "5344d810-962d-490c-99fc-b4d741c329f0",
   "metadata": {},
   "outputs": [
    {
     "name": "stdout",
     "output_type": "stream",
     "text": [
      "3    40\n",
      "4    50\n",
      "dtype: int64\n"
     ]
    }
   ],
   "source": [
    "#Serideki Değerlerin Filtrelenmesi\n",
    "# Veri serisi oluşturma\n",
    "data = [10, 20, 30, 40, 50]\n",
    "series = pd.Series(data)\n",
    "\n",
    "# 30'dan büyük olanları filtreleme\n",
    "filtered_series = series[series > 30] # 3. ve 4. indexler\n",
    "print(filtered_series)"
   ]
  },
  {
   "cell_type": "code",
   "execution_count": 35,
   "id": "b53feebe-793d-4c16-8147-993f207b4aec",
   "metadata": {},
   "outputs": [
    {
     "name": "stdout",
     "output_type": "stream",
     "text": [
      "0    11\n",
      "1    12\n",
      "2    13\n",
      "3    14\n",
      "4    15\n",
      "dtype: int64\n"
     ]
    }
   ],
   "source": [
    "# Serinin Elemanlarına Uygulama\n",
    "data = [1, 2, 3, 4, 5]\n",
    "series = pd.Series(data)\n",
    "\n",
    "# Her elemana 10 ekleme\n",
    "new_series = series + 10\n",
    "print(new_series)"
   ]
  },
  {
   "cell_type": "code",
   "execution_count": 37,
   "id": "335b7f46-4eac-4824-8ece-7ba7bf828448",
   "metadata": {},
   "outputs": [
    {
     "name": "stdout",
     "output_type": "stream",
     "text": [
      "3    1\n",
      "1    2\n",
      "0    5\n",
      "4    7\n",
      "2    9\n",
      "dtype: int64\n"
     ]
    }
   ],
   "source": [
    "# Serideki Elemanların Sıralanması\n",
    "data = [5, 2, 9, 1, 7]\n",
    "series = pd.Series(data)\n",
    "\n",
    "# Sıralama\n",
    "sorted_series = series.sort_values()\n",
    "print(sorted_series)"
   ]
  },
  {
   "cell_type": "code",
   "execution_count": 39,
   "id": "2eaff831-d611-4abb-a614-02acd1110a53",
   "metadata": {},
   "outputs": [
    {
     "name": "stdout",
     "output_type": "stream",
     "text": [
      "200\n"
     ]
    }
   ],
   "source": [
    "#Serideki Değerlerin İndedata = [100, 200, 300]\n",
    "data = [100, 200, 300]\n",
    "labels = ['A', 'B', 'C']\n",
    "series = pd.Series(data, index=labels)\n",
    "\n",
    "# İndeksleme\n",
    "print(series['B'])  # 200"
   ]
  },
  {
   "cell_type": "code",
   "execution_count": null,
   "id": "618498a6-64e8-44b7-91b5-8596175b319f",
   "metadata": {},
   "outputs": [],
   "source": []
  }
 ],
 "metadata": {
  "kernelspec": {
   "display_name": "Python 3 (ipykernel)",
   "language": "python",
   "name": "python3"
  },
  "language_info": {
   "codemirror_mode": {
    "name": "ipython",
    "version": 3
   },
   "file_extension": ".py",
   "mimetype": "text/x-python",
   "name": "python",
   "nbconvert_exporter": "python",
   "pygments_lexer": "ipython3",
   "version": "3.12.4"
  }
 },
 "nbformat": 4,
 "nbformat_minor": 5
}
