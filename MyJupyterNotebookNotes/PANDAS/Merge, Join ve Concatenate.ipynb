{
 "cells": [
  {
   "cell_type": "markdown",
   "id": "bfe206ec-b27a-4071-af16-8f5262141d63",
   "metadata": {},
   "source": [
    "# 📈 Merge, Join ve Concatenate"
   ]
  },
  {
   "cell_type": "code",
   "execution_count": 133,
   "id": "f5f7d408-c7a0-48dc-b395-5f1440f5e6d5",
   "metadata": {},
   "outputs": [],
   "source": [
    "import numpy as np\n",
    "import pandas as pd"
   ]
  },
  {
   "cell_type": "markdown",
   "id": "da63947a-e1cc-43ef-811e-705957782da1",
   "metadata": {},
   "source": [
    "### ✅**`Concatenation - Birleştirme`**"
   ]
  },
  {
   "cell_type": "markdown",
   "id": "661b57a4-9d4c-4cb8-9b41-a0ef5cf0c21b",
   "metadata": {},
   "source": [
    "Pandas'ta ``\"pd.concat\"``, birden fazla DataFrame veya Series'i belirli bir eksen boyunca birleştirmek için kullanılır. Bu fonksiyon, birleştirme sırasında esneklik ve kontrol sağlar.\n",
    "\n",
    "➡️``pd.concat`` genellikle şu durumlarda kullanılır:\n",
    "\n",
    "Verileri dikey (satır bazında) veya yatay (sütun bazında) birleştirmek.\n",
    "Aynı veya farklı sütun adlarına sahip DataFrame'leri birleştirmek.\n",
    "Eksik veri yönetimi ve indeksleme işlemleri yapmak.\n",
    "\n",
    "⏩\"**Temel Söz Dizimi:**\"\n",
    "\n",
    "```python\n",
    "pd.concat(objs, axis=0, join='outer', ignore_index=False, keys=None, ...)\n",
    "```\n",
    "\n",
    "\"**Parametreler:**\"\n",
    "\n",
    "``objs:`` Birleştirilecek DataFrame veya Series'lerin listesi.(df1,df2...)\n",
    "\n",
    "``axis:`` Birleştirme ekseni.(satır veya sütun( 0 - 1))\n",
    "\n",
    "``axis=0:`` Satır bazında birleştirme (dikey).\n",
    "\n",
    "``axis=1:`` Sütun bazında birleştirme (yatay).\n",
    "\n",
    "``join:`` Birleştirme yöntemi.\n",
    "\n",
    "``outer:`` Varsayılan, tüm indeksleri içerir.\n",
    "\n",
    "``inner:`` Ortak indeksleri içerir.\n",
    "\n",
    "``ignore_index:`` İndeksi yok sayıp yeniden sıfırdan indeks oluşturur (varsayılan False).\n",
    "\n",
    "``keys:`` Her DataFrame veya Series için bir seviye ekler."
   ]
  },
  {
   "cell_type": "code",
   "execution_count": 136,
   "id": "86701ae7-6d5a-49a3-bb4d-f29ce2516740",
   "metadata": {},
   "outputs": [],
   "source": [
    "dataset1 = {\n",
    "    \"A\": [\"A1\",\"A2\",\"A3\",\"A4\"],\n",
    "    \"B\":[\"B1\",\"B2\",\"B3\",\"B4\"],\n",
    "    \"C\":[\"C1\",\"C2\",\"C3\",\"C4\"],\n",
    "}"
   ]
  },
  {
   "cell_type": "code",
   "execution_count": 137,
   "id": "43eba81a-ec28-4731-bf3b-d43e1c0037e2",
   "metadata": {},
   "outputs": [],
   "source": [
    "dataset2 = {\n",
    "    \"A\": [\"A5\",\"A6\",\"A7\",\"A8\"],\n",
    "    \"B\":[\"B5\",\"B6\",\"B7\",\"B8\"],\n",
    "    \"C\":[\"C5\",\"C6\",\"C7\",\"C8\"],\n",
    "}"
   ]
  },
  {
   "cell_type": "code",
   "execution_count": 138,
   "id": "8d11bd6f-60f4-40b6-beec-da6d39749c81",
   "metadata": {},
   "outputs": [],
   "source": [
    "df1 = pd.DataFrame(dataset1, index = [1,2,3,4])\n",
    "df2 = pd.DataFrame(dataset2, index = [5,6,7,8])"
   ]
  },
  {
   "cell_type": "code",
   "execution_count": 139,
   "id": "78c0cf5e-d9a1-4668-b06f-61b6405c8bbf",
   "metadata": {},
   "outputs": [
    {
     "data": {
      "text/html": [
       "<div>\n",
       "<style scoped>\n",
       "    .dataframe tbody tr th:only-of-type {\n",
       "        vertical-align: middle;\n",
       "    }\n",
       "\n",
       "    .dataframe tbody tr th {\n",
       "        vertical-align: top;\n",
       "    }\n",
       "\n",
       "    .dataframe thead th {\n",
       "        text-align: right;\n",
       "    }\n",
       "</style>\n",
       "<table border=\"1\" class=\"dataframe\">\n",
       "  <thead>\n",
       "    <tr style=\"text-align: right;\">\n",
       "      <th></th>\n",
       "      <th>A</th>\n",
       "      <th>B</th>\n",
       "      <th>C</th>\n",
       "    </tr>\n",
       "  </thead>\n",
       "  <tbody>\n",
       "    <tr>\n",
       "      <th>1</th>\n",
       "      <td>A1</td>\n",
       "      <td>B1</td>\n",
       "      <td>C1</td>\n",
       "    </tr>\n",
       "    <tr>\n",
       "      <th>2</th>\n",
       "      <td>A2</td>\n",
       "      <td>B2</td>\n",
       "      <td>C2</td>\n",
       "    </tr>\n",
       "    <tr>\n",
       "      <th>3</th>\n",
       "      <td>A3</td>\n",
       "      <td>B3</td>\n",
       "      <td>C3</td>\n",
       "    </tr>\n",
       "    <tr>\n",
       "      <th>4</th>\n",
       "      <td>A4</td>\n",
       "      <td>B4</td>\n",
       "      <td>C4</td>\n",
       "    </tr>\n",
       "  </tbody>\n",
       "</table>\n",
       "</div>"
      ],
      "text/plain": [
       "    A   B   C\n",
       "1  A1  B1  C1\n",
       "2  A2  B2  C2\n",
       "3  A3  B3  C3\n",
       "4  A4  B4  C4"
      ]
     },
     "execution_count": 139,
     "metadata": {},
     "output_type": "execute_result"
    }
   ],
   "source": [
    "df1"
   ]
  },
  {
   "cell_type": "code",
   "execution_count": 140,
   "id": "4da3c6ba-bd98-4f47-97a2-7c6572ea7ba5",
   "metadata": {},
   "outputs": [
    {
     "data": {
      "text/html": [
       "<div>\n",
       "<style scoped>\n",
       "    .dataframe tbody tr th:only-of-type {\n",
       "        vertical-align: middle;\n",
       "    }\n",
       "\n",
       "    .dataframe tbody tr th {\n",
       "        vertical-align: top;\n",
       "    }\n",
       "\n",
       "    .dataframe thead th {\n",
       "        text-align: right;\n",
       "    }\n",
       "</style>\n",
       "<table border=\"1\" class=\"dataframe\">\n",
       "  <thead>\n",
       "    <tr style=\"text-align: right;\">\n",
       "      <th></th>\n",
       "      <th>A</th>\n",
       "      <th>B</th>\n",
       "      <th>C</th>\n",
       "    </tr>\n",
       "  </thead>\n",
       "  <tbody>\n",
       "    <tr>\n",
       "      <th>5</th>\n",
       "      <td>A5</td>\n",
       "      <td>B5</td>\n",
       "      <td>C5</td>\n",
       "    </tr>\n",
       "    <tr>\n",
       "      <th>6</th>\n",
       "      <td>A6</td>\n",
       "      <td>B6</td>\n",
       "      <td>C6</td>\n",
       "    </tr>\n",
       "    <tr>\n",
       "      <th>7</th>\n",
       "      <td>A7</td>\n",
       "      <td>B7</td>\n",
       "      <td>C7</td>\n",
       "    </tr>\n",
       "    <tr>\n",
       "      <th>8</th>\n",
       "      <td>A8</td>\n",
       "      <td>B8</td>\n",
       "      <td>C8</td>\n",
       "    </tr>\n",
       "  </tbody>\n",
       "</table>\n",
       "</div>"
      ],
      "text/plain": [
       "    A   B   C\n",
       "5  A5  B5  C5\n",
       "6  A6  B6  C6\n",
       "7  A7  B7  C7\n",
       "8  A8  B8  C8"
      ]
     },
     "execution_count": 140,
     "metadata": {},
     "output_type": "execute_result"
    }
   ],
   "source": [
    "df2"
   ]
  },
  {
   "cell_type": "code",
   "execution_count": 141,
   "id": "516a2fdd-00aa-4750-af22-51dc609a97e0",
   "metadata": {},
   "outputs": [
    {
     "data": {
      "text/html": [
       "<div>\n",
       "<style scoped>\n",
       "    .dataframe tbody tr th:only-of-type {\n",
       "        vertical-align: middle;\n",
       "    }\n",
       "\n",
       "    .dataframe tbody tr th {\n",
       "        vertical-align: top;\n",
       "    }\n",
       "\n",
       "    .dataframe thead th {\n",
       "        text-align: right;\n",
       "    }\n",
       "</style>\n",
       "<table border=\"1\" class=\"dataframe\">\n",
       "  <thead>\n",
       "    <tr style=\"text-align: right;\">\n",
       "      <th></th>\n",
       "      <th>A</th>\n",
       "      <th>B</th>\n",
       "      <th>C</th>\n",
       "    </tr>\n",
       "  </thead>\n",
       "  <tbody>\n",
       "    <tr>\n",
       "      <th>1</th>\n",
       "      <td>A1</td>\n",
       "      <td>B1</td>\n",
       "      <td>C1</td>\n",
       "    </tr>\n",
       "    <tr>\n",
       "      <th>2</th>\n",
       "      <td>A2</td>\n",
       "      <td>B2</td>\n",
       "      <td>C2</td>\n",
       "    </tr>\n",
       "    <tr>\n",
       "      <th>3</th>\n",
       "      <td>A3</td>\n",
       "      <td>B3</td>\n",
       "      <td>C3</td>\n",
       "    </tr>\n",
       "    <tr>\n",
       "      <th>4</th>\n",
       "      <td>A4</td>\n",
       "      <td>B4</td>\n",
       "      <td>C4</td>\n",
       "    </tr>\n",
       "    <tr>\n",
       "      <th>5</th>\n",
       "      <td>A5</td>\n",
       "      <td>B5</td>\n",
       "      <td>C5</td>\n",
       "    </tr>\n",
       "    <tr>\n",
       "      <th>6</th>\n",
       "      <td>A6</td>\n",
       "      <td>B6</td>\n",
       "      <td>C6</td>\n",
       "    </tr>\n",
       "    <tr>\n",
       "      <th>7</th>\n",
       "      <td>A7</td>\n",
       "      <td>B7</td>\n",
       "      <td>C7</td>\n",
       "    </tr>\n",
       "    <tr>\n",
       "      <th>8</th>\n",
       "      <td>A8</td>\n",
       "      <td>B8</td>\n",
       "      <td>C8</td>\n",
       "    </tr>\n",
       "  </tbody>\n",
       "</table>\n",
       "</div>"
      ],
      "text/plain": [
       "    A   B   C\n",
       "1  A1  B1  C1\n",
       "2  A2  B2  C2\n",
       "3  A3  B3  C3\n",
       "4  A4  B4  C4\n",
       "5  A5  B5  C5\n",
       "6  A6  B6  C6\n",
       "7  A7  B7  C7\n",
       "8  A8  B8  C8"
      ]
     },
     "execution_count": 141,
     "metadata": {},
     "output_type": "execute_result"
    }
   ],
   "source": [
    "pd.concat([df1,df2]) #objs = df1,df2"
   ]
  },
  {
   "cell_type": "code",
   "execution_count": 142,
   "id": "f3b05b79-98f0-4a55-afc5-026f210045f4",
   "metadata": {},
   "outputs": [
    {
     "data": {
      "text/html": [
       "<div>\n",
       "<style scoped>\n",
       "    .dataframe tbody tr th:only-of-type {\n",
       "        vertical-align: middle;\n",
       "    }\n",
       "\n",
       "    .dataframe tbody tr th {\n",
       "        vertical-align: top;\n",
       "    }\n",
       "\n",
       "    .dataframe thead th {\n",
       "        text-align: right;\n",
       "    }\n",
       "</style>\n",
       "<table border=\"1\" class=\"dataframe\">\n",
       "  <thead>\n",
       "    <tr style=\"text-align: right;\">\n",
       "      <th></th>\n",
       "      <th>A</th>\n",
       "      <th>B</th>\n",
       "      <th>C</th>\n",
       "      <th>A</th>\n",
       "      <th>B</th>\n",
       "      <th>C</th>\n",
       "    </tr>\n",
       "  </thead>\n",
       "  <tbody>\n",
       "    <tr>\n",
       "      <th>1</th>\n",
       "      <td>A1</td>\n",
       "      <td>B1</td>\n",
       "      <td>C1</td>\n",
       "      <td>NaN</td>\n",
       "      <td>NaN</td>\n",
       "      <td>NaN</td>\n",
       "    </tr>\n",
       "    <tr>\n",
       "      <th>2</th>\n",
       "      <td>A2</td>\n",
       "      <td>B2</td>\n",
       "      <td>C2</td>\n",
       "      <td>NaN</td>\n",
       "      <td>NaN</td>\n",
       "      <td>NaN</td>\n",
       "    </tr>\n",
       "    <tr>\n",
       "      <th>3</th>\n",
       "      <td>A3</td>\n",
       "      <td>B3</td>\n",
       "      <td>C3</td>\n",
       "      <td>NaN</td>\n",
       "      <td>NaN</td>\n",
       "      <td>NaN</td>\n",
       "    </tr>\n",
       "    <tr>\n",
       "      <th>4</th>\n",
       "      <td>A4</td>\n",
       "      <td>B4</td>\n",
       "      <td>C4</td>\n",
       "      <td>NaN</td>\n",
       "      <td>NaN</td>\n",
       "      <td>NaN</td>\n",
       "    </tr>\n",
       "    <tr>\n",
       "      <th>5</th>\n",
       "      <td>NaN</td>\n",
       "      <td>NaN</td>\n",
       "      <td>NaN</td>\n",
       "      <td>A5</td>\n",
       "      <td>B5</td>\n",
       "      <td>C5</td>\n",
       "    </tr>\n",
       "    <tr>\n",
       "      <th>6</th>\n",
       "      <td>NaN</td>\n",
       "      <td>NaN</td>\n",
       "      <td>NaN</td>\n",
       "      <td>A6</td>\n",
       "      <td>B6</td>\n",
       "      <td>C6</td>\n",
       "    </tr>\n",
       "    <tr>\n",
       "      <th>7</th>\n",
       "      <td>NaN</td>\n",
       "      <td>NaN</td>\n",
       "      <td>NaN</td>\n",
       "      <td>A7</td>\n",
       "      <td>B7</td>\n",
       "      <td>C7</td>\n",
       "    </tr>\n",
       "    <tr>\n",
       "      <th>8</th>\n",
       "      <td>NaN</td>\n",
       "      <td>NaN</td>\n",
       "      <td>NaN</td>\n",
       "      <td>A8</td>\n",
       "      <td>B8</td>\n",
       "      <td>C8</td>\n",
       "    </tr>\n",
       "  </tbody>\n",
       "</table>\n",
       "</div>"
      ],
      "text/plain": [
       "     A    B    C    A    B    C\n",
       "1   A1   B1   C1  NaN  NaN  NaN\n",
       "2   A2   B2   C2  NaN  NaN  NaN\n",
       "3   A3   B3   C3  NaN  NaN  NaN\n",
       "4   A4   B4   C4  NaN  NaN  NaN\n",
       "5  NaN  NaN  NaN   A5   B5   C5\n",
       "6  NaN  NaN  NaN   A6   B6   C6\n",
       "7  NaN  NaN  NaN   A7   B7   C7\n",
       "8  NaN  NaN  NaN   A8   B8   C8"
      ]
     },
     "execution_count": 142,
     "metadata": {},
     "output_type": "execute_result"
    }
   ],
   "source": [
    "result = pd.concat([df1,df2],axis = 1) #Sütunları birleştirince NaN değerler çıkacaktır.\n",
    "result"
   ]
  },
  {
   "cell_type": "markdown",
   "id": "6d75e53c-7f4c-495c-9d99-b99d05a0d6e8",
   "metadata": {},
   "source": [
    "result_filled = result.fillna(0) #NaN değerlerini dolduralım.\n",
    "result_filled"
   ]
  },
  {
   "cell_type": "markdown",
   "id": "7aa79f29-0847-4895-a253-1e5c1d932b14",
   "metadata": {},
   "source": [
    "### ✅MERGE"
   ]
  },
  {
   "cell_type": "markdown",
   "id": "79503c9d-6f83-4cb8-b1f4-9fd375823d1b",
   "metadata": {},
   "source": [
    "Pandas'ta merge, \"***iki ya da daha fazla veri çerçevesini (DataFrame) birleştirmek için kullanılan güçlü bir fonksiyondur.***\"\n",
    "\n",
    "``SQL'deki JOIN işlemlerine çok benzer şekilde çalışır.`` \n",
    "\n",
    "➡️İki tabloyu ortak bir sütun ya da indeks üzerinden birleştirir.⬅️"
   ]
  },
  {
   "cell_type": "markdown",
   "id": "e7ec6440-be39-4dae-84fc-ddee40d1d101",
   "metadata": {},
   "source": [
    "👀👀``Temel Kullanımı``\n",
    "\n",
    "**İki DataFrame'i birleştirir.**\n",
    "\n",
    "***Ortak sütunlara veya anahtar değerlerine dayanır.***\n",
    "\n",
    "📌Farklı türlerde birleştirme yöntemleri sunar:\n",
    "\n",
    "inner (kesişim)\n",
    "\n",
    "outer (birleşim)\n",
    "\n",
    "left (soldan birleştirme)\n",
    "\n",
    "right (sağdan birleştirme)"
   ]
  },
  {
   "cell_type": "code",
   "execution_count": 147,
   "id": "3d0f9b18-6df3-450f-9d65-283c2fe5e448",
   "metadata": {},
   "outputs": [],
   "source": [
    "dataset1 = {\n",
    "    \"A\" : [\"A1\",\"A2\",\"A3\"],\n",
    "    \"B\" : [\"B1\",\"B2\",\"B3\"],\n",
    "    \"anahtar\" : [\"K1\",\"K2\",\"K3\"]\n",
    "}"
   ]
  },
  {
   "cell_type": "code",
   "execution_count": 148,
   "id": "89db1323-cdc1-4eda-a2fc-c1a8dc0ed75a",
   "metadata": {},
   "outputs": [],
   "source": [
    "df1 = pd.DataFrame(dataset1,index = [1,2,3]) "
   ]
  },
  {
   "cell_type": "code",
   "execution_count": 149,
   "id": "cd19f026-77d0-45c5-94dc-2afaa97fcad5",
   "metadata": {},
   "outputs": [
    {
     "data": {
      "text/html": [
       "<div>\n",
       "<style scoped>\n",
       "    .dataframe tbody tr th:only-of-type {\n",
       "        vertical-align: middle;\n",
       "    }\n",
       "\n",
       "    .dataframe tbody tr th {\n",
       "        vertical-align: top;\n",
       "    }\n",
       "\n",
       "    .dataframe thead th {\n",
       "        text-align: right;\n",
       "    }\n",
       "</style>\n",
       "<table border=\"1\" class=\"dataframe\">\n",
       "  <thead>\n",
       "    <tr style=\"text-align: right;\">\n",
       "      <th></th>\n",
       "      <th>A</th>\n",
       "      <th>B</th>\n",
       "      <th>anahtar</th>\n",
       "    </tr>\n",
       "  </thead>\n",
       "  <tbody>\n",
       "    <tr>\n",
       "      <th>1</th>\n",
       "      <td>A1</td>\n",
       "      <td>B1</td>\n",
       "      <td>K1</td>\n",
       "    </tr>\n",
       "    <tr>\n",
       "      <th>2</th>\n",
       "      <td>A2</td>\n",
       "      <td>B2</td>\n",
       "      <td>K2</td>\n",
       "    </tr>\n",
       "    <tr>\n",
       "      <th>3</th>\n",
       "      <td>A3</td>\n",
       "      <td>B3</td>\n",
       "      <td>K3</td>\n",
       "    </tr>\n",
       "  </tbody>\n",
       "</table>\n",
       "</div>"
      ],
      "text/plain": [
       "    A   B anahtar\n",
       "1  A1  B1      K1\n",
       "2  A2  B2      K2\n",
       "3  A3  B3      K3"
      ]
     },
     "execution_count": 149,
     "metadata": {},
     "output_type": "execute_result"
    }
   ],
   "source": [
    "df1"
   ]
  },
  {
   "cell_type": "code",
   "execution_count": 150,
   "id": "7825d928-1d14-43cc-9fc8-38710f3dcaf0",
   "metadata": {},
   "outputs": [],
   "source": [
    "dataset2 = {\n",
    "    \"X\" : [\"X1\",\"X2\",\"X3\",\"X4\"],\n",
    "    \"Y\" : [\"Y1\",\"Y2\",\"Y3\",\"Y4\"],\n",
    "    \"anahtar\" : [\"K1\",\"K2\",\"K5\",\"K4\"]\n",
    "}"
   ]
  },
  {
   "cell_type": "code",
   "execution_count": 151,
   "id": "cd9d6dd8-645a-48fa-ab03-aefbd59ad7f6",
   "metadata": {},
   "outputs": [],
   "source": [
    "df2 = pd.DataFrame(dataset2 , index =[1,2,3,4])"
   ]
  },
  {
   "cell_type": "code",
   "execution_count": 152,
   "id": "183eab35-9f2a-4545-8928-eddb4a797e8d",
   "metadata": {},
   "outputs": [
    {
     "data": {
      "text/html": [
       "<div>\n",
       "<style scoped>\n",
       "    .dataframe tbody tr th:only-of-type {\n",
       "        vertical-align: middle;\n",
       "    }\n",
       "\n",
       "    .dataframe tbody tr th {\n",
       "        vertical-align: top;\n",
       "    }\n",
       "\n",
       "    .dataframe thead th {\n",
       "        text-align: right;\n",
       "    }\n",
       "</style>\n",
       "<table border=\"1\" class=\"dataframe\">\n",
       "  <thead>\n",
       "    <tr style=\"text-align: right;\">\n",
       "      <th></th>\n",
       "      <th>X</th>\n",
       "      <th>Y</th>\n",
       "      <th>anahtar</th>\n",
       "    </tr>\n",
       "  </thead>\n",
       "  <tbody>\n",
       "    <tr>\n",
       "      <th>1</th>\n",
       "      <td>X1</td>\n",
       "      <td>Y1</td>\n",
       "      <td>K1</td>\n",
       "    </tr>\n",
       "    <tr>\n",
       "      <th>2</th>\n",
       "      <td>X2</td>\n",
       "      <td>Y2</td>\n",
       "      <td>K2</td>\n",
       "    </tr>\n",
       "    <tr>\n",
       "      <th>3</th>\n",
       "      <td>X3</td>\n",
       "      <td>Y3</td>\n",
       "      <td>K5</td>\n",
       "    </tr>\n",
       "    <tr>\n",
       "      <th>4</th>\n",
       "      <td>X4</td>\n",
       "      <td>Y4</td>\n",
       "      <td>K4</td>\n",
       "    </tr>\n",
       "  </tbody>\n",
       "</table>\n",
       "</div>"
      ],
      "text/plain": [
       "    X   Y anahtar\n",
       "1  X1  Y1      K1\n",
       "2  X2  Y2      K2\n",
       "3  X3  Y3      K5\n",
       "4  X4  Y4      K4"
      ]
     },
     "execution_count": 152,
     "metadata": {},
     "output_type": "execute_result"
    }
   ],
   "source": [
    "df2"
   ]
  },
  {
   "cell_type": "code",
   "execution_count": 153,
   "id": "5ab86f3b-07fc-4ac1-96ec-2a7f769436f6",
   "metadata": {},
   "outputs": [],
   "source": [
    "result3 = pd.merge(df1,df2, how = \"inner\" , on = \"anahtar\")"
   ]
  },
  {
   "cell_type": "code",
   "execution_count": 154,
   "id": "14ddba98-15d4-4507-98d9-397f28615f00",
   "metadata": {},
   "outputs": [
    {
     "data": {
      "text/html": [
       "<div>\n",
       "<style scoped>\n",
       "    .dataframe tbody tr th:only-of-type {\n",
       "        vertical-align: middle;\n",
       "    }\n",
       "\n",
       "    .dataframe tbody tr th {\n",
       "        vertical-align: top;\n",
       "    }\n",
       "\n",
       "    .dataframe thead th {\n",
       "        text-align: right;\n",
       "    }\n",
       "</style>\n",
       "<table border=\"1\" class=\"dataframe\">\n",
       "  <thead>\n",
       "    <tr style=\"text-align: right;\">\n",
       "      <th></th>\n",
       "      <th>A</th>\n",
       "      <th>B</th>\n",
       "      <th>anahtar</th>\n",
       "      <th>X</th>\n",
       "      <th>Y</th>\n",
       "    </tr>\n",
       "  </thead>\n",
       "  <tbody>\n",
       "    <tr>\n",
       "      <th>0</th>\n",
       "      <td>A1</td>\n",
       "      <td>B1</td>\n",
       "      <td>K1</td>\n",
       "      <td>X1</td>\n",
       "      <td>Y1</td>\n",
       "    </tr>\n",
       "    <tr>\n",
       "      <th>1</th>\n",
       "      <td>A2</td>\n",
       "      <td>B2</td>\n",
       "      <td>K2</td>\n",
       "      <td>X2</td>\n",
       "      <td>Y2</td>\n",
       "    </tr>\n",
       "  </tbody>\n",
       "</table>\n",
       "</div>"
      ],
      "text/plain": [
       "    A   B anahtar   X   Y\n",
       "0  A1  B1      K1  X1  Y1\n",
       "1  A2  B2      K2  X2  Y2"
      ]
     },
     "execution_count": 154,
     "metadata": {},
     "output_type": "execute_result"
    }
   ],
   "source": [
    "result3"
   ]
  },
  {
   "cell_type": "markdown",
   "id": "8e352975-30da-4ade-9802-3e298849f863",
   "metadata": {},
   "source": [
    "### ✅JOIN"
   ]
  },
  {
   "cell_type": "markdown",
   "id": "d4fe8c66-2b92-45c0-8d4c-9aff7949bfa1",
   "metadata": {},
   "source": [
    "JOIN işlemi, ````bir veritabanında veya veri analizinde iki veya daha fazla tabloyu birleştirmek için kullanılan bir yöntemdir``. \n",
    "\n",
    "Python'da özellikle pandas kütüphanesi ile merge fonksiyonu kullanılarak gerçekleştirilir.\n",
    "\n",
    "***JOIN Türleri***\n",
    "\n",
    "``INNER JOIN``\n",
    "İki tablodaki ortak alanlara göre birleştirir. Sadece her iki tablonun kesişiminde olan verileri alır.\n",
    "\n",
    "``LEFT JOIN``\n",
    "Sol tablodaki tüm verileri alır ve sağ tabloyla eşleşen değerleri getirir. Eşleşmeyen sağ tablodaki sütunlar NaN olur.\n",
    "\n",
    "``RIGHT JOIN``\n",
    "Sağ tablodaki tüm verileri alır ve sol tabloyla eşleşen değerleri getirir. Eşleşmeyen sol tablodaki sütunlar NaN olur.\n",
    "\n",
    "``OUTER JOIN``\n",
    "Her iki tablodaki tüm verileri alır. Ortak olmayan alanlarda eksik veriler NaN olarak görünür."
   ]
  },
  {
   "cell_type": "code",
   "execution_count": 157,
   "id": "434e99e1-cd20-4aea-9c73-c86c2127681b",
   "metadata": {},
   "outputs": [],
   "source": [
    "dataset3 = {\n",
    "    \"A\" : [\"A1\",\"A2\",\"A3\",\"A4\"],\n",
    "    \"B\" : [\"B1\",\"B2\",\"B3\",\"B4\"],\n",
    "}\n",
    "dataset4 = {\n",
    "    \"X\" : [\"X1\",\"X2\",\"X3\"],\n",
    "    \"Y\" : [\"Y1\",\"Y2\",\"Y3\"],\n",
    "    \n",
    "}"
   ]
  },
  {
   "cell_type": "code",
   "execution_count": 158,
   "id": "c2f70887-152f-4ebe-bbaa-f0eb6a5ef2dc",
   "metadata": {},
   "outputs": [],
   "source": [
    "df3 = pd.DataFrame(dataset3, index = [1,2,3,4])\n",
    "df4 = pd.DataFrame(dataset4, index = [1,2,3])"
   ]
  },
  {
   "cell_type": "code",
   "execution_count": 159,
   "id": "0927637c-2d03-49a3-8b64-ed75531b7a4b",
   "metadata": {},
   "outputs": [
    {
     "data": {
      "text/html": [
       "<div>\n",
       "<style scoped>\n",
       "    .dataframe tbody tr th:only-of-type {\n",
       "        vertical-align: middle;\n",
       "    }\n",
       "\n",
       "    .dataframe tbody tr th {\n",
       "        vertical-align: top;\n",
       "    }\n",
       "\n",
       "    .dataframe thead th {\n",
       "        text-align: right;\n",
       "    }\n",
       "</style>\n",
       "<table border=\"1\" class=\"dataframe\">\n",
       "  <thead>\n",
       "    <tr style=\"text-align: right;\">\n",
       "      <th></th>\n",
       "      <th>A</th>\n",
       "      <th>B</th>\n",
       "    </tr>\n",
       "  </thead>\n",
       "  <tbody>\n",
       "    <tr>\n",
       "      <th>1</th>\n",
       "      <td>A1</td>\n",
       "      <td>B1</td>\n",
       "    </tr>\n",
       "    <tr>\n",
       "      <th>2</th>\n",
       "      <td>A2</td>\n",
       "      <td>B2</td>\n",
       "    </tr>\n",
       "    <tr>\n",
       "      <th>3</th>\n",
       "      <td>A3</td>\n",
       "      <td>B3</td>\n",
       "    </tr>\n",
       "    <tr>\n",
       "      <th>4</th>\n",
       "      <td>A4</td>\n",
       "      <td>B4</td>\n",
       "    </tr>\n",
       "  </tbody>\n",
       "</table>\n",
       "</div>"
      ],
      "text/plain": [
       "    A   B\n",
       "1  A1  B1\n",
       "2  A2  B2\n",
       "3  A3  B3\n",
       "4  A4  B4"
      ]
     },
     "execution_count": 159,
     "metadata": {},
     "output_type": "execute_result"
    }
   ],
   "source": [
    "df3"
   ]
  },
  {
   "cell_type": "code",
   "execution_count": 160,
   "id": "01201a2f-98f1-4c7b-92ed-434a3303c827",
   "metadata": {},
   "outputs": [
    {
     "data": {
      "text/html": [
       "<div>\n",
       "<style scoped>\n",
       "    .dataframe tbody tr th:only-of-type {\n",
       "        vertical-align: middle;\n",
       "    }\n",
       "\n",
       "    .dataframe tbody tr th {\n",
       "        vertical-align: top;\n",
       "    }\n",
       "\n",
       "    .dataframe thead th {\n",
       "        text-align: right;\n",
       "    }\n",
       "</style>\n",
       "<table border=\"1\" class=\"dataframe\">\n",
       "  <thead>\n",
       "    <tr style=\"text-align: right;\">\n",
       "      <th></th>\n",
       "      <th>X</th>\n",
       "      <th>Y</th>\n",
       "    </tr>\n",
       "  </thead>\n",
       "  <tbody>\n",
       "    <tr>\n",
       "      <th>1</th>\n",
       "      <td>X1</td>\n",
       "      <td>Y1</td>\n",
       "    </tr>\n",
       "    <tr>\n",
       "      <th>2</th>\n",
       "      <td>X2</td>\n",
       "      <td>Y2</td>\n",
       "    </tr>\n",
       "    <tr>\n",
       "      <th>3</th>\n",
       "      <td>X3</td>\n",
       "      <td>Y3</td>\n",
       "    </tr>\n",
       "  </tbody>\n",
       "</table>\n",
       "</div>"
      ],
      "text/plain": [
       "    X   Y\n",
       "1  X1  Y1\n",
       "2  X2  Y2\n",
       "3  X3  Y3"
      ]
     },
     "execution_count": 160,
     "metadata": {},
     "output_type": "execute_result"
    }
   ],
   "source": [
    "df4"
   ]
  },
  {
   "cell_type": "code",
   "execution_count": 161,
   "id": "cb8c920e-171a-48dd-88c4-bcbff5879466",
   "metadata": {},
   "outputs": [
    {
     "data": {
      "text/html": [
       "<div>\n",
       "<style scoped>\n",
       "    .dataframe tbody tr th:only-of-type {\n",
       "        vertical-align: middle;\n",
       "    }\n",
       "\n",
       "    .dataframe tbody tr th {\n",
       "        vertical-align: top;\n",
       "    }\n",
       "\n",
       "    .dataframe thead th {\n",
       "        text-align: right;\n",
       "    }\n",
       "</style>\n",
       "<table border=\"1\" class=\"dataframe\">\n",
       "  <thead>\n",
       "    <tr style=\"text-align: right;\">\n",
       "      <th></th>\n",
       "      <th>A</th>\n",
       "      <th>B</th>\n",
       "      <th>X</th>\n",
       "      <th>Y</th>\n",
       "    </tr>\n",
       "  </thead>\n",
       "  <tbody>\n",
       "    <tr>\n",
       "      <th>1</th>\n",
       "      <td>A1</td>\n",
       "      <td>B1</td>\n",
       "      <td>X1</td>\n",
       "      <td>Y1</td>\n",
       "    </tr>\n",
       "    <tr>\n",
       "      <th>2</th>\n",
       "      <td>A2</td>\n",
       "      <td>B2</td>\n",
       "      <td>X2</td>\n",
       "      <td>Y2</td>\n",
       "    </tr>\n",
       "    <tr>\n",
       "      <th>3</th>\n",
       "      <td>A3</td>\n",
       "      <td>B3</td>\n",
       "      <td>X3</td>\n",
       "      <td>Y3</td>\n",
       "    </tr>\n",
       "    <tr>\n",
       "      <th>4</th>\n",
       "      <td>A4</td>\n",
       "      <td>B4</td>\n",
       "      <td>NaN</td>\n",
       "      <td>NaN</td>\n",
       "    </tr>\n",
       "  </tbody>\n",
       "</table>\n",
       "</div>"
      ],
      "text/plain": [
       "    A   B    X    Y\n",
       "1  A1  B1   X1   Y1\n",
       "2  A2  B2   X2   Y2\n",
       "3  A3  B3   X3   Y3\n",
       "4  A4  B4  NaN  NaN"
      ]
     },
     "execution_count": 161,
     "metadata": {},
     "output_type": "execute_result"
    }
   ],
   "source": [
    "df3.join(df4) #df4 değerleri df3 değerlerinden fazla old. için eksikler NaN olacak."
   ]
  },
  {
   "cell_type": "code",
   "execution_count": 162,
   "id": "1a1e985c-1c1e-445e-9f37-513c7a29d6d8",
   "metadata": {},
   "outputs": [
    {
     "data": {
      "text/html": [
       "<div>\n",
       "<style scoped>\n",
       "    .dataframe tbody tr th:only-of-type {\n",
       "        vertical-align: middle;\n",
       "    }\n",
       "\n",
       "    .dataframe tbody tr th {\n",
       "        vertical-align: top;\n",
       "    }\n",
       "\n",
       "    .dataframe thead th {\n",
       "        text-align: right;\n",
       "    }\n",
       "</style>\n",
       "<table border=\"1\" class=\"dataframe\">\n",
       "  <thead>\n",
       "    <tr style=\"text-align: right;\">\n",
       "      <th></th>\n",
       "      <th>X</th>\n",
       "      <th>Y</th>\n",
       "      <th>A</th>\n",
       "      <th>B</th>\n",
       "    </tr>\n",
       "  </thead>\n",
       "  <tbody>\n",
       "    <tr>\n",
       "      <th>1</th>\n",
       "      <td>X1</td>\n",
       "      <td>Y1</td>\n",
       "      <td>A1</td>\n",
       "      <td>B1</td>\n",
       "    </tr>\n",
       "    <tr>\n",
       "      <th>2</th>\n",
       "      <td>X2</td>\n",
       "      <td>Y2</td>\n",
       "      <td>A2</td>\n",
       "      <td>B2</td>\n",
       "    </tr>\n",
       "    <tr>\n",
       "      <th>3</th>\n",
       "      <td>X3</td>\n",
       "      <td>Y3</td>\n",
       "      <td>A3</td>\n",
       "      <td>B3</td>\n",
       "    </tr>\n",
       "  </tbody>\n",
       "</table>\n",
       "</div>"
      ],
      "text/plain": [
       "    X   Y   A   B\n",
       "1  X1  Y1  A1  B1\n",
       "2  X2  Y2  A2  B2\n",
       "3  X3  Y3  A3  B3"
      ]
     },
     "execution_count": 162,
     "metadata": {},
     "output_type": "execute_result"
    }
   ],
   "source": [
    "df4.join(df3) #Df4 değerleri df3 değerlerinden az old. için eksik olmayacaktır(df3'e göre katılım yapılacak)"
   ]
  },
  {
   "cell_type": "markdown",
   "id": "4f81be37-3803-4abf-9bb6-c2f767171ace",
   "metadata": {},
   "source": [
    "__________________"
   ]
  },
  {
   "cell_type": "code",
   "execution_count": 187,
   "id": "c14b2087-2371-4eb8-b2a2-06808909c2a6",
   "metadata": {},
   "outputs": [
    {
     "name": "stdout",
     "output_type": "stream",
     "text": [
      "INNER JOIN:\n",
      "    ID      Ad      Bölüm\n",
      "0   2    Ayşe  Matematik\n",
      "1   3  Mehmet      Fizik\n",
      "\n",
      "LEFT JOIN:\n",
      "    ID      Ad      Bölüm\n",
      "0   1     Ali        NaN\n",
      "1   2    Ayşe  Matematik\n",
      "2   3  Mehmet      Fizik\n",
      "\n",
      "RIGHT JOIN:\n",
      "    ID      Ad      Bölüm\n",
      "0   2    Ayşe  Matematik\n",
      "1   3  Mehmet      Fizik\n",
      "2   4     NaN      Kimya\n",
      "\n",
      "OUTER JOIN:\n",
      "    ID      Ad      Bölüm\n",
      "0   1     Ali        NaN\n",
      "1   2    Ayşe  Matematik\n",
      "2   3  Mehmet      Fizik\n",
      "3   4     NaN      Kimya\n"
     ]
    }
   ],
   "source": [
    "# Örnek Veri\n",
    "df5 = pd.DataFrame({\n",
    "    'ID': [1, 2, 3],\n",
    "    'Ad': ['Ali', 'Ayşe', 'Mehmet']\n",
    "})\n",
    "\n",
    "df6 = pd.DataFrame({\n",
    "    'ID': [2, 3, 4],\n",
    "    'Bölüm': ['Matematik', 'Fizik', 'Kimya']\n",
    "})\n",
    "\n",
    "# 1. INNER JOIN\n",
    "inner_join = pd.merge(df5, df6, on='ID', how='inner')\n",
    "print(\"INNER JOIN:\\n\", inner_join)\n",
    "\n",
    "# 2. LEFT JOIN\n",
    "left_join = pd.merge(df5, df6, on='ID', how='left')\n",
    "print(\"\\nLEFT JOIN:\\n\", left_join)\n",
    "\n",
    "# 3. RIGHT JOIN\n",
    "right_join = pd.merge(df5, df6, on='ID', how='right')\n",
    "print(\"\\nRIGHT JOIN:\\n\", right_join)\n",
    "\n",
    "# 4. OUTER JOIN\n",
    "outer_join = pd.merge(df5, df6, on='ID', how='outer')\n",
    "print(\"\\nOUTER JOIN:\\n\", outer_join)\n"
   ]
  },
  {
   "cell_type": "code",
   "execution_count": null,
   "id": "1eb80a4c-4c0c-4a9a-82ed-0755452f58ea",
   "metadata": {},
   "outputs": [],
   "source": []
  }
 ],
 "metadata": {
  "kernelspec": {
   "display_name": "Python 3 (ipykernel)",
   "language": "python",
   "name": "python3"
  },
  "language_info": {
   "codemirror_mode": {
    "name": "ipython",
    "version": 3
   },
   "file_extension": ".py",
   "mimetype": "text/x-python",
   "name": "python",
   "nbconvert_exporter": "python",
   "pygments_lexer": "ipython3",
   "version": "3.12.4"
  }
 },
 "nbformat": 4,
 "nbformat_minor": 5
}
