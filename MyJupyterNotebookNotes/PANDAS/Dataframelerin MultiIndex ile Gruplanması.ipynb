{
 "cells": [
  {
   "cell_type": "code",
   "execution_count": 43,
   "id": "a97d34de-edec-46fe-8657-ce873ed85593",
   "metadata": {},
   "outputs": [],
   "source": [
    "import numpy as np\n",
    "import pandas as  pd\n",
    "from numpy.random import randn"
   ]
  },
  {
   "cell_type": "code",
   "execution_count": 44,
   "id": "71bbafd3-5220-4ed7-914a-0d9edf9474fd",
   "metadata": {},
   "outputs": [],
   "source": [
    "outerIndex = [\"Group1\",\"Group1\",\"Group1\",\"Group2\",\"Group2\",\"Group2\",\"Group3\",\"Group3\",\"Group3\"]"
   ]
  },
  {
   "cell_type": "code",
   "execution_count": 45,
   "id": "6da3d58e-b0c8-4cbc-860a-ea02f4a94719",
   "metadata": {},
   "outputs": [],
   "source": [
    "innerIndex = [\"Index1\",\"Index2\",\"Index3\",  \"Index1\",\"Index2\",\"Index3\", \"Index1\",\"Index2\",\"Index3\"]"
   ]
  },
  {
   "cell_type": "code",
   "execution_count": 46,
   "id": "a137cf19-51d9-496e-b574-bda912b93252",
   "metadata": {},
   "outputs": [],
   "source": [
    "hierarchy = list(zip(outerIndex,innerIndex)) #zip fonksiyonu ile birleştirelim"
   ]
  },
  {
   "cell_type": "code",
   "execution_count": 47,
   "id": "d120219c-16a4-4b7b-b316-3cbea8d6a85b",
   "metadata": {},
   "outputs": [],
   "source": [
    "hierarchy = pd.MultiIndex.from_tuples(hierarchy)"
   ]
  },
  {
   "cell_type": "code",
   "execution_count": 48,
   "id": "cc3ba2ed-a3d6-4b8b-9d4f-c5bc37a5a046",
   "metadata": {},
   "outputs": [
    {
     "data": {
      "text/plain": [
       "MultiIndex([('Group1', 'Index1'),\n",
       "            ('Group1', 'Index2'),\n",
       "            ('Group1', 'Index3'),\n",
       "            ('Group2', 'Index1'),\n",
       "            ('Group2', 'Index2'),\n",
       "            ('Group2', 'Index3'),\n",
       "            ('Group3', 'Index1'),\n",
       "            ('Group3', 'Index2'),\n",
       "            ('Group3', 'Index3')],\n",
       "           )"
      ]
     },
     "execution_count": 48,
     "metadata": {},
     "output_type": "execute_result"
    }
   ],
   "source": [
    "hierarchy"
   ]
  },
  {
   "cell_type": "code",
   "execution_count": 49,
   "id": "17147f07-7671-4d99-af0d-446418d56450",
   "metadata": {},
   "outputs": [],
   "source": [
    "df = pd.DataFrame(randn(9,3),hierarchy,columns = [\"Column1\",\"Column2\",\"Column3\"])"
   ]
  },
  {
   "cell_type": "code",
   "execution_count": 50,
   "id": "421aa035-dee6-478e-b317-a1bc86fe88d7",
   "metadata": {},
   "outputs": [
    {
     "data": {
      "text/html": [
       "<div>\n",
       "<style scoped>\n",
       "    .dataframe tbody tr th:only-of-type {\n",
       "        vertical-align: middle;\n",
       "    }\n",
       "\n",
       "    .dataframe tbody tr th {\n",
       "        vertical-align: top;\n",
       "    }\n",
       "\n",
       "    .dataframe thead th {\n",
       "        text-align: right;\n",
       "    }\n",
       "</style>\n",
       "<table border=\"1\" class=\"dataframe\">\n",
       "  <thead>\n",
       "    <tr style=\"text-align: right;\">\n",
       "      <th></th>\n",
       "      <th></th>\n",
       "      <th>Column1</th>\n",
       "      <th>Column2</th>\n",
       "      <th>Column3</th>\n",
       "    </tr>\n",
       "  </thead>\n",
       "  <tbody>\n",
       "    <tr>\n",
       "      <th rowspan=\"3\" valign=\"top\">Group1</th>\n",
       "      <th>Index1</th>\n",
       "      <td>-0.323341</td>\n",
       "      <td>0.191105</td>\n",
       "      <td>-1.189490</td>\n",
       "    </tr>\n",
       "    <tr>\n",
       "      <th>Index2</th>\n",
       "      <td>-1.733006</td>\n",
       "      <td>-0.930188</td>\n",
       "      <td>0.226700</td>\n",
       "    </tr>\n",
       "    <tr>\n",
       "      <th>Index3</th>\n",
       "      <td>0.579952</td>\n",
       "      <td>-0.042688</td>\n",
       "      <td>-1.721028</td>\n",
       "    </tr>\n",
       "    <tr>\n",
       "      <th rowspan=\"3\" valign=\"top\">Group2</th>\n",
       "      <th>Index1</th>\n",
       "      <td>-1.125960</td>\n",
       "      <td>0.948675</td>\n",
       "      <td>1.105677</td>\n",
       "    </tr>\n",
       "    <tr>\n",
       "      <th>Index2</th>\n",
       "      <td>-0.971265</td>\n",
       "      <td>0.288550</td>\n",
       "      <td>-0.898297</td>\n",
       "    </tr>\n",
       "    <tr>\n",
       "      <th>Index3</th>\n",
       "      <td>-1.476759</td>\n",
       "      <td>0.517813</td>\n",
       "      <td>1.020879</td>\n",
       "    </tr>\n",
       "    <tr>\n",
       "      <th rowspan=\"3\" valign=\"top\">Group3</th>\n",
       "      <th>Index1</th>\n",
       "      <td>-0.410330</td>\n",
       "      <td>-0.607953</td>\n",
       "      <td>-0.056178</td>\n",
       "    </tr>\n",
       "    <tr>\n",
       "      <th>Index2</th>\n",
       "      <td>0.605559</td>\n",
       "      <td>1.595857</td>\n",
       "      <td>-0.930183</td>\n",
       "    </tr>\n",
       "    <tr>\n",
       "      <th>Index3</th>\n",
       "      <td>-0.090550</td>\n",
       "      <td>-0.663570</td>\n",
       "      <td>-0.197403</td>\n",
       "    </tr>\n",
       "  </tbody>\n",
       "</table>\n",
       "</div>"
      ],
      "text/plain": [
       "                Column1   Column2   Column3\n",
       "Group1 Index1 -0.323341  0.191105 -1.189490\n",
       "       Index2 -1.733006 -0.930188  0.226700\n",
       "       Index3  0.579952 -0.042688 -1.721028\n",
       "Group2 Index1 -1.125960  0.948675  1.105677\n",
       "       Index2 -0.971265  0.288550 -0.898297\n",
       "       Index3 -1.476759  0.517813  1.020879\n",
       "Group3 Index1 -0.410330 -0.607953 -0.056178\n",
       "       Index2  0.605559  1.595857 -0.930183\n",
       "       Index3 -0.090550 -0.663570 -0.197403"
      ]
     },
     "execution_count": 50,
     "metadata": {},
     "output_type": "execute_result"
    }
   ],
   "source": [
    "df"
   ]
  },
  {
   "cell_type": "code",
   "execution_count": 51,
   "id": "e8981e00-14c8-4927-9567-59ebe513882a",
   "metadata": {},
   "outputs": [
    {
     "data": {
      "text/plain": [
       "Group1  Index1   -0.323341\n",
       "        Index2   -1.733006\n",
       "        Index3    0.579952\n",
       "Group2  Index1   -1.125960\n",
       "        Index2   -0.971265\n",
       "        Index3   -1.476759\n",
       "Group3  Index1   -0.410330\n",
       "        Index2    0.605559\n",
       "        Index3   -0.090550\n",
       "Name: Column1, dtype: float64"
      ]
     },
     "execution_count": 51,
     "metadata": {},
     "output_type": "execute_result"
    }
   ],
   "source": [
    "df[\"Column1\"]"
   ]
  },
  {
   "cell_type": "code",
   "execution_count": 52,
   "id": "b47c0745-fd7c-4170-92b2-7a0c9d51b9f9",
   "metadata": {},
   "outputs": [
    {
     "data": {
      "text/plain": [
       "Group1  Index1    0.191105\n",
       "        Index2   -0.930188\n",
       "        Index3   -0.042688\n",
       "Group2  Index1    0.948675\n",
       "        Index2    0.288550\n",
       "        Index3    0.517813\n",
       "Group3  Index1   -0.607953\n",
       "        Index2    1.595857\n",
       "        Index3   -0.663570\n",
       "Name: Column2, dtype: float64"
      ]
     },
     "execution_count": 52,
     "metadata": {},
     "output_type": "execute_result"
    }
   ],
   "source": [
    "df[\"Column2\"]"
   ]
  },
  {
   "cell_type": "code",
   "execution_count": 68,
   "id": "a34c6527-10ef-4565-a073-f0a874d5f961",
   "metadata": {},
   "outputs": [
    {
     "data": {
      "text/html": [
       "<div>\n",
       "<style scoped>\n",
       "    .dataframe tbody tr th:only-of-type {\n",
       "        vertical-align: middle;\n",
       "    }\n",
       "\n",
       "    .dataframe tbody tr th {\n",
       "        vertical-align: top;\n",
       "    }\n",
       "\n",
       "    .dataframe thead th {\n",
       "        text-align: right;\n",
       "    }\n",
       "</style>\n",
       "<table border=\"1\" class=\"dataframe\">\n",
       "  <thead>\n",
       "    <tr style=\"text-align: right;\">\n",
       "      <th></th>\n",
       "      <th>Column1</th>\n",
       "      <th>Column2</th>\n",
       "      <th>Column3</th>\n",
       "    </tr>\n",
       "  </thead>\n",
       "  <tbody>\n",
       "    <tr>\n",
       "      <th>Index1</th>\n",
       "      <td>-0.323341</td>\n",
       "      <td>0.191105</td>\n",
       "      <td>-1.189490</td>\n",
       "    </tr>\n",
       "    <tr>\n",
       "      <th>Index2</th>\n",
       "      <td>-1.733006</td>\n",
       "      <td>-0.930188</td>\n",
       "      <td>0.226700</td>\n",
       "    </tr>\n",
       "    <tr>\n",
       "      <th>Index3</th>\n",
       "      <td>0.579952</td>\n",
       "      <td>-0.042688</td>\n",
       "      <td>-1.721028</td>\n",
       "    </tr>\n",
       "  </tbody>\n",
       "</table>\n",
       "</div>"
      ],
      "text/plain": [
       "         Column1   Column2   Column3\n",
       "Index1 -0.323341  0.191105 -1.189490\n",
       "Index2 -1.733006 -0.930188  0.226700\n",
       "Index3  0.579952 -0.042688 -1.721028"
      ]
     },
     "execution_count": 68,
     "metadata": {},
     "output_type": "execute_result"
    }
   ],
   "source": [
    "df.loc[\"Group1\"] #belli grubu alma"
   ]
  },
  {
   "cell_type": "code",
   "execution_count": 70,
   "id": "5a32263b-0072-444a-8729-cb3fc8023062",
   "metadata": {},
   "outputs": [
    {
     "data": {
      "text/html": [
       "<div>\n",
       "<style scoped>\n",
       "    .dataframe tbody tr th:only-of-type {\n",
       "        vertical-align: middle;\n",
       "    }\n",
       "\n",
       "    .dataframe tbody tr th {\n",
       "        vertical-align: top;\n",
       "    }\n",
       "\n",
       "    .dataframe thead th {\n",
       "        text-align: right;\n",
       "    }\n",
       "</style>\n",
       "<table border=\"1\" class=\"dataframe\">\n",
       "  <thead>\n",
       "    <tr style=\"text-align: right;\">\n",
       "      <th></th>\n",
       "      <th>Column1</th>\n",
       "      <th>Column2</th>\n",
       "      <th>Column3</th>\n",
       "    </tr>\n",
       "  </thead>\n",
       "  <tbody>\n",
       "    <tr>\n",
       "      <th>Index1</th>\n",
       "      <td>-1.125960</td>\n",
       "      <td>0.948675</td>\n",
       "      <td>1.105677</td>\n",
       "    </tr>\n",
       "    <tr>\n",
       "      <th>Index2</th>\n",
       "      <td>-0.971265</td>\n",
       "      <td>0.288550</td>\n",
       "      <td>-0.898297</td>\n",
       "    </tr>\n",
       "    <tr>\n",
       "      <th>Index3</th>\n",
       "      <td>-1.476759</td>\n",
       "      <td>0.517813</td>\n",
       "      <td>1.020879</td>\n",
       "    </tr>\n",
       "  </tbody>\n",
       "</table>\n",
       "</div>"
      ],
      "text/plain": [
       "         Column1   Column2   Column3\n",
       "Index1 -1.125960  0.948675  1.105677\n",
       "Index2 -0.971265  0.288550 -0.898297\n",
       "Index3 -1.476759  0.517813  1.020879"
      ]
     },
     "execution_count": 70,
     "metadata": {},
     "output_type": "execute_result"
    }
   ],
   "source": [
    "df.loc[\"Group2\"] #belli grubu alma"
   ]
  },
  {
   "cell_type": "code",
   "execution_count": 72,
   "id": "b24e79cc-1e63-4564-a56f-8ae2f1b46e3b",
   "metadata": {},
   "outputs": [
    {
     "data": {
      "text/html": [
       "<div>\n",
       "<style scoped>\n",
       "    .dataframe tbody tr th:only-of-type {\n",
       "        vertical-align: middle;\n",
       "    }\n",
       "\n",
       "    .dataframe tbody tr th {\n",
       "        vertical-align: top;\n",
       "    }\n",
       "\n",
       "    .dataframe thead th {\n",
       "        text-align: right;\n",
       "    }\n",
       "</style>\n",
       "<table border=\"1\" class=\"dataframe\">\n",
       "  <thead>\n",
       "    <tr style=\"text-align: right;\">\n",
       "      <th></th>\n",
       "      <th>Column1</th>\n",
       "      <th>Column2</th>\n",
       "      <th>Column3</th>\n",
       "    </tr>\n",
       "  </thead>\n",
       "  <tbody>\n",
       "    <tr>\n",
       "      <th>Index1</th>\n",
       "      <td>-0.410330</td>\n",
       "      <td>-0.607953</td>\n",
       "      <td>-0.056178</td>\n",
       "    </tr>\n",
       "    <tr>\n",
       "      <th>Index2</th>\n",
       "      <td>0.605559</td>\n",
       "      <td>1.595857</td>\n",
       "      <td>-0.930183</td>\n",
       "    </tr>\n",
       "    <tr>\n",
       "      <th>Index3</th>\n",
       "      <td>-0.090550</td>\n",
       "      <td>-0.663570</td>\n",
       "      <td>-0.197403</td>\n",
       "    </tr>\n",
       "  </tbody>\n",
       "</table>\n",
       "</div>"
      ],
      "text/plain": [
       "         Column1   Column2   Column3\n",
       "Index1 -0.410330 -0.607953 -0.056178\n",
       "Index2  0.605559  1.595857 -0.930183\n",
       "Index3 -0.090550 -0.663570 -0.197403"
      ]
     },
     "execution_count": 72,
     "metadata": {},
     "output_type": "execute_result"
    }
   ],
   "source": [
    "df.loc[\"Group3\"] #belli grubu alma"
   ]
  },
  {
   "cell_type": "code",
   "execution_count": 80,
   "id": "756d8671-d6e4-4045-a187-a87913c2528b",
   "metadata": {},
   "outputs": [
    {
     "data": {
      "text/html": [
       "<div>\n",
       "<style scoped>\n",
       "    .dataframe tbody tr th:only-of-type {\n",
       "        vertical-align: middle;\n",
       "    }\n",
       "\n",
       "    .dataframe tbody tr th {\n",
       "        vertical-align: top;\n",
       "    }\n",
       "\n",
       "    .dataframe thead th {\n",
       "        text-align: right;\n",
       "    }\n",
       "</style>\n",
       "<table border=\"1\" class=\"dataframe\">\n",
       "  <thead>\n",
       "    <tr style=\"text-align: right;\">\n",
       "      <th></th>\n",
       "      <th></th>\n",
       "      <th>Column1</th>\n",
       "      <th>Column2</th>\n",
       "      <th>Column3</th>\n",
       "    </tr>\n",
       "  </thead>\n",
       "  <tbody>\n",
       "    <tr>\n",
       "      <th rowspan=\"3\" valign=\"top\">Group1</th>\n",
       "      <th>Index1</th>\n",
       "      <td>-0.323341</td>\n",
       "      <td>0.191105</td>\n",
       "      <td>-1.189490</td>\n",
       "    </tr>\n",
       "    <tr>\n",
       "      <th>Index2</th>\n",
       "      <td>-1.733006</td>\n",
       "      <td>-0.930188</td>\n",
       "      <td>0.226700</td>\n",
       "    </tr>\n",
       "    <tr>\n",
       "      <th>Index3</th>\n",
       "      <td>0.579952</td>\n",
       "      <td>-0.042688</td>\n",
       "      <td>-1.721028</td>\n",
       "    </tr>\n",
       "    <tr>\n",
       "      <th rowspan=\"3\" valign=\"top\">Group2</th>\n",
       "      <th>Index1</th>\n",
       "      <td>-1.125960</td>\n",
       "      <td>0.948675</td>\n",
       "      <td>1.105677</td>\n",
       "    </tr>\n",
       "    <tr>\n",
       "      <th>Index2</th>\n",
       "      <td>-0.971265</td>\n",
       "      <td>0.288550</td>\n",
       "      <td>-0.898297</td>\n",
       "    </tr>\n",
       "    <tr>\n",
       "      <th>Index3</th>\n",
       "      <td>-1.476759</td>\n",
       "      <td>0.517813</td>\n",
       "      <td>1.020879</td>\n",
       "    </tr>\n",
       "  </tbody>\n",
       "</table>\n",
       "</div>"
      ],
      "text/plain": [
       "                Column1   Column2   Column3\n",
       "Group1 Index1 -0.323341  0.191105 -1.189490\n",
       "       Index2 -1.733006 -0.930188  0.226700\n",
       "       Index3  0.579952 -0.042688 -1.721028\n",
       "Group2 Index1 -1.125960  0.948675  1.105677\n",
       "       Index2 -0.971265  0.288550 -0.898297\n",
       "       Index3 -1.476759  0.517813  1.020879"
      ]
     },
     "execution_count": 80,
     "metadata": {},
     "output_type": "execute_result"
    }
   ],
   "source": [
    "df.loc[[\"Group1\"] + [\"Group2\"]] #iki grubu alma"
   ]
  },
  {
   "cell_type": "code",
   "execution_count": 86,
   "id": "e0d98d05-650e-4f5c-a53b-fabf1ab7a8cd",
   "metadata": {},
   "outputs": [
    {
     "data": {
      "text/plain": [
       "Column1   -0.323341\n",
       "Column2    0.191105\n",
       "Column3   -1.189490\n",
       "Name: Index1, dtype: float64"
      ]
     },
     "execution_count": 86,
     "metadata": {},
     "output_type": "execute_result"
    }
   ],
   "source": [
    "df.loc[\"Group1\"].loc[\"Index1\"] #Grup1'de bulunan Index1 elemanları"
   ]
  },
  {
   "cell_type": "code",
   "execution_count": 90,
   "id": "0bb69d3a-2260-4505-be71-6720f6e29983",
   "metadata": {},
   "outputs": [
    {
     "data": {
      "text/plain": [
       "-0.3233406409347382"
      ]
     },
     "execution_count": 90,
     "metadata": {},
     "output_type": "execute_result"
    }
   ],
   "source": [
    "df.loc[\"Group1\"].loc[\"Index1\"][\"Column1\"] #Grup1'de bulunan Index1 elemanlarından Colum1'in  değeri"
   ]
  },
  {
   "cell_type": "code",
   "execution_count": 94,
   "id": "b0bc9cbb-f980-4476-89da-f14840de4664",
   "metadata": {},
   "outputs": [
    {
     "data": {
      "text/plain": [
       "FrozenList([None, None])"
      ]
     },
     "execution_count": 94,
     "metadata": {},
     "output_type": "execute_result"
    }
   ],
   "source": [
    "df.index.names #indexlerimiz ismini sorguluyoruz"
   ]
  },
  {
   "cell_type": "code",
   "execution_count": 102,
   "id": "4d095f80-2e75-478e-a459-48fd6a4989d9",
   "metadata": {},
   "outputs": [],
   "source": [
    "#her birine isim verelim\n",
    "df.index.names = [\"Groups\", \"Indexes\"]"
   ]
  },
  {
   "cell_type": "code",
   "execution_count": 104,
   "id": "b1f8e179-72f9-438d-83d2-d996c412d1b3",
   "metadata": {},
   "outputs": [
    {
     "data": {
      "text/html": [
       "<div>\n",
       "<style scoped>\n",
       "    .dataframe tbody tr th:only-of-type {\n",
       "        vertical-align: middle;\n",
       "    }\n",
       "\n",
       "    .dataframe tbody tr th {\n",
       "        vertical-align: top;\n",
       "    }\n",
       "\n",
       "    .dataframe thead th {\n",
       "        text-align: right;\n",
       "    }\n",
       "</style>\n",
       "<table border=\"1\" class=\"dataframe\">\n",
       "  <thead>\n",
       "    <tr style=\"text-align: right;\">\n",
       "      <th></th>\n",
       "      <th></th>\n",
       "      <th>Column1</th>\n",
       "      <th>Column2</th>\n",
       "      <th>Column3</th>\n",
       "    </tr>\n",
       "    <tr>\n",
       "      <th>Groups</th>\n",
       "      <th>Indexes</th>\n",
       "      <th></th>\n",
       "      <th></th>\n",
       "      <th></th>\n",
       "    </tr>\n",
       "  </thead>\n",
       "  <tbody>\n",
       "    <tr>\n",
       "      <th rowspan=\"3\" valign=\"top\">Group1</th>\n",
       "      <th>Index1</th>\n",
       "      <td>-0.323341</td>\n",
       "      <td>0.191105</td>\n",
       "      <td>-1.189490</td>\n",
       "    </tr>\n",
       "    <tr>\n",
       "      <th>Index2</th>\n",
       "      <td>-1.733006</td>\n",
       "      <td>-0.930188</td>\n",
       "      <td>0.226700</td>\n",
       "    </tr>\n",
       "    <tr>\n",
       "      <th>Index3</th>\n",
       "      <td>0.579952</td>\n",
       "      <td>-0.042688</td>\n",
       "      <td>-1.721028</td>\n",
       "    </tr>\n",
       "    <tr>\n",
       "      <th rowspan=\"3\" valign=\"top\">Group2</th>\n",
       "      <th>Index1</th>\n",
       "      <td>-1.125960</td>\n",
       "      <td>0.948675</td>\n",
       "      <td>1.105677</td>\n",
       "    </tr>\n",
       "    <tr>\n",
       "      <th>Index2</th>\n",
       "      <td>-0.971265</td>\n",
       "      <td>0.288550</td>\n",
       "      <td>-0.898297</td>\n",
       "    </tr>\n",
       "    <tr>\n",
       "      <th>Index3</th>\n",
       "      <td>-1.476759</td>\n",
       "      <td>0.517813</td>\n",
       "      <td>1.020879</td>\n",
       "    </tr>\n",
       "    <tr>\n",
       "      <th rowspan=\"3\" valign=\"top\">Group3</th>\n",
       "      <th>Index1</th>\n",
       "      <td>-0.410330</td>\n",
       "      <td>-0.607953</td>\n",
       "      <td>-0.056178</td>\n",
       "    </tr>\n",
       "    <tr>\n",
       "      <th>Index2</th>\n",
       "      <td>0.605559</td>\n",
       "      <td>1.595857</td>\n",
       "      <td>-0.930183</td>\n",
       "    </tr>\n",
       "    <tr>\n",
       "      <th>Index3</th>\n",
       "      <td>-0.090550</td>\n",
       "      <td>-0.663570</td>\n",
       "      <td>-0.197403</td>\n",
       "    </tr>\n",
       "  </tbody>\n",
       "</table>\n",
       "</div>"
      ],
      "text/plain": [
       "                 Column1   Column2   Column3\n",
       "Groups Indexes                              \n",
       "Group1 Index1  -0.323341  0.191105 -1.189490\n",
       "       Index2  -1.733006 -0.930188  0.226700\n",
       "       Index3   0.579952 -0.042688 -1.721028\n",
       "Group2 Index1  -1.125960  0.948675  1.105677\n",
       "       Index2  -0.971265  0.288550 -0.898297\n",
       "       Index3  -1.476759  0.517813  1.020879\n",
       "Group3 Index1  -0.410330 -0.607953 -0.056178\n",
       "       Index2   0.605559  1.595857 -0.930183\n",
       "       Index3  -0.090550 -0.663570 -0.197403"
      ]
     },
     "execution_count": 104,
     "metadata": {},
     "output_type": "execute_result"
    }
   ],
   "source": [
    "df"
   ]
  },
  {
   "cell_type": "markdown",
   "id": "1335641f-14ac-40fe-bf85-a4040b68cbcb",
   "metadata": {},
   "source": [
    "____________________"
   ]
  },
  {
   "cell_type": "code",
   "execution_count": 109,
   "id": "886a272e-e930-4671-8938-47425339ba0d",
   "metadata": {},
   "outputs": [
    {
     "data": {
      "text/html": [
       "<div>\n",
       "<style scoped>\n",
       "    .dataframe tbody tr th:only-of-type {\n",
       "        vertical-align: middle;\n",
       "    }\n",
       "\n",
       "    .dataframe tbody tr th {\n",
       "        vertical-align: top;\n",
       "    }\n",
       "\n",
       "    .dataframe thead th {\n",
       "        text-align: right;\n",
       "    }\n",
       "</style>\n",
       "<table border=\"1\" class=\"dataframe\">\n",
       "  <thead>\n",
       "    <tr style=\"text-align: right;\">\n",
       "      <th></th>\n",
       "      <th>Column1</th>\n",
       "      <th>Column2</th>\n",
       "      <th>Column3</th>\n",
       "    </tr>\n",
       "    <tr>\n",
       "      <th>Indexes</th>\n",
       "      <th></th>\n",
       "      <th></th>\n",
       "      <th></th>\n",
       "    </tr>\n",
       "  </thead>\n",
       "  <tbody>\n",
       "    <tr>\n",
       "      <th>Index1</th>\n",
       "      <td>-0.323341</td>\n",
       "      <td>0.191105</td>\n",
       "      <td>-1.189490</td>\n",
       "    </tr>\n",
       "    <tr>\n",
       "      <th>Index2</th>\n",
       "      <td>-1.733006</td>\n",
       "      <td>-0.930188</td>\n",
       "      <td>0.226700</td>\n",
       "    </tr>\n",
       "    <tr>\n",
       "      <th>Index3</th>\n",
       "      <td>0.579952</td>\n",
       "      <td>-0.042688</td>\n",
       "      <td>-1.721028</td>\n",
       "    </tr>\n",
       "  </tbody>\n",
       "</table>\n",
       "</div>"
      ],
      "text/plain": [
       "          Column1   Column2   Column3\n",
       "Indexes                              \n",
       "Index1  -0.323341  0.191105 -1.189490\n",
       "Index2  -1.733006 -0.930188  0.226700\n",
       "Index3   0.579952 -0.042688 -1.721028"
      ]
     },
     "execution_count": 109,
     "metadata": {},
     "output_type": "execute_result"
    }
   ],
   "source": [
    "df.loc[\"Group1\"]"
   ]
  },
  {
   "cell_type": "code",
   "execution_count": 113,
   "id": "0a3408e9-1985-43ff-a754-cecc961bd9ed",
   "metadata": {
    "scrolled": true
   },
   "outputs": [
    {
     "data": {
      "text/html": [
       "<div>\n",
       "<style scoped>\n",
       "    .dataframe tbody tr th:only-of-type {\n",
       "        vertical-align: middle;\n",
       "    }\n",
       "\n",
       "    .dataframe tbody tr th {\n",
       "        vertical-align: top;\n",
       "    }\n",
       "\n",
       "    .dataframe thead th {\n",
       "        text-align: right;\n",
       "    }\n",
       "</style>\n",
       "<table border=\"1\" class=\"dataframe\">\n",
       "  <thead>\n",
       "    <tr style=\"text-align: right;\">\n",
       "      <th></th>\n",
       "      <th>Column1</th>\n",
       "      <th>Column2</th>\n",
       "      <th>Column3</th>\n",
       "    </tr>\n",
       "    <tr>\n",
       "      <th>Indexes</th>\n",
       "      <th></th>\n",
       "      <th></th>\n",
       "      <th></th>\n",
       "    </tr>\n",
       "  </thead>\n",
       "  <tbody>\n",
       "    <tr>\n",
       "      <th>Index1</th>\n",
       "      <td>-0.323341</td>\n",
       "      <td>0.191105</td>\n",
       "      <td>-1.189490</td>\n",
       "    </tr>\n",
       "    <tr>\n",
       "      <th>Index2</th>\n",
       "      <td>-1.733006</td>\n",
       "      <td>-0.930188</td>\n",
       "      <td>0.226700</td>\n",
       "    </tr>\n",
       "    <tr>\n",
       "      <th>Index3</th>\n",
       "      <td>0.579952</td>\n",
       "      <td>-0.042688</td>\n",
       "      <td>-1.721028</td>\n",
       "    </tr>\n",
       "  </tbody>\n",
       "</table>\n",
       "</div>"
      ],
      "text/plain": [
       "          Column1   Column2   Column3\n",
       "Indexes                              \n",
       "Index1  -0.323341  0.191105 -1.189490\n",
       "Index2  -1.733006 -0.930188  0.226700\n",
       "Index3   0.579952 -0.042688 -1.721028"
      ]
     },
     "execution_count": 113,
     "metadata": {},
     "output_type": "execute_result"
    }
   ],
   "source": [
    "df.xs(\"Group1\") #aynı işlem"
   ]
  },
  {
   "cell_type": "code",
   "execution_count": 133,
   "id": "7ab5e948-7e1e-4032-b7f7-cb3e0741040a",
   "metadata": {},
   "outputs": [
    {
     "data": {
      "text/plain": [
       "-0.3233406409347382"
      ]
     },
     "execution_count": 133,
     "metadata": {},
     "output_type": "execute_result"
    }
   ],
   "source": [
    "df.xs(\"Group1\").xs(\"Index1\").xs(\"Column1\")"
   ]
  },
  {
   "cell_type": "code",
   "execution_count": 135,
   "id": "0f224167-9d63-4292-a472-929e98b0a33b",
   "metadata": {},
   "outputs": [
    {
     "data": {
      "text/html": [
       "<div>\n",
       "<style scoped>\n",
       "    .dataframe tbody tr th:only-of-type {\n",
       "        vertical-align: middle;\n",
       "    }\n",
       "\n",
       "    .dataframe tbody tr th {\n",
       "        vertical-align: top;\n",
       "    }\n",
       "\n",
       "    .dataframe thead th {\n",
       "        text-align: right;\n",
       "    }\n",
       "</style>\n",
       "<table border=\"1\" class=\"dataframe\">\n",
       "  <thead>\n",
       "    <tr style=\"text-align: right;\">\n",
       "      <th></th>\n",
       "      <th>Column1</th>\n",
       "      <th>Column2</th>\n",
       "      <th>Column3</th>\n",
       "    </tr>\n",
       "    <tr>\n",
       "      <th>Groups</th>\n",
       "      <th></th>\n",
       "      <th></th>\n",
       "      <th></th>\n",
       "    </tr>\n",
       "  </thead>\n",
       "  <tbody>\n",
       "    <tr>\n",
       "      <th>Group1</th>\n",
       "      <td>-0.323341</td>\n",
       "      <td>0.191105</td>\n",
       "      <td>-1.189490</td>\n",
       "    </tr>\n",
       "    <tr>\n",
       "      <th>Group2</th>\n",
       "      <td>-1.125960</td>\n",
       "      <td>0.948675</td>\n",
       "      <td>1.105677</td>\n",
       "    </tr>\n",
       "    <tr>\n",
       "      <th>Group3</th>\n",
       "      <td>-0.410330</td>\n",
       "      <td>-0.607953</td>\n",
       "      <td>-0.056178</td>\n",
       "    </tr>\n",
       "  </tbody>\n",
       "</table>\n",
       "</div>"
      ],
      "text/plain": [
       "         Column1   Column2   Column3\n",
       "Groups                              \n",
       "Group1 -0.323341  0.191105 -1.189490\n",
       "Group2 -1.125960  0.948675  1.105677\n",
       "Group3 -0.410330 -0.607953 -0.056178"
      ]
     },
     "execution_count": 135,
     "metadata": {},
     "output_type": "execute_result"
    }
   ],
   "source": [
    "df.xs(\"Index1\" , level=\"Indexes\")"
   ]
  },
  {
   "cell_type": "code",
   "execution_count": null,
   "id": "1a7411ce-7190-48dd-a258-d698dca26865",
   "metadata": {},
   "outputs": [],
   "source": []
  }
 ],
 "metadata": {
  "kernelspec": {
   "display_name": "Python 3 (ipykernel)",
   "language": "python",
   "name": "python3"
  },
  "language_info": {
   "codemirror_mode": {
    "name": "ipython",
    "version": 3
   },
   "file_extension": ".py",
   "mimetype": "text/x-python",
   "name": "python",
   "nbconvert_exporter": "python",
   "pygments_lexer": "ipython3",
   "version": "3.12.4"
  }
 },
 "nbformat": 4,
 "nbformat_minor": 5
}
