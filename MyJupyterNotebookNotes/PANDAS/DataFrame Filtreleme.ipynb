{
 "cells": [
  {
   "cell_type": "markdown",
   "id": "ef6ae504-a791-4722-a723-aeeb89aaa08e",
   "metadata": {},
   "source": [
    "# DATAFRAME FİLTRELEME"
   ]
  },
  {
   "cell_type": "code",
   "execution_count": 113,
   "id": "5c19b39d-e079-4e93-bae0-5b947b3944df",
   "metadata": {},
   "outputs": [],
   "source": [
    "import numpy as np\n",
    "import pandas as pd\n",
    "from numpy.random import randn"
   ]
  },
  {
   "cell_type": "code",
   "execution_count": 114,
   "id": "640d2a84-7298-4420-a34e-64d4afd54ba5",
   "metadata": {},
   "outputs": [],
   "source": [
    "#data = [\"A\" ,\"B\" , \"c\"]\n",
    "#pd.Series(data)"
   ]
  },
  {
   "cell_type": "code",
   "execution_count": 115,
   "id": "9dfb027c-409b-418f-a1b4-dd6787b3a5b6",
   "metadata": {},
   "outputs": [],
   "source": [
    "df = pd.DataFrame(randn(4,3) , [\"A\",\"B\" , \"C\", \"D\"]  , [\"Column1\", \"Column2\" , \"Column3\"])"
   ]
  },
  {
   "cell_type": "code",
   "execution_count": 116,
   "id": "fc8908cb-e990-4fcd-8926-239e885b7296",
   "metadata": {},
   "outputs": [
    {
     "data": {
      "text/html": [
       "<div>\n",
       "<style scoped>\n",
       "    .dataframe tbody tr th:only-of-type {\n",
       "        vertical-align: middle;\n",
       "    }\n",
       "\n",
       "    .dataframe tbody tr th {\n",
       "        vertical-align: top;\n",
       "    }\n",
       "\n",
       "    .dataframe thead th {\n",
       "        text-align: right;\n",
       "    }\n",
       "</style>\n",
       "<table border=\"1\" class=\"dataframe\">\n",
       "  <thead>\n",
       "    <tr style=\"text-align: right;\">\n",
       "      <th></th>\n",
       "      <th>Column1</th>\n",
       "      <th>Column2</th>\n",
       "      <th>Column3</th>\n",
       "    </tr>\n",
       "  </thead>\n",
       "  <tbody>\n",
       "    <tr>\n",
       "      <th>A</th>\n",
       "      <td>0.247202</td>\n",
       "      <td>-1.146280</td>\n",
       "      <td>0.594691</td>\n",
       "    </tr>\n",
       "    <tr>\n",
       "      <th>B</th>\n",
       "      <td>-0.076777</td>\n",
       "      <td>-0.443283</td>\n",
       "      <td>1.107584</td>\n",
       "    </tr>\n",
       "    <tr>\n",
       "      <th>C</th>\n",
       "      <td>0.507292</td>\n",
       "      <td>0.159329</td>\n",
       "      <td>0.375711</td>\n",
       "    </tr>\n",
       "    <tr>\n",
       "      <th>D</th>\n",
       "      <td>0.001871</td>\n",
       "      <td>0.705978</td>\n",
       "      <td>0.201386</td>\n",
       "    </tr>\n",
       "  </tbody>\n",
       "</table>\n",
       "</div>"
      ],
      "text/plain": [
       "    Column1   Column2   Column3\n",
       "A  0.247202 -1.146280  0.594691\n",
       "B -0.076777 -0.443283  1.107584\n",
       "C  0.507292  0.159329  0.375711\n",
       "D  0.001871  0.705978  0.201386"
      ]
     },
     "execution_count": 116,
     "metadata": {},
     "output_type": "execute_result"
    }
   ],
   "source": [
    "df"
   ]
  },
  {
   "cell_type": "code",
   "execution_count": 117,
   "id": "efc855df-4159-4216-a2bc-37e0a44f18e0",
   "metadata": {},
   "outputs": [
    {
     "data": {
      "text/html": [
       "<div>\n",
       "<style scoped>\n",
       "    .dataframe tbody tr th:only-of-type {\n",
       "        vertical-align: middle;\n",
       "    }\n",
       "\n",
       "    .dataframe tbody tr th {\n",
       "        vertical-align: top;\n",
       "    }\n",
       "\n",
       "    .dataframe thead th {\n",
       "        text-align: right;\n",
       "    }\n",
       "</style>\n",
       "<table border=\"1\" class=\"dataframe\">\n",
       "  <thead>\n",
       "    <tr style=\"text-align: right;\">\n",
       "      <th></th>\n",
       "      <th>Column1</th>\n",
       "      <th>Column2</th>\n",
       "      <th>Column3</th>\n",
       "    </tr>\n",
       "  </thead>\n",
       "  <tbody>\n",
       "    <tr>\n",
       "      <th>A</th>\n",
       "      <td>True</td>\n",
       "      <td>False</td>\n",
       "      <td>True</td>\n",
       "    </tr>\n",
       "    <tr>\n",
       "      <th>B</th>\n",
       "      <td>True</td>\n",
       "      <td>True</td>\n",
       "      <td>True</td>\n",
       "    </tr>\n",
       "    <tr>\n",
       "      <th>C</th>\n",
       "      <td>True</td>\n",
       "      <td>True</td>\n",
       "      <td>True</td>\n",
       "    </tr>\n",
       "    <tr>\n",
       "      <th>D</th>\n",
       "      <td>True</td>\n",
       "      <td>True</td>\n",
       "      <td>True</td>\n",
       "    </tr>\n",
       "  </tbody>\n",
       "</table>\n",
       "</div>"
      ],
      "text/plain": [
       "   Column1  Column2  Column3\n",
       "A     True    False     True\n",
       "B     True     True     True\n",
       "C     True     True     True\n",
       "D     True     True     True"
      ]
     },
     "execution_count": 117,
     "metadata": {},
     "output_type": "execute_result"
    }
   ],
   "source": [
    "df > - 1 # filtreleme"
   ]
  },
  {
   "cell_type": "code",
   "execution_count": 118,
   "id": "bf5b3b94-b490-4e69-828c-850a6def6baa",
   "metadata": {},
   "outputs": [
    {
     "data": {
      "text/html": [
       "<div>\n",
       "<style scoped>\n",
       "    .dataframe tbody tr th:only-of-type {\n",
       "        vertical-align: middle;\n",
       "    }\n",
       "\n",
       "    .dataframe tbody tr th {\n",
       "        vertical-align: top;\n",
       "    }\n",
       "\n",
       "    .dataframe thead th {\n",
       "        text-align: right;\n",
       "    }\n",
       "</style>\n",
       "<table border=\"1\" class=\"dataframe\">\n",
       "  <thead>\n",
       "    <tr style=\"text-align: right;\">\n",
       "      <th></th>\n",
       "      <th>Column1</th>\n",
       "      <th>Column2</th>\n",
       "      <th>Column3</th>\n",
       "    </tr>\n",
       "  </thead>\n",
       "  <tbody>\n",
       "    <tr>\n",
       "      <th>A</th>\n",
       "      <td>True</td>\n",
       "      <td>False</td>\n",
       "      <td>True</td>\n",
       "    </tr>\n",
       "    <tr>\n",
       "      <th>B</th>\n",
       "      <td>False</td>\n",
       "      <td>False</td>\n",
       "      <td>True</td>\n",
       "    </tr>\n",
       "    <tr>\n",
       "      <th>C</th>\n",
       "      <td>True</td>\n",
       "      <td>True</td>\n",
       "      <td>True</td>\n",
       "    </tr>\n",
       "    <tr>\n",
       "      <th>D</th>\n",
       "      <td>True</td>\n",
       "      <td>True</td>\n",
       "      <td>True</td>\n",
       "    </tr>\n",
       "  </tbody>\n",
       "</table>\n",
       "</div>"
      ],
      "text/plain": [
       "   Column1  Column2  Column3\n",
       "A     True    False     True\n",
       "B    False    False     True\n",
       "C     True     True     True\n",
       "D     True     True     True"
      ]
     },
     "execution_count": 118,
     "metadata": {},
     "output_type": "execute_result"
    }
   ],
   "source": [
    "df > 0 "
   ]
  },
  {
   "cell_type": "code",
   "execution_count": 119,
   "id": "68378a13-a4cb-4713-8908-8f30d6770eed",
   "metadata": {},
   "outputs": [],
   "source": [
    "booleanDf = df >  0 # filtereleme(np arrayleri gibi )"
   ]
  },
  {
   "cell_type": "code",
   "execution_count": 120,
   "id": "7c64e211-077d-46e9-a573-f958762452c9",
   "metadata": {},
   "outputs": [
    {
     "data": {
      "text/html": [
       "<div>\n",
       "<style scoped>\n",
       "    .dataframe tbody tr th:only-of-type {\n",
       "        vertical-align: middle;\n",
       "    }\n",
       "\n",
       "    .dataframe tbody tr th {\n",
       "        vertical-align: top;\n",
       "    }\n",
       "\n",
       "    .dataframe thead th {\n",
       "        text-align: right;\n",
       "    }\n",
       "</style>\n",
       "<table border=\"1\" class=\"dataframe\">\n",
       "  <thead>\n",
       "    <tr style=\"text-align: right;\">\n",
       "      <th></th>\n",
       "      <th>Column1</th>\n",
       "      <th>Column2</th>\n",
       "      <th>Column3</th>\n",
       "    </tr>\n",
       "  </thead>\n",
       "  <tbody>\n",
       "    <tr>\n",
       "      <th>A</th>\n",
       "      <td>True</td>\n",
       "      <td>False</td>\n",
       "      <td>True</td>\n",
       "    </tr>\n",
       "    <tr>\n",
       "      <th>B</th>\n",
       "      <td>False</td>\n",
       "      <td>False</td>\n",
       "      <td>True</td>\n",
       "    </tr>\n",
       "    <tr>\n",
       "      <th>C</th>\n",
       "      <td>True</td>\n",
       "      <td>True</td>\n",
       "      <td>True</td>\n",
       "    </tr>\n",
       "    <tr>\n",
       "      <th>D</th>\n",
       "      <td>True</td>\n",
       "      <td>True</td>\n",
       "      <td>True</td>\n",
       "    </tr>\n",
       "  </tbody>\n",
       "</table>\n",
       "</div>"
      ],
      "text/plain": [
       "   Column1  Column2  Column3\n",
       "A     True    False     True\n",
       "B    False    False     True\n",
       "C     True     True     True\n",
       "D     True     True     True"
      ]
     },
     "execution_count": 120,
     "metadata": {},
     "output_type": "execute_result"
    }
   ],
   "source": [
    "booleanDf"
   ]
  },
  {
   "cell_type": "code",
   "execution_count": 121,
   "id": "8ca6d633-97cc-4e28-ba07-ed93f72d86b6",
   "metadata": {},
   "outputs": [
    {
     "data": {
      "text/html": [
       "<div>\n",
       "<style scoped>\n",
       "    .dataframe tbody tr th:only-of-type {\n",
       "        vertical-align: middle;\n",
       "    }\n",
       "\n",
       "    .dataframe tbody tr th {\n",
       "        vertical-align: top;\n",
       "    }\n",
       "\n",
       "    .dataframe thead th {\n",
       "        text-align: right;\n",
       "    }\n",
       "</style>\n",
       "<table border=\"1\" class=\"dataframe\">\n",
       "  <thead>\n",
       "    <tr style=\"text-align: right;\">\n",
       "      <th></th>\n",
       "      <th>Column1</th>\n",
       "      <th>Column2</th>\n",
       "      <th>Column3</th>\n",
       "    </tr>\n",
       "  </thead>\n",
       "  <tbody>\n",
       "    <tr>\n",
       "      <th>A</th>\n",
       "      <td>0.247202</td>\n",
       "      <td>NaN</td>\n",
       "      <td>0.594691</td>\n",
       "    </tr>\n",
       "    <tr>\n",
       "      <th>B</th>\n",
       "      <td>NaN</td>\n",
       "      <td>NaN</td>\n",
       "      <td>1.107584</td>\n",
       "    </tr>\n",
       "    <tr>\n",
       "      <th>C</th>\n",
       "      <td>0.507292</td>\n",
       "      <td>0.159329</td>\n",
       "      <td>0.375711</td>\n",
       "    </tr>\n",
       "    <tr>\n",
       "      <th>D</th>\n",
       "      <td>0.001871</td>\n",
       "      <td>0.705978</td>\n",
       "      <td>0.201386</td>\n",
       "    </tr>\n",
       "  </tbody>\n",
       "</table>\n",
       "</div>"
      ],
      "text/plain": [
       "    Column1   Column2   Column3\n",
       "A  0.247202       NaN  0.594691\n",
       "B       NaN       NaN  1.107584\n",
       "C  0.507292  0.159329  0.375711\n",
       "D  0.001871  0.705978  0.201386"
      ]
     },
     "execution_count": 121,
     "metadata": {},
     "output_type": "execute_result"
    }
   ],
   "source": [
    "df[booleanDf]"
   ]
  },
  {
   "cell_type": "code",
   "execution_count": 122,
   "id": "42babbbe-98bc-46b5-b1ee-72e1c5dddb4e",
   "metadata": {},
   "outputs": [
    {
     "data": {
      "text/html": [
       "<div>\n",
       "<style scoped>\n",
       "    .dataframe tbody tr th:only-of-type {\n",
       "        vertical-align: middle;\n",
       "    }\n",
       "\n",
       "    .dataframe tbody tr th {\n",
       "        vertical-align: top;\n",
       "    }\n",
       "\n",
       "    .dataframe thead th {\n",
       "        text-align: right;\n",
       "    }\n",
       "</style>\n",
       "<table border=\"1\" class=\"dataframe\">\n",
       "  <thead>\n",
       "    <tr style=\"text-align: right;\">\n",
       "      <th></th>\n",
       "      <th>Column1</th>\n",
       "      <th>Column2</th>\n",
       "      <th>Column3</th>\n",
       "    </tr>\n",
       "  </thead>\n",
       "  <tbody>\n",
       "    <tr>\n",
       "      <th>A</th>\n",
       "      <td>0.247202</td>\n",
       "      <td>-1.146280</td>\n",
       "      <td>0.594691</td>\n",
       "    </tr>\n",
       "    <tr>\n",
       "      <th>B</th>\n",
       "      <td>-0.076777</td>\n",
       "      <td>-0.443283</td>\n",
       "      <td>1.107584</td>\n",
       "    </tr>\n",
       "    <tr>\n",
       "      <th>C</th>\n",
       "      <td>0.507292</td>\n",
       "      <td>0.159329</td>\n",
       "      <td>0.375711</td>\n",
       "    </tr>\n",
       "    <tr>\n",
       "      <th>D</th>\n",
       "      <td>0.001871</td>\n",
       "      <td>0.705978</td>\n",
       "      <td>0.201386</td>\n",
       "    </tr>\n",
       "  </tbody>\n",
       "</table>\n",
       "</div>"
      ],
      "text/plain": [
       "    Column1   Column2   Column3\n",
       "A  0.247202 -1.146280  0.594691\n",
       "B -0.076777 -0.443283  1.107584\n",
       "C  0.507292  0.159329  0.375711\n",
       "D  0.001871  0.705978  0.201386"
      ]
     },
     "execution_count": 122,
     "metadata": {},
     "output_type": "execute_result"
    }
   ],
   "source": [
    "df[df > -2] #filtreleme"
   ]
  },
  {
   "cell_type": "code",
   "execution_count": 123,
   "id": "c3491a09-8b3b-4f73-a8a4-8c181b37f167",
   "metadata": {},
   "outputs": [
    {
     "data": {
      "text/plain": [
       "A    0.247202\n",
       "B   -0.076777\n",
       "C    0.507292\n",
       "D    0.001871\n",
       "Name: Column1, dtype: float64"
      ]
     },
     "execution_count": 123,
     "metadata": {},
     "output_type": "execute_result"
    }
   ],
   "source": [
    "df[\"Column1\"]"
   ]
  },
  {
   "cell_type": "code",
   "execution_count": 124,
   "id": "e983c3d3-7794-48d8-ba31-97d4b05ce436",
   "metadata": {},
   "outputs": [
    {
     "data": {
      "text/plain": [
       "A     True\n",
       "B    False\n",
       "C     True\n",
       "D     True\n",
       "Name: Column1, dtype: bool"
      ]
     },
     "execution_count": 124,
     "metadata": {},
     "output_type": "execute_result"
    }
   ],
   "source": [
    "df[\"Column1\"] > 0"
   ]
  },
  {
   "cell_type": "code",
   "execution_count": 125,
   "id": "13cc85a7-fcef-4bfc-b584-17bd605ecab4",
   "metadata": {},
   "outputs": [
    {
     "data": {
      "text/html": [
       "<div>\n",
       "<style scoped>\n",
       "    .dataframe tbody tr th:only-of-type {\n",
       "        vertical-align: middle;\n",
       "    }\n",
       "\n",
       "    .dataframe tbody tr th {\n",
       "        vertical-align: top;\n",
       "    }\n",
       "\n",
       "    .dataframe thead th {\n",
       "        text-align: right;\n",
       "    }\n",
       "</style>\n",
       "<table border=\"1\" class=\"dataframe\">\n",
       "  <thead>\n",
       "    <tr style=\"text-align: right;\">\n",
       "      <th></th>\n",
       "      <th>Column1</th>\n",
       "      <th>Column2</th>\n",
       "      <th>Column3</th>\n",
       "    </tr>\n",
       "  </thead>\n",
       "  <tbody>\n",
       "    <tr>\n",
       "      <th>A</th>\n",
       "      <td>0.247202</td>\n",
       "      <td>-1.146280</td>\n",
       "      <td>0.594691</td>\n",
       "    </tr>\n",
       "    <tr>\n",
       "      <th>C</th>\n",
       "      <td>0.507292</td>\n",
       "      <td>0.159329</td>\n",
       "      <td>0.375711</td>\n",
       "    </tr>\n",
       "    <tr>\n",
       "      <th>D</th>\n",
       "      <td>0.001871</td>\n",
       "      <td>0.705978</td>\n",
       "      <td>0.201386</td>\n",
       "    </tr>\n",
       "  </tbody>\n",
       "</table>\n",
       "</div>"
      ],
      "text/plain": [
       "    Column1   Column2   Column3\n",
       "A  0.247202 -1.146280  0.594691\n",
       "C  0.507292  0.159329  0.375711\n",
       "D  0.001871  0.705978  0.201386"
      ]
     },
     "execution_count": 125,
     "metadata": {},
     "output_type": "execute_result"
    }
   ],
   "source": [
    "df[df[\"Column1\"] > 0] #false olan değerler dahil edilmez"
   ]
  },
  {
   "cell_type": "code",
   "execution_count": 126,
   "id": "cddd4fc3-7e22-452b-b30f-ace5e8cd53ea",
   "metadata": {},
   "outputs": [
    {
     "data": {
      "text/html": [
       "<div>\n",
       "<style scoped>\n",
       "    .dataframe tbody tr th:only-of-type {\n",
       "        vertical-align: middle;\n",
       "    }\n",
       "\n",
       "    .dataframe tbody tr th {\n",
       "        vertical-align: top;\n",
       "    }\n",
       "\n",
       "    .dataframe thead th {\n",
       "        text-align: right;\n",
       "    }\n",
       "</style>\n",
       "<table border=\"1\" class=\"dataframe\">\n",
       "  <thead>\n",
       "    <tr style=\"text-align: right;\">\n",
       "      <th></th>\n",
       "      <th>Column1</th>\n",
       "      <th>Column2</th>\n",
       "      <th>Column3</th>\n",
       "    </tr>\n",
       "  </thead>\n",
       "  <tbody>\n",
       "    <tr>\n",
       "      <th>A</th>\n",
       "      <td>0.247202</td>\n",
       "      <td>-1.146280</td>\n",
       "      <td>0.594691</td>\n",
       "    </tr>\n",
       "    <tr>\n",
       "      <th>B</th>\n",
       "      <td>-0.076777</td>\n",
       "      <td>-0.443283</td>\n",
       "      <td>1.107584</td>\n",
       "    </tr>\n",
       "    <tr>\n",
       "      <th>C</th>\n",
       "      <td>0.507292</td>\n",
       "      <td>0.159329</td>\n",
       "      <td>0.375711</td>\n",
       "    </tr>\n",
       "    <tr>\n",
       "      <th>D</th>\n",
       "      <td>0.001871</td>\n",
       "      <td>0.705978</td>\n",
       "      <td>0.201386</td>\n",
       "    </tr>\n",
       "  </tbody>\n",
       "</table>\n",
       "</div>"
      ],
      "text/plain": [
       "    Column1   Column2   Column3\n",
       "A  0.247202 -1.146280  0.594691\n",
       "B -0.076777 -0.443283  1.107584\n",
       "C  0.507292  0.159329  0.375711\n",
       "D  0.001871  0.705978  0.201386"
      ]
     },
     "execution_count": 126,
     "metadata": {},
     "output_type": "execute_result"
    }
   ],
   "source": [
    "df[df[\"Column1\"] > -1]"
   ]
  },
  {
   "cell_type": "code",
   "execution_count": 127,
   "id": "f58a048c-4b4d-44fb-855b-d067c4f128dd",
   "metadata": {},
   "outputs": [
    {
     "data": {
      "text/html": [
       "<div>\n",
       "<style scoped>\n",
       "    .dataframe tbody tr th:only-of-type {\n",
       "        vertical-align: middle;\n",
       "    }\n",
       "\n",
       "    .dataframe tbody tr th {\n",
       "        vertical-align: top;\n",
       "    }\n",
       "\n",
       "    .dataframe thead th {\n",
       "        text-align: right;\n",
       "    }\n",
       "</style>\n",
       "<table border=\"1\" class=\"dataframe\">\n",
       "  <thead>\n",
       "    <tr style=\"text-align: right;\">\n",
       "      <th></th>\n",
       "      <th>Column1</th>\n",
       "      <th>Column2</th>\n",
       "      <th>Column3</th>\n",
       "    </tr>\n",
       "  </thead>\n",
       "  <tbody>\n",
       "    <tr>\n",
       "      <th>A</th>\n",
       "      <td>0.247202</td>\n",
       "      <td>-1.146280</td>\n",
       "      <td>0.594691</td>\n",
       "    </tr>\n",
       "    <tr>\n",
       "      <th>B</th>\n",
       "      <td>-0.076777</td>\n",
       "      <td>-0.443283</td>\n",
       "      <td>1.107584</td>\n",
       "    </tr>\n",
       "    <tr>\n",
       "      <th>C</th>\n",
       "      <td>0.507292</td>\n",
       "      <td>0.159329</td>\n",
       "      <td>0.375711</td>\n",
       "    </tr>\n",
       "    <tr>\n",
       "      <th>D</th>\n",
       "      <td>0.001871</td>\n",
       "      <td>0.705978</td>\n",
       "      <td>0.201386</td>\n",
       "    </tr>\n",
       "  </tbody>\n",
       "</table>\n",
       "</div>"
      ],
      "text/plain": [
       "    Column1   Column2   Column3\n",
       "A  0.247202 -1.146280  0.594691\n",
       "B -0.076777 -0.443283  1.107584\n",
       "C  0.507292  0.159329  0.375711\n",
       "D  0.001871  0.705978  0.201386"
      ]
     },
     "execution_count": 127,
     "metadata": {},
     "output_type": "execute_result"
    }
   ],
   "source": [
    "df"
   ]
  },
  {
   "cell_type": "code",
   "execution_count": 128,
   "id": "a060ef65-c0b0-4239-8920-f774c65e8f0c",
   "metadata": {},
   "outputs": [
    {
     "data": {
      "text/html": [
       "<div>\n",
       "<style scoped>\n",
       "    .dataframe tbody tr th:only-of-type {\n",
       "        vertical-align: middle;\n",
       "    }\n",
       "\n",
       "    .dataframe tbody tr th {\n",
       "        vertical-align: top;\n",
       "    }\n",
       "\n",
       "    .dataframe thead th {\n",
       "        text-align: right;\n",
       "    }\n",
       "</style>\n",
       "<table border=\"1\" class=\"dataframe\">\n",
       "  <thead>\n",
       "    <tr style=\"text-align: right;\">\n",
       "      <th></th>\n",
       "      <th>Column1</th>\n",
       "      <th>Column2</th>\n",
       "      <th>Column3</th>\n",
       "    </tr>\n",
       "  </thead>\n",
       "  <tbody>\n",
       "    <tr>\n",
       "      <th>A</th>\n",
       "      <td>0.247202</td>\n",
       "      <td>-1.146280</td>\n",
       "      <td>0.594691</td>\n",
       "    </tr>\n",
       "    <tr>\n",
       "      <th>B</th>\n",
       "      <td>-0.076777</td>\n",
       "      <td>-0.443283</td>\n",
       "      <td>1.107584</td>\n",
       "    </tr>\n",
       "    <tr>\n",
       "      <th>C</th>\n",
       "      <td>0.507292</td>\n",
       "      <td>0.159329</td>\n",
       "      <td>0.375711</td>\n",
       "    </tr>\n",
       "    <tr>\n",
       "      <th>D</th>\n",
       "      <td>0.001871</td>\n",
       "      <td>0.705978</td>\n",
       "      <td>0.201386</td>\n",
       "    </tr>\n",
       "  </tbody>\n",
       "</table>\n",
       "</div>"
      ],
      "text/plain": [
       "    Column1   Column2   Column3\n",
       "A  0.247202 -1.146280  0.594691\n",
       "B -0.076777 -0.443283  1.107584\n",
       "C  0.507292  0.159329  0.375711\n",
       "D  0.001871  0.705978  0.201386"
      ]
     },
     "execution_count": 128,
     "metadata": {},
     "output_type": "execute_result"
    }
   ],
   "source": [
    "df[(df[\"Column1\"] > -1) & (df[\"Column3\"] > 0)]"
   ]
  },
  {
   "cell_type": "markdown",
   "id": "d84e8cb3-dafa-4826-b7e6-4ddb67be82b6",
   "metadata": {},
   "source": [
    "DataFrame'e Yeni Sütun Ekleme Yöntemleri"
   ]
  },
  {
   "cell_type": "markdown",
   "id": "439fa730-1e3d-4e71-b695-c76851175278",
   "metadata": {},
   "source": [
    "📌1. Yöntem"
   ]
  },
  {
   "cell_type": "code",
   "execution_count": 131,
   "id": "ef8a7129-5a8b-4610-96ad-8dc7520a8cc1",
   "metadata": {},
   "outputs": [
    {
     "data": {
      "text/html": [
       "<div>\n",
       "<style scoped>\n",
       "    .dataframe tbody tr th:only-of-type {\n",
       "        vertical-align: middle;\n",
       "    }\n",
       "\n",
       "    .dataframe tbody tr th {\n",
       "        vertical-align: top;\n",
       "    }\n",
       "\n",
       "    .dataframe thead th {\n",
       "        text-align: right;\n",
       "    }\n",
       "</style>\n",
       "<table border=\"1\" class=\"dataframe\">\n",
       "  <thead>\n",
       "    <tr style=\"text-align: right;\">\n",
       "      <th></th>\n",
       "      <th>Column1</th>\n",
       "      <th>Column2</th>\n",
       "      <th>Column3</th>\n",
       "    </tr>\n",
       "  </thead>\n",
       "  <tbody>\n",
       "    <tr>\n",
       "      <th>A</th>\n",
       "      <td>0.247202</td>\n",
       "      <td>-1.146280</td>\n",
       "      <td>0.594691</td>\n",
       "    </tr>\n",
       "    <tr>\n",
       "      <th>B</th>\n",
       "      <td>-0.076777</td>\n",
       "      <td>-0.443283</td>\n",
       "      <td>1.107584</td>\n",
       "    </tr>\n",
       "    <tr>\n",
       "      <th>C</th>\n",
       "      <td>0.507292</td>\n",
       "      <td>0.159329</td>\n",
       "      <td>0.375711</td>\n",
       "    </tr>\n",
       "    <tr>\n",
       "      <th>D</th>\n",
       "      <td>0.001871</td>\n",
       "      <td>0.705978</td>\n",
       "      <td>0.201386</td>\n",
       "    </tr>\n",
       "  </tbody>\n",
       "</table>\n",
       "</div>"
      ],
      "text/plain": [
       "    Column1   Column2   Column3\n",
       "A  0.247202 -1.146280  0.594691\n",
       "B -0.076777 -0.443283  1.107584\n",
       "C  0.507292  0.159329  0.375711\n",
       "D  0.001871  0.705978  0.201386"
      ]
     },
     "execution_count": 131,
     "metadata": {},
     "output_type": "execute_result"
    }
   ],
   "source": [
    "df"
   ]
  },
  {
   "cell_type": "code",
   "execution_count": 132,
   "id": "59c76bc2-485d-4a64-86d9-f4c326c85f9b",
   "metadata": {},
   "outputs": [],
   "source": [
    "df[\"Column4\"] = pd.Series(randn(4),index = [\"A\",\"B\",\"C\",\"D\"])"
   ]
  },
  {
   "cell_type": "code",
   "execution_count": 133,
   "id": "6b610d43-22f0-48e7-83d0-6985df307bd8",
   "metadata": {},
   "outputs": [
    {
     "data": {
      "text/html": [
       "<div>\n",
       "<style scoped>\n",
       "    .dataframe tbody tr th:only-of-type {\n",
       "        vertical-align: middle;\n",
       "    }\n",
       "\n",
       "    .dataframe tbody tr th {\n",
       "        vertical-align: top;\n",
       "    }\n",
       "\n",
       "    .dataframe thead th {\n",
       "        text-align: right;\n",
       "    }\n",
       "</style>\n",
       "<table border=\"1\" class=\"dataframe\">\n",
       "  <thead>\n",
       "    <tr style=\"text-align: right;\">\n",
       "      <th></th>\n",
       "      <th>Column1</th>\n",
       "      <th>Column2</th>\n",
       "      <th>Column3</th>\n",
       "      <th>Column4</th>\n",
       "    </tr>\n",
       "  </thead>\n",
       "  <tbody>\n",
       "    <tr>\n",
       "      <th>A</th>\n",
       "      <td>0.247202</td>\n",
       "      <td>-1.146280</td>\n",
       "      <td>0.594691</td>\n",
       "      <td>-0.543066</td>\n",
       "    </tr>\n",
       "    <tr>\n",
       "      <th>B</th>\n",
       "      <td>-0.076777</td>\n",
       "      <td>-0.443283</td>\n",
       "      <td>1.107584</td>\n",
       "      <td>-0.261591</td>\n",
       "    </tr>\n",
       "    <tr>\n",
       "      <th>C</th>\n",
       "      <td>0.507292</td>\n",
       "      <td>0.159329</td>\n",
       "      <td>0.375711</td>\n",
       "      <td>-0.495659</td>\n",
       "    </tr>\n",
       "    <tr>\n",
       "      <th>D</th>\n",
       "      <td>0.001871</td>\n",
       "      <td>0.705978</td>\n",
       "      <td>0.201386</td>\n",
       "      <td>1.485362</td>\n",
       "    </tr>\n",
       "  </tbody>\n",
       "</table>\n",
       "</div>"
      ],
      "text/plain": [
       "    Column1   Column2   Column3   Column4\n",
       "A  0.247202 -1.146280  0.594691 -0.543066\n",
       "B -0.076777 -0.443283  1.107584 -0.261591\n",
       "C  0.507292  0.159329  0.375711 -0.495659\n",
       "D  0.001871  0.705978  0.201386  1.485362"
      ]
     },
     "execution_count": 133,
     "metadata": {},
     "output_type": "execute_result"
    }
   ],
   "source": [
    "df"
   ]
  },
  {
   "cell_type": "markdown",
   "id": "2cea3df2-cffd-4e68-b9c9-d58776e1c8ba",
   "metadata": {},
   "source": [
    "2. Yöntem"
   ]
  },
  {
   "cell_type": "code",
   "execution_count": 135,
   "id": "aee180bc-4293-4af5-894a-8b3e5b36a5a1",
   "metadata": {},
   "outputs": [],
   "source": [
    "df[\"Column5\"] = randn(4)"
   ]
  },
  {
   "cell_type": "code",
   "execution_count": 136,
   "id": "f79fc1d6-7eb1-4252-abd8-1fcd47f7f91d",
   "metadata": {},
   "outputs": [
    {
     "data": {
      "text/html": [
       "<div>\n",
       "<style scoped>\n",
       "    .dataframe tbody tr th:only-of-type {\n",
       "        vertical-align: middle;\n",
       "    }\n",
       "\n",
       "    .dataframe tbody tr th {\n",
       "        vertical-align: top;\n",
       "    }\n",
       "\n",
       "    .dataframe thead th {\n",
       "        text-align: right;\n",
       "    }\n",
       "</style>\n",
       "<table border=\"1\" class=\"dataframe\">\n",
       "  <thead>\n",
       "    <tr style=\"text-align: right;\">\n",
       "      <th></th>\n",
       "      <th>Column1</th>\n",
       "      <th>Column2</th>\n",
       "      <th>Column3</th>\n",
       "      <th>Column4</th>\n",
       "      <th>Column5</th>\n",
       "    </tr>\n",
       "  </thead>\n",
       "  <tbody>\n",
       "    <tr>\n",
       "      <th>A</th>\n",
       "      <td>0.247202</td>\n",
       "      <td>-1.146280</td>\n",
       "      <td>0.594691</td>\n",
       "      <td>-0.543066</td>\n",
       "      <td>-0.309720</td>\n",
       "    </tr>\n",
       "    <tr>\n",
       "      <th>B</th>\n",
       "      <td>-0.076777</td>\n",
       "      <td>-0.443283</td>\n",
       "      <td>1.107584</td>\n",
       "      <td>-0.261591</td>\n",
       "      <td>1.335231</td>\n",
       "    </tr>\n",
       "    <tr>\n",
       "      <th>C</th>\n",
       "      <td>0.507292</td>\n",
       "      <td>0.159329</td>\n",
       "      <td>0.375711</td>\n",
       "      <td>-0.495659</td>\n",
       "      <td>1.114988</td>\n",
       "    </tr>\n",
       "    <tr>\n",
       "      <th>D</th>\n",
       "      <td>0.001871</td>\n",
       "      <td>0.705978</td>\n",
       "      <td>0.201386</td>\n",
       "      <td>1.485362</td>\n",
       "      <td>0.509344</td>\n",
       "    </tr>\n",
       "  </tbody>\n",
       "</table>\n",
       "</div>"
      ],
      "text/plain": [
       "    Column1   Column2   Column3   Column4   Column5\n",
       "A  0.247202 -1.146280  0.594691 -0.543066 -0.309720\n",
       "B -0.076777 -0.443283  1.107584 -0.261591  1.335231\n",
       "C  0.507292  0.159329  0.375711 -0.495659  1.114988\n",
       "D  0.001871  0.705978  0.201386  1.485362  0.509344"
      ]
     },
     "execution_count": 136,
     "metadata": {},
     "output_type": "execute_result"
    }
   ],
   "source": [
    "df"
   ]
  },
  {
   "cell_type": "markdown",
   "id": "866c5343-fb62-40c1-9577-483d203b94d2",
   "metadata": {},
   "source": [
    "# Set Index ve Indeksi Değiştirme"
   ]
  },
  {
   "cell_type": "code",
   "execution_count": 138,
   "id": "b618af85-248e-40de-baf4-b762b5407375",
   "metadata": {},
   "outputs": [
    {
     "data": {
      "text/html": [
       "<div>\n",
       "<style scoped>\n",
       "    .dataframe tbody tr th:only-of-type {\n",
       "        vertical-align: middle;\n",
       "    }\n",
       "\n",
       "    .dataframe tbody tr th {\n",
       "        vertical-align: top;\n",
       "    }\n",
       "\n",
       "    .dataframe thead th {\n",
       "        text-align: right;\n",
       "    }\n",
       "</style>\n",
       "<table border=\"1\" class=\"dataframe\">\n",
       "  <thead>\n",
       "    <tr style=\"text-align: right;\">\n",
       "      <th></th>\n",
       "      <th>Column1</th>\n",
       "      <th>Column2</th>\n",
       "      <th>Column3</th>\n",
       "      <th>Column4</th>\n",
       "      <th>Column5</th>\n",
       "    </tr>\n",
       "  </thead>\n",
       "  <tbody>\n",
       "    <tr>\n",
       "      <th>A</th>\n",
       "      <td>0.247202</td>\n",
       "      <td>-1.146280</td>\n",
       "      <td>0.594691</td>\n",
       "      <td>-0.543066</td>\n",
       "      <td>-0.309720</td>\n",
       "    </tr>\n",
       "    <tr>\n",
       "      <th>B</th>\n",
       "      <td>-0.076777</td>\n",
       "      <td>-0.443283</td>\n",
       "      <td>1.107584</td>\n",
       "      <td>-0.261591</td>\n",
       "      <td>1.335231</td>\n",
       "    </tr>\n",
       "    <tr>\n",
       "      <th>C</th>\n",
       "      <td>0.507292</td>\n",
       "      <td>0.159329</td>\n",
       "      <td>0.375711</td>\n",
       "      <td>-0.495659</td>\n",
       "      <td>1.114988</td>\n",
       "    </tr>\n",
       "    <tr>\n",
       "      <th>D</th>\n",
       "      <td>0.001871</td>\n",
       "      <td>0.705978</td>\n",
       "      <td>0.201386</td>\n",
       "      <td>1.485362</td>\n",
       "      <td>0.509344</td>\n",
       "    </tr>\n",
       "  </tbody>\n",
       "</table>\n",
       "</div>"
      ],
      "text/plain": [
       "    Column1   Column2   Column3   Column4   Column5\n",
       "A  0.247202 -1.146280  0.594691 -0.543066 -0.309720\n",
       "B -0.076777 -0.443283  1.107584 -0.261591  1.335231\n",
       "C  0.507292  0.159329  0.375711 -0.495659  1.114988\n",
       "D  0.001871  0.705978  0.201386  1.485362  0.509344"
      ]
     },
     "execution_count": 138,
     "metadata": {},
     "output_type": "execute_result"
    }
   ],
   "source": [
    "df"
   ]
  },
  {
   "cell_type": "code",
   "execution_count": 188,
   "id": "23dc5a13-ecc4-4ee3-bc0a-8ad7a3d57309",
   "metadata": {},
   "outputs": [],
   "source": [
    "df[\"Column6\"] = [\"newValue1\",\"newValue2\",\"newValue3\",\"newValue4\"]"
   ]
  },
  {
   "cell_type": "code",
   "execution_count": 190,
   "id": "1baf0d0a-dcc4-4443-aad2-5ea1931e8ce2",
   "metadata": {},
   "outputs": [
    {
     "data": {
      "text/html": [
       "<div>\n",
       "<style scoped>\n",
       "    .dataframe tbody tr th:only-of-type {\n",
       "        vertical-align: middle;\n",
       "    }\n",
       "\n",
       "    .dataframe tbody tr th {\n",
       "        vertical-align: top;\n",
       "    }\n",
       "\n",
       "    .dataframe thead th {\n",
       "        text-align: right;\n",
       "    }\n",
       "</style>\n",
       "<table border=\"1\" class=\"dataframe\">\n",
       "  <thead>\n",
       "    <tr style=\"text-align: right;\">\n",
       "      <th></th>\n",
       "      <th>Column1</th>\n",
       "      <th>Column2</th>\n",
       "      <th>Column3</th>\n",
       "      <th>Column4</th>\n",
       "      <th>Column5</th>\n",
       "      <th>Column6</th>\n",
       "    </tr>\n",
       "    <tr>\n",
       "      <th>Column6</th>\n",
       "      <th></th>\n",
       "      <th></th>\n",
       "      <th></th>\n",
       "      <th></th>\n",
       "      <th></th>\n",
       "      <th></th>\n",
       "    </tr>\n",
       "  </thead>\n",
       "  <tbody>\n",
       "    <tr>\n",
       "      <th>newValue1</th>\n",
       "      <td>0.247202</td>\n",
       "      <td>-1.146280</td>\n",
       "      <td>0.594691</td>\n",
       "      <td>-0.543066</td>\n",
       "      <td>-0.309720</td>\n",
       "      <td>newValue1</td>\n",
       "    </tr>\n",
       "    <tr>\n",
       "      <th>newValue2</th>\n",
       "      <td>-0.076777</td>\n",
       "      <td>-0.443283</td>\n",
       "      <td>1.107584</td>\n",
       "      <td>-0.261591</td>\n",
       "      <td>1.335231</td>\n",
       "      <td>newValue2</td>\n",
       "    </tr>\n",
       "    <tr>\n",
       "      <th>newValue3</th>\n",
       "      <td>0.507292</td>\n",
       "      <td>0.159329</td>\n",
       "      <td>0.375711</td>\n",
       "      <td>-0.495659</td>\n",
       "      <td>1.114988</td>\n",
       "      <td>newValue3</td>\n",
       "    </tr>\n",
       "    <tr>\n",
       "      <th>newValue4</th>\n",
       "      <td>0.001871</td>\n",
       "      <td>0.705978</td>\n",
       "      <td>0.201386</td>\n",
       "      <td>1.485362</td>\n",
       "      <td>0.509344</td>\n",
       "      <td>newValue4</td>\n",
       "    </tr>\n",
       "  </tbody>\n",
       "</table>\n",
       "</div>"
      ],
      "text/plain": [
       "            Column1   Column2   Column3   Column4   Column5    Column6\n",
       "Column6                                                               \n",
       "newValue1  0.247202 -1.146280  0.594691 -0.543066 -0.309720  newValue1\n",
       "newValue2 -0.076777 -0.443283  1.107584 -0.261591  1.335231  newValue2\n",
       "newValue3  0.507292  0.159329  0.375711 -0.495659  1.114988  newValue3\n",
       "newValue4  0.001871  0.705978  0.201386  1.485362  0.509344  newValue4"
      ]
     },
     "execution_count": 190,
     "metadata": {},
     "output_type": "execute_result"
    }
   ],
   "source": [
    "df"
   ]
  },
  {
   "cell_type": "code",
   "execution_count": 192,
   "id": "31d07d6e-69f4-4e27-b19c-6492d3cbb4e2",
   "metadata": {},
   "outputs": [
    {
     "name": "stdout",
     "output_type": "stream",
     "text": [
      "Index(['Column1', 'Column2', 'Column3', 'Column4', 'Column5', 'Column6'], dtype='object')\n"
     ]
    },
    {
     "data": {
      "text/html": [
       "<div>\n",
       "<style scoped>\n",
       "    .dataframe tbody tr th:only-of-type {\n",
       "        vertical-align: middle;\n",
       "    }\n",
       "\n",
       "    .dataframe tbody tr th {\n",
       "        vertical-align: top;\n",
       "    }\n",
       "\n",
       "    .dataframe thead th {\n",
       "        text-align: right;\n",
       "    }\n",
       "</style>\n",
       "<table border=\"1\" class=\"dataframe\">\n",
       "  <thead>\n",
       "    <tr style=\"text-align: right;\">\n",
       "      <th></th>\n",
       "      <th>Column1</th>\n",
       "      <th>Column2</th>\n",
       "      <th>Column3</th>\n",
       "      <th>Column4</th>\n",
       "      <th>Column5</th>\n",
       "    </tr>\n",
       "    <tr>\n",
       "      <th>Column6</th>\n",
       "      <th></th>\n",
       "      <th></th>\n",
       "      <th></th>\n",
       "      <th></th>\n",
       "      <th></th>\n",
       "    </tr>\n",
       "  </thead>\n",
       "  <tbody>\n",
       "    <tr>\n",
       "      <th>newValue1</th>\n",
       "      <td>0.247202</td>\n",
       "      <td>-1.146280</td>\n",
       "      <td>0.594691</td>\n",
       "      <td>-0.543066</td>\n",
       "      <td>-0.309720</td>\n",
       "    </tr>\n",
       "    <tr>\n",
       "      <th>newValue2</th>\n",
       "      <td>-0.076777</td>\n",
       "      <td>-0.443283</td>\n",
       "      <td>1.107584</td>\n",
       "      <td>-0.261591</td>\n",
       "      <td>1.335231</td>\n",
       "    </tr>\n",
       "    <tr>\n",
       "      <th>newValue3</th>\n",
       "      <td>0.507292</td>\n",
       "      <td>0.159329</td>\n",
       "      <td>0.375711</td>\n",
       "      <td>-0.495659</td>\n",
       "      <td>1.114988</td>\n",
       "    </tr>\n",
       "    <tr>\n",
       "      <th>newValue4</th>\n",
       "      <td>0.001871</td>\n",
       "      <td>0.705978</td>\n",
       "      <td>0.201386</td>\n",
       "      <td>1.485362</td>\n",
       "      <td>0.509344</td>\n",
       "    </tr>\n",
       "  </tbody>\n",
       "</table>\n",
       "</div>"
      ],
      "text/plain": [
       "            Column1   Column2   Column3   Column4   Column5\n",
       "Column6                                                    \n",
       "newValue1  0.247202 -1.146280  0.594691 -0.543066 -0.309720\n",
       "newValue2 -0.076777 -0.443283  1.107584 -0.261591  1.335231\n",
       "newValue3  0.507292  0.159329  0.375711 -0.495659  1.114988\n",
       "newValue4  0.001871  0.705978  0.201386  1.485362  0.509344"
      ]
     },
     "execution_count": 192,
     "metadata": {},
     "output_type": "execute_result"
    }
   ],
   "source": [
    "print(df.columns)\n",
    "\n",
    "df.set_index(\"Column6\") #index değerlerinin ismi Column6 oldu"
   ]
  },
  {
   "cell_type": "code",
   "execution_count": 194,
   "id": "de7d5c39-fbe4-409e-9ae1-cd1e2abca7dc",
   "metadata": {},
   "outputs": [
    {
     "data": {
      "text/html": [
       "<div>\n",
       "<style scoped>\n",
       "    .dataframe tbody tr th:only-of-type {\n",
       "        vertical-align: middle;\n",
       "    }\n",
       "\n",
       "    .dataframe tbody tr th {\n",
       "        vertical-align: top;\n",
       "    }\n",
       "\n",
       "    .dataframe thead th {\n",
       "        text-align: right;\n",
       "    }\n",
       "</style>\n",
       "<table border=\"1\" class=\"dataframe\">\n",
       "  <thead>\n",
       "    <tr style=\"text-align: right;\">\n",
       "      <th></th>\n",
       "      <th>Column1</th>\n",
       "      <th>Column2</th>\n",
       "      <th>Column3</th>\n",
       "      <th>Column4</th>\n",
       "      <th>Column5</th>\n",
       "      <th>Column6</th>\n",
       "    </tr>\n",
       "    <tr>\n",
       "      <th>Column6</th>\n",
       "      <th></th>\n",
       "      <th></th>\n",
       "      <th></th>\n",
       "      <th></th>\n",
       "      <th></th>\n",
       "      <th></th>\n",
       "    </tr>\n",
       "  </thead>\n",
       "  <tbody>\n",
       "    <tr>\n",
       "      <th>newValue1</th>\n",
       "      <td>0.247202</td>\n",
       "      <td>-1.146280</td>\n",
       "      <td>0.594691</td>\n",
       "      <td>-0.543066</td>\n",
       "      <td>-0.309720</td>\n",
       "      <td>newValue1</td>\n",
       "    </tr>\n",
       "    <tr>\n",
       "      <th>newValue2</th>\n",
       "      <td>-0.076777</td>\n",
       "      <td>-0.443283</td>\n",
       "      <td>1.107584</td>\n",
       "      <td>-0.261591</td>\n",
       "      <td>1.335231</td>\n",
       "      <td>newValue2</td>\n",
       "    </tr>\n",
       "    <tr>\n",
       "      <th>newValue3</th>\n",
       "      <td>0.507292</td>\n",
       "      <td>0.159329</td>\n",
       "      <td>0.375711</td>\n",
       "      <td>-0.495659</td>\n",
       "      <td>1.114988</td>\n",
       "      <td>newValue3</td>\n",
       "    </tr>\n",
       "    <tr>\n",
       "      <th>newValue4</th>\n",
       "      <td>0.001871</td>\n",
       "      <td>0.705978</td>\n",
       "      <td>0.201386</td>\n",
       "      <td>1.485362</td>\n",
       "      <td>0.509344</td>\n",
       "      <td>newValue4</td>\n",
       "    </tr>\n",
       "  </tbody>\n",
       "</table>\n",
       "</div>"
      ],
      "text/plain": [
       "            Column1   Column2   Column3   Column4   Column5    Column6\n",
       "Column6                                                               \n",
       "newValue1  0.247202 -1.146280  0.594691 -0.543066 -0.309720  newValue1\n",
       "newValue2 -0.076777 -0.443283  1.107584 -0.261591  1.335231  newValue2\n",
       "newValue3  0.507292  0.159329  0.375711 -0.495659  1.114988  newValue3\n",
       "newValue4  0.001871  0.705978  0.201386  1.485362  0.509344  newValue4"
      ]
     },
     "execution_count": 194,
     "metadata": {},
     "output_type": "execute_result"
    }
   ],
   "source": [
    "df # Değişikliği geçerli yapmak için inplace parametresi gerekir."
   ]
  },
  {
   "cell_type": "code",
   "execution_count": 196,
   "id": "90dd51a1-9e4b-4503-baa2-a00fbd9b8a64",
   "metadata": {},
   "outputs": [],
   "source": [
    " df.set_index(\"Column6\",inplace = True) "
   ]
  },
  {
   "cell_type": "code",
   "execution_count": 198,
   "id": "f71a81a7-2bc2-4db3-8787-9feedf3943a6",
   "metadata": {},
   "outputs": [
    {
     "data": {
      "text/html": [
       "<div>\n",
       "<style scoped>\n",
       "    .dataframe tbody tr th:only-of-type {\n",
       "        vertical-align: middle;\n",
       "    }\n",
       "\n",
       "    .dataframe tbody tr th {\n",
       "        vertical-align: top;\n",
       "    }\n",
       "\n",
       "    .dataframe thead th {\n",
       "        text-align: right;\n",
       "    }\n",
       "</style>\n",
       "<table border=\"1\" class=\"dataframe\">\n",
       "  <thead>\n",
       "    <tr style=\"text-align: right;\">\n",
       "      <th></th>\n",
       "      <th>Column1</th>\n",
       "      <th>Column2</th>\n",
       "      <th>Column3</th>\n",
       "      <th>Column4</th>\n",
       "      <th>Column5</th>\n",
       "    </tr>\n",
       "    <tr>\n",
       "      <th>Column6</th>\n",
       "      <th></th>\n",
       "      <th></th>\n",
       "      <th></th>\n",
       "      <th></th>\n",
       "      <th></th>\n",
       "    </tr>\n",
       "  </thead>\n",
       "  <tbody>\n",
       "    <tr>\n",
       "      <th>newValue1</th>\n",
       "      <td>0.247202</td>\n",
       "      <td>-1.146280</td>\n",
       "      <td>0.594691</td>\n",
       "      <td>-0.543066</td>\n",
       "      <td>-0.309720</td>\n",
       "    </tr>\n",
       "    <tr>\n",
       "      <th>newValue2</th>\n",
       "      <td>-0.076777</td>\n",
       "      <td>-0.443283</td>\n",
       "      <td>1.107584</td>\n",
       "      <td>-0.261591</td>\n",
       "      <td>1.335231</td>\n",
       "    </tr>\n",
       "    <tr>\n",
       "      <th>newValue3</th>\n",
       "      <td>0.507292</td>\n",
       "      <td>0.159329</td>\n",
       "      <td>0.375711</td>\n",
       "      <td>-0.495659</td>\n",
       "      <td>1.114988</td>\n",
       "    </tr>\n",
       "    <tr>\n",
       "      <th>newValue4</th>\n",
       "      <td>0.001871</td>\n",
       "      <td>0.705978</td>\n",
       "      <td>0.201386</td>\n",
       "      <td>1.485362</td>\n",
       "      <td>0.509344</td>\n",
       "    </tr>\n",
       "  </tbody>\n",
       "</table>\n",
       "</div>"
      ],
      "text/plain": [
       "            Column1   Column2   Column3   Column4   Column5\n",
       "Column6                                                    \n",
       "newValue1  0.247202 -1.146280  0.594691 -0.543066 -0.309720\n",
       "newValue2 -0.076777 -0.443283  1.107584 -0.261591  1.335231\n",
       "newValue3  0.507292  0.159329  0.375711 -0.495659  1.114988\n",
       "newValue4  0.001871  0.705978  0.201386  1.485362  0.509344"
      ]
     },
     "execution_count": 198,
     "metadata": {},
     "output_type": "execute_result"
    }
   ],
   "source": [
    "df"
   ]
  },
  {
   "cell_type": "code",
   "execution_count": 176,
   "id": "9ebfe83d-17be-40de-b3f1-d1749c0a3f22",
   "metadata": {},
   "outputs": [
    {
     "data": {
      "text/plain": [
       "FrozenList(['Column6'])"
      ]
     },
     "execution_count": 176,
     "metadata": {},
     "output_type": "execute_result"
    }
   ],
   "source": [
    "df.index.names # Indekslerin ismi"
   ]
  },
  {
   "cell_type": "code",
   "execution_count": 182,
   "id": "e3be04a0-9bde-4101-b69c-37bbc07e4951",
   "metadata": {},
   "outputs": [
    {
     "data": {
      "text/html": [
       "<div>\n",
       "<style scoped>\n",
       "    .dataframe tbody tr th:only-of-type {\n",
       "        vertical-align: middle;\n",
       "    }\n",
       "\n",
       "    .dataframe tbody tr th {\n",
       "        vertical-align: top;\n",
       "    }\n",
       "\n",
       "    .dataframe thead th {\n",
       "        text-align: right;\n",
       "    }\n",
       "</style>\n",
       "<table border=\"1\" class=\"dataframe\">\n",
       "  <thead>\n",
       "    <tr style=\"text-align: right;\">\n",
       "      <th></th>\n",
       "      <th>Column1</th>\n",
       "      <th>Column2</th>\n",
       "      <th>Column3</th>\n",
       "      <th>Column4</th>\n",
       "      <th>Column5</th>\n",
       "    </tr>\n",
       "    <tr>\n",
       "      <th>Column6</th>\n",
       "      <th></th>\n",
       "      <th></th>\n",
       "      <th></th>\n",
       "      <th></th>\n",
       "      <th></th>\n",
       "    </tr>\n",
       "  </thead>\n",
       "  <tbody>\n",
       "    <tr>\n",
       "      <th>newValue1</th>\n",
       "      <td>0.247202</td>\n",
       "      <td>-1.146280</td>\n",
       "      <td>0.594691</td>\n",
       "      <td>-0.543066</td>\n",
       "      <td>-0.309720</td>\n",
       "    </tr>\n",
       "    <tr>\n",
       "      <th>newValue2</th>\n",
       "      <td>-0.076777</td>\n",
       "      <td>-0.443283</td>\n",
       "      <td>1.107584</td>\n",
       "      <td>-0.261591</td>\n",
       "      <td>1.335231</td>\n",
       "    </tr>\n",
       "    <tr>\n",
       "      <th>newValue3</th>\n",
       "      <td>0.507292</td>\n",
       "      <td>0.159329</td>\n",
       "      <td>0.375711</td>\n",
       "      <td>-0.495659</td>\n",
       "      <td>1.114988</td>\n",
       "    </tr>\n",
       "    <tr>\n",
       "      <th>newValue4</th>\n",
       "      <td>0.001871</td>\n",
       "      <td>0.705978</td>\n",
       "      <td>0.201386</td>\n",
       "      <td>1.485362</td>\n",
       "      <td>0.509344</td>\n",
       "    </tr>\n",
       "  </tbody>\n",
       "</table>\n",
       "</div>"
      ],
      "text/plain": [
       "            Column1   Column2   Column3   Column4   Column5\n",
       "Column6                                                    \n",
       "newValue1  0.247202 -1.146280  0.594691 -0.543066 -0.309720\n",
       "newValue2 -0.076777 -0.443283  1.107584 -0.261591  1.335231\n",
       "newValue3  0.507292  0.159329  0.375711 -0.495659  1.114988\n",
       "newValue4  0.001871  0.705978  0.201386  1.485362  0.509344"
      ]
     },
     "execution_count": 182,
     "metadata": {},
     "output_type": "execute_result"
    }
   ],
   "source": [
    "df"
   ]
  },
  {
   "cell_type": "code",
   "execution_count": null,
   "id": "cbbd75c5-4175-423f-a655-23e1b072ed56",
   "metadata": {},
   "outputs": [],
   "source": []
  }
 ],
 "metadata": {
  "kernelspec": {
   "display_name": "Python 3 (ipykernel)",
   "language": "python",
   "name": "python3"
  },
  "language_info": {
   "codemirror_mode": {
    "name": "ipython",
    "version": 3
   },
   "file_extension": ".py",
   "mimetype": "text/x-python",
   "name": "python",
   "nbconvert_exporter": "python",
   "pygments_lexer": "ipython3",
   "version": "3.12.4"
  }
 },
 "nbformat": 4,
 "nbformat_minor": 5
}
