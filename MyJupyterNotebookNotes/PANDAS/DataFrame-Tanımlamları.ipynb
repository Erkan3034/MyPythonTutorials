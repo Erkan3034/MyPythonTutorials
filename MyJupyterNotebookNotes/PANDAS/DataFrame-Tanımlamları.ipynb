{
 "cells": [
  {
   "cell_type": "markdown",
   "id": "774cd72c-00b3-4f1f-a867-b5da5b29662f",
   "metadata": {},
   "source": [
    "## 📈Dataframe Tanımlamaları"
   ]
  },
  {
   "cell_type": "code",
   "execution_count": 3,
   "id": "25c3dd4d-36fc-404a-a539-0708f11f3fcd",
   "metadata": {},
   "outputs": [],
   "source": [
    "import numpy as np\n",
    "import pandas as pd"
   ]
  },
  {
   "cell_type": "code",
   "execution_count": 27,
   "id": "3a2c28d2-92e9-4616-abd5-b24508806ab1",
   "metadata": {},
   "outputs": [],
   "source": [
    "from numpy.random import randn # 0 etrafında + ve -li değerler döndürecek."
   ]
  },
  {
   "cell_type": "code",
   "execution_count": 37,
   "id": "de4e6114-f828-413a-80a1-cd4aebfe6fa4",
   "metadata": {},
   "outputs": [
    {
     "data": {
      "text/plain": [
       "array([[-0.2200579 , -0.25421516,  0.27543108],\n",
       "       [-0.68015469, -2.12688808, -0.9428854 ],\n",
       "       [ 0.75405873,  0.63738462,  1.68974089]])"
      ]
     },
     "execution_count": 37,
     "metadata": {},
     "output_type": "execute_result"
    }
   ],
   "source": [
    "data = randn(3,3)\n",
    "data"
   ]
  },
  {
   "cell_type": "code",
   "execution_count": 43,
   "id": "a49cc5e2-66c3-4825-b30c-37fb869e7d0d",
   "metadata": {},
   "outputs": [],
   "source": [
    "index = [\"A\",\"B\",\"C\"]"
   ]
  },
  {
   "cell_type": "code",
   "execution_count": 59,
   "id": "feffbbcb-dfdf-4b8c-b47a-8231982d3c54",
   "metadata": {},
   "outputs": [],
   "source": [
    "columns = [\"Column1\",\"Column2\",\"Column3\"]"
   ]
  },
  {
   "cell_type": "code",
   "execution_count": 61,
   "id": "5d294eb7-b6cd-4758-b284-131183f410bf",
   "metadata": {},
   "outputs": [],
   "source": [
    "df = pd.DataFrame(data,index ,columns)\n",
    "\n",
    "# df = pd.DataFrame(randn(3,3),index = [\"A\",\"B\",\"C\"]  ,columns = [\"Sütun1\",\"Sütun2\",\"Sütun3\"] )"
   ]
  },
  {
   "cell_type": "code",
   "execution_count": 63,
   "id": "436cfef4-ad3f-406c-b0a8-cd7771ecfac4",
   "metadata": {},
   "outputs": [
    {
     "data": {
      "text/html": [
       "<div>\n",
       "<style scoped>\n",
       "    .dataframe tbody tr th:only-of-type {\n",
       "        vertical-align: middle;\n",
       "    }\n",
       "\n",
       "    .dataframe tbody tr th {\n",
       "        vertical-align: top;\n",
       "    }\n",
       "\n",
       "    .dataframe thead th {\n",
       "        text-align: right;\n",
       "    }\n",
       "</style>\n",
       "<table border=\"1\" class=\"dataframe\">\n",
       "  <thead>\n",
       "    <tr style=\"text-align: right;\">\n",
       "      <th></th>\n",
       "      <th>Column1</th>\n",
       "      <th>Column2</th>\n",
       "      <th>Column3</th>\n",
       "    </tr>\n",
       "  </thead>\n",
       "  <tbody>\n",
       "    <tr>\n",
       "      <th>A</th>\n",
       "      <td>-0.220058</td>\n",
       "      <td>-0.254215</td>\n",
       "      <td>0.275431</td>\n",
       "    </tr>\n",
       "    <tr>\n",
       "      <th>B</th>\n",
       "      <td>-0.680155</td>\n",
       "      <td>-2.126888</td>\n",
       "      <td>-0.942885</td>\n",
       "    </tr>\n",
       "    <tr>\n",
       "      <th>C</th>\n",
       "      <td>0.754059</td>\n",
       "      <td>0.637385</td>\n",
       "      <td>1.689741</td>\n",
       "    </tr>\n",
       "  </tbody>\n",
       "</table>\n",
       "</div>"
      ],
      "text/plain": [
       "    Column1   Column2   Column3\n",
       "A -0.220058 -0.254215  0.275431\n",
       "B -0.680155 -2.126888 -0.942885\n",
       "C  0.754059  0.637385  1.689741"
      ]
     },
     "execution_count": 63,
     "metadata": {},
     "output_type": "execute_result"
    }
   ],
   "source": [
    "df"
   ]
  },
  {
   "cell_type": "markdown",
   "id": "f654e2f9-3d3a-4b51-a748-2cf78d63bda0",
   "metadata": {},
   "source": [
    "📌\n",
    "\n",
    "Column1 serisi\n",
    "\n",
    "Column2 serisi\n",
    "\n",
    "Column3 serisi"
   ]
  },
  {
   "cell_type": "code",
   "execution_count": 68,
   "id": "294ec4e0-cf31-4ced-86ee-b4edf9e9773f",
   "metadata": {},
   "outputs": [
    {
     "data": {
      "text/plain": [
       "A   -0.220058\n",
       "B   -0.680155\n",
       "C    0.754059\n",
       "Name: Column1, dtype: float64"
      ]
     },
     "execution_count": 68,
     "metadata": {},
     "output_type": "execute_result"
    }
   ],
   "source": [
    "# Column1 Serisi:\n",
    "df[\"Column1\"]"
   ]
  },
  {
   "cell_type": "code",
   "execution_count": 72,
   "id": "46c2618d-e7a7-48a9-a233-030001c4ebfd",
   "metadata": {},
   "outputs": [
    {
     "data": {
      "text/plain": [
       "pandas.core.series.Series"
      ]
     },
     "execution_count": 72,
     "metadata": {},
     "output_type": "execute_result"
    }
   ],
   "source": [
    "type(df[\"Column1\"]) # tipinin bir pandas serisi olduğuna bakalım"
   ]
  },
  {
   "cell_type": "code",
   "execution_count": 76,
   "id": "315fc16b-c83e-4ac4-9ed5-c9e60e22083e",
   "metadata": {},
   "outputs": [
    {
     "data": {
      "text/plain": [
       "Column1   -0.220058\n",
       "Column2   -0.254215\n",
       "Column3    0.275431\n",
       "Name: A, dtype: float64"
      ]
     },
     "execution_count": 76,
     "metadata": {},
     "output_type": "execute_result"
    }
   ],
   "source": [
    "df.loc[\"A\"] #A lookasyonunda diğer sütunların değerleri"
   ]
  },
  {
   "cell_type": "code",
   "execution_count": 80,
   "id": "c983fc3d-d9d1-4e15-b9c6-177aa03c3cf8",
   "metadata": {},
   "outputs": [
    {
     "data": {
      "text/html": [
       "<div>\n",
       "<style scoped>\n",
       "    .dataframe tbody tr th:only-of-type {\n",
       "        vertical-align: middle;\n",
       "    }\n",
       "\n",
       "    .dataframe tbody tr th {\n",
       "        vertical-align: top;\n",
       "    }\n",
       "\n",
       "    .dataframe thead th {\n",
       "        text-align: right;\n",
       "    }\n",
       "</style>\n",
       "<table border=\"1\" class=\"dataframe\">\n",
       "  <thead>\n",
       "    <tr style=\"text-align: right;\">\n",
       "      <th></th>\n",
       "      <th>Column1</th>\n",
       "      <th>Column3</th>\n",
       "    </tr>\n",
       "  </thead>\n",
       "  <tbody>\n",
       "    <tr>\n",
       "      <th>A</th>\n",
       "      <td>-0.220058</td>\n",
       "      <td>0.275431</td>\n",
       "    </tr>\n",
       "    <tr>\n",
       "      <th>B</th>\n",
       "      <td>-0.680155</td>\n",
       "      <td>-0.942885</td>\n",
       "    </tr>\n",
       "    <tr>\n",
       "      <th>C</th>\n",
       "      <td>0.754059</td>\n",
       "      <td>1.689741</td>\n",
       "    </tr>\n",
       "  </tbody>\n",
       "</table>\n",
       "</div>"
      ],
      "text/plain": [
       "    Column1   Column3\n",
       "A -0.220058  0.275431\n",
       "B -0.680155 -0.942885\n",
       "C  0.754059  1.689741"
      ]
     },
     "execution_count": 80,
     "metadata": {},
     "output_type": "execute_result"
    }
   ],
   "source": [
    "df[[\"Column1\" ,\"Column3\"]] #iki sütunu birlikte alma"
   ]
  },
  {
   "cell_type": "code",
   "execution_count": 86,
   "id": "9f5fc679-fb2d-49ef-b87c-254f5e9fcfb5",
   "metadata": {},
   "outputs": [
    {
     "ename": "KeyError",
     "evalue": "'Column4'",
     "output_type": "error",
     "traceback": [
      "\u001b[1;31m---------------------------------------------------------------------------\u001b[0m",
      "\u001b[1;31mKeyError\u001b[0m                                  Traceback (most recent call last)",
      "File \u001b[1;32mC:\\Anaconda3\\Lib\\site-packages\\pandas\\core\\indexes\\base.py:3805\u001b[0m, in \u001b[0;36mIndex.get_loc\u001b[1;34m(self, key)\u001b[0m\n\u001b[0;32m   3804\u001b[0m \u001b[38;5;28;01mtry\u001b[39;00m:\n\u001b[1;32m-> 3805\u001b[0m     \u001b[38;5;28;01mreturn\u001b[39;00m \u001b[38;5;28mself\u001b[39m\u001b[38;5;241m.\u001b[39m_engine\u001b[38;5;241m.\u001b[39mget_loc(casted_key)\n\u001b[0;32m   3806\u001b[0m \u001b[38;5;28;01mexcept\u001b[39;00m \u001b[38;5;167;01mKeyError\u001b[39;00m \u001b[38;5;28;01mas\u001b[39;00m err:\n",
      "File \u001b[1;32mindex.pyx:167\u001b[0m, in \u001b[0;36mpandas._libs.index.IndexEngine.get_loc\u001b[1;34m()\u001b[0m\n",
      "File \u001b[1;32mindex.pyx:196\u001b[0m, in \u001b[0;36mpandas._libs.index.IndexEngine.get_loc\u001b[1;34m()\u001b[0m\n",
      "File \u001b[1;32mpandas\\\\_libs\\\\hashtable_class_helper.pxi:7081\u001b[0m, in \u001b[0;36mpandas._libs.hashtable.PyObjectHashTable.get_item\u001b[1;34m()\u001b[0m\n",
      "File \u001b[1;32mpandas\\\\_libs\\\\hashtable_class_helper.pxi:7089\u001b[0m, in \u001b[0;36mpandas._libs.hashtable.PyObjectHashTable.get_item\u001b[1;34m()\u001b[0m\n",
      "\u001b[1;31mKeyError\u001b[0m: 'Column4'",
      "\nThe above exception was the direct cause of the following exception:\n",
      "\u001b[1;31mKeyError\u001b[0m                                  Traceback (most recent call last)",
      "Cell \u001b[1;32mIn[86], line 1\u001b[0m\n\u001b[1;32m----> 1\u001b[0m df[\u001b[38;5;124m\"\u001b[39m\u001b[38;5;124mColumn4\u001b[39m\u001b[38;5;124m\"\u001b[39m]\n",
      "File \u001b[1;32mC:\\Anaconda3\\Lib\\site-packages\\pandas\\core\\frame.py:4102\u001b[0m, in \u001b[0;36mDataFrame.__getitem__\u001b[1;34m(self, key)\u001b[0m\n\u001b[0;32m   4100\u001b[0m \u001b[38;5;28;01mif\u001b[39;00m \u001b[38;5;28mself\u001b[39m\u001b[38;5;241m.\u001b[39mcolumns\u001b[38;5;241m.\u001b[39mnlevels \u001b[38;5;241m>\u001b[39m \u001b[38;5;241m1\u001b[39m:\n\u001b[0;32m   4101\u001b[0m     \u001b[38;5;28;01mreturn\u001b[39;00m \u001b[38;5;28mself\u001b[39m\u001b[38;5;241m.\u001b[39m_getitem_multilevel(key)\n\u001b[1;32m-> 4102\u001b[0m indexer \u001b[38;5;241m=\u001b[39m \u001b[38;5;28mself\u001b[39m\u001b[38;5;241m.\u001b[39mcolumns\u001b[38;5;241m.\u001b[39mget_loc(key)\n\u001b[0;32m   4103\u001b[0m \u001b[38;5;28;01mif\u001b[39;00m is_integer(indexer):\n\u001b[0;32m   4104\u001b[0m     indexer \u001b[38;5;241m=\u001b[39m [indexer]\n",
      "File \u001b[1;32mC:\\Anaconda3\\Lib\\site-packages\\pandas\\core\\indexes\\base.py:3812\u001b[0m, in \u001b[0;36mIndex.get_loc\u001b[1;34m(self, key)\u001b[0m\n\u001b[0;32m   3807\u001b[0m     \u001b[38;5;28;01mif\u001b[39;00m \u001b[38;5;28misinstance\u001b[39m(casted_key, \u001b[38;5;28mslice\u001b[39m) \u001b[38;5;129;01mor\u001b[39;00m (\n\u001b[0;32m   3808\u001b[0m         \u001b[38;5;28misinstance\u001b[39m(casted_key, abc\u001b[38;5;241m.\u001b[39mIterable)\n\u001b[0;32m   3809\u001b[0m         \u001b[38;5;129;01mand\u001b[39;00m \u001b[38;5;28many\u001b[39m(\u001b[38;5;28misinstance\u001b[39m(x, \u001b[38;5;28mslice\u001b[39m) \u001b[38;5;28;01mfor\u001b[39;00m x \u001b[38;5;129;01min\u001b[39;00m casted_key)\n\u001b[0;32m   3810\u001b[0m     ):\n\u001b[0;32m   3811\u001b[0m         \u001b[38;5;28;01mraise\u001b[39;00m InvalidIndexError(key)\n\u001b[1;32m-> 3812\u001b[0m     \u001b[38;5;28;01mraise\u001b[39;00m \u001b[38;5;167;01mKeyError\u001b[39;00m(key) \u001b[38;5;28;01mfrom\u001b[39;00m \u001b[38;5;21;01merr\u001b[39;00m\n\u001b[0;32m   3813\u001b[0m \u001b[38;5;28;01mexcept\u001b[39;00m \u001b[38;5;167;01mTypeError\u001b[39;00m:\n\u001b[0;32m   3814\u001b[0m     \u001b[38;5;66;03m# If we have a listlike key, _check_indexing_error will raise\u001b[39;00m\n\u001b[0;32m   3815\u001b[0m     \u001b[38;5;66;03m#  InvalidIndexError. Otherwise we fall through and re-raise\u001b[39;00m\n\u001b[0;32m   3816\u001b[0m     \u001b[38;5;66;03m#  the TypeError.\u001b[39;00m\n\u001b[0;32m   3817\u001b[0m     \u001b[38;5;28mself\u001b[39m\u001b[38;5;241m.\u001b[39m_check_indexing_error(key)\n",
      "\u001b[1;31mKeyError\u001b[0m: 'Column4'"
     ]
    }
   ],
   "source": [
    "df[\"Column4\"] # HATA fırlatır."
   ]
  },
  {
   "cell_type": "code",
   "execution_count": 94,
   "id": "596d571e-6c9d-4294-b85a-7fc68c02bf29",
   "metadata": {},
   "outputs": [],
   "source": [
    "df[\"Column4\"] = pd.Series(randn(3), [\"A\",\"B\",\"C\"]) #Sütun ekeleme"
   ]
  },
  {
   "cell_type": "code",
   "execution_count": 96,
   "id": "e4ef0640-d938-4ceb-a335-311c81e526ba",
   "metadata": {},
   "outputs": [
    {
     "data": {
      "text/html": [
       "<div>\n",
       "<style scoped>\n",
       "    .dataframe tbody tr th:only-of-type {\n",
       "        vertical-align: middle;\n",
       "    }\n",
       "\n",
       "    .dataframe tbody tr th {\n",
       "        vertical-align: top;\n",
       "    }\n",
       "\n",
       "    .dataframe thead th {\n",
       "        text-align: right;\n",
       "    }\n",
       "</style>\n",
       "<table border=\"1\" class=\"dataframe\">\n",
       "  <thead>\n",
       "    <tr style=\"text-align: right;\">\n",
       "      <th></th>\n",
       "      <th>Column1</th>\n",
       "      <th>Column2</th>\n",
       "      <th>Column3</th>\n",
       "      <th>Column4</th>\n",
       "    </tr>\n",
       "  </thead>\n",
       "  <tbody>\n",
       "    <tr>\n",
       "      <th>A</th>\n",
       "      <td>-0.220058</td>\n",
       "      <td>-0.254215</td>\n",
       "      <td>0.275431</td>\n",
       "      <td>0.732685</td>\n",
       "    </tr>\n",
       "    <tr>\n",
       "      <th>B</th>\n",
       "      <td>-0.680155</td>\n",
       "      <td>-2.126888</td>\n",
       "      <td>-0.942885</td>\n",
       "      <td>-0.033575</td>\n",
       "    </tr>\n",
       "    <tr>\n",
       "      <th>C</th>\n",
       "      <td>0.754059</td>\n",
       "      <td>0.637385</td>\n",
       "      <td>1.689741</td>\n",
       "      <td>0.312501</td>\n",
       "    </tr>\n",
       "  </tbody>\n",
       "</table>\n",
       "</div>"
      ],
      "text/plain": [
       "    Column1   Column2   Column3   Column4\n",
       "A -0.220058 -0.254215  0.275431  0.732685\n",
       "B -0.680155 -2.126888 -0.942885 -0.033575\n",
       "C  0.754059  0.637385  1.689741  0.312501"
      ]
     },
     "execution_count": 96,
     "metadata": {},
     "output_type": "execute_result"
    }
   ],
   "source": [
    "df"
   ]
  },
  {
   "cell_type": "code",
   "execution_count": 98,
   "id": "02c74c7f-081f-4423-9615-9bd784ff6cda",
   "metadata": {},
   "outputs": [],
   "source": [
    "df[\"Column5\"] = df[\"Column1\"] + df[\"Column2\"] + df[\"Column3\"]"
   ]
  },
  {
   "cell_type": "code",
   "execution_count": 102,
   "id": "655c4d51-5144-4abf-8f13-7f2e1c8577f8",
   "metadata": {},
   "outputs": [
    {
     "data": {
      "text/html": [
       "<div>\n",
       "<style scoped>\n",
       "    .dataframe tbody tr th:only-of-type {\n",
       "        vertical-align: middle;\n",
       "    }\n",
       "\n",
       "    .dataframe tbody tr th {\n",
       "        vertical-align: top;\n",
       "    }\n",
       "\n",
       "    .dataframe thead th {\n",
       "        text-align: right;\n",
       "    }\n",
       "</style>\n",
       "<table border=\"1\" class=\"dataframe\">\n",
       "  <thead>\n",
       "    <tr style=\"text-align: right;\">\n",
       "      <th></th>\n",
       "      <th>Column1</th>\n",
       "      <th>Column2</th>\n",
       "      <th>Column3</th>\n",
       "      <th>Column4</th>\n",
       "      <th>Column5</th>\n",
       "    </tr>\n",
       "  </thead>\n",
       "  <tbody>\n",
       "    <tr>\n",
       "      <th>A</th>\n",
       "      <td>-0.220058</td>\n",
       "      <td>-0.254215</td>\n",
       "      <td>0.275431</td>\n",
       "      <td>0.732685</td>\n",
       "      <td>-0.198842</td>\n",
       "    </tr>\n",
       "    <tr>\n",
       "      <th>B</th>\n",
       "      <td>-0.680155</td>\n",
       "      <td>-2.126888</td>\n",
       "      <td>-0.942885</td>\n",
       "      <td>-0.033575</td>\n",
       "      <td>-3.749928</td>\n",
       "    </tr>\n",
       "    <tr>\n",
       "      <th>C</th>\n",
       "      <td>0.754059</td>\n",
       "      <td>0.637385</td>\n",
       "      <td>1.689741</td>\n",
       "      <td>0.312501</td>\n",
       "      <td>3.081184</td>\n",
       "    </tr>\n",
       "  </tbody>\n",
       "</table>\n",
       "</div>"
      ],
      "text/plain": [
       "    Column1   Column2   Column3   Column4   Column5\n",
       "A -0.220058 -0.254215  0.275431  0.732685 -0.198842\n",
       "B -0.680155 -2.126888 -0.942885 -0.033575 -3.749928\n",
       "C  0.754059  0.637385  1.689741  0.312501  3.081184"
      ]
     },
     "execution_count": 102,
     "metadata": {},
     "output_type": "execute_result"
    }
   ],
   "source": [
    "df"
   ]
  },
  {
   "cell_type": "code",
   "execution_count": 106,
   "id": "133d09ae-d3ea-4304-aefa-7b09438928fe",
   "metadata": {},
   "outputs": [],
   "source": [
    "df.drop(\"Column5\" , axis=1 , inplace=True ) "
   ]
  },
  {
   "cell_type": "code",
   "execution_count": 108,
   "id": "39716efe-d665-4405-b1fd-5dcb09a278c8",
   "metadata": {},
   "outputs": [
    {
     "data": {
      "text/html": [
       "<div>\n",
       "<style scoped>\n",
       "    .dataframe tbody tr th:only-of-type {\n",
       "        vertical-align: middle;\n",
       "    }\n",
       "\n",
       "    .dataframe tbody tr th {\n",
       "        vertical-align: top;\n",
       "    }\n",
       "\n",
       "    .dataframe thead th {\n",
       "        text-align: right;\n",
       "    }\n",
       "</style>\n",
       "<table border=\"1\" class=\"dataframe\">\n",
       "  <thead>\n",
       "    <tr style=\"text-align: right;\">\n",
       "      <th></th>\n",
       "      <th>Column1</th>\n",
       "      <th>Column2</th>\n",
       "      <th>Column3</th>\n",
       "      <th>Column4</th>\n",
       "    </tr>\n",
       "  </thead>\n",
       "  <tbody>\n",
       "    <tr>\n",
       "      <th>A</th>\n",
       "      <td>-0.220058</td>\n",
       "      <td>-0.254215</td>\n",
       "      <td>0.275431</td>\n",
       "      <td>0.732685</td>\n",
       "    </tr>\n",
       "    <tr>\n",
       "      <th>B</th>\n",
       "      <td>-0.680155</td>\n",
       "      <td>-2.126888</td>\n",
       "      <td>-0.942885</td>\n",
       "      <td>-0.033575</td>\n",
       "    </tr>\n",
       "    <tr>\n",
       "      <th>C</th>\n",
       "      <td>0.754059</td>\n",
       "      <td>0.637385</td>\n",
       "      <td>1.689741</td>\n",
       "      <td>0.312501</td>\n",
       "    </tr>\n",
       "  </tbody>\n",
       "</table>\n",
       "</div>"
      ],
      "text/plain": [
       "    Column1   Column2   Column3   Column4\n",
       "A -0.220058 -0.254215  0.275431  0.732685\n",
       "B -0.680155 -2.126888 -0.942885 -0.033575\n",
       "C  0.754059  0.637385  1.689741  0.312501"
      ]
     },
     "execution_count": 108,
     "metadata": {},
     "output_type": "execute_result"
    }
   ],
   "source": [
    "df"
   ]
  },
  {
   "cell_type": "code",
   "execution_count": 112,
   "id": "3b258833-7261-48bc-9474-7adbe7010fc5",
   "metadata": {},
   "outputs": [
    {
     "data": {
      "text/plain": [
       "-0.2200578971127746"
      ]
     },
     "execution_count": 112,
     "metadata": {},
     "output_type": "execute_result"
    }
   ],
   "source": [
    "df.loc[\"A\" , \"Column1\"] # A satırında Column1 sütununda bulunan eleman "
   ]
  },
  {
   "cell_type": "code",
   "execution_count": null,
   "id": "cf6eb036-03d9-42f9-92af-9131d2c00b09",
   "metadata": {},
   "outputs": [],
   "source": []
  }
 ],
 "metadata": {
  "kernelspec": {
   "display_name": "Python 3 (ipykernel)",
   "language": "python",
   "name": "python3"
  },
  "language_info": {
   "codemirror_mode": {
    "name": "ipython",
    "version": 3
   },
   "file_extension": ".py",
   "mimetype": "text/x-python",
   "name": "python",
   "nbconvert_exporter": "python",
   "pygments_lexer": "ipython3",
   "version": "3.12.4"
  }
 },
 "nbformat": 4,
 "nbformat_minor": 5
}
