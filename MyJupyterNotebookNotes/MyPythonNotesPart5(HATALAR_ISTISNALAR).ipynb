{
 "cells": [
  {
   "cell_type": "markdown",
   "id": "31486bd4-8989-4a66-a758-bd966f5a5ce3",
   "metadata": {},
   "source": [
    "###               HATALAR VE İSTİSNALAR"
   ]
  },
  {
   "cell_type": "markdown",
   "id": "d30c1315-57d9-47d2-805f-2dd28486e418",
   "metadata": {},
   "source": [
    "#### Hatalar:"
   ]
  },
  {
   "cell_type": "markdown",
   "id": "7fa35221-e851-4264-bd3c-f0b8b3291fce",
   "metadata": {},
   "source": [
    "Python programlarında, hatalar çeşitli nedenlerle ortaya çıkabilir, örneğin bir değişkenin tanımlanmadan kullanılması veya geçersiz bir aritmetik işlemin yapılması. Ancak, bu hataları öngörerek daha güvenli programlar yazmak mümkündür. Python, hataları yakalamak ve yönetmek için \"try-except\" yapılarını sağlar. Böylece, programın hata vermesi durumunda belirli adımlar atılabilir. Örnek hata türleri şunlardır:\n",
    "\n",
    "- **NameError**: Tanımlanmamış bir değişken kullanıldığında oluşur.\n",
    "- **ZeroDivisionError**: Bir sayının sıfıra bölünmesi durumunda ortaya çıkar.\n",
    "- **TypeError**: Yanlış türde veri ile işlem yapılmaya çalışıldığında oluşur. \n",
    "\n",
    "Bu yapılar sayesinde programlar, hata aldıklarında bile çökmeden çalışmaya devam edebilir."
   ]
  },
  {
   "cell_type": "code",
   "execution_count": 7,
   "id": "83112a8d-4343-4395-8973-119450bfd340",
   "metadata": {},
   "outputs": [
    {
     "ename": "NameError",
     "evalue": "name 'a' is not defined",
     "output_type": "error",
     "traceback": [
      "\u001b[1;31m---------------------------------------------------------------------------\u001b[0m",
      "\u001b[1;31mNameError\u001b[0m                                 Traceback (most recent call last)",
      "Cell \u001b[1;32mIn[7], line 1\u001b[0m\n\u001b[1;32m----> 1\u001b[0m \u001b[38;5;28mprint\u001b[39m(a)\n",
      "\u001b[1;31mNameError\u001b[0m: name 'a' is not defined"
     ]
    }
   ],
   "source": [
    "print(a) # Tanımlı değil - Name Error hatası"
   ]
  },
  {
   "cell_type": "code",
   "execution_count": 11,
   "id": "6b7867ff-5c51-44c3-b47d-e398a38c6aab",
   "metadata": {},
   "outputs": [
    {
     "ename": "ValueError",
     "evalue": "invalid literal for int() with base 10: '45sas645'",
     "output_type": "error",
     "traceback": [
      "\u001b[1;31m---------------------------------------------------------------------------\u001b[0m",
      "\u001b[1;31mValueError\u001b[0m                                Traceback (most recent call last)",
      "Cell \u001b[1;32mIn[11], line 1\u001b[0m\n\u001b[1;32m----> 1\u001b[0m \u001b[38;5;28mint\u001b[39m(\u001b[38;5;124m\"\u001b[39m\u001b[38;5;124m45sas645\u001b[39m\u001b[38;5;124m\"\u001b[39m)\n",
      "\u001b[1;31mValueError\u001b[0m: invalid literal for int() with base 10: '45sas645'"
     ]
    }
   ],
   "source": [
    "int(\"45sas645\") # Value Error Hatası"
   ]
  },
  {
   "cell_type": "code",
   "execution_count": 13,
   "id": "f6451403-3fb1-4e63-ba5c-eb0f41111c3e",
   "metadata": {},
   "outputs": [
    {
     "ename": "ZeroDivisionError",
     "evalue": "division by zero",
     "output_type": "error",
     "traceback": [
      "\u001b[1;31m---------------------------------------------------------------------------\u001b[0m",
      "\u001b[1;31mZeroDivisionError\u001b[0m                         Traceback (most recent call last)",
      "Cell \u001b[1;32mIn[13], line 1\u001b[0m\n\u001b[1;32m----> 1\u001b[0m \u001b[38;5;241m25\u001b[39m \u001b[38;5;241m/\u001b[39m \u001b[38;5;241m0\u001b[39m\n",
      "\u001b[1;31mZeroDivisionError\u001b[0m: division by zero"
     ]
    }
   ],
   "source": [
    "25 / 0 # Bir sayı 0'a bölünemez"
   ]
  },
  {
   "cell_type": "code",
   "execution_count": 15,
   "id": "dcab5bbf-602c-44e3-a1e8-b76e5dec628f",
   "metadata": {},
   "outputs": [
    {
     "ename": "SyntaxError",
     "evalue": "invalid syntax. Perhaps you forgot a comma? (1782460425.py, line 1)",
     "output_type": "error",
     "traceback": [
      "\u001b[1;36m  Cell \u001b[1;32mIn[15], line 1\u001b[1;36m\u001b[0m\n\u001b[1;33m    print('ERKAN'aşlsdjfilşsdjflşsdjflşja) # Syntax Error\u001b[0m\n\u001b[1;37m          ^\u001b[0m\n\u001b[1;31mSyntaxError\u001b[0m\u001b[1;31m:\u001b[0m invalid syntax. Perhaps you forgot a comma?\n"
     ]
    }
   ],
   "source": [
    "print('ERKAN'aşlsdjfilşsdjflşsdjflşja) # Syntax Error"
   ]
  },
  {
   "cell_type": "markdown",
   "id": "c8d86291-4716-4b45-b4a6-06631a06df45",
   "metadata": {},
   "source": [
    "Python'da birçok hata türü vardır, ancak bunları ezberlemeye gerek yoktur. Kodunuzu çalıştırdığınızda hatalar zaten çıktı olarak gösterilir. Yine de hata türlerine göz atmak istersek, Python'ın resmi sitesinden(https://docs.python.org/3/library/exceptions.html) detaylı bilgi alabilirizz"
   ]
  },
  {
   "cell_type": "markdown",
   "id": "28e088ff-2baf-443c-b2f2-037e24f166aa",
   "metadata": {},
   "source": [
    "|\n",
    " "
   ]
  },
  {
   "cell_type": "markdown",
   "id": "a659bf3e-05a5-4b59-adbd-e7993693c7ba",
   "metadata": {},
   "source": [
    "# ------------------------->Hata Yakalama - try,except,finally"
   ]
  },
  {
   "cell_type": "markdown",
   "id": "59e4a957-cd96-4fea-8446-ac3a8d23a978",
   "metadata": {},
   "source": [
    "Bu konuda programlarımızda hata verebilecek kodları yakalayabildiğimiz try,except,finally bloklarını ve fonksiyonlarda kendi hatalarımızı nasıl **fırlatacağımızı** öğreneceğiz.\n",
    "\n"
   ]
  },
  {
   "cell_type": "markdown",
   "id": "7913330e-a1a0-406b-8816-654b83ce3179",
   "metadata": {},
   "source": [
    "### **try**, **except** blokları"
   ]
  },
  {
   "cell_type": "markdown",
   "id": "b395d92e-700d-4057-b071-e631c3007454",
   "metadata": {},
   "source": [
    "***try*** ,***except*** bloklarının yapısı şu şekildedir;"
   ]
  },
  {
   "cell_type": "markdown",
   "id": "ec75fcaf-76ad-405a-bd4d-a5d832530f3e",
   "metadata": {},
   "source": [
    "                                    try:\n",
    "                                        Hata verebilecek kodalr buraya yazılır.\n",
    "                                        Eğer bir hata çıkarasa ilgili exception bloğu çalışacak olup \n",
    "                                        try bloğunun geri kalan kısmı çalışmayacaktır.\n",
    "                                        \n",
    "                                    except  Hata1:\n",
    "                                        Hata1 oluştuğunda burası çalışacak.\n",
    "                                    except  Hata2:\n",
    "                                        Hata2 oluştuğunda burası çalışacak.\n",
    "                                        //\n",
    "                                        //\n"
   ]
  },
  {
   "cell_type": "markdown",
   "id": "b1e892ed-04f0-4c96-8e86-cb728c1cb4d1",
   "metadata": {},
   "source": [
    "**ÖRNEK :**"
   ]
  },
  {
   "cell_type": "code",
   "execution_count": 49,
   "id": "689b1ef5-fb5d-4c03-80f6-2f0853050e69",
   "metadata": {},
   "outputs": [
    {
     "name": "stdout",
     "output_type": "stream",
     "text": [
      "Bilinmeyen bir hata oluştu !\n",
      "Bloklar sona erdi\n"
     ]
    }
   ],
   "source": [
    "try:\n",
    "    a=int(\"12345Erkan\")\n",
    "    print(\"program is running\")\n",
    "except: # burda hatayı belirtmedik, bu yüzden bütün hatalar bu  except bloğuna girer.\n",
    "    print(\"Bilinmeyen bir hata oluştu !\") # burası çalışır.\n",
    "    \n",
    "print(\"Bloklar sona erdi\")"
   ]
  },
  {
   "cell_type": "markdown",
   "id": "b4e95100-b571-47bb-ba5a-4ab51e25ee82",
   "metadata": {},
   "source": [
    "Burada **a = int(\"12345Erkan\")** kodu sıkıntı verdiği için program bu bloktan çıkarak direk except bloğuna girdi ve \"Hata oluştu\" yazdı. try ,except bloğu bitince program ekrana \"Bloklar sona erdi\" yazdırdı."
   ]
  },
  {
   "cell_type": "code",
   "execution_count": 55,
   "id": "e98c1ae5-f15c-43e0-bb9c-6ae6ee50758a",
   "metadata": {},
   "outputs": [
    {
     "name": "stdout",
     "output_type": "stream",
     "text": [
      "Program burada\n",
      "\n",
      "-> Bloklar sona erdi\n"
     ]
    }
   ],
   "source": [
    "try:\n",
    "    \n",
    "    a =  int(\"12345\") # Burası normal çalışıyor\n",
    "    print(\"Program burada\")\n",
    "except ValueError: # Hatayı belirtirsek ValueError hatası bu kısma giriyor.\n",
    "    print(\"Hata oluştu\") # Hata olmadığı için çalışmadı.\n",
    "print()    \n",
    "print(\"-> Bloklar sona erdi\")"
   ]
  },
  {
   "cell_type": "markdown",
   "id": "2412ff5e-29bb-4607-9cac-ddcd8f19e187",
   "metadata": {},
   "source": [
    "**Örnek 2**\n",
    "Şimdi de 2 adet sıkıntı çıkaran kodumuz bulunsun. Birincisi ZeroDivisionError , diğeri ValueError hatası."
   ]
  },
  {
   "cell_type": "code",
   "execution_count": 70,
   "id": "fd4c65c5-c6b1-4429-ac87-73c0fcd4a327",
   "metadata": {},
   "outputs": [
    {
     "name": "stdin",
     "output_type": "stream",
     "text": [
      "Sayı1:  12\n",
      "Sayı2:  4\n"
     ]
    },
    {
     "name": "stdout",
     "output_type": "stream",
     "text": [
      "Sonuç:  3.0\n",
      "\n",
      "İşlem başarıyla gerçekleştirildi.\n"
     ]
    }
   ],
   "source": [
    "try:\n",
    "    a= int(input(\"Sayı1: \"))\n",
    "    b= int(input(\"Sayı2: \"))\n",
    "    sonuc = (a/b)\n",
    "    print(\"Sonuç: \" , sonuc)\n",
    "    \n",
    "except ValueError:\n",
    "    print(\"Lütfen doğru formatta veri giriniz !\")\n",
    "except ZeroDivisionError:\n",
    "    print(\"Bir sayı sıfıra Bölünemez !\")\n",
    "    \n",
    "else: # eğer try bloğu başarılı bir şekilde çalışırsa bu else bloğu da çalışır.\n",
    "    print()\n",
    "    print(\"İşlem başarıyla gerçekleştirildi.\")\n",
    "    "
   ]
  },
  {
   "cell_type": "code",
   "execution_count": 78,
   "id": "2050e279-42f9-4c0c-903e-3db16e96917a",
   "metadata": {},
   "outputs": [
    {
     "name": "stdin",
     "output_type": "stream",
     "text": [
      "Sayı1: 15\n",
      "Sayı2: 2a\n"
     ]
    },
    {
     "name": "stdout",
     "output_type": "stream",
     "text": [
      "ZeroDivision veya ValueError hatası\n"
     ]
    }
   ],
   "source": [
    "#    İstersek bu iki hatanın aynı except bloğuna girmesini sağlayabiliriz.\n",
    "\n",
    "try:\n",
    "    a = int(input(\"Sayı1:\"))\n",
    "    b = int(input(\"Sayı2:\"))\n",
    "    print(a / b) \n",
    "except (ValueError,ZeroDivisionError):\n",
    "    print(\"ZeroDivision veya ValueError hatası\")"
   ]
  },
  {
   "cell_type": "markdown",
   "id": "a7a3d268-f5ad-446c-ac84-bb2b2db4d2ad",
   "metadata": {},
   "source": [
    "### try,except,finally blokları\n",
    "Bazen programlarımızda her durumda mutlaka çalışmasını istediğimiz kodlar bulunabilir.Bunun için biz kendi try,except bloklarına ek olarak bir tane ***finally*** bloğu ekleyebiliriz. finally blokları **hata olması veya olmaması durumunda mutlaka çalışacaktır**. Yapısı şu şekildedir;"
   ]
  },
  {
   "cell_type": "markdown",
   "id": "b4a05328-baf6-4cee-bf1a-429fb17374a0",
   "metadata": {},
   "source": [
    "\n",
    "                                try:\n",
    "                                    Hata verebilecek kodalr buraya yazılır.\n",
    "                                    Eğer bir hata çıkarasa ilgili exception bloğu çalışacak olup \n",
    "                                    try bloğunun geri kalan kısmı çalışmayacaktır.\n",
    "                                    \n",
    "                                except  Hata1:\n",
    "                                    Hata1 oluştuğunda burası çalışacak.\n",
    "                                except  Hata2:\n",
    "                                    Hata2 oluştuğunda burası çalışacak.\n",
    "                                    //\n",
    "                                    //\n",
    "                                finally:\n",
    "                                    Bu bloğa her ne olursa olsun çalışması gereken kodalr yazılır.\n",
    "                                    Her ne olursa bu blok çalışacak."
   ]
  },
  {
   "cell_type": "code",
   "execution_count": 91,
   "id": "6177f915-8f6e-4701-8cee-c18525905404",
   "metadata": {},
   "outputs": [
    {
     "name": "stdin",
     "output_type": "stream",
     "text": [
      "Sayı1: 12\n",
      "Sayı2: 4abc\n"
     ]
    },
    {
     "name": "stdout",
     "output_type": "stream",
     "text": [
      "Lütfen inputları doğru girin.\n",
      "\n",
      "Her durumda çalışıyorum.\n"
     ]
    }
   ],
   "source": [
    "try:\n",
    "    a = int(input(\"Sayı1:\"))\n",
    "    b = int(input(\"Sayı2:\"))\n",
    "    print(a / b) # Hata burada oluşuyor. ValueError' bloğuna giriyoruz.(girilen inputlara göre)\n",
    "except ValueError:\n",
    "    print(\"Lütfen inputları doğru girin.\")\n",
    "except ZeroDivisionError:\n",
    "    print(\"Bir sayı 0'a bölünemez.\")\n",
    "finally:\n",
    "    print(\"\")\n",
    "    print(\"Her durumda çalışıyorum.\")"
   ]
  },
  {
   "cell_type": "code",
   "execution_count": 93,
   "id": "e0c4636e-c835-4316-954c-9ff44409b99f",
   "metadata": {},
   "outputs": [
    {
     "name": "stdin",
     "output_type": "stream",
     "text": [
      "Sayı1: 12\n",
      "Sayı2: 0\n"
     ]
    },
    {
     "name": "stdout",
     "output_type": "stream",
     "text": [
      "Bir sayı 0'a bölünemez.\n",
      "\n",
      "Her durumda çalışıyorum.\n"
     ]
    }
   ],
   "source": [
    "try:\n",
    "    a = int(input(\"Sayı1:\"))\n",
    "    b = int(input(\"Sayı2:\"))\n",
    "    print(a / b) # Hata burada oluşuyor. ZeroDivisionError' bloğuna giriyoruz.(girilen inputlara göre)\n",
    "except ValueError:\n",
    "    print(\"Lütfen inputları doğru girin.\")\n",
    "except ZeroDivisionError:\n",
    "    print(\"Bir sayı 0'a bölünemez.\")\n",
    "finally:\n",
    "    print(\"\")\n",
    "    print(\"Her durumda çalışıyorum.\")"
   ]
  },
  {
   "cell_type": "code",
   "execution_count": 95,
   "id": "0f6c413e-138a-49e3-89d0-1cf4b6b05524",
   "metadata": {},
   "outputs": [
    {
     "name": "stdin",
     "output_type": "stream",
     "text": [
      "Sayı1: 12\n",
      "Sayı2: 5\n"
     ]
    },
    {
     "name": "stdout",
     "output_type": "stream",
     "text": [
      "2.4\n",
      "Her durumda çalışıyorum.\n"
     ]
    }
   ],
   "source": [
    "try:\n",
    "    a = int(input(\"Sayı1:\"))\n",
    "    b = int(input(\"Sayı2:\"))\n",
    "    print(a / b) #Burda hata yok(girilen inputlara göre)\n",
    "except ValueError:\n",
    "    print(\"Lütfen inputları doğru girin.\")\n",
    "except ZeroDivisionError:\n",
    "    print(\"Bir sayı 0'a bölünemez.\")\n",
    "finally:\n",
    "    print(\"Her durumda çalışıyorum.\")\n",
    "    "
   ]
  },
  {
   "cell_type": "markdown",
   "id": "f4b9cfee-f955-4cd5-9cd6-13d2d85109ae",
   "metadata": {},
   "source": [
    "Python'da kendi özel hatalarımızı üretip fırlatmak için **raise** anahtar kelimesini kullanabiliriz. Bu, bir fonksiyon yanlış kullanıldığında veya belirli bir koşul karşılanmadığında özel hata mesajları oluşturmayı sağlar.\n",
    "\n",
    "Kullanımı şu şekildedir:"
   ]
  },
  {
   "cell_type": "code",
   "execution_count": null,
   "id": "2ba21f96-7e8c-4a35-89be-9bc139b56b18",
   "metadata": {},
   "outputs": [],
   "source": [
    "\n",
    "raise HataAdı(\"Hata mesajı\")\n",
    "\n"
   ]
  },
  {
   "cell_type": "markdown",
   "id": "0bfdd7e2-d273-4fbe-a7a1-9a40eb3e9c59",
   "metadata": {},
   "source": [
    "**ÖRNEĞİN:**"
   ]
  },
  {
   "cell_type": "code",
   "execution_count": null,
   "id": "d2d548fb-6a60-402e-adc4-efa90c7d6ce2",
   "metadata": {},
   "outputs": [],
   "source": [
    "if yaş < 0:\n",
    "    raise ValueError(\"Yaş negatif olamaz!\")\n"
   ]
  },
  {
   "cell_type": "markdown",
   "id": "d440216b-bbed-43b0-9ec3-b14680d28db3",
   "metadata": {},
   "source": [
    "# Verilen string'i ters çevirmek\n",
    "def terscevir(s):\n",
    "    if (type(s) != str):\n",
    "        raise ValueError(\"Lütfen doğru bir input girin.\")\n",
    "    else:\n",
    "        return s[::-1]\n",
    "s = int(input(\"Veri giriniz: \"))\n",
    "terscevir(s)"
   ]
  },
  {
   "cell_type": "code",
   "execution_count": 115,
   "id": "6d299676-d571-4d57-a635-c77074e1fcdd",
   "metadata": {},
   "outputs": [
    {
     "name": "stdout",
     "output_type": "stream",
     "text": [
      "NAKRE\n"
     ]
    }
   ],
   "source": [
    "print(terscevir(\"ERKAN\"))  # Hata vermiyor."
   ]
  },
  {
   "cell_type": "markdown",
   "id": "450dc8d9-18d6-475d-be8f-19013795a142",
   "metadata": {},
   "source": [
    "Bu fonksiyondan fırlatılan hatayı da **try,except** bloklarıyla yakalayabiliriz."
   ]
  },
  {
   "cell_type": "code",
   "execution_count": 128,
   "id": "75b144d5-0648-4273-9a6b-bec3afa97ada",
   "metadata": {},
   "outputs": [
    {
     "name": "stdout",
     "output_type": "stream",
     "text": [
      "Bir hata oluştu!\n"
     ]
    }
   ],
   "source": [
    "try:\n",
    "    print(terscevir(15))\n",
    "except ValueError:\n",
    "    print(\"Bir hata oluştu!\")"
   ]
  },
  {
   "cell_type": "markdown",
   "id": "6904b87c-bb46-4a00-882f-2eb35d5c5ad3",
   "metadata": {},
   "source": [
    "PYTHOn için temel olarak Hata Yakalama bu kadar.\n"
   ]
  },
  {
   "cell_type": "markdown",
   "id": "863e9fb6-798e-463e-917f-59d9ccdc51dc",
   "metadata": {},
   "source": [
    "## ÖRNEKLER:"
   ]
  },
  {
   "cell_type": "markdown",
   "id": "470cf341-8a2b-458d-92e5-b7a17348b595",
   "metadata": {},
   "source": [
    "\n",
    "Elimizde stringlerin bulunduğu bir liste bulunduğunu düşünelim.\n",
    "\n",
    "liste = [\"345\",\"jssjsj\",\"1205abc\",\"14\",\"erkan\"]\n",
    "\n",
    "Bu listenin içindeki stringlerden içinde sadece rakam bulunanları ekrana yazdıralım Bunu yaparken **try,except** bloklarını kullanacağız."
   ]
  },
  {
   "cell_type": "code",
   "execution_count": 8,
   "id": "f836c752-7bfb-4313-9ef3-0d56c2336bc0",
   "metadata": {},
   "outputs": [
    {
     "name": "stdout",
     "output_type": "stream",
     "text": [
      "12\n",
      "5\n"
     ]
    }
   ],
   "source": [
    "liste = [\"12\",\"sadas\",\"324a\",\"05\",\"kemal\"]\n",
    "\n",
    "for eleman in liste: # her elemanı alalım.\n",
    "    \n",
    "    try: \n",
    "        eleman = int(eleman) # Eğer hata ile karşılaşırsak burası hata verecek ve print çalışmayacak. \n",
    "        print(eleman)\n",
    "    except:\n",
    "        pass # pass deyimi bir blokun hiçbir şey yapmadığı anlamına geliyor. Python'ın hata vermemesi için kullanabilirsiniz.(program hata verirse, herhangi bir çıktı vermeyecek)"
   ]
  },
  {
   "cell_type": "markdown",
   "id": "a1798d34-2ab9-4f29-b5ce-48a7ca829c88",
   "metadata": {},
   "source": [
    "**ÖRNEK:**\n",
    "Bir sayının çift olup olmadığını sorgulayan bir fonksiyon yazalım. Bu fonksiyon, eğer sayı çift ise *return* ile bu değeri dönsün. Ancak sayı tek sayı ise fonksiyon *raise* ile *ValueError* hatası fırlatsın. Daha sonra, içinde çift ve tek sayılar bulunduran bir liste tanımlayıp ve liste üzerinde gezinerek ekrana sadece çift sayıları bastırsın"
   ]
  },
  {
   "cell_type": "code",
   "execution_count": 27,
   "id": "3cd5cede-2cc1-4121-bd18-c711ca992e2c",
   "metadata": {},
   "outputs": [
    {
     "name": "stdout",
     "output_type": "stream",
     "text": [
      "2\n",
      "78\n",
      "12\n",
      "20\n",
      "46\n"
     ]
    }
   ],
   "source": [
    "\n",
    "\n",
    "def cift_mi(sayi):\n",
    "    if (sayi%2==0):\n",
    "        return sayi\n",
    "    else:\n",
    "        raise ValueError\n",
    "        \n",
    "liste = [1,2,3,15,45,78,12,20,46]\n",
    "\n",
    "for sayi in liste:\n",
    "    try:\n",
    "        print(cift_mi(sayi))\n",
    "    except ValueError:\n",
    "        # print(\"HATA\") # bu bloğu çalışmaya lırsak, şarta uygun olmayan her eleman için \"HATA\" mesajını basacak. Bunu engellemek için Pass kullanacağız.\n",
    "        pass"
   ]
  },
  {
   "cell_type": "markdown",
   "id": "9daabcef-8c09-4edc-b6f0-5670ec956cb5",
   "metadata": {},
   "source": [
    "#### PEKİ, kendi özel Hata sınıfımızı tamılmak istediğimizd ene yapacağız ?:"
   ]
  },
  {
   "cell_type": "markdown",
   "id": "5627a828-4ff3-4b59-a296-8dd121f73813",
   "metadata": {},
   "source": [
    "Kendi özel hata sınıfımızzı tanımlamak istiyorsak, Python'da bir hata sınıfı oluşturabiliriz. Bunu yaparken, Python’daki temel **Exception** sınıfından türetmemiz gerekir. Özel hata sınıfımızı tanımladıktan sonra, onu raise ile fırlatabiliriz\n",
    "\n",
    "Aşağıda, kodumuzu özel hata sınıfıyla birlikte nasıl düzeltebileceğimizi gösteriyorum:"
   ]
  },
  {
   "cell_type": "code",
   "execution_count": 37,
   "id": "161da77c-fb21-4a7d-941f-808987cf1862",
   "metadata": {},
   "outputs": [
    {
     "name": "stdout",
     "output_type": "stream",
     "text": [
      "Çift DEĞİl!\n",
      "2\n",
      "Çift DEĞİl!\n",
      "Çift DEĞİl!\n",
      "Çift DEĞİl!\n",
      "78\n",
      "12\n",
      "20\n",
      "46\n"
     ]
    }
   ],
   "source": [
    "# Özel hata sınıfı tanımlıyoruz\n",
    "class Hata(Exception):\n",
    "    pass\n",
    "\n",
    "def cift_mi(sayi):\n",
    "    if (sayi % 2 == 0):\n",
    "        return sayi\n",
    "    else:\n",
    "        raise Hata(\"Bu sayı çift değil.\") # Tanımladığımız HATA sınıfı.\n",
    "\n",
    "liste = [1, 2, 3, 15, 45, 78, 12, 20, 46]\n",
    "\n",
    "for sayi in liste:\n",
    "    try:\n",
    "        print(cift_mi(sayi))\n",
    "    except Hata:\n",
    "        print(\"Çift DEĞİl!\")\n",
    "        pass  # Çift olmayan sayıları geçiyoruz\n"
   ]
  },
  {
   "cell_type": "code",
   "execution_count": null,
   "id": "77209d7a-c316-437d-a75d-d71823d9a0f9",
   "metadata": {},
   "outputs": [],
   "source": []
  }
 ],
 "metadata": {
  "kernelspec": {
   "display_name": "Python 3 (ipykernel)",
   "language": "python",
   "name": "python3"
  },
  "language_info": {
   "codemirror_mode": {
    "name": "ipython",
    "version": 3
   },
   "file_extension": ".py",
   "mimetype": "text/x-python",
   "name": "python",
   "nbconvert_exporter": "python",
   "pygments_lexer": "ipython3",
   "version": "3.12.4"
  }
 },
 "nbformat": 4,
 "nbformat_minor": 5
}
