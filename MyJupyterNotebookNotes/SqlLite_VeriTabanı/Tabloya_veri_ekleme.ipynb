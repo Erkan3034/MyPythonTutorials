{
 "cells": [
  {
   "cell_type": "markdown",
   "id": "58393bac-3742-49e4-b65c-be7f88f90b20",
   "metadata": {},
   "source": [
    "## Tabloya Veri Ekleme\n"
   ]
  },
  {
   "cell_type": "code",
   "execution_count": 1,
   "id": "0abc205b-f9c3-4f4a-b8e8-31ae91064a9b",
   "metadata": {},
   "outputs": [],
   "source": [
    "import sqlite3 # Sqlite'yı dahil ediyoruz\n",
    "\n",
    "con = sqlite3.connect(\"kütüphane.db\") # Tabloya bağlanıyoruz(oluşturuyoruz).\n",
    "\n",
    "cursor = con.cursor() # cursor isimli değişken veritabanı üzerinde işlem yapmak için kullanacağımız imleç olacak.\n",
    "\n",
    "def tablo_oluştur():\n",
    "    cursor.execute(\"CREATE TABLE IF NOT EXISTS kitaplık (İsim TEXT, Yazar TEXT, Yayınevi TEXT, Sayfa_Sayısı INT)\") # Sorguyu çalıştırıyoruz(execute=yürütme)\n",
    "    con.commit() # Sorgunun veritabanı üzerinde geçerli olması için commit işlemi gerekli.\n",
    "tablo_oluştur()\n",
    "con.close() # Bağlantıyı koparıyoruz.\n",
    "\n",
    "#Şu anda veritabanımıza bağlandık ve kitaplık isimli bir tablonun oluştuğunu görebiliriz."
   ]
  },
  {
   "cell_type": "markdown",
   "id": "0fa96e5c-dcd0-431c-9f7f-593c68372570",
   "metadata": {},
   "source": [
    "Şimdi de *kitaplık* tablomuza veri eklemeye çalışalım. Çalıştıracağımız sorgu şu olacak;\n",
    "\n",
    "***INSERT INTO kitaplık VALUES('İstanbul Hatırası','Ahmet Ümit','Everest',561)***\n",
    "\n",
    "*Not : SQL Sorguları büyük veya küçük harfle de yazılabilir. Örnek olarak*\n",
    "\n",
    "***insert into kitaplık values ('İstanbul Hatırası','Ahmet Ümit','Everest',561)***\n",
    "\n",
    "***Insert Into kitaplık Values ('İstanbul Hatırası','Ahmet Ümit','Everest',561)***"
   ]
  },
  {
   "cell_type": "code",
   "execution_count": 31,
   "id": "bc2d563b-59aa-43b2-a586-1869cff0b9ea",
   "metadata": {},
   "outputs": [],
   "source": [
    "import sqlite3 \n",
    "\n",
    "con = sqlite3.connect(\"kütüphane.db\")\n",
    "\n",
    "cursor = con.cursor() \n",
    "\n",
    "def tablo_oluştur():\n",
    "    cursor.execute(\"CREATE TABLE IF NOT EXISTS kitaplık (İsim TEXT, Yazar TEXT, Yayınevi TEXT, Sayfa_Sayısı INT)\") \n",
    "    con.commit()\n",
    "def deger_ekle(isim,yazar,yayınevi,sayfa_sayısı):\n",
    "    cursor.execute(\"INSERT INTO kitaplık VALUES('İstanbul Hatırası','Ahmet Ümit','Everest',261)\")\n",
    "    con.commit()\n",
    "deger_ekle()\n",
    "con.close()"
   ]
  },
  {
   "cell_type": "markdown",
   "id": "4aa51c20-97ad-4a2e-a795-1708b887af98",
   "metadata": {},
   "source": [
    "##### ‼️Peki kullanıcıdan aldığımız değerleri tabloya nasıl ekliyoruz ? Onun için de sorgumuzu ve kodumuzu biraz değiştireceğiz."
   ]
  },
  {
   "cell_type": "code",
   "execution_count": 33,
   "id": "5b90f596-dbbc-4f7f-8818-2418f8a9e54f",
   "metadata": {},
   "outputs": [
    {
     "name": "stdin",
     "output_type": "stream",
     "text": [
      "İsim: Erkan\n",
      "Yazar: Tugrut\n",
      "Yayınevi: ABC\n",
      "Sayfa Sayısı: 456\n"
     ]
    }
   ],
   "source": [
    "import sqlite3 \n",
    "\n",
    "con = sqlite3.connect(\"kütüphane.db\")\n",
    "\n",
    "cursor = con.cursor() \n",
    "\n",
    "\n",
    "def tablo_oluştur():\n",
    "    cursor.execute(\"CREATE TABLE IF NOT EXISTS kitaplık (İsim TEXT, Yazar TEXT, Yayınevi TEXT, Sayfa_Sayısı INT)\") \n",
    "    con.commit()\n",
    "\n",
    "\n",
    "def deger_ekle(isim1,yazar1,yayınevi1,sayfa_sayısı1): #parametre değerlerini eklemek için kullanıyoruz.\n",
    "    \n",
    "    cursor.execute(\"INSERT INTO kitaplık VALUES(?,?,?,?)\",(isim1,yazar1,yayınevi1,sayfa_sayısı1))\n",
    "    con.commit()\n",
    "    \n",
    "isim = input(\"İsim:\")\n",
    "yazar = input(\"Yazar:\")\n",
    "yayınevi = input(\"Yayınevi:\")\n",
    "sayfa_sayısı =  int(input(\"Sayfa Sayısı:\"))\n",
    "\n",
    "\n",
    "deger_ekle(isim,yazar,yayınevi,sayfa_sayısı) #gelen değeri parametre olarak verdik.\n",
    "\n",
    "con.close()"
   ]
  },
  {
   "cell_type": "markdown",
   "id": "accee058-00a0-432b-ae1a-17d9c6620cb1",
   "metadata": {},
   "source": [
    "*?* işaretlerinin herbirinin yerine fonksiyona değer olarak gönderdiğimiz isim , yazar, yayıevi ve sayfa sayısı bilgileri gidiyor ve tablomuza bu şekilde veri ekleyebiliyoruz."
   ]
  },
  {
   "cell_type": "code",
   "execution_count": null,
   "id": "6e213f28-68a9-4c9a-8e43-dbab9c21e4c3",
   "metadata": {},
   "outputs": [],
   "source": []
  }
 ],
 "metadata": {
  "kernelspec": {
   "display_name": "Python 3 (ipykernel)",
   "language": "python",
   "name": "python3"
  },
  "language_info": {
   "codemirror_mode": {
    "name": "ipython",
    "version": 3
   },
   "file_extension": ".py",
   "mimetype": "text/x-python",
   "name": "python",
   "nbconvert_exporter": "python",
   "pygments_lexer": "ipython3",
   "version": "3.12.4"
  }
 },
 "nbformat": 4,
 "nbformat_minor": 5
}
