{
 "cells": [
  {
   "cell_type": "markdown",
   "id": "1b2c68a9-a794-4125-a54d-1b84c058a350",
   "metadata": {},
   "source": [
    "### Tablodaki Verileri Güncelleme ve Silme"
   ]
  },
  {
   "cell_type": "markdown",
   "id": "4b62503c-9143-4049-9c96-cbb418e4b8ca",
   "metadata": {},
   "source": [
    "#### Verileri Güncelleme\n",
    "Tablodaki verileri güncelleme için şöyle bir sorgu kullanabiliriz\n",
    "\n",
    "***Update kitaplık set Yayınevi = 'Everest' where Yayınevi = 'nobel'   bu işlem Yayınevi 'nobel' olan kitapların Yayınevi bilgilerini 'Everest' e günceller.***\n",
    "\n"
   ]
  },
  {
   "cell_type": "code",
   "execution_count": null,
   "id": "4eb2eec9-ce7d-4e7f-a0b9-2d6d6f887152",
   "metadata": {},
   "outputs": [],
   "source": [
    "import sqlite3\n",
    "\n",
    "con = sqlite3.connect(\"kütüphane.db\")\n",
    "\n",
    "cursor = con.cursor()\n",
    "def tablo_olustur():\n",
    "    cursor.execute(\"CREATE TABLE IF NOT EXISTS kitaplık (İsim TEXT,Yazar TEXT,Yayınevi TEXT,Sayfa_Sayısı INT)\")\n",
    "    con.commit()\n",
    "def deger_ekle(isim,yazar,yayınevi,sayfa_sayısı):\n",
    "    cursor.execute(\"Insert into kitaplık Values(?,?,?,?)\",(isim,yazar,yayınevi,sayfa_sayısı))\n",
    "    con.commit()\n",
    "def verileri_al():\n",
    "    cursor.execute(\"Select * From kitaplık\")\n",
    "    data = cursor.fetchall()\n",
    "    print(\"Kitaplık Tablosunun bilgileri.....\")\n",
    "    for i in data:\n",
    "        print(i)\n",
    "def verileri_al2():\n",
    "    cursor.execute(\"Select İsim,Yazar From kitaplık\")\n",
    "    data = cursor.fetchall()\n",
    "    print(\"Kitaplık Tablosunun bilgileri.....\")\n",
    "    for i in data:\n",
    "        print(i)\n",
    "def verileri_al3(yayınevi):\n",
    "    cursor.execute(\"Select * From kitaplık where Yayınevi = ?\",(yayınevi,))\n",
    "    data = cursor.fetchall()\n",
    "    print(\"Kitaplık Tablosunun bilgileri.....\")\n",
    "    for i in data:\n",
    "        print(i)\n",
    "\n",
    "#====================VERİ GÜNCELLEME\n",
    "def verigüncelle(yayınevi):\n",
    "    cursor.execute(\"Update kitaplık set Yayınevi = ? where Yayınevi =  ?\",(\"Everest\",yayınevi))\n",
    "    con.commit()\n",
    "\n",
    "verigüncelle(\"Doğan Kitap\")\n",
    "con.close()        "
   ]
  },
  {
   "cell_type": "markdown",
   "id": "1065d86b-b48b-4c63-97fa-313490e17f99",
   "metadata": {},
   "source": [
    "#### Verileri Silme\n",
    "Tablodaki verileri silme için şöyle bir sorgu kullanabiliriz.\n",
    "\n",
    "***Delete From kitaplık where Yazar = 'Ahmet Ümit' -- Yazar özelliği 'Ahmet Ümit' olan kitapları tablodan siler.***"
   ]
  },
  {
   "cell_type": "code",
   "execution_count": null,
   "id": "efe0f4f0-0fb8-4e91-a484-97a69cbd25f3",
   "metadata": {},
   "outputs": [],
   "source": [
    "def verilerisil(yazar):\n",
    "    cursor.execute(\"Delete  From kitaplık where Yazar = ?\",(yazar,))\n",
    "    con.commit()\n",
    "    \n",
    "verilerisil(\"Ahmet Ümit\")\n",
    "con.close()   "
   ]
  }
 ],
 "metadata": {
  "kernelspec": {
   "display_name": "Python 3 (ipykernel)",
   "language": "python",
   "name": "python3"
  },
  "language_info": {
   "codemirror_mode": {
    "name": "ipython",
    "version": 3
   },
   "file_extension": ".py",
   "mimetype": "text/x-python",
   "name": "python",
   "nbconvert_exporter": "python",
   "pygments_lexer": "ipython3",
   "version": "3.12.4"
  }
 },
 "nbformat": 4,
 "nbformat_minor": 5
}
