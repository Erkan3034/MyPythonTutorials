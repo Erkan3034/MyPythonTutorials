{
 "cells": [
  {
   "cell_type": "markdown",
   "id": "7a284b2a-3d0b-4bc4-aaca-d8cf4ff78b7c",
   "metadata": {},
   "source": [
    "### Tablodaki Verileri Çekme"
   ]
  },
  {
   "cell_type": "markdown",
   "id": "71ac8975-2ca2-43af-b752-b366cd107cbf",
   "metadata": {},
   "source": [
    " Bu derste de tablodaki verileri nasıl çekeceğimizi öğrenmeye çalışacağız. Tablodan veri çekmek için şu SQL sorgularını kullanacağız.\n",
    "\n",
    "**Select * From kitaplık** - Tablodaki tüm bilgileri almamızı sağlar.( * ile ) \n",
    "\n",
    "**Select İsim,Yazar From kitaplık** Tablodaki tüm bilgilerin sadece İsim ve Yazar özelliklerini almamızı sağlar.\n",
    "\n",
    "**Select * From kitaplık where Yayınevi = 'Everest'** Sadece Yayınevi özelliği Everest olanları alır.\n",
    "\n"
   ]
  },
  {
   "cell_type": "code",
   "execution_count": null,
   "id": "d14f4cd5-8e36-4bf0-abb4-bba3a6092bc8",
   "metadata": {},
   "outputs": [],
   "source": [
    "import sqlite3\n",
    "\n",
    "con = sqlite3.connect(\"kütüphane.db\")\n",
    "\n",
    "cursor = con.cursor()\n",
    "#tablo oluşturma\n",
    "def tablo_olustur():\n",
    "    cursor.execute(\"CREATE TABLE IF NOT EXISTS kitaplık (İsim TEXT,Yazar TEXT,Yayınevi TEXT,Sayfa_Sayısı INT)\")\n",
    "    con.commit()\n",
    "\n",
    "#tabloya değer ekleme.\n",
    "def deger_ekle(isim,yazar,yayınevi,sayfa_sayısı):\n",
    "    cursor.execute(\"Insert into kitaplık Values(?,?,?,?)\",(isim,yazar,yayınevi,sayfa_sayısı))\n",
    "    con.commit()\n",
    "\n",
    "\n",
    "#tablodan verileri alma.\n",
    "def verileri_al():\n",
    "    cursor.execute(\"Select * From kitaplık\") # Bütün bilgileri alıyoruz.\n",
    "    data = cursor.fetchall() # Veritabanından bilgileri çekmek için \"fetchall()\" kullanıyoruz.\n",
    "    print(\"Kitaplık Tablosunun bilgileri.....\")\n",
    "    for i in data:\n",
    "        print(i)\n",
    "    # con.commit() işlemine gerek yok. Çünkü tabloda herhangi bir güncelleme yapmıyoruz.\n",
    "verileri_al()\n",
    "con.close()"
   ]
  }
 ],
 "metadata": {
  "kernelspec": {
   "display_name": "Python 3 (ipykernel)",
   "language": "python",
   "name": "python3"
  },
  "language_info": {
   "codemirror_mode": {
    "name": "ipython",
    "version": 3
   },
   "file_extension": ".py",
   "mimetype": "text/x-python",
   "name": "python",
   "nbconvert_exporter": "python",
   "pygments_lexer": "ipython3",
   "version": "3.12.4"
  }
 },
 "nbformat": 4,
 "nbformat_minor": 5
}
