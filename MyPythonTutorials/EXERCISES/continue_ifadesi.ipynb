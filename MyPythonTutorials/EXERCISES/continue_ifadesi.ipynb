{
 "cells": [
  {
   "cell_type": "markdown",
   "id": "f2bca1df-2432-4c28-bb57-7218bc9a93b1",
   "metadata": {},
   "source": [
    "\n",
    "**1'den 100'e kadar olan sayılardan sadece 3'e bölünen sayıları ekrana bastırın. Bu işlemi *continue* ile yapmaya çalışalım**"
   ]
  },
  {
   "cell_type": "code",
   "execution_count": 16,
   "id": "67b483cf-61f8-444c-8d2f-7b6460cad510",
   "metadata": {},
   "outputs": [
    {
     "name": "stdout",
     "output_type": "stream",
     "text": [
      "1'den 100'e kadar olan sayılardan sadece 3'e bölünen sayılar:\n",
      "[3, 6, 9, 12, 15, 18, 21, 24, 27, 30, 33, 36, 39, 42, 45, 48, 51, 54, 57, 60, 63, 66, 69, 72, 75, 78, 81, 84, 87, 90, 93, 96, 99]\n"
     ]
    }
   ],
   "source": [
    "# 1'den 100'e kadar olan sayıları kontrol et\n",
    "print(\"1'den 100'e kadar olan sayılardan sadece 3'e bölünen sayılar:\")\n",
    "liste =[] # boş liste\n",
    "for sayi in range(1, 101):\n",
    "    # Eğer sayı 3'e bölünmüyorsa, döngünün bu adımını geç\n",
    "    if sayi % 3 != 0:\n",
    "        continue\n",
    "    # 3'e bölünen sayıyı yazdır\n",
    "    liste.append(sayi) # her sayıyı listeye at.\n",
    "print(liste)"
   ]
  },
  {
   "cell_type": "code",
   "execution_count": null,
   "id": "a2d2e1ab-71fd-4b9d-af77-5b84a36face7",
   "metadata": {},
   "outputs": [],
   "source": []
  }
 ],
 "metadata": {
  "kernelspec": {
   "display_name": "Python 3 (ipykernel)",
   "language": "python",
   "name": "python3"
  },
  "language_info": {
   "codemirror_mode": {
    "name": "ipython",
    "version": 3
   },
   "file_extension": ".py",
   "mimetype": "text/x-python",
   "name": "python",
   "nbconvert_exporter": "python",
   "pygments_lexer": "ipython3",
   "version": "3.12.4"
  }
 },
 "nbformat": 4,
 "nbformat_minor": 5
}
