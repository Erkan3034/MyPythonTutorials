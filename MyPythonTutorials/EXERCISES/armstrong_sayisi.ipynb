{
 "cells": [
  {
   "cell_type": "markdown",
   "id": "84410fae-e5b2-4b51-83cd-cc816301407b",
   "metadata": {},
   "source": [
    "Kullanıcıdan aldığınız bir sayının \"Armstrong\" sayısı olup olmadığını bulmaya çalışalım.\n",
    "\n",
    "Örnek olarak, Bir sayı eğer 3 basamaklı ise ve oluşturan rakamlardan herbirinin 3. kuvvetinin toplamı( 4 basamaklı sayılar için 4.kuvveti ) o sayıya eşitse bu sayıya \"Armstrong\" sayısı denir.\n",
    "\n",
    "Örnek olarak : 154 = 1^4 + 4^4 + 4^4"
   ]
  },
  {
   "cell_type": "code",
   "execution_count": null,
   "id": "56ebbcf7-743c-4923-ae67-e15a4ac8ea5f",
   "metadata": {},
   "outputs": [],
   "source": [
    "# Kullanıcıdan sayı al\n",
    "sayi = int(input(\"Bir sayı girin: \"))\n",
    "\n",
    "# sayının kaç basamaklı oldğunu bulmak için sayıyı stringe çevirelimm:\n",
    "\n",
    "sayi_str = str(sayi)\n",
    "basamak_sayisi = len(sayi_str)\n",
    "\n",
    "# Toplamı hesaplamak için bir değişken oluştur\n",
    "toplam = 0\n",
    "\n",
    "# Sayının her basamağını tek tek alıp kuvvetini hesaplayalım\n",
    "for rakam in sayi_str:\n",
    "    toplam += int(rakam) ** basamak_sayisi  # Her bir rakamın kuvvetini alıp toplamla ekle\n",
    "\n",
    "# Hesaplanan toplam ile sayıyı karşılaştıralım\n",
    "if toplam == sayi:\n",
    "    print(f\"{sayi} bir Armstrong sayısıdır.\")\n",
    "else:\n",
    "    print(f\"{sayi} bir Armstrong sayısı değildir.\")\n"
   ]
  },
  {
   "cell_type": "code",
   "execution_count": null,
   "id": "26825b1a-0929-4b0d-9132-cdf8b9f9b40f",
   "metadata": {},
   "outputs": [],
   "source": []
  }
 ],
 "metadata": {
  "kernelspec": {
   "display_name": "Python 3 (ipykernel)",
   "language": "python",
   "name": "python3"
  },
  "language_info": {
   "codemirror_mode": {
    "name": "ipython",
    "version": 3
   },
   "file_extension": ".py",
   "mimetype": "text/x-python",
   "name": "python",
   "nbconvert_exporter": "python",
   "pygments_lexer": "ipython3",
   "version": "3.12.4"
  }
 },
 "nbformat": 4,
 "nbformat_minor": 5
}
