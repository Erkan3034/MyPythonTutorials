{
 "cells": [
  {
   "cell_type": "markdown",
   "id": "6bce204e-77e4-4315-af7f-716dfe5ce855",
   "metadata": {},
   "source": [
    "Şimdi geometrik şekil hesaplama işlemi yapalım. İlk olarak kullanıcıdan üçgenin mi dörtgenin mi tipini bulmak istediğini soralım.\n",
    "\n",
    "\n",
    "Eğer kullanıcı \"Dörtgen\" cevabını verirse , 4 tane kenar isteyip bu dörtgenin kare mi , dikdörtgen mi yoksa sıradan bir dörtgen mi olduğunu bulmaya çalışalım.\n",
    "\n",
    "Eğer kullanıcı \"Üçgen\" cevabını verirse , 3 tane kenar isteyip bu üçgenin ikizkenar mı , eşkenar mı yoksa sıradan bir üçgen mi olduğunu bulmaya çalışın. Eğer verilen kenarlar bir üçgen belirtmiyorsa, ekrana \"Üçgen belirtmiyor\" şeklinde bir yazı yazalım."
   ]
  },
  {
   "cell_type": "markdown",
   "id": "c6245bd1-94c4-4af4-b61b-6947e4315a7c",
   "metadata": {},
   "source": [
    "#### Algoritma\n",
    "1) İşlem al.\n",
    "2) Kontrol et.\n",
    "3) Dörtgen ise adım 4'e git. Değilse adım  6'ya git.\n",
    "4) 4 tane kenar değeri al.\n",
    "5) Kenar değerlerini kontrol ederek kare-dikdörtgen ya da sıradan bir dikdörtgen olduğuna karar ver ve sonuc değişkenine ata. Sonra adım 'e git.\n",
    "6) 3 tane kenar değeri al.\n",
    "7) Kenar değerlerini kontrol et ve ikizkenar,eşkenar veya sıradan bir üçgen olup olmadığına karar ver. Eğer değilse \"Üçgen belirtmiyor\" çıktısını ver.\n",
    "8) Yazdır sonuc.\n",
    "\n",
    "\n"
   ]
  },
  {
   "cell_type": "markdown",
   "id": "131e8bde-ce6c-4905-bf15-9ed4de8ae29d",
   "metadata": {},
   "source": [
    "📌Üçgen Eşitsizliği Teoremi\n",
    "\n",
    "Eğer bir üçgen a, b ve c uzunluklarına sahip üç kenardan oluşuyorsa, bu üç kenarın üçgen oluşturabilmesi için aşağıdaki şartların hepsi sağlanmalıdır:\n",
    "\n",
    "\n",
    " ***a+b>c***\n",
    " \n",
    " ***a+c>b***\n",
    " \n",
    " ***b+c>a***\n",
    " \n",
    "Bu koşulların herhangi biri sağlanmazsa, üç kenar üçgen oluşturmaz."
   ]
  },
  {
   "cell_type": "code",
   "execution_count": 23,
   "id": "d23f070a-abf4-4024-ab41-bc7090a16d9d",
   "metadata": {},
   "outputs": [
    {
     "name": "stdin",
     "output_type": "stream",
     "text": [
      "Lütfen kontrol etmek istediğiniz nesnenin ismini(dörtgen / Üçgen) giriniz :  dörtgen\n"
     ]
    },
    {
     "name": "stdout",
     "output_type": "stream",
     "text": [
      "Dörtgen işlemleri başlatılıyor...\n",
      "\n"
     ]
    },
    {
     "name": "stdin",
     "output_type": "stream",
     "text": [
      "1. kenar uzunluğunu girin:  4\n",
      "2. kenar uzunluğunu girin:  4\n",
      "3. kenar uzunluğunu girin:  4\n",
      "4. kenar uzunluğunu girin:  4\n"
     ]
    },
    {
     "name": "stdout",
     "output_type": "stream",
     "text": [
      "Sonuç: Kare.\n"
     ]
    }
   ],
   "source": [
    " nesne = input(\"Lütfen kontrol etmek istediğiniz nesnenin ismini(dörtgen / Üçgen) giriniz : \").strip().lower()\n",
    "# kontrol\n",
    "\n",
    "if nesne == \"dörtgen\":\n",
    "    print(\"Dörtgen işlemleri başlatılıyor...\")\n",
    "    print()\n",
    "    kenarlar = [] # kenarları tutmak için boş liste.\n",
    "    for i in range(4): # 3 tane kenar al.\n",
    "        kenar = int(input(f\"{i+1}. kenar uzunluğunu girin: \"))\n",
    "        kenarlar.append(kenar) # kenarları birer birer listeye at.\n",
    "\n",
    "    if kenarlar[0] == kenarlar[1] == kenarlar[2] == kenarlar[3]:\n",
    "        sonuc = \"Kare.\"\n",
    "    elif kenarlar[0] == kenarlar[2] == kenarlar[1] == kenarlar[3]:\n",
    "        sonuc = \"Dikdörtgen\"\n",
    "    else:\n",
    "        sonuc = \"Sıradan Dörtgen.\"\n",
    "\n",
    "    \n",
    "    print(\"Sonuç:\", sonuc) \n",
    "\n",
    "\n",
    "# Üçgen ise 3 tane kenar uzunluğu alalım\n",
    "elif nesne == \"üçgen\":\n",
    "    kenarlar = []\n",
    "    for i in range(3):\n",
    "        kenar = int(input(f\"{i+1}. kenar uzunluğunu girin: \"))\n",
    "        kenarlar.append(kenar)\n",
    "    \n",
    "    # Üçgen eşitsizliğini kontrol et\n",
    "    if (kenarlar[0] + kenarlar[1] > kenarlar[2] and\n",
    "        kenarlar[0] + kenarlar[2] > kenarlar[1] and\n",
    "        kenarlar[1] + kenarlar[2] > kenarlar[0]):\n",
    "        \n",
    "        # Üçgen tipi belirleme\n",
    "        if kenarlar[0] == kenarlar[1] == kenarlar[2]:\n",
    "            sonuc = \"Eşkenar Üçgen\"\n",
    "        elif kenarlar[0] == kenarlar[1] or kenarlar[0] == kenarlar[2] or kenarlar[1] == kenarlar[2]:\n",
    "            sonuc = \"İkizkenar Üçgen\"\n",
    "        else:\n",
    "            sonuc = \"Sıradan Üçgen\"\n",
    "    else:\n",
    "        sonuc = \"Üçgen belirtmiyor\"\n",
    "    \n",
    "    print(\"Sonuç:\", sonuc)  # Adım 8'e geçildi\n"
   ]
  },
  {
   "cell_type": "code",
   "execution_count": null,
   "id": "b8fef1f8-775d-48b7-887b-f06d1ecc2aff",
   "metadata": {},
   "outputs": [],
   "source": []
  }
 ],
 "metadata": {
  "kernelspec": {
   "display_name": "Python 3 (ipykernel)",
   "language": "python",
   "name": "python3"
  },
  "language_info": {
   "codemirror_mode": {
    "name": "ipython",
    "version": 3
   },
   "file_extension": ".py",
   "mimetype": "text/x-python",
   "name": "python",
   "nbconvert_exporter": "python",
   "pygments_lexer": "ipython3",
   "version": "3.12.4"
  }
 },
 "nbformat": 4,
 "nbformat_minor": 5
}
