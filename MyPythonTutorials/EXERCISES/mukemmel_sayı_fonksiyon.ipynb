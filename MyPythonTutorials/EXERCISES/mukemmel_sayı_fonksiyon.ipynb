{
 "cells": [
  {
   "cell_type": "markdown",
   "id": "9cb8446e-e18e-44cf-8c75-6561702fb3a3",
   "metadata": {},
   "source": [
    "1'den 1000'e kadar olan sayılardan mükemmel sayı olanları ekrana yazdıralım. Bunun için bir sayının mükemmel olup olmadığını dönen bir tane fonksiyon yazacağız, yani bu işlemi bir fonksiyon ile yapacağız.\n",
    "\n",
    "Bir sayının bölenlerinin toplamı kendine eşitse bu sayı mükemmel bir sayıdır. Örnek olarak 6 mükemmel bir sayıdır (1 + 2 + 3 = 6)."
   ]
  },
  {
   "cell_type": "code",
   "execution_count": 36,
   "id": "23106044-cc2a-4a25-ae3c-605f82fe9a76",
   "metadata": {},
   "outputs": [
    {
     "name": "stdin",
     "output_type": "stream",
     "text": [
      "Sayı giriniz:  28\n"
     ]
    },
    {
     "name": "stdout",
     "output_type": "stream",
     "text": [
      "Sayı mükemmeldir.\n"
     ]
    }
   ],
   "source": [
    "def mukemmel_mi(sayi):\n",
    "    toplam = 0\n",
    "    for i in range(1,sayi):\n",
    "        if(sayi % i == 0):\n",
    "            toplam += i\n",
    "    if( toplam == sayi):\n",
    "        print(\"Sayı mükemmeldir.\")\n",
    "    else:\n",
    "        print(\"Girilen sayı mükemmel değildir !\")\n",
    "\n",
    "\n",
    "girdi = int(input(\"Sayı giriniz: \"))\n",
    "mukemmel_mi(girdi) #fonksiyonu çağır."
   ]
  },
  {
   "cell_type": "code",
   "execution_count": null,
   "id": "9aab51bb-22d7-4679-84a1-811dd531a388",
   "metadata": {},
   "outputs": [],
   "source": []
  }
 ],
 "metadata": {
  "kernelspec": {
   "display_name": "Python 3 (ipykernel)",
   "language": "python",
   "name": "python3"
  },
  "language_info": {
   "codemirror_mode": {
    "name": "ipython",
    "version": 3
   },
   "file_extension": ".py",
   "mimetype": "text/x-python",
   "name": "python",
   "nbconvert_exporter": "python",
   "pygments_lexer": "ipython3",
   "version": "3.12.4"
  }
 },
 "nbformat": 4,
 "nbformat_minor": 5
}
