{
 "cells": [
  {
   "cell_type": "markdown",
   "id": "aa93b347-f1db-47c1-be91-c41784db8682",
   "metadata": {},
   "source": [
    "Kullanıcıdan 2 tane sayı alarak bu sayıların ***en küçük ortak katlarını (EKOK)*** dönen bir tane fonksiyon yazalım."
   ]
  },
  {
   "cell_type": "code",
   "execution_count": 6,
   "id": "cbf03e1e-11f3-42a8-9f0f-4c542c5ab1cb",
   "metadata": {},
   "outputs": [
    {
     "name": "stdin",
     "output_type": "stream",
     "text": [
      "Sayı-1:  15\n",
      "Sayı-2:  20\n"
     ]
    },
    {
     "name": "stdout",
     "output_type": "stream",
     "text": [
      "Ekok: 60\n"
     ]
    }
   ],
   "source": [
    "def ebob_bulma(a, b):\n",
    "    while b != 0:\n",
    "        a, b = b, a % b\n",
    "    return a\n",
    "\n",
    "def ekok_bulma(a, b):\n",
    "    return abs(a * b) // ebob_bulma(a, b) # Ekok formülü.\n",
    "\n",
    "# Kullanıcıdan giriş alalım\n",
    "sayı1 = int(input(\"Sayı-1: \"))\n",
    "sayı2 = int(input(\"Sayı-2: \"))\n",
    "\n",
    "print(\"Ekok:\", ekok_bulma(sayı1, sayı2))\n"
   ]
  },
  {
   "cell_type": "code",
   "execution_count": null,
   "id": "785b287e-5c7c-4640-902b-9f02ef2b02ff",
   "metadata": {},
   "outputs": [],
   "source": []
  }
 ],
 "metadata": {
  "kernelspec": {
   "display_name": "Python 3 (ipykernel)",
   "language": "python",
   "name": "python3"
  },
  "language_info": {
   "codemirror_mode": {
    "name": "ipython",
    "version": 3
   },
   "file_extension": ".py",
   "mimetype": "text/x-python",
   "name": "python",
   "nbconvert_exporter": "python",
   "pygments_lexer": "ipython3",
   "version": "3.12.4"
  }
 },
 "nbformat": 4,
 "nbformat_minor": 5
}
