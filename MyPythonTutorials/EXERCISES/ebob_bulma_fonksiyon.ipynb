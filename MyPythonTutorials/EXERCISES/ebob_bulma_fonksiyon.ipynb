{
 "cells": [
  {
   "cell_type": "markdown",
   "id": "2494f594-952d-43d4-bb9e-86622e523f44",
   "metadata": {},
   "source": [
    "Kullanıcıdan 2 tane sayı alarak bu sayıların ***en büyük ortak bölenini (EBOB)*** dönen bir tane fonksiyon yazalım."
   ]
  },
  {
   "cell_type": "code",
   "execution_count": 47,
   "id": "c2979fb9-4dba-4da8-ae30-1dfe78292a9b",
   "metadata": {},
   "outputs": [
    {
     "name": "stdin",
     "output_type": "stream",
     "text": [
      "Sayı 1 :  12\n",
      "Sayı 2 :  96\n"
     ]
    },
    {
     "data": {
      "text/plain": [
       "\"12 ve 96 sayılarının EBOB'u: 12\""
      ]
     },
     "execution_count": 47,
     "metadata": {},
     "output_type": "execute_result"
    }
   ],
   "source": [
    "def ebob_bul(sayi1, sayi2):\n",
    "    i = 2\n",
    "    ebob = i\n",
    "      # Sayılardan küçük olanı bulup bu sayıya kadar döngüyle kontrol edeceğiz\n",
    "    for i in range(1, min(sayi1, sayi2) + 1):\n",
    "        \n",
    "        if(sayi1 % i == 0 and sayi2 % i == 0):\n",
    "            \n",
    "            ebob = i\n",
    "            \n",
    "    return f\"{sayi1} ve {sayi2} sayılarının EBOB'u: {ebob}\" \n",
    "\n",
    "sayi1= int(input(\"Sayı 1 : \"))\n",
    "sayi2= int(input(\"Sayı 2 : \"))\n",
    "ebob_bul(sayi1,sayi2)    "
   ]
  },
  {
   "cell_type": "markdown",
   "id": "43c8d594-749c-4763-bea8-af566ea7a525",
   "metadata": {},
   "source": [
    "#### Alternatif çözüm  --- Euclid Algoritması\n"
   ]
  },
  {
   "cell_type": "code",
   "execution_count": 81,
   "id": "d2aac186-32da-4d1c-8fb3-eb7b997a8ad3",
   "metadata": {},
   "outputs": [
    {
     "name": "stdout",
     "output_type": "stream",
     "text": [
      "Ebob : 12\n",
      "Ebob : 12\n"
     ]
    }
   ],
   "source": [
    "def ebob_bulma(a, b):\n",
    "    while b != 0:\n",
    "        a, b = b, a % b  # b, a % b'ye bölünür, işlem devam eder\n",
    "    return f\"Ebob : {a}\"\n",
    "\n",
    "print(ebob_bulma(12, 48))  # Çıktı: Ebob : 12\n",
    "print(ebob_bulma(48, 12))  # Çıktı: Ebob : 12\n"
   ]
  },
  {
   "cell_type": "code",
   "execution_count": null,
   "id": "0a700c44-bc6f-4fa7-a148-7d90a6390913",
   "metadata": {},
   "outputs": [],
   "source": []
  }
 ],
 "metadata": {
  "kernelspec": {
   "display_name": "Python 3 (ipykernel)",
   "language": "python",
   "name": "python3"
  },
  "language_info": {
   "codemirror_mode": {
    "name": "ipython",
    "version": 3
   },
   "file_extension": ".py",
   "mimetype": "text/x-python",
   "name": "python",
   "nbconvert_exporter": "python",
   "pygments_lexer": "ipython3",
   "version": "3.12.4"
  }
 },
 "nbformat": 4,
 "nbformat_minor": 5
}
