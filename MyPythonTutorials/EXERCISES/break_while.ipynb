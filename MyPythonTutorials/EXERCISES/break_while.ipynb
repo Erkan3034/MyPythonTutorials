{
 "cells": [
  {
   "cell_type": "markdown",
   "id": "50dbb994-fb05-4b11-9656-afdbc4cbec99",
   "metadata": {},
   "source": [
    "Her bir while döngüsünde kullanıcıdan bir sayı alın ve kullanıcının girdiği sayıları \"toplam\" isimli bir değişkene ekleyin. Kullanıcı \"q\" tuşuna bastığı zaman döngüyü sonlandırın ve ekrana \"toplam değişkenini\" bastırın.\n",
    "\n",
    "*İpucu : while döngüsünü sonsuz koşulla başlatın ve kullanıcı q'ya basarsa döngüyü break ile sonlandırın.*"
   ]
  },
  {
   "cell_type": "code",
   "execution_count": 2,
   "id": "2ca3e199-ccb9-4d2c-a3a8-33d96cd19924",
   "metadata": {},
   "outputs": [
    {
     "name": "stdin",
     "output_type": "stream",
     "text": [
      "Bir sayı girin (çıkmak için 'q' tuşuna basın):  5\n",
      "Bir sayı girin (çıkmak için 'q' tuşuna basın):  6\n",
      "Bir sayı girin (çıkmak için 'q' tuşuna basın):  7\n",
      "Bir sayı girin (çıkmak için 'q' tuşuna basın):  98\n",
      "Bir sayı girin (çıkmak için 'q' tuşuna basın):  8\n",
      "Bir sayı girin (çıkmak için 'q' tuşuna basın):  56\n",
      "Bir sayı girin (çıkmak için 'q' tuşuna basın):  561\n",
      "Bir sayı girin (çıkmak için 'q' tuşuna basın):  q\n"
     ]
    },
    {
     "name": "stdout",
     "output_type": "stream",
     "text": [
      "Toplam: 741.0\n"
     ]
    }
   ],
   "source": [
    "toplam = 0  # Başlangıçta toplam 0\n",
    "\n",
    "while True:  # Sonsuz döngü\n",
    "    # Kullanıcıdan sayı al\n",
    "    girilen_sayi = input(\"Bir sayı girin (çıkmak için 'q' tuşuna basın): \")\n",
    "\n",
    "    if girilen_sayi == 'q':  # Kullanıcı 'q' tuşuna basarsa döngüyü kır\n",
    "        break\n",
    "\n",
    "    # Sayı geçerli bir sayıya dönüştürülebiliyorsa toplamı güncelle\n",
    "    try:\n",
    "        sayi = float(girilen_sayi)  # Sayıyı float türüne dönüştür\n",
    "        toplam += sayi  # Sayıyı toplam değişkenine ekle\n",
    "    except ValueError:\n",
    "        print(\"Geçersiz giriş! Lütfen bir sayı girin.\")\n",
    "\n",
    "print(f\"Toplam: {toplam}\")  # Toplam değeri yazdır\n"
   ]
  },
  {
   "cell_type": "code",
   "execution_count": null,
   "id": "364ad16a-ab06-41af-a4c7-af76f735a6de",
   "metadata": {},
   "outputs": [],
   "source": []
  }
 ],
 "metadata": {
  "kernelspec": {
   "display_name": "Python 3 (ipykernel)",
   "language": "python",
   "name": "python3"
  },
  "language_info": {
   "codemirror_mode": {
    "name": "ipython",
    "version": 3
   },
   "file_extension": ".py",
   "mimetype": "text/x-python",
   "name": "python",
   "nbconvert_exporter": "python",
   "pygments_lexer": "ipython3",
   "version": "3.12.4"
  }
 },
 "nbformat": 4,
 "nbformat_minor": 5
}
