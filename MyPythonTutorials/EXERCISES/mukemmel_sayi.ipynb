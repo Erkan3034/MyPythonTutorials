{
 "cells": [
  {
   "cell_type": "markdown",
   "id": "2f70dedd-9aa5-40df-ad63-2771d00fb74d",
   "metadata": {},
   "source": [
    "Bir sayının kendi hariç bölenlerinin toplamı kendine eşitse bu sayıya \"mükemmel sayı\" denir. Örnek olarak, 6 mükemmel bir sayıdır. (1 + 2 + 3 = 6)"
   ]
  },
  {
   "cell_type": "code",
   "execution_count": 31,
   "id": "c14be4b2-54a5-487c-9890-632b31195824",
   "metadata": {},
   "outputs": [
    {
     "name": "stdin",
     "output_type": "stream",
     "text": [
      "Sayı giriniz :  6\n"
     ]
    },
    {
     "name": "stdout",
     "output_type": "stream",
     "text": [
      "Mükemmel sayıdır !\n"
     ]
    }
   ],
   "source": [
    "\"\"\"\n",
    "1.) sayı al \n",
    "2.) toplam = o oluştur\n",
    "3.) bölenleri bul \n",
    "4.) toplam =? sayı \n",
    "\"\"\"\n",
    "\n",
    "\n",
    "sayi = int(input(\"Sayı giriniz : \"))\n",
    "toplam =0\n",
    "\n",
    "for i in range(1, sayi):\n",
    "    if sayi % i == 0:\n",
    "        toplam += i\n",
    "        \n",
    "if toplam == sayi:\n",
    "    print(\"Mükemmel sayıdır !\")\n",
    "else:\n",
    "    print(\"Mükemmel Sayı değildir !\")\n",
    "            "
   ]
  },
  {
   "cell_type": "code",
   "execution_count": null,
   "id": "8615ae52-43ca-4baf-90f6-2b4b1705c223",
   "metadata": {},
   "outputs": [],
   "source": []
  }
 ],
 "metadata": {
  "kernelspec": {
   "display_name": "Python 3 (ipykernel)",
   "language": "python",
   "name": "python3"
  },
  "language_info": {
   "codemirror_mode": {
    "name": "ipython",
    "version": 3
   },
   "file_extension": ".py",
   "mimetype": "text/x-python",
   "name": "python",
   "nbconvert_exporter": "python",
   "pygments_lexer": "ipython3",
   "version": "3.12.4"
  }
 },
 "nbformat": 4,
 "nbformat_minor": 5
}
